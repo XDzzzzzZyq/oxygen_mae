{
 "cells": [
  {
   "cell_type": "markdown",
   "source": [
    "This file is used for fine-tuning air-sea oxygen flux based on pretraining.\n",
    "Authors: Zuchuan Li\n",
    "Date: 10/15/2024"
   ],
   "metadata": {
    "collapsed": false
   },
   "id": "717598c3ea21cf05"
  },
  {
   "cell_type": "markdown",
   "source": [
    "# 1. Load data"
   ],
   "metadata": {
    "collapsed": false
   },
   "id": "bbeb96eec7b646d"
  },
  {
   "cell_type": "code",
   "execution_count": 7,
   "outputs": [],
   "source": [
    "import pickle\n",
    "import torch\n",
    "\n",
    "from utils import binning_img, sin_days, sin_loc_idx\n",
    "import numpy as np\n",
    "import pandas as pd\n",
    "from scipy.stats import uniform\n",
    "from oxygen_mae_constants import cat_cols, dt_meta, get_encode_shift\n",
    "\n",
    "# Load predictors\n",
    "o2_path = '/data1/zuchuan/data/Oxygen_Ocean/'\n",
    "with open(o2_path + 'o2_spacetime_2024-10-14_all.pickle', 'rb') as h:\n",
    "    dt = pickle.load(h)\n",
    "    dt_x = dt['dt']\n",
    "    dt_idx = dt['idx']\n",
    "    \n",
    "# Load air-sea oxygen flux\n",
    "dt_o2 = pd.read_pickle(o2_path + 'o2_Flux_2024-08-08.pkl')\n",
    "\n",
    "# @^@ match the index\n",
    "dt_y = torch.tensor(dt_o2['O2_FLUX'].iloc[dt_idx].to_numpy(), dtype=torch.float)\n",
    "\n",
    "# location\n",
    "lat = dt_o2['LAT'].iloc[dt_idx]\n",
    "lon = dt_o2['LON'].iloc[dt_idx]\n",
    "row_idx = ((90 - lat) / 180 * 2160).astype(int).to_numpy()\n",
    "col_idx = ((lon + 180) / 360 * 4320).astype(int).to_numpy()\n",
    "locs = sin_loc_idx(row_idx, col_idx, row=2160, col=4320).to(torch.float)\n",
    "\n",
    "# days\n",
    "dys = dt_o2['DATE'].iloc[dt_idx].dt.dayofyear.to_numpy()\n",
    "yrs = dt_o2['DATE'].iloc[dt_idx].dt.year.to_numpy()\n",
    "dys = sin_days(torch.tensor(dys)[None, :])\n",
    "dys = torch.transpose(dys, 1, 0).to(torch.float)\n"
   ],
   "metadata": {
    "collapsed": false,
    "ExecuteTime": {
     "end_time": "2024-11-18T01:13:02.616276500Z",
     "start_time": "2024-11-18T01:13:02.340108200Z"
    }
   },
   "id": "5b118a36ede9aae1"
  },
  {
   "cell_type": "code",
   "execution_count": 8,
   "outputs": [
    {
     "data": {
      "text/plain": "DATE\n2016    0.085012\n2017    0.083235\n2014    0.080751\n2019    0.075542\n2018    0.073792\n2021    0.073239\n2015    0.071999\n2020    0.069724\n2013    0.054101\n2012    0.049264\n2011    0.042712\n2010    0.040419\n2009    0.039696\n2008    0.035566\n2022    0.033362\n2007    0.026606\n2006    0.017789\n2003    0.008242\n2005    0.008017\n2004    0.007386\n2002    0.006092\n2001    0.005599\n2000    0.005056\n1998    0.003690\n1999    0.003109\nName: count, dtype: float64"
     },
     "execution_count": 8,
     "metadata": {},
     "output_type": "execute_result"
    }
   ],
   "source": [
    "dt_o2['DATE'].dt.year.value_counts() / dt_o2.shape[0]"
   ],
   "metadata": {
    "collapsed": false,
    "ExecuteTime": {
     "end_time": "2024-11-18T01:13:03.696192200Z",
     "start_time": "2024-11-18T01:13:03.669329700Z"
    }
   },
   "id": "40d26996966c88c9"
  },
  {
   "cell_type": "markdown",
   "source": [
    "# 2. Preprocessing"
   ],
   "metadata": {
    "collapsed": false
   },
   "id": "6d7dc69b685053cb"
  },
  {
   "cell_type": "code",
   "execution_count": 10,
   "outputs": [
    {
     "name": "stdout",
     "output_type": "stream",
     "text": [
      "SST\n",
      "CHL\n",
      "PAR\n",
      "U\n",
      "V\n",
      "MLD_CLM\n",
      "SAL_CLM\n",
      "SST_CLM\n",
      "-------------randomly split dataset--------------\n",
      "training: 122007\n",
      "validation: 26338\n",
      "testing: 26031\n",
      "-------------year-based split dataset--------------\n",
      "training: 123877\n",
      "validation: 26074\n",
      "testing: 24425\n"
     ]
    }
   ],
   "source": [
    "# --------------------- #\n",
    "# 2.1. Normalize output\n",
    "# --------------------- #\n",
    "dt_y_bin, y_bins, y_levels = binning_img(dt_y, bins_num=300)\n",
    "dt_y_bin_norm = (dt_y_bin - dt_y_bin.mean()) / np.std(dt_y_bin)\n",
    "dt_y_bin = torch.tensor(dt_y_bin, dtype=torch.int)\n",
    "dt_y_bin_norm = torch.tensor(dt_y_bin_norm, dtype=torch.float)\n",
    "\n",
    "dt_y_mean = torch.mean(dt_y)\n",
    "dt_y_std = torch.std(dt_y)\n",
    "dt_y = (dt_y - dt_y_mean) / dt_y_std\n",
    "\n",
    "\n",
    "# --------------------- #\n",
    "# 2.2. Encode variables\n",
    "# --------------------- #\n",
    "dt_x_bin_enc = {}\n",
    "for col in cat_cols:\n",
    "    print(col)\n",
    "    dt_x_bin_enc[col], _, _ = binning_img(dt_x[col], bins_level=dt_meta['CUT_POINT'][col])\n",
    "    dt_x_bin_enc[col] += get_encode_shift(col)\n",
    "    \n",
    "    \n",
    "# --------------------- #\n",
    "# 2.3. Organize data for training\n",
    "# --------------------- #\n",
    "dt_xy = np.concatenate([dt_x_bin_enc[col] for col in cat_cols], axis=2)\n",
    "dt_x_enc = np.transpose(dt_xy, (3, 2, 0, 1))\n",
    "dt_x_enc = torch.tensor(dt_x_enc, dtype=torch.float)\n",
    "\n",
    "# raw data without binning\n",
    "dt_x_raw = np.concatenate([dt_x[col] for col in cat_cols], axis=2)\n",
    "dt_x_raw = np.transpose(dt_x_raw, (3, 2, 0, 1))\n",
    "\n",
    "\n",
    "# --------------------- #\n",
    "# randomly split\n",
    "# 70% for training, 15% for validation, 15% for testing\n",
    "# --------------------- #\n",
    "random_vals = uniform.rvs(size = dt_x_enc.shape[0], loc=0, scale=1, random_state=123)\n",
    "idx_train = random_vals <= 0.7\n",
    "idx_val = (~idx_train) & (random_vals <= 0.85)\n",
    "idx_test = (~idx_train) & (~idx_val)\n",
    "\n",
    "for name, idx in zip(['train', 'val', 'test'], [idx_train, idx_val, idx_test]):\n",
    "    fn = '/data0/zuchuan/mae_output/o2_finetune_data_{}_rand.pickle'.format(name)\n",
    "    with open(fn, 'wb') as h:\n",
    "        pickle.dump({'x': dt_x_enc[idx],\n",
    "                     'x_raw': dt_x_raw[idx], \n",
    "                     'y': dt_y[idx],\n",
    "                     'y_bin': dt_y_bin[idx],\n",
    "                     'y_bin_norm': dt_y_bin_norm[idx],\n",
    "                     'locs': locs[idx],\n",
    "                     'dys': dys[idx]}, h)\n",
    "\n",
    "print('-------------randomly split dataset--------------')        \n",
    "print('training: {}'.format(idx_train.sum()))\n",
    "print('validation: {}'.format(idx_val.sum()))\n",
    "print('testing: {}'.format(idx_test.sum()))\n",
    "\n",
    "\n",
    "# --------------------- #\n",
    "# split based on year\n",
    "# validation: 2017-2018 (~16%)\n",
    "# testing: 2019-2020 (~14%)\n",
    "# --------------------- #\n",
    "idx_val = (2017 <= yrs) & (yrs <= 2018) \n",
    "idx_test = (2019 <= yrs) & (yrs <= 2020) \n",
    "idx_train = (~idx_val) & (~idx_test)\n",
    "\n",
    "for name, idx in zip(['train', 'val', 'test'], [idx_train, idx_val, idx_test]):\n",
    "    fn = '/data0/zuchuan/mae_output/o2_finetune_data_{}_yr.pickle'.format(name)\n",
    "    with open(fn, 'wb') as h:\n",
    "        pickle.dump({'x': dt_x_enc[idx],\n",
    "                     'x_raw': dt_x_raw[idx], \n",
    "                     'y': dt_y[idx],\n",
    "                     'y_bin': dt_y_bin[idx],\n",
    "                     'y_bin_norm': dt_y_bin_norm[idx],\n",
    "                     'locs': locs[idx],\n",
    "                     'dys': dys[idx]}, h)\n",
    "\n",
    "print('-------------year-based split dataset--------------')        \n",
    "print('training: {}'.format(idx_train.sum()))\n",
    "print('validation: {}'.format(idx_val.sum()))\n",
    "print('testing: {}'.format(idx_test.sum()))\n"
   ],
   "metadata": {
    "collapsed": false,
    "ExecuteTime": {
     "end_time": "2024-11-18T01:34:09.486226900Z",
     "start_time": "2024-11-18T01:34:06.485688800Z"
    }
   },
   "id": "f3a0cd1f09bc0af6"
  },
  {
   "cell_type": "code",
   "execution_count": 31,
   "outputs": [
    {
     "data": {
      "text/plain": "array([-3.96294975e+00, -5.75321034e-01, -4.07091945e-01, -3.27882610e-01,\n       -2.79664457e-01, -2.46485755e-01, -2.20838197e-01, -2.01027174e-01,\n       -1.84448928e-01, -1.71685226e-01, -1.60624772e-01, -1.50105212e-01,\n       -1.41630396e-01, -1.34412967e-01, -1.27911896e-01, -1.21963767e-01,\n       -1.16500907e-01, -1.11625977e-01, -1.06836732e-01, -1.02261469e-01,\n       -9.81954858e-02, -9.44323838e-02, -9.08339955e-02, -8.76537841e-02,\n       -8.46035928e-02, -8.18491466e-02, -7.91602917e-02, -7.65374228e-02,\n       -7.42140338e-02, -7.18159415e-02, -6.98071495e-02, -6.77542686e-02,\n       -6.58683777e-02, -6.40064888e-02, -6.22897092e-02, -6.05793120e-02,\n       -5.90162389e-02, -5.73235834e-02, -5.57463411e-02, -5.41594168e-02,\n       -5.27633056e-02, -5.13647087e-02, -5.01201674e-02, -4.88052610e-02,\n       -4.75151427e-02, -4.62928908e-02, -4.50735763e-02, -4.39472748e-02,\n       -4.28872555e-02, -4.18827301e-02, -4.09720149e-02, -3.99350254e-02,\n       -3.89115140e-02, -3.79175358e-02, -3.70395202e-02, -3.61323440e-02,\n       -3.52629498e-02, -3.43440883e-02, -3.35037783e-02, -3.26159317e-02,\n       -3.17881331e-02, -3.09752701e-02, -3.02430196e-02, -2.94695636e-02,\n       -2.87406724e-02, -2.80142599e-02, -2.73018405e-02, -2.65871929e-02,\n       -2.59205103e-02, -2.52029002e-02, -2.45680539e-02, -2.39218613e-02,\n       -2.33098324e-02, -2.26563234e-02, -2.20691273e-02, -2.15006825e-02,\n       -2.08763909e-02, -2.02616202e-02, -1.97141301e-02, -1.91626516e-02,\n       -1.86424702e-02, -1.80698112e-02, -1.75216245e-02, -1.70330084e-02,\n       -1.65419132e-02, -1.60168530e-02, -1.54900821e-02, -1.50067124e-02,\n       -1.45146837e-02, -1.40505712e-02, -1.35709746e-02, -1.31126840e-02,\n       -1.26815112e-02, -1.22077500e-02, -1.17581864e-02, -1.13231242e-02,\n       -1.09093459e-02, -1.04957134e-02, -1.00192479e-02, -9.61618149e-03,\n       -9.18687601e-03, -8.79294914e-03, -8.38192832e-03, -7.99768209e-03,\n       -7.61191687e-03, -7.23632192e-03, -6.85597141e-03, -6.49429951e-03,\n       -6.11656485e-03, -5.76037983e-03, -5.37487771e-03, -5.03233960e-03,\n       -4.68702428e-03, -4.33090318e-03, -3.97580466e-03, -3.63949779e-03,\n       -3.31966276e-03, -2.99179379e-03, -2.67047039e-03, -2.33669131e-03,\n       -2.02171202e-03, -1.72905991e-03, -1.40793202e-03, -1.09021834e-03,\n       -8.08425422e-04, -5.25931231e-04, -2.34766274e-04,  6.10624811e-05,\n        3.63441184e-04,  6.45037086e-04,  9.29988106e-04,  1.20284167e-03,\n        1.47332624e-03,  1.75582900e-03,  2.01976241e-03,  2.28902284e-03,\n        2.57508364e-03,  2.85872113e-03,  3.12001805e-03,  3.39432014e-03,\n        3.66924470e-03,  3.94027436e-03,  4.20214212e-03,  4.48710343e-03,\n        4.75388672e-03,  5.02051692e-03,  5.30637894e-03,  5.59316494e-03,\n        5.87023562e-03,  6.14510116e-03,  6.44029002e-03,  6.73116744e-03,\n        7.00421631e-03,  7.30673736e-03,  7.60993827e-03,  7.87793519e-03,\n        8.16979911e-03,  8.45119474e-03,  8.74131173e-03,  9.01760580e-03,\n        9.30604897e-03,  9.60900332e-03,  9.91254393e-03,  1.02142107e-02,\n        1.05218142e-02,  1.08166714e-02,  1.11098881e-02,  1.14353336e-02,\n        1.17257414e-02,  1.20257703e-02,  1.23354625e-02,  1.26502116e-02,\n        1.29352771e-02,  1.32498343e-02,  1.35462047e-02,  1.38572096e-02,\n        1.41982371e-02,  1.45120455e-02,  1.48552060e-02,  1.51778746e-02,\n        1.54934227e-02,  1.58277806e-02,  1.61552969e-02,  1.64978849e-02,\n        1.68290399e-02,  1.71390851e-02,  1.75056551e-02,  1.78505466e-02,\n        1.82211772e-02,  1.85602051e-02,  1.89378224e-02,  1.93051277e-02,\n        1.96768362e-02,  2.00452148e-02,  2.03954121e-02,  2.07432397e-02,\n        2.11231057e-02,  2.15094816e-02,  2.18502730e-02,  2.22170078e-02,\n        2.25986131e-02,  2.30028094e-02,  2.33707791e-02,  2.37738839e-02,\n        2.41581406e-02,  2.45686327e-02,  2.49710390e-02,  2.53957142e-02,\n        2.58163344e-02,  2.62378566e-02,  2.66578961e-02,  2.70603127e-02,\n        2.75018550e-02,  2.79168691e-02,  2.83569535e-02,  2.87615806e-02,\n        2.91923825e-02,  2.96521340e-02,  3.01037757e-02,  3.05283722e-02,\n        3.10119353e-02,  3.14713977e-02,  3.19498312e-02,  3.24384719e-02,\n        3.28922532e-02,  3.33871245e-02,  3.38816512e-02,  3.43962144e-02,\n        3.49214412e-02,  3.54242325e-02,  3.59546524e-02,  3.64771802e-02,\n        3.70125063e-02,  3.75699596e-02,  3.81576251e-02,  3.86902289e-02,\n        3.92528810e-02,  3.98481591e-02,  4.04696595e-02,  4.10724962e-02,\n        4.16918844e-02,  4.23209267e-02,  4.29499000e-02,  4.35972717e-02,\n        4.42746542e-02,  4.49645687e-02,  4.56435494e-02,  4.63725021e-02,\n        4.71578650e-02,  4.79098447e-02,  4.86346968e-02,  4.93951291e-02,\n        5.01155145e-02,  5.08455355e-02,  5.16615827e-02,  5.25052529e-02,\n        5.33699580e-02,  5.42760380e-02,  5.51520996e-02,  5.60693098e-02,\n        5.70384823e-02,  5.80258602e-02,  5.89679182e-02,  5.99017516e-02,\n        6.09758087e-02,  6.20481083e-02,  6.31820261e-02,  6.42995760e-02,\n        6.55416250e-02,  6.68310113e-02,  6.80564940e-02,  6.94727153e-02,\n        7.09089786e-02,  7.22118430e-02,  7.37313554e-02,  7.52855148e-02,\n        7.70246908e-02,  7.87142776e-02,  8.05057995e-02,  8.25697593e-02,\n        8.46423879e-02,  8.68996438e-02,  8.90632086e-02,  9.14600920e-02,\n        9.37898308e-02,  9.65288710e-02,  9.94166173e-02,  1.02662034e-01,\n        1.06233492e-01,  1.09940633e-01,  1.14198983e-01,  1.18734654e-01,\n        1.23941042e-01,  1.30280606e-01,  1.38238281e-01,  1.47183347e-01,\n        1.58682406e-01,  1.75029267e-01,  2.00359479e-01,  2.52592444e-01,\n        1.95143485e+00])"
     },
     "execution_count": 31,
     "metadata": {},
     "output_type": "execute_result"
    }
   ],
   "source": [
    "y_bins"
   ],
   "metadata": {
    "collapsed": false,
    "ExecuteTime": {
     "end_time": "2024-11-05T02:57:34.433287200Z",
     "start_time": "2024-11-05T02:57:34.417630400Z"
    }
   },
   "id": "94fd2dbe9b2c75ab"
  },
  {
   "cell_type": "code",
   "execution_count": 13,
   "outputs": [
    {
     "data": {
      "text/plain": "torch.Size([24425, 20, 3, 3])"
     },
     "execution_count": 13,
     "metadata": {},
     "output_type": "execute_result"
    }
   ],
   "source": [
    "dt_x_enc[idx].shape"
   ],
   "metadata": {
    "collapsed": false,
    "ExecuteTime": {
     "end_time": "2024-11-18T02:25:55.871420200Z",
     "start_time": "2024-11-18T02:25:55.826154900Z"
    }
   },
   "id": "8cee935551d6103c"
  },
  {
   "cell_type": "code",
   "execution_count": 14,
   "outputs": [
    {
     "data": {
      "text/plain": "tensor(0)"
     },
     "execution_count": 14,
     "metadata": {},
     "output_type": "execute_result"
    }
   ],
   "source": [
    "torch.isnan(dt_x_enc[idx]).sum()"
   ],
   "metadata": {
    "collapsed": false,
    "ExecuteTime": {
     "end_time": "2024-11-18T02:31:08.539854100Z",
     "start_time": "2024-11-18T02:31:08.497735800Z"
    }
   },
   "id": "cb1e676c312eb140"
  },
  {
   "cell_type": "code",
   "execution_count": null,
   "outputs": [],
   "source": [],
   "metadata": {
    "collapsed": false
   },
   "id": "5821992e98b1dcfd"
  }
 ],
 "metadata": {
  "kernelspec": {
   "display_name": "Python 3",
   "language": "python",
   "name": "python3"
  },
  "language_info": {
   "codemirror_mode": {
    "name": "ipython",
    "version": 2
   },
   "file_extension": ".py",
   "mimetype": "text/x-python",
   "name": "python",
   "nbconvert_exporter": "python",
   "pygments_lexer": "ipython2",
   "version": "2.7.6"
  }
 },
 "nbformat": 4,
 "nbformat_minor": 5
}
