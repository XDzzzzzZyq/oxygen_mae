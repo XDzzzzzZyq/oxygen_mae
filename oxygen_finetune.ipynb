{
 "cells": [
  {
   "cell_type": "markdown",
   "source": [
    "This file is used for fine-tuning air-sea oxygen flux based on pretraining.\n",
    "Authors: Zuchuan Li\n",
    "Date: 10/15/2024"
   ],
   "metadata": {
    "collapsed": false
   },
   "id": "717598c3ea21cf05"
  },
  {
   "cell_type": "markdown",
   "source": [
    "# 1. Load data"
   ],
   "metadata": {
    "collapsed": false
   },
   "id": "bbeb96eec7b646d"
  },
  {
   "cell_type": "code",
   "execution_count": 1,
   "outputs": [],
   "source": [
    "import pickle\n",
    "\n",
    "from utils import binning_img\n",
    "import numpy as np\n",
    "import pandas as pd\n",
    "from scipy.stats import uniform\n",
    "from oxygen_mae_constants import cat_cols, dt_meta, get_encode_shift\n",
    "\n",
    "# Load predictors\n",
    "o2_path = '/data1/zuchuan/data/Oxygen_Ocean/'\n",
    "with open(o2_path + 'o2_spacetime_2024-10-14_all.pickle', 'rb') as h:\n",
    "    dt = pickle.load(h)\n",
    "    dt_x = dt['dt']\n",
    "    dt_idx = dt['idx']\n",
    "    \n",
    "# Load air-sea oxygen flux\n",
    "dt_o2 = pd.read_pickle(o2_path + 'o2_Flux_2024-08-08.pkl')\n",
    "\n",
    "# @^@ match the index\n",
    "dt_y = dt_o2['O2_FLUX'].iloc[dt_idx]\n"
   ],
   "metadata": {
    "collapsed": false,
    "ExecuteTime": {
     "end_time": "2024-10-18T07:14:16.543872700Z",
     "start_time": "2024-10-18T07:14:02.979951100Z"
    }
   },
   "id": "5b118a36ede9aae1"
  },
  {
   "cell_type": "markdown",
   "source": [
    "# 2. Preprocessing"
   ],
   "metadata": {
    "collapsed": false
   },
   "id": "6d7dc69b685053cb"
  },
  {
   "cell_type": "code",
   "execution_count": 2,
   "outputs": [
    {
     "name": "stdout",
     "output_type": "stream",
     "text": [
      "SST\n",
      "CHL\n",
      "PAR\n",
      "U\n",
      "V\n",
      "MLD_CLM\n",
      "SAL_CLM\n",
      "SST_CLM\n",
      "(174376, 20, 3, 3) (174376,)\n"
     ]
    }
   ],
   "source": [
    "# --------------------- #\n",
    "# 2.1. Normalize output\n",
    "# --------------------- #\n",
    "dt_y_mean = np.mean(dt_y)\n",
    "dt_y_std = np.std(dt_y)\n",
    "dt_y = (dt_y - dt_y_mean) / dt_y_std\n",
    "dt_y = dt_y.to_numpy()\n",
    "\n",
    "\n",
    "# --------------------- #\n",
    "# 2.2. Encode variables\n",
    "# --------------------- #\n",
    "dt_x_bin_enc = {}\n",
    "for col in cat_cols:\n",
    "    print(col)\n",
    "    dt_x_bin_enc[col], _, _ = binning_img(dt_x[col], bins_level=dt_meta['CUT_POINT'][col])\n",
    "    dt_x_bin_enc[col] += get_encode_shift(col)\n",
    "    \n",
    "    \n",
    "# --------------------- #\n",
    "# 2.3. Organize data for training\n",
    "# --------------------- #\n",
    "dt_xy = np.concatenate([dt_x_bin_enc[col] for col in cat_cols], axis=2)\n",
    "dt_x = np.transpose(dt_xy, (3, 2, 0, 1))\n",
    "print(dt_x.shape, dt_y.shape)\n",
    "\n",
    "# 80% for training, 20% for validation\n",
    "random_vals = uniform.rvs(size = dt_x.shape[0], loc=0, scale=1, random_state=123)\n",
    "idx_train = random_vals <= 0.8\n",
    "idx_val = ~idx_train\n",
    "with open('/data0/zuchuan/mae_output/o2_finetune_data_train.pickle', 'wb') as h:\n",
    "    pickle.dump({'x': dt_x[idx_train], 'y': dt_y[idx_train]}, h)\n",
    "    \n",
    "with open('/data0/zuchuan/mae_output/o2_finetune_data_val.pickle', 'wb') as h:\n",
    "    pickle.dump({'x': dt_x[idx_val], 'y': dt_y[idx_val]}, h)\n",
    "    "
   ],
   "metadata": {
    "collapsed": false,
    "ExecuteTime": {
     "end_time": "2024-10-18T07:17:21.491538200Z",
     "start_time": "2024-10-18T07:17:19.415206200Z"
    }
   },
   "id": "f3a0cd1f09bc0af6"
  },
  {
   "cell_type": "code",
   "execution_count": 4,
   "outputs": [
    {
     "name": "stdout",
     "output_type": "stream",
     "text": [
      "139543 34833\n"
     ]
    }
   ],
   "source": [
    "print(idx_train.sum(), idx_val.sum())"
   ],
   "metadata": {
    "collapsed": false,
    "ExecuteTime": {
     "end_time": "2024-10-18T07:18:29.589008700Z",
     "start_time": "2024-10-18T07:18:29.547998900Z"
    }
   },
   "id": "4f7858383b73cedd"
  },
  {
   "cell_type": "code",
   "execution_count": null,
   "outputs": [],
   "source": [],
   "metadata": {
    "collapsed": false
   },
   "id": "6aba4ee6f63fbfeb"
  }
 ],
 "metadata": {
  "kernelspec": {
   "display_name": "Python 3",
   "language": "python",
   "name": "python3"
  },
  "language_info": {
   "codemirror_mode": {
    "name": "ipython",
    "version": 2
   },
   "file_extension": ".py",
   "mimetype": "text/x-python",
   "name": "python",
   "nbconvert_exporter": "python",
   "pygments_lexer": "ipython2",
   "version": "2.7.6"
  }
 },
 "nbformat": 4,
 "nbformat_minor": 5
}
