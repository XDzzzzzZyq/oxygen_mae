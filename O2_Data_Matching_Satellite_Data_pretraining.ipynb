{
 "cells": [
  {
   "cell_type": "markdown",
   "id": "a17a58f5",
   "metadata": {},
   "source": [
    "This program is used to estimate monthly oxygen flux pattern in the world's oceans.<br>\n",
    "<br>\n",
    "\n",
    "Histry: <br>\n",
    "1. Modified by Zuchuan Li for revised model (2024-05-29)\n",
    "2. Modified by Zuchuan Li for pretraining model (2024-09-24)\n",
    "\n",
    "<br>\n",
    "Authors: Zuchuan Li <br>\n",
    "Date: 2022-09-21"
   ]
  },
  {
   "cell_type": "code",
   "execution_count": 125,
   "id": "70144c9c",
   "metadata": {},
   "outputs": [
    {
     "name": "stderr",
     "output_type": "stream",
     "text": [
      "C:\\Users\\zl59\\AppData\\Local\\Temp\\ipykernel_15440\\3171239684.py:66: RuntimeWarning: Mean of empty slice\n",
      "  dt_intp[j, k] = np.nanmean(dt[j_idx,:][:,k_idx])\n"
     ]
    }
   ],
   "source": [
    "import pandas as pd\n",
    "import numpy as np\n",
    "import xarray as xr\n",
    "import netCDF4 as nc\n",
    "import calendar\n",
    "import pickle\n",
    "import glob\n",
    "import os\n",
    "import re\n",
    "from scipy.ndimage import map_coordinates\n",
    "import matplotlib.pyplot as plt\n",
    "\n",
    "# 1.1. Paths to input data\n",
    "chl_path = r\"E:\\2-Data\\5-CHL\"\n",
    "par_path = r\"E:\\2-Data\\7-PAR_8D\"\n",
    "sst_path = r\"E:\\2-Data\\13-SST_8D\"\n",
    "sst_clm_path = r\"E:\\2-Data\\2-AVHRR_SST\"\n",
    "slp_path = r\"E:\\2-Data\\6-SLP\"\n",
    "wnd_path = r\"E:\\2-Data\\8-CCMP\"\n",
    "mld_path = r\"E:\\2-Data\\12-MLD\"\n",
    "\n",
    "# 1.2. Location and spatial resolution\n",
    "nrows = 2160\n",
    "ncols = 4320\n",
    "\n",
    "intv = 180 / nrows\n",
    "lon = np.linspace(-180 + intv / 2, 180 - intv / 2, ncols)\n",
    "lat = np.linspace(90 - intv / 2, -90 + intv / 2, nrows)\n",
    "LON, LAT = np.meshgrid(lon, lat)\n",
    "\n",
    "LAT_sin = np.sin(LAT / 180 * np.pi)\n",
    "LON_sin = np.sin(LON / 180 * np.pi) * np.cos(LAT / 180 * np.pi)\n",
    "LON_cos =-np.cos(LON / 180 * np.pi) * np.cos(LAT / 180 * np.pi)\n",
    "\n",
    "# 1.3. Wind latitude and longitude\n",
    "wnd_nrows = 628\n",
    "wnd_ncols = 1440\n",
    "wnd_lat = np.linspace(-78.375, 78.375, wnd_nrows)\n",
    "wnd_lon = np.linspace(0.125, 359.875, wnd_ncols)\n",
    "wnd_lon = np.where(wnd_lon>180, wnd_lon-360, wnd_lon)\n",
    "\n",
    "# 1.4. MLD and salinity climatologies\n",
    "mld_fname = mld_path + r\"\\Argo_mixedlayers_monthlyclim_04142022.nc\"\n",
    "mlds_dt = nc.Dataset(mld_fname)\n",
    "\n",
    "salts = np.array(mlds_dt['mls_dt'][:])\n",
    "salts = np.where(salts < 0, np.nan, salts)\n",
    "salts = np.flip(salts, axis=0)\n",
    "\n",
    "mlds = np.array(mlds_dt['mld_dt_mean'][:])\n",
    "mlds = np.where(mlds < 0, np.nan, mlds)\n",
    "mlds = np.flip(mlds, axis=0)\n",
    "\n",
    "# get a range of indeies within bounds\n",
    "def get_valid_idx(val, itv, bound_low, bound_up):\n",
    "    idx = np.arange(val - itv, val + itv + 1)\n",
    "    return idx[(idx >= bound_low) & (idx <= bound_up)]\n",
    "\n",
    "# missing value interpolation\n",
    "def interp_missing_values(dt, step=1):\n",
    "    dt_intp = np.copy(dt)\n",
    "    idx_r, idx_c = np.where(np.isnan(dt))\n",
    "    for j, k in zip(idx_r, idx_c):\n",
    "        j_idx = get_valid_idx(j, step, 0, dt.shape[0]-1)\n",
    "        k_idx = get_valid_idx(k, step, 0, dt.shape[1]-1)\n",
    "        dt_intp[j, k] = np.nanmean(dt[j_idx,:][:,k_idx])\n",
    "    return dt_intp\n",
    "\n",
    "for i in range(mlds.shape[2]):\n",
    "    mlds[:,:,i] = interp_missing_values(interp_missing_values(mlds[:,:,i]))\n",
    "    salts[:,:,i] = interp_missing_values(interp_missing_values(salts[:,:,i]))\n",
    "    \n",
    "# resize the image\n",
    "def my_img_re_2d(dt):\n",
    "    r = np.linspace(0, dt.shape[0]-1, nrows)\n",
    "    c = np.linspace(0, dt.shape[1]-1, ncols)\n",
    "    cx, ry = np.meshgrid(c, r)\n",
    "    rc = np.concatenate((ry[None,:,:], cx[None,:,:]), axis=0)\n",
    "    return map_coordinates(dt, coordinates=rc, order=1, mode='nearest')\n",
    "\n",
    "def my_img_re_3d(dt, date_first=False):\n",
    "    dims = (nrows, ncols, dt.shape[0] if date_first else dt.shape[2])\n",
    "    rs = np.zeros(dims)\n",
    "    for m in range(rs.shape[2]):\n",
    "        rs[:,:,m] = my_img_re_2d(dt[m,:,:]) if date_first else my_img_re_2d(dt[:,:,m])\n",
    "    return rs\n",
    "\n",
    "mlds = my_img_re_3d(mlds)\n",
    "salts = my_img_re_3d(salts)\n"
   ]
  },
  {
   "cell_type": "code",
   "execution_count": 150,
   "id": "4e06ec98",
   "metadata": {},
   "outputs": [],
   "source": [
    "import datetime\n",
    "\n",
    "# show image\n",
    "def visualize_img(dt, title=''):\n",
    "    fig, axe = plt.subplots(nrows=1, ncols=1)\n",
    "    axe.imshow(dt)\n",
    "    axe.set_title(title)\n",
    "    \n",
    "    \n",
    "# load parameter of ocean colors\n",
    "def load_ocean_color(para, yr, yr_bg, path, rng, transpose=False, visualize=False):\n",
    "    print('\\tLoad {}...'.format(para))\n",
    "    fname = para + '.' + str(yr) + str(yr_bg).rjust(3, '0') + '.hdf.npy'\n",
    "    dt = np.load(path + \"\\\\\" + fname)\n",
    "    print(path + \"\\\\\" + fname)\n",
    "    \n",
    "    dt = np.where((rng[0] <= dt) & (dt <= rng[1]), dt, np.nan)\n",
    "    dt = np.transpose(dt) if transpose else dt\n",
    "    print('\\t', dt.shape)\n",
    "    \n",
    "    if visualize:\n",
    "        visualize_img(dt, para)\n",
    "    return dt\n",
    "\n",
    "\n",
    "# Load wind product\n",
    "def load_wind(yr_dy_bg, path, num_days_forward=16):\n",
    "    wnds = None\n",
    "    us = None\n",
    "    vs = None\n",
    "    for i in range(num_days_forward):\n",
    "        # Construct file name\n",
    "        wnd_date = yr_dy_bg + np.timedelta64(i, 'D')\n",
    "        yr = pd.to_datetime(wnd_date).year\n",
    "        mn = pd.to_datetime(wnd_date).month\n",
    "        dy = pd.to_datetime(wnd_date).day\n",
    "        ymd_str = str(yr) + str(mn).rjust(2, \"0\") + str(dy).rjust(2, \"0\")\n",
    "        \n",
    "        fn = path + \"\\\\Y\" + str(yr) + \"\\\\M\" + str(mn).rjust(2,\"0\") + \"\\\\CCMP*Wind_Analysis_\" + ymd_str + \"*.nc\"\n",
    "        fn = glob.glob(fn)\n",
    "        \n",
    "        if len(fn) == 0:\n",
    "            continue\n",
    "        else:\n",
    "            fn = fn[0]\n",
    "            print('\\t', fn)\n",
    "        \n",
    "        # Extract data\n",
    "        dt = xr.open_dataset(fn)\n",
    "        u = dt['uwnd'][:].to_numpy()\n",
    "        v = dt['vwnd'][:].to_numpy()\n",
    "        u[np.abs(u)>100] = np.nan\n",
    "        v[np.abs(v)>100] = np.nan\n",
    "        \n",
    "        # Original data format:\n",
    "        # Latitude ranges from -78.5 to 78.5\n",
    "        # Longitude ranges from 0 to 360\n",
    "        u = np.flip(u, axis=1)\n",
    "        v = np.flip(v, axis=1)\n",
    "        \n",
    "        u_nt, u_rows, u_cols = u.shape\n",
    "        cols_half = int(u_cols / 2)\n",
    "        u = np.concatenate((u[:,:,cols_half:], u[:,:,:cols_half]), axis=2)\n",
    "        v = np.concatenate((v[:,:,cols_half:], v[:,:,:cols_half]), axis=2)\n",
    "        \n",
    "        # Pad missing rows\n",
    "        miss_rows = int((cols_half - u_rows) / 2)\n",
    "        valid_idx = range(miss_rows, cols_half - miss_rows)\n",
    "        \n",
    "        u_2 = np.zeros((u_nt, cols_half, u_cols)) * np.nan\n",
    "        v_2 = np.zeros((u_nt, cols_half, u_cols)) * np.nan\n",
    "        u_2[:,valid_idx,:] = u\n",
    "        v_2[:,valid_idx,:] = v\n",
    "        \n",
    "        wnd = np.nanmean(np.sqrt(u_2**2 + v_2**2), axis=0, keepdims=True)\n",
    "        u = np.nanmean(u_2, axis=0, keepdims=True)\n",
    "        v = np.nanmean(v_2, axis=0, keepdims=True)\n",
    "        \n",
    "        wnds = wnd if wnds is None else np.concatenate((wnds, wnd), axis=0)\n",
    "        us = u if us is None else np.concatenate((us, u), axis=0)\n",
    "        vs = v if vs is None else np.concatenate((vs, v), axis=0)\n",
    "    return us, vs, wnds\n",
    "    \n",
    "\n",
    "# shift days\n",
    "def date_plus_days(yr, yr_dy_bg, shift):\n",
    "    d_m8 = pd.to_datetime(str(yr) + \"-01-01\") + pd.Timedelta(yr_dy_bg + shift - 1, 'd')\n",
    "    d_rf = d_m8 - pd.to_datetime(str(d_m8.year) + \"-01-01\")\n",
    "    dy = 1 if d_m8.year > yr else d_rf.days + 1\n",
    "    dy = 361 if d_m8.year < yr else dy\n",
    "    return [d_m8.year, dy]\n",
    "    \n",
    "    \n",
    "# --------------------- #\n",
    "# load data\n",
    "# --------------------- #\n",
    "def load_data_4o2flux_pred(yr, yr_dy_bg, yr_dy_ed=None):\n",
    "    print('\\tYear', yr, '; Begin day', yr_dy_bg, '; End day', yr_dy_ed)\n",
    "    \n",
    "    # --------------------- #\n",
    "    # 2.1. Year day\n",
    "    # --------------------- #\n",
    "    d_m8 = date_plus_days(yr, yr_dy_bg, -8)\n",
    "    d_p8 = date_plus_days(yr, yr_dy_bg, 8)\n",
    "    \n",
    "    # --------------------- #\n",
    "    # 2.2. Load Chl\n",
    "    # --------------------- #\n",
    "    chl = load_ocean_color('chl', yr, yr_dy_bg, chl_path, [0,100], transpose=True, visualize=False)\n",
    "    chl_m8 = load_ocean_color('chl', d_m8[0], d_m8[1], chl_path, [0,100], transpose=True, visualize=False)\n",
    "    chl_p8 = load_ocean_color('chl', d_p8[0], d_p8[1], chl_path, [0,100], transpose=True, visualize=False)\n",
    "    #visualize_img(np.log(chl+1e-4), 'CHL')\n",
    "    \n",
    "    # --------------------- #\n",
    "    # 2.3. Load PAR\n",
    "    # --------------------- #\n",
    "    par = load_ocean_color('par', yr, yr_dy_bg, par_path, [0,1000], transpose=True, visualize=False)\n",
    "    par_m8 = load_ocean_color('par', d_m8[0], d_m8[1], par_path, [0,1000], transpose=True, visualize=False)\n",
    "    par_p8 = load_ocean_color('par', d_p8[0], d_p8[1], par_path, [0,1000], transpose=True, visualize=False)\n",
    "    \n",
    "    # --------------------- #\n",
    "    # 2.4. Load SST\n",
    "    # --------------------- #\n",
    "    sst = load_ocean_color('sst', yr, yr_dy_bg, sst_path, [-3,45], transpose=True, visualize=False)\n",
    "    sst_m8 = load_ocean_color('sst', d_m8[0], d_m8[1], sst_path, [-3,45], transpose=True, visualize=False)\n",
    "    sst_p8 = load_ocean_color('sst', d_p8[0], d_p8[1], sst_path, [-3,45], transpose=True, visualize=False)\n",
    "    sst = sst if sst.shape[0] == nrows else my_img_re_2d(sst)\n",
    "    sst_m8 = sst_m8 if sst_m8.shape[0] == nrows else my_img_re_2d(sst_m8)\n",
    "    sst_p8 = sst_p8 if sst_p8.shape[0] == nrows else my_img_re_2d(sst_p8)\n",
    "    \n",
    "    # --------------------- #\n",
    "    # 2.5. Wind speed \n",
    "    # --------------------- #\n",
    "    print('\\tLoad Wind data...')\n",
    "    yr_dy_bg_2 = np.datetime64(str(yr) + \"-01-01\") + np.timedelta64(yr_dy_bg - 9, 'D')\n",
    "    U, V, wnds = load_wind(yr_dy_bg_2, wnd_path, num_days_forward=16)\n",
    "    \n",
    "    # resize\n",
    "    U = my_img_re_3d(U, date_first=True)\n",
    "    V = my_img_re_3d(V, date_first=True)\n",
    "    wnds = my_img_re_3d(wnds, date_first=True)\n",
    "    #visualize_img(wnds[:,:,0], 'wnd')\n",
    "    #visualize_img(U[:,:,0], 'U')\n",
    "    #visualize_img(V[:,:,0], 'V')\n",
    "    \n",
    "    # --------------------- #\n",
    "    # 2.6. Climatological MLD and salt\n",
    "    # --------------------- #\n",
    "    tmp = pd.to_datetime(str(yr) + \"-01-01 00:00:00.0\") + pd.Timedelta(yr_dy_bg - 1, 'd')\n",
    "    mn = int(tmp.month)\n",
    "    mld = np.copy(mlds[:,:,mn-1])\n",
    "    salt = np.copy(salts[:,:,mn-1])\n",
    "    #visualize_img(mld, 'MLD')\n",
    "    #visualize_img(salt, 'SALT')\n",
    "    \n",
    "    # --------------------- #\n",
    "    # 2.7. Climatological SST\n",
    "    # --------------------- #\n",
    "    fname = sst_clm_path + r\"\\clm.sst.\" + str(mn).rjust(2,\"0\") + \".npy\"\n",
    "    sst_clm = np.load(fname).T\n",
    "    sst_clm = my_img_re_2d(sst_clm)\n",
    "    #visualize_img(sst_clm, 'SST')\n",
    "    \n",
    "    # --------------------- #\n",
    "    # 2.8. Combine variables\n",
    "    # --------------------- #\n",
    "    return {\n",
    "        'SST': np.concatenate((sst_m8[:,:,None], sst[:,:,None], sst_p8[:,:,None]), axis=2),\n",
    "        'CHL': np.concatenate((chl_m8[:,:,None], chl[:,:,None], chl_p8[:,:,None]), axis=2),\n",
    "        'PAR': np.concatenate((par_m8[:,:,None], par[:,:,None], par_p8[:,:,None]), axis=2),\n",
    "        'U': U,\n",
    "        'V': V,\n",
    "        \"MLD_CLM\": mld[:,:,None],\n",
    "        \"SAL_CLM\": salt[:,:,None],\n",
    "        \"SST_CLM\": sst_clm[:,:,None],\n",
    "        }"
   ]
  },
  {
   "cell_type": "markdown",
   "id": "40d09f2d",
   "metadata": {},
   "source": [
    "# 2. Running"
   ]
  },
  {
   "cell_type": "markdown",
   "id": "9aa69de0",
   "metadata": {},
   "source": [
    "### 2.1. Run a given snapshot "
   ]
  },
  {
   "cell_type": "code",
   "execution_count": 151,
   "id": "8c16e212",
   "metadata": {},
   "outputs": [
    {
     "name": "stdout",
     "output_type": "stream",
     "text": [
      "\tYear 1998 ; Begin day 1 ; End day 8\n",
      "\tLoad chl...\n",
      "E:\\2-Data\\5-CHL\\chl.1998001.hdf.npy\n",
      "\t (2160, 4320)\n",
      "\tLoad chl...\n",
      "E:\\2-Data\\5-CHL\\chl.1997361.hdf.npy\n",
      "\t (2160, 4320)\n",
      "\tLoad chl...\n",
      "E:\\2-Data\\5-CHL\\chl.1998009.hdf.npy\n",
      "\t (2160, 4320)\n",
      "\tLoad par...\n",
      "E:\\2-Data\\7-PAR_8D\\par.1998001.hdf.npy\n",
      "\t (2160, 4320)\n",
      "\tLoad par...\n",
      "E:\\2-Data\\7-PAR_8D\\par.1997361.hdf.npy\n",
      "\t (2160, 4320)\n",
      "\tLoad par...\n",
      "E:\\2-Data\\7-PAR_8D\\par.1998009.hdf.npy\n",
      "\t (2160, 4320)\n",
      "\tLoad sst...\n",
      "E:\\2-Data\\13-SST_8D\\sst.1998001.hdf.npy\n",
      "\t (2048, 4096)\n",
      "\tLoad sst...\n",
      "E:\\2-Data\\13-SST_8D\\sst.1997361.hdf.npy\n",
      "\t (2048, 4096)\n",
      "\tLoad sst...\n",
      "E:\\2-Data\\13-SST_8D\\sst.1998009.hdf.npy\n",
      "\t (2048, 4096)\n",
      "\tLoad Wind data...\n",
      "\t E:\\2-Data\\8-CCMP\\Y1997\\M12\\CCMP_Wind_Analysis_19971224_V02.0_L3.0_RSS.nc\n"
     ]
    },
    {
     "name": "stderr",
     "output_type": "stream",
     "text": [
      "C:\\Users\\zl59\\AppData\\Local\\Temp\\ipykernel_15440\\593543715.py:75: RuntimeWarning: Mean of empty slice\n",
      "  wnd = np.nanmean(np.sqrt(u_2**2 + v_2**2), axis=0, keepdims=True)\n",
      "C:\\Users\\zl59\\AppData\\Local\\Temp\\ipykernel_15440\\593543715.py:76: RuntimeWarning: Mean of empty slice\n",
      "  u = np.nanmean(u_2, axis=0, keepdims=True)\n",
      "C:\\Users\\zl59\\AppData\\Local\\Temp\\ipykernel_15440\\593543715.py:77: RuntimeWarning: Mean of empty slice\n",
      "  v = np.nanmean(v_2, axis=0, keepdims=True)\n"
     ]
    },
    {
     "name": "stdout",
     "output_type": "stream",
     "text": [
      "\t E:\\2-Data\\8-CCMP\\Y1997\\M12\\CCMP_Wind_Analysis_19971225_V02.0_L3.0_RSS.nc\n"
     ]
    },
    {
     "name": "stderr",
     "output_type": "stream",
     "text": [
      "C:\\Users\\zl59\\AppData\\Local\\Temp\\ipykernel_15440\\593543715.py:75: RuntimeWarning: Mean of empty slice\n",
      "  wnd = np.nanmean(np.sqrt(u_2**2 + v_2**2), axis=0, keepdims=True)\n",
      "C:\\Users\\zl59\\AppData\\Local\\Temp\\ipykernel_15440\\593543715.py:76: RuntimeWarning: Mean of empty slice\n",
      "  u = np.nanmean(u_2, axis=0, keepdims=True)\n",
      "C:\\Users\\zl59\\AppData\\Local\\Temp\\ipykernel_15440\\593543715.py:77: RuntimeWarning: Mean of empty slice\n",
      "  v = np.nanmean(v_2, axis=0, keepdims=True)\n"
     ]
    },
    {
     "name": "stdout",
     "output_type": "stream",
     "text": [
      "\t E:\\2-Data\\8-CCMP\\Y1997\\M12\\CCMP_Wind_Analysis_19971226_V02.0_L3.0_RSS.nc\n"
     ]
    },
    {
     "name": "stderr",
     "output_type": "stream",
     "text": [
      "C:\\Users\\zl59\\AppData\\Local\\Temp\\ipykernel_15440\\593543715.py:75: RuntimeWarning: Mean of empty slice\n",
      "  wnd = np.nanmean(np.sqrt(u_2**2 + v_2**2), axis=0, keepdims=True)\n",
      "C:\\Users\\zl59\\AppData\\Local\\Temp\\ipykernel_15440\\593543715.py:76: RuntimeWarning: Mean of empty slice\n",
      "  u = np.nanmean(u_2, axis=0, keepdims=True)\n",
      "C:\\Users\\zl59\\AppData\\Local\\Temp\\ipykernel_15440\\593543715.py:77: RuntimeWarning: Mean of empty slice\n",
      "  v = np.nanmean(v_2, axis=0, keepdims=True)\n"
     ]
    },
    {
     "name": "stdout",
     "output_type": "stream",
     "text": [
      "\t E:\\2-Data\\8-CCMP\\Y1997\\M12\\CCMP_Wind_Analysis_19971227_V02.0_L3.0_RSS.nc\n"
     ]
    },
    {
     "name": "stderr",
     "output_type": "stream",
     "text": [
      "C:\\Users\\zl59\\AppData\\Local\\Temp\\ipykernel_15440\\593543715.py:75: RuntimeWarning: Mean of empty slice\n",
      "  wnd = np.nanmean(np.sqrt(u_2**2 + v_2**2), axis=0, keepdims=True)\n",
      "C:\\Users\\zl59\\AppData\\Local\\Temp\\ipykernel_15440\\593543715.py:76: RuntimeWarning: Mean of empty slice\n",
      "  u = np.nanmean(u_2, axis=0, keepdims=True)\n",
      "C:\\Users\\zl59\\AppData\\Local\\Temp\\ipykernel_15440\\593543715.py:77: RuntimeWarning: Mean of empty slice\n",
      "  v = np.nanmean(v_2, axis=0, keepdims=True)\n"
     ]
    },
    {
     "name": "stdout",
     "output_type": "stream",
     "text": [
      "\t E:\\2-Data\\8-CCMP\\Y1997\\M12\\CCMP_Wind_Analysis_19971228_V02.0_L3.0_RSS.nc\n"
     ]
    },
    {
     "name": "stderr",
     "output_type": "stream",
     "text": [
      "C:\\Users\\zl59\\AppData\\Local\\Temp\\ipykernel_15440\\593543715.py:75: RuntimeWarning: Mean of empty slice\n",
      "  wnd = np.nanmean(np.sqrt(u_2**2 + v_2**2), axis=0, keepdims=True)\n",
      "C:\\Users\\zl59\\AppData\\Local\\Temp\\ipykernel_15440\\593543715.py:76: RuntimeWarning: Mean of empty slice\n",
      "  u = np.nanmean(u_2, axis=0, keepdims=True)\n",
      "C:\\Users\\zl59\\AppData\\Local\\Temp\\ipykernel_15440\\593543715.py:77: RuntimeWarning: Mean of empty slice\n",
      "  v = np.nanmean(v_2, axis=0, keepdims=True)\n"
     ]
    },
    {
     "name": "stdout",
     "output_type": "stream",
     "text": [
      "\t E:\\2-Data\\8-CCMP\\Y1997\\M12\\CCMP_Wind_Analysis_19971229_V02.0_L3.0_RSS.nc\n"
     ]
    },
    {
     "name": "stderr",
     "output_type": "stream",
     "text": [
      "C:\\Users\\zl59\\AppData\\Local\\Temp\\ipykernel_15440\\593543715.py:75: RuntimeWarning: Mean of empty slice\n",
      "  wnd = np.nanmean(np.sqrt(u_2**2 + v_2**2), axis=0, keepdims=True)\n",
      "C:\\Users\\zl59\\AppData\\Local\\Temp\\ipykernel_15440\\593543715.py:76: RuntimeWarning: Mean of empty slice\n",
      "  u = np.nanmean(u_2, axis=0, keepdims=True)\n",
      "C:\\Users\\zl59\\AppData\\Local\\Temp\\ipykernel_15440\\593543715.py:77: RuntimeWarning: Mean of empty slice\n",
      "  v = np.nanmean(v_2, axis=0, keepdims=True)\n"
     ]
    },
    {
     "name": "stdout",
     "output_type": "stream",
     "text": [
      "\t E:\\2-Data\\8-CCMP\\Y1997\\M12\\CCMP_Wind_Analysis_19971230_V02.0_L3.0_RSS.nc\n"
     ]
    },
    {
     "name": "stderr",
     "output_type": "stream",
     "text": [
      "C:\\Users\\zl59\\AppData\\Local\\Temp\\ipykernel_15440\\593543715.py:75: RuntimeWarning: Mean of empty slice\n",
      "  wnd = np.nanmean(np.sqrt(u_2**2 + v_2**2), axis=0, keepdims=True)\n",
      "C:\\Users\\zl59\\AppData\\Local\\Temp\\ipykernel_15440\\593543715.py:76: RuntimeWarning: Mean of empty slice\n",
      "  u = np.nanmean(u_2, axis=0, keepdims=True)\n",
      "C:\\Users\\zl59\\AppData\\Local\\Temp\\ipykernel_15440\\593543715.py:77: RuntimeWarning: Mean of empty slice\n",
      "  v = np.nanmean(v_2, axis=0, keepdims=True)\n"
     ]
    },
    {
     "name": "stdout",
     "output_type": "stream",
     "text": [
      "\t E:\\2-Data\\8-CCMP\\Y1997\\M12\\CCMP_Wind_Analysis_19971231_V02.0_L3.0_RSS.nc\n"
     ]
    },
    {
     "name": "stderr",
     "output_type": "stream",
     "text": [
      "C:\\Users\\zl59\\AppData\\Local\\Temp\\ipykernel_15440\\593543715.py:75: RuntimeWarning: Mean of empty slice\n",
      "  wnd = np.nanmean(np.sqrt(u_2**2 + v_2**2), axis=0, keepdims=True)\n",
      "C:\\Users\\zl59\\AppData\\Local\\Temp\\ipykernel_15440\\593543715.py:76: RuntimeWarning: Mean of empty slice\n",
      "  u = np.nanmean(u_2, axis=0, keepdims=True)\n",
      "C:\\Users\\zl59\\AppData\\Local\\Temp\\ipykernel_15440\\593543715.py:77: RuntimeWarning: Mean of empty slice\n",
      "  v = np.nanmean(v_2, axis=0, keepdims=True)\n"
     ]
    },
    {
     "name": "stdout",
     "output_type": "stream",
     "text": [
      "\t E:\\2-Data\\8-CCMP\\Y1998\\M01\\CCMP_Wind_Analysis_19980101_V02.0_L3.0_RSS.nc\n"
     ]
    },
    {
     "name": "stderr",
     "output_type": "stream",
     "text": [
      "C:\\Users\\zl59\\AppData\\Local\\Temp\\ipykernel_15440\\593543715.py:75: RuntimeWarning: Mean of empty slice\n",
      "  wnd = np.nanmean(np.sqrt(u_2**2 + v_2**2), axis=0, keepdims=True)\n",
      "C:\\Users\\zl59\\AppData\\Local\\Temp\\ipykernel_15440\\593543715.py:76: RuntimeWarning: Mean of empty slice\n",
      "  u = np.nanmean(u_2, axis=0, keepdims=True)\n",
      "C:\\Users\\zl59\\AppData\\Local\\Temp\\ipykernel_15440\\593543715.py:77: RuntimeWarning: Mean of empty slice\n",
      "  v = np.nanmean(v_2, axis=0, keepdims=True)\n"
     ]
    },
    {
     "name": "stdout",
     "output_type": "stream",
     "text": [
      "\t E:\\2-Data\\8-CCMP\\Y1998\\M01\\CCMP_Wind_Analysis_19980102_V02.0_L3.0_RSS.nc\n"
     ]
    },
    {
     "name": "stderr",
     "output_type": "stream",
     "text": [
      "C:\\Users\\zl59\\AppData\\Local\\Temp\\ipykernel_15440\\593543715.py:75: RuntimeWarning: Mean of empty slice\n",
      "  wnd = np.nanmean(np.sqrt(u_2**2 + v_2**2), axis=0, keepdims=True)\n",
      "C:\\Users\\zl59\\AppData\\Local\\Temp\\ipykernel_15440\\593543715.py:76: RuntimeWarning: Mean of empty slice\n",
      "  u = np.nanmean(u_2, axis=0, keepdims=True)\n",
      "C:\\Users\\zl59\\AppData\\Local\\Temp\\ipykernel_15440\\593543715.py:77: RuntimeWarning: Mean of empty slice\n",
      "  v = np.nanmean(v_2, axis=0, keepdims=True)\n"
     ]
    },
    {
     "name": "stdout",
     "output_type": "stream",
     "text": [
      "\t E:\\2-Data\\8-CCMP\\Y1998\\M01\\CCMP_Wind_Analysis_19980103_V02.0_L3.0_RSS.nc\n"
     ]
    },
    {
     "name": "stderr",
     "output_type": "stream",
     "text": [
      "C:\\Users\\zl59\\AppData\\Local\\Temp\\ipykernel_15440\\593543715.py:75: RuntimeWarning: Mean of empty slice\n",
      "  wnd = np.nanmean(np.sqrt(u_2**2 + v_2**2), axis=0, keepdims=True)\n",
      "C:\\Users\\zl59\\AppData\\Local\\Temp\\ipykernel_15440\\593543715.py:76: RuntimeWarning: Mean of empty slice\n",
      "  u = np.nanmean(u_2, axis=0, keepdims=True)\n",
      "C:\\Users\\zl59\\AppData\\Local\\Temp\\ipykernel_15440\\593543715.py:77: RuntimeWarning: Mean of empty slice\n",
      "  v = np.nanmean(v_2, axis=0, keepdims=True)\n"
     ]
    },
    {
     "name": "stdout",
     "output_type": "stream",
     "text": [
      "\t E:\\2-Data\\8-CCMP\\Y1998\\M01\\CCMP_Wind_Analysis_19980104_V02.0_L3.0_RSS.nc\n"
     ]
    },
    {
     "name": "stderr",
     "output_type": "stream",
     "text": [
      "C:\\Users\\zl59\\AppData\\Local\\Temp\\ipykernel_15440\\593543715.py:75: RuntimeWarning: Mean of empty slice\n",
      "  wnd = np.nanmean(np.sqrt(u_2**2 + v_2**2), axis=0, keepdims=True)\n",
      "C:\\Users\\zl59\\AppData\\Local\\Temp\\ipykernel_15440\\593543715.py:76: RuntimeWarning: Mean of empty slice\n",
      "  u = np.nanmean(u_2, axis=0, keepdims=True)\n",
      "C:\\Users\\zl59\\AppData\\Local\\Temp\\ipykernel_15440\\593543715.py:77: RuntimeWarning: Mean of empty slice\n",
      "  v = np.nanmean(v_2, axis=0, keepdims=True)\n"
     ]
    },
    {
     "name": "stdout",
     "output_type": "stream",
     "text": [
      "\t E:\\2-Data\\8-CCMP\\Y1998\\M01\\CCMP_Wind_Analysis_19980105_V02.0_L3.0_RSS.nc\n"
     ]
    },
    {
     "name": "stderr",
     "output_type": "stream",
     "text": [
      "C:\\Users\\zl59\\AppData\\Local\\Temp\\ipykernel_15440\\593543715.py:75: RuntimeWarning: Mean of empty slice\n",
      "  wnd = np.nanmean(np.sqrt(u_2**2 + v_2**2), axis=0, keepdims=True)\n",
      "C:\\Users\\zl59\\AppData\\Local\\Temp\\ipykernel_15440\\593543715.py:76: RuntimeWarning: Mean of empty slice\n",
      "  u = np.nanmean(u_2, axis=0, keepdims=True)\n",
      "C:\\Users\\zl59\\AppData\\Local\\Temp\\ipykernel_15440\\593543715.py:77: RuntimeWarning: Mean of empty slice\n",
      "  v = np.nanmean(v_2, axis=0, keepdims=True)\n"
     ]
    },
    {
     "name": "stdout",
     "output_type": "stream",
     "text": [
      "\t E:\\2-Data\\8-CCMP\\Y1998\\M01\\CCMP_Wind_Analysis_19980106_V02.0_L3.0_RSS.nc\n"
     ]
    },
    {
     "name": "stderr",
     "output_type": "stream",
     "text": [
      "C:\\Users\\zl59\\AppData\\Local\\Temp\\ipykernel_15440\\593543715.py:75: RuntimeWarning: Mean of empty slice\n",
      "  wnd = np.nanmean(np.sqrt(u_2**2 + v_2**2), axis=0, keepdims=True)\n",
      "C:\\Users\\zl59\\AppData\\Local\\Temp\\ipykernel_15440\\593543715.py:76: RuntimeWarning: Mean of empty slice\n",
      "  u = np.nanmean(u_2, axis=0, keepdims=True)\n",
      "C:\\Users\\zl59\\AppData\\Local\\Temp\\ipykernel_15440\\593543715.py:77: RuntimeWarning: Mean of empty slice\n",
      "  v = np.nanmean(v_2, axis=0, keepdims=True)\n"
     ]
    },
    {
     "name": "stdout",
     "output_type": "stream",
     "text": [
      "\t E:\\2-Data\\8-CCMP\\Y1998\\M01\\CCMP_Wind_Analysis_19980107_V02.0_L3.0_RSS.nc\n"
     ]
    },
    {
     "name": "stderr",
     "output_type": "stream",
     "text": [
      "C:\\Users\\zl59\\AppData\\Local\\Temp\\ipykernel_15440\\593543715.py:75: RuntimeWarning: Mean of empty slice\n",
      "  wnd = np.nanmean(np.sqrt(u_2**2 + v_2**2), axis=0, keepdims=True)\n",
      "C:\\Users\\zl59\\AppData\\Local\\Temp\\ipykernel_15440\\593543715.py:76: RuntimeWarning: Mean of empty slice\n",
      "  u = np.nanmean(u_2, axis=0, keepdims=True)\n",
      "C:\\Users\\zl59\\AppData\\Local\\Temp\\ipykernel_15440\\593543715.py:77: RuntimeWarning: Mean of empty slice\n",
      "  v = np.nanmean(v_2, axis=0, keepdims=True)\n"
     ]
    },
    {
     "name": "stdout",
     "output_type": "stream",
     "text": [
      "\t E:\\2-Data\\8-CCMP\\Y1998\\M01\\CCMP_Wind_Analysis_19980108_V02.0_L3.0_RSS.nc\n"
     ]
    },
    {
     "name": "stderr",
     "output_type": "stream",
     "text": [
      "C:\\Users\\zl59\\AppData\\Local\\Temp\\ipykernel_15440\\593543715.py:75: RuntimeWarning: Mean of empty slice\n",
      "  wnd = np.nanmean(np.sqrt(u_2**2 + v_2**2), axis=0, keepdims=True)\n",
      "C:\\Users\\zl59\\AppData\\Local\\Temp\\ipykernel_15440\\593543715.py:76: RuntimeWarning: Mean of empty slice\n",
      "  u = np.nanmean(u_2, axis=0, keepdims=True)\n",
      "C:\\Users\\zl59\\AppData\\Local\\Temp\\ipykernel_15440\\593543715.py:77: RuntimeWarning: Mean of empty slice\n",
      "  v = np.nanmean(v_2, axis=0, keepdims=True)\n"
     ]
    }
   ],
   "source": [
    "yr = 1998\n",
    "yr_dy_bg = 1\n",
    "yr_dy_ed = 8\n",
    "X = load_data_4o2flux_pred(yr, yr_dy_bg, yr_dy_ed)\n"
   ]
  },
  {
   "cell_type": "markdown",
   "id": "2e9035e8",
   "metadata": {},
   "source": [
    "## 2.2. Construct pretraining dataset"
   ]
  },
  {
   "cell_type": "code",
   "execution_count": 128,
   "id": "2ac89c5b",
   "metadata": {},
   "outputs": [],
   "source": [
    "# get index of neighbor row/col\n",
    "def get_neighbor_idx(val, itv, bound_low, bound_up):\n",
    "    val = np.reshape(val, (-1, 1))\n",
    "    idx = [val + i for i in range(-itv, itv + 1)]\n",
    "    idx = np.concatenate(idx, axis=1)\n",
    "    idx = np.where(idx < bound_up, idx, idx - bound_up)\n",
    "    idx = np.where(idx >= bound_low, idx, idx + bound_up)\n",
    "    return idx\n",
    "\n",
    "\n",
    "# dt has 2/3 dimensions\n",
    "# NOTE (@^@): the shape of the data\n",
    "def extract_subset_sub(dt, row_idx, col_idx, rng):\n",
    "    step = 2 * rng + 1\n",
    "    rs = []\n",
    "    for i in range(step):\n",
    "        for j in range(step):\n",
    "            tmp = np.transpose(dt[row_idx[:,i], col_idx[:,j], :])\n",
    "            rs.append(tmp[None,:,:])\n",
    "    rs = np.concatenate(rs, axis=0)\n",
    "    rs = np.reshape(rs, (step, step, dt.shape[2], -1))\n",
    "    return rs\n",
    "    \n",
    "\n",
    "# average the data in time domain\n",
    "# designed specificly for given variables (U and V)\n",
    "def resample_time(dt, cols):\n",
    "    for col in cols:\n",
    "        dt[col] = ((dt[col][:,:,range(0,16,4),:] + \n",
    "                    dt[col][:,:,range(1,16,4),:] + \n",
    "                    dt[col][:,:,range(2,16,4),:] + \n",
    "                    dt[col][:,:,range(3,16,4),:]) * 0.25)\n",
    "    return dt\n",
    "\n",
    "\n",
    "# build a sampling mask\n",
    "def build_sampling_mask(dt, sub_cols, missing_count_thres=5, size=0.1):\n",
    "    # missing values\n",
    "    missing_count = 0\n",
    "    for col in sub_cols:\n",
    "        idx = np.isnan(dt[col]).astype(int)\n",
    "        if dt[col].ndim > 2:\n",
    "            idx = np.sum(idx, axis=2)\n",
    "        missing_count += idx\n",
    "    idx = missing_count <= missing_count_thres\n",
    "    \n",
    "    # Sample location\n",
    "    idx_flat = np.reshape(idx, (np.prod(idx.shape),))\n",
    "    size = int(idx.sum() * size)\n",
    "    idx_sample = np.random.choice(np.where(idx_flat)[0], size=size, replace=False)\n",
    "    \n",
    "    idx_flat[:] = False\n",
    "    idx_flat[idx_sample] = True\n",
    "    return np.reshape(idx_flat, idx.shape)\n",
    "\n",
    "        \n",
    "# return subregion of data\n",
    "# if dt is 3d, 3rd is time.\n",
    "def extract_subset(dt, idx, cols, rng=1, row_bound=2160, col_bound=4320):\n",
    "    row_idx, col_idx = np.where(idx)\n",
    "    \n",
    "    row_idx = get_neighbor_idx(row_idx, rng, 0, row_bound)\n",
    "    col_idx = get_neighbor_idx(col_idx, rng, 0, col_bound)\n",
    "    \n",
    "    return {col:extract_subset_sub(dt[col], row_idx, col_idx, rng) \n",
    "            for col in cols}\n",
    "\n",
    "    \n",
    "# Sample the data\n",
    "def sample_data(dt, sub_cols, rng=1, missing_count_thres=5, size=0.05, row_bound=2160, col_bound=4320):\n",
    "    # build sampling mask\n",
    "    mask = build_sampling_mask(dt, sub_cols, size=size, \n",
    "                               missing_count_thres=missing_count_thres)\n",
    "    \n",
    "    # Subset data\n",
    "    dt_sub = extract_subset(dt, mask, dt.keys(), rng=rng, row_bound=row_bound, col_bound=col_bound)\n",
    "    dt_sub['MASK'] = mask\n",
    "    return dt_sub\n"
   ]
  },
  {
   "cell_type": "code",
   "execution_count": 6,
   "id": "90785cfc",
   "metadata": {},
   "outputs": [
    {
     "name": "stdout",
     "output_type": "stream",
     "text": [
      "2017 65\n",
      "\tYear 2017 ; Begin day 65 ; End day 72\n",
      "\tLoad chl...\n",
      "E:\\2-Data\\5-CHL\\chl.2017065.hdf.npy\n",
      "\t (2160, 4320)\n",
      "\tLoad chl...\n",
      "E:\\2-Data\\5-CHL\\chl.2017057.hdf.npy\n",
      "\t (2160, 4320)\n",
      "\tLoad chl...\n",
      "E:\\2-Data\\5-CHL\\chl.2017073.hdf.npy\n",
      "\t (2160, 4320)\n",
      "\tLoad par...\n",
      "E:\\2-Data\\7-PAR_8D\\par.2017065.hdf.npy\n",
      "\t (2160, 4320)\n",
      "\tLoad par...\n",
      "E:\\2-Data\\7-PAR_8D\\par.2017057.hdf.npy\n",
      "\t (2160, 4320)\n",
      "\tLoad par...\n",
      "E:\\2-Data\\7-PAR_8D\\par.2017073.hdf.npy\n",
      "\t (2160, 4320)\n",
      "\tLoad sst...\n",
      "E:\\2-Data\\13-SST_8D\\sst.2017065.hdf.npy\n",
      "\t (2160, 4320)\n",
      "\tLoad sst...\n",
      "E:\\2-Data\\13-SST_8D\\sst.2017057.hdf.npy\n",
      "\t (2160, 4320)\n",
      "\tLoad sst...\n",
      "E:\\2-Data\\13-SST_8D\\sst.2017073.hdf.npy\n",
      "\t (2160, 4320)\n",
      "\tLoad Wind data...\n",
      "\t E:\\2-Data\\8-CCMP\\Y2017\\M02\\CCMP_RT_Wind_Analysis_20170226_V02.1_L3.0_RSS.nc\n"
     ]
    },
    {
     "name": "stderr",
     "output_type": "stream",
     "text": [
      "C:\\Users\\zl59\\AppData\\Local\\Temp\\ipykernel_15848\\6465438.py:100: RuntimeWarning: Mean of empty slice\n",
      "  wnd = np.nanmean(np.sqrt(u_2**2 + v_2**2), axis=0, keepdims=True)\n",
      "C:\\Users\\zl59\\AppData\\Local\\Temp\\ipykernel_15848\\6465438.py:101: RuntimeWarning: Mean of empty slice\n",
      "  u = np.nanmean(u_2, axis=0, keepdims=True)\n",
      "C:\\Users\\zl59\\AppData\\Local\\Temp\\ipykernel_15848\\6465438.py:102: RuntimeWarning: Mean of empty slice\n",
      "  v = np.nanmean(v_2, axis=0, keepdims=True)\n"
     ]
    },
    {
     "name": "stdout",
     "output_type": "stream",
     "text": [
      "\t E:\\2-Data\\8-CCMP\\Y2017\\M02\\CCMP_RT_Wind_Analysis_20170227_V02.1_L3.0_RSS.nc\n"
     ]
    },
    {
     "name": "stderr",
     "output_type": "stream",
     "text": [
      "C:\\Users\\zl59\\AppData\\Local\\Temp\\ipykernel_15848\\6465438.py:100: RuntimeWarning: Mean of empty slice\n",
      "  wnd = np.nanmean(np.sqrt(u_2**2 + v_2**2), axis=0, keepdims=True)\n",
      "C:\\Users\\zl59\\AppData\\Local\\Temp\\ipykernel_15848\\6465438.py:101: RuntimeWarning: Mean of empty slice\n",
      "  u = np.nanmean(u_2, axis=0, keepdims=True)\n",
      "C:\\Users\\zl59\\AppData\\Local\\Temp\\ipykernel_15848\\6465438.py:102: RuntimeWarning: Mean of empty slice\n",
      "  v = np.nanmean(v_2, axis=0, keepdims=True)\n"
     ]
    },
    {
     "name": "stdout",
     "output_type": "stream",
     "text": [
      "\t E:\\2-Data\\8-CCMP\\Y2017\\M02\\CCMP_RT_Wind_Analysis_20170228_V02.1_L3.0_RSS.nc\n"
     ]
    },
    {
     "name": "stderr",
     "output_type": "stream",
     "text": [
      "C:\\Users\\zl59\\AppData\\Local\\Temp\\ipykernel_15848\\6465438.py:100: RuntimeWarning: Mean of empty slice\n",
      "  wnd = np.nanmean(np.sqrt(u_2**2 + v_2**2), axis=0, keepdims=True)\n",
      "C:\\Users\\zl59\\AppData\\Local\\Temp\\ipykernel_15848\\6465438.py:101: RuntimeWarning: Mean of empty slice\n",
      "  u = np.nanmean(u_2, axis=0, keepdims=True)\n",
      "C:\\Users\\zl59\\AppData\\Local\\Temp\\ipykernel_15848\\6465438.py:102: RuntimeWarning: Mean of empty slice\n",
      "  v = np.nanmean(v_2, axis=0, keepdims=True)\n"
     ]
    },
    {
     "name": "stdout",
     "output_type": "stream",
     "text": [
      "\t E:\\2-Data\\8-CCMP\\Y2017\\M03\\CCMP_RT_Wind_Analysis_20170301_V02.1_L3.0_RSS.nc\n"
     ]
    },
    {
     "name": "stderr",
     "output_type": "stream",
     "text": [
      "C:\\Users\\zl59\\AppData\\Local\\Temp\\ipykernel_15848\\6465438.py:100: RuntimeWarning: Mean of empty slice\n",
      "  wnd = np.nanmean(np.sqrt(u_2**2 + v_2**2), axis=0, keepdims=True)\n",
      "C:\\Users\\zl59\\AppData\\Local\\Temp\\ipykernel_15848\\6465438.py:101: RuntimeWarning: Mean of empty slice\n",
      "  u = np.nanmean(u_2, axis=0, keepdims=True)\n",
      "C:\\Users\\zl59\\AppData\\Local\\Temp\\ipykernel_15848\\6465438.py:102: RuntimeWarning: Mean of empty slice\n",
      "  v = np.nanmean(v_2, axis=0, keepdims=True)\n"
     ]
    },
    {
     "name": "stdout",
     "output_type": "stream",
     "text": [
      "\t E:\\2-Data\\8-CCMP\\Y2017\\M03\\CCMP_RT_Wind_Analysis_20170302_V02.1_L3.0_RSS.nc\n"
     ]
    },
    {
     "name": "stderr",
     "output_type": "stream",
     "text": [
      "C:\\Users\\zl59\\AppData\\Local\\Temp\\ipykernel_15848\\6465438.py:100: RuntimeWarning: Mean of empty slice\n",
      "  wnd = np.nanmean(np.sqrt(u_2**2 + v_2**2), axis=0, keepdims=True)\n",
      "C:\\Users\\zl59\\AppData\\Local\\Temp\\ipykernel_15848\\6465438.py:101: RuntimeWarning: Mean of empty slice\n",
      "  u = np.nanmean(u_2, axis=0, keepdims=True)\n",
      "C:\\Users\\zl59\\AppData\\Local\\Temp\\ipykernel_15848\\6465438.py:102: RuntimeWarning: Mean of empty slice\n",
      "  v = np.nanmean(v_2, axis=0, keepdims=True)\n"
     ]
    },
    {
     "name": "stdout",
     "output_type": "stream",
     "text": [
      "\t E:\\2-Data\\8-CCMP\\Y2017\\M03\\CCMP_RT_Wind_Analysis_20170303_V02.1_L3.0_RSS.nc\n"
     ]
    },
    {
     "name": "stderr",
     "output_type": "stream",
     "text": [
      "C:\\Users\\zl59\\AppData\\Local\\Temp\\ipykernel_15848\\6465438.py:100: RuntimeWarning: Mean of empty slice\n",
      "  wnd = np.nanmean(np.sqrt(u_2**2 + v_2**2), axis=0, keepdims=True)\n",
      "C:\\Users\\zl59\\AppData\\Local\\Temp\\ipykernel_15848\\6465438.py:101: RuntimeWarning: Mean of empty slice\n",
      "  u = np.nanmean(u_2, axis=0, keepdims=True)\n",
      "C:\\Users\\zl59\\AppData\\Local\\Temp\\ipykernel_15848\\6465438.py:102: RuntimeWarning: Mean of empty slice\n",
      "  v = np.nanmean(v_2, axis=0, keepdims=True)\n"
     ]
    },
    {
     "name": "stdout",
     "output_type": "stream",
     "text": [
      "\t E:\\2-Data\\8-CCMP\\Y2017\\M03\\CCMP_RT_Wind_Analysis_20170304_V02.1_L3.0_RSS.nc\n"
     ]
    },
    {
     "name": "stderr",
     "output_type": "stream",
     "text": [
      "C:\\Users\\zl59\\AppData\\Local\\Temp\\ipykernel_15848\\6465438.py:100: RuntimeWarning: Mean of empty slice\n",
      "  wnd = np.nanmean(np.sqrt(u_2**2 + v_2**2), axis=0, keepdims=True)\n",
      "C:\\Users\\zl59\\AppData\\Local\\Temp\\ipykernel_15848\\6465438.py:101: RuntimeWarning: Mean of empty slice\n",
      "  u = np.nanmean(u_2, axis=0, keepdims=True)\n",
      "C:\\Users\\zl59\\AppData\\Local\\Temp\\ipykernel_15848\\6465438.py:102: RuntimeWarning: Mean of empty slice\n",
      "  v = np.nanmean(v_2, axis=0, keepdims=True)\n"
     ]
    },
    {
     "name": "stdout",
     "output_type": "stream",
     "text": [
      "\t E:\\2-Data\\8-CCMP\\Y2017\\M03\\CCMP_RT_Wind_Analysis_20170305_V02.1_L3.0_RSS.nc\n"
     ]
    },
    {
     "name": "stderr",
     "output_type": "stream",
     "text": [
      "C:\\Users\\zl59\\AppData\\Local\\Temp\\ipykernel_15848\\6465438.py:100: RuntimeWarning: Mean of empty slice\n",
      "  wnd = np.nanmean(np.sqrt(u_2**2 + v_2**2), axis=0, keepdims=True)\n",
      "C:\\Users\\zl59\\AppData\\Local\\Temp\\ipykernel_15848\\6465438.py:101: RuntimeWarning: Mean of empty slice\n",
      "  u = np.nanmean(u_2, axis=0, keepdims=True)\n",
      "C:\\Users\\zl59\\AppData\\Local\\Temp\\ipykernel_15848\\6465438.py:102: RuntimeWarning: Mean of empty slice\n",
      "  v = np.nanmean(v_2, axis=0, keepdims=True)\n"
     ]
    },
    {
     "name": "stdout",
     "output_type": "stream",
     "text": [
      "\t E:\\2-Data\\8-CCMP\\Y2017\\M03\\CCMP_RT_Wind_Analysis_20170306_V02.1_L3.0_RSS.nc\n"
     ]
    },
    {
     "name": "stderr",
     "output_type": "stream",
     "text": [
      "C:\\Users\\zl59\\AppData\\Local\\Temp\\ipykernel_15848\\6465438.py:100: RuntimeWarning: Mean of empty slice\n",
      "  wnd = np.nanmean(np.sqrt(u_2**2 + v_2**2), axis=0, keepdims=True)\n",
      "C:\\Users\\zl59\\AppData\\Local\\Temp\\ipykernel_15848\\6465438.py:101: RuntimeWarning: Mean of empty slice\n",
      "  u = np.nanmean(u_2, axis=0, keepdims=True)\n",
      "C:\\Users\\zl59\\AppData\\Local\\Temp\\ipykernel_15848\\6465438.py:102: RuntimeWarning: Mean of empty slice\n",
      "  v = np.nanmean(v_2, axis=0, keepdims=True)\n"
     ]
    },
    {
     "name": "stdout",
     "output_type": "stream",
     "text": [
      "\t E:\\2-Data\\8-CCMP\\Y2017\\M03\\CCMP_RT_Wind_Analysis_20170307_V02.1_L3.0_RSS.nc\n"
     ]
    },
    {
     "name": "stderr",
     "output_type": "stream",
     "text": [
      "C:\\Users\\zl59\\AppData\\Local\\Temp\\ipykernel_15848\\6465438.py:100: RuntimeWarning: Mean of empty slice\n",
      "  wnd = np.nanmean(np.sqrt(u_2**2 + v_2**2), axis=0, keepdims=True)\n",
      "C:\\Users\\zl59\\AppData\\Local\\Temp\\ipykernel_15848\\6465438.py:101: RuntimeWarning: Mean of empty slice\n",
      "  u = np.nanmean(u_2, axis=0, keepdims=True)\n",
      "C:\\Users\\zl59\\AppData\\Local\\Temp\\ipykernel_15848\\6465438.py:102: RuntimeWarning: Mean of empty slice\n",
      "  v = np.nanmean(v_2, axis=0, keepdims=True)\n"
     ]
    },
    {
     "name": "stdout",
     "output_type": "stream",
     "text": [
      "\t E:\\2-Data\\8-CCMP\\Y2017\\M03\\CCMP_RT_Wind_Analysis_20170308_V02.1_L3.0_RSS.nc\n"
     ]
    },
    {
     "name": "stderr",
     "output_type": "stream",
     "text": [
      "C:\\Users\\zl59\\AppData\\Local\\Temp\\ipykernel_15848\\6465438.py:100: RuntimeWarning: Mean of empty slice\n",
      "  wnd = np.nanmean(np.sqrt(u_2**2 + v_2**2), axis=0, keepdims=True)\n",
      "C:\\Users\\zl59\\AppData\\Local\\Temp\\ipykernel_15848\\6465438.py:101: RuntimeWarning: Mean of empty slice\n",
      "  u = np.nanmean(u_2, axis=0, keepdims=True)\n",
      "C:\\Users\\zl59\\AppData\\Local\\Temp\\ipykernel_15848\\6465438.py:102: RuntimeWarning: Mean of empty slice\n",
      "  v = np.nanmean(v_2, axis=0, keepdims=True)\n"
     ]
    },
    {
     "name": "stdout",
     "output_type": "stream",
     "text": [
      "\t E:\\2-Data\\8-CCMP\\Y2017\\M03\\CCMP_RT_Wind_Analysis_20170309_V02.1_L3.0_RSS.nc\n"
     ]
    },
    {
     "name": "stderr",
     "output_type": "stream",
     "text": [
      "C:\\Users\\zl59\\AppData\\Local\\Temp\\ipykernel_15848\\6465438.py:100: RuntimeWarning: Mean of empty slice\n",
      "  wnd = np.nanmean(np.sqrt(u_2**2 + v_2**2), axis=0, keepdims=True)\n",
      "C:\\Users\\zl59\\AppData\\Local\\Temp\\ipykernel_15848\\6465438.py:101: RuntimeWarning: Mean of empty slice\n",
      "  u = np.nanmean(u_2, axis=0, keepdims=True)\n",
      "C:\\Users\\zl59\\AppData\\Local\\Temp\\ipykernel_15848\\6465438.py:102: RuntimeWarning: Mean of empty slice\n",
      "  v = np.nanmean(v_2, axis=0, keepdims=True)\n"
     ]
    },
    {
     "name": "stdout",
     "output_type": "stream",
     "text": [
      "\t E:\\2-Data\\8-CCMP\\Y2017\\M03\\CCMP_RT_Wind_Analysis_20170310_V02.1_L3.0_RSS.nc\n"
     ]
    },
    {
     "name": "stderr",
     "output_type": "stream",
     "text": [
      "C:\\Users\\zl59\\AppData\\Local\\Temp\\ipykernel_15848\\6465438.py:100: RuntimeWarning: Mean of empty slice\n",
      "  wnd = np.nanmean(np.sqrt(u_2**2 + v_2**2), axis=0, keepdims=True)\n",
      "C:\\Users\\zl59\\AppData\\Local\\Temp\\ipykernel_15848\\6465438.py:101: RuntimeWarning: Mean of empty slice\n",
      "  u = np.nanmean(u_2, axis=0, keepdims=True)\n",
      "C:\\Users\\zl59\\AppData\\Local\\Temp\\ipykernel_15848\\6465438.py:102: RuntimeWarning: Mean of empty slice\n",
      "  v = np.nanmean(v_2, axis=0, keepdims=True)\n"
     ]
    },
    {
     "name": "stdout",
     "output_type": "stream",
     "text": [
      "\t E:\\2-Data\\8-CCMP\\Y2017\\M03\\CCMP_RT_Wind_Analysis_20170313_V02.1_L3.0_RSS.nc\n"
     ]
    },
    {
     "name": "stderr",
     "output_type": "stream",
     "text": [
      "C:\\Users\\zl59\\AppData\\Local\\Temp\\ipykernel_15848\\6465438.py:100: RuntimeWarning: Mean of empty slice\n",
      "  wnd = np.nanmean(np.sqrt(u_2**2 + v_2**2), axis=0, keepdims=True)\n",
      "C:\\Users\\zl59\\AppData\\Local\\Temp\\ipykernel_15848\\6465438.py:101: RuntimeWarning: Mean of empty slice\n",
      "  u = np.nanmean(u_2, axis=0, keepdims=True)\n",
      "C:\\Users\\zl59\\AppData\\Local\\Temp\\ipykernel_15848\\6465438.py:102: RuntimeWarning: Mean of empty slice\n",
      "  v = np.nanmean(v_2, axis=0, keepdims=True)\n"
     ]
    },
    {
     "name": "stdout",
     "output_type": "stream",
     "text": [
      "Fail in calculation...\n",
      "2017 73\n",
      "\tYear 2017 ; Begin day 73 ; End day 80\n",
      "\tLoad chl...\n",
      "E:\\2-Data\\5-CHL\\chl.2017073.hdf.npy\n",
      "\t (2160, 4320)\n",
      "\tLoad chl...\n",
      "E:\\2-Data\\5-CHL\\chl.2017065.hdf.npy\n",
      "\t (2160, 4320)\n",
      "\tLoad chl...\n",
      "E:\\2-Data\\5-CHL\\chl.2017081.hdf.npy\n",
      "\t (2160, 4320)\n",
      "\tLoad par...\n",
      "E:\\2-Data\\7-PAR_8D\\par.2017073.hdf.npy\n",
      "\t (2160, 4320)\n",
      "\tLoad par...\n",
      "E:\\2-Data\\7-PAR_8D\\par.2017065.hdf.npy\n",
      "\t (2160, 4320)\n",
      "\tLoad par...\n",
      "E:\\2-Data\\7-PAR_8D\\par.2017081.hdf.npy\n",
      "\t (2160, 4320)\n",
      "\tLoad sst...\n",
      "E:\\2-Data\\13-SST_8D\\sst.2017073.hdf.npy\n",
      "\t (2160, 4320)\n",
      "\tLoad sst...\n",
      "E:\\2-Data\\13-SST_8D\\sst.2017065.hdf.npy\n",
      "\t (2160, 4320)\n",
      "\tLoad sst...\n",
      "E:\\2-Data\\13-SST_8D\\sst.2017081.hdf.npy\n",
      "\t (2160, 4320)\n",
      "\tLoad Wind data...\n",
      "\t E:\\2-Data\\8-CCMP\\Y2017\\M03\\CCMP_RT_Wind_Analysis_20170306_V02.1_L3.0_RSS.nc\n"
     ]
    },
    {
     "name": "stderr",
     "output_type": "stream",
     "text": [
      "C:\\Users\\zl59\\AppData\\Local\\Temp\\ipykernel_15848\\6465438.py:100: RuntimeWarning: Mean of empty slice\n",
      "  wnd = np.nanmean(np.sqrt(u_2**2 + v_2**2), axis=0, keepdims=True)\n",
      "C:\\Users\\zl59\\AppData\\Local\\Temp\\ipykernel_15848\\6465438.py:101: RuntimeWarning: Mean of empty slice\n",
      "  u = np.nanmean(u_2, axis=0, keepdims=True)\n",
      "C:\\Users\\zl59\\AppData\\Local\\Temp\\ipykernel_15848\\6465438.py:102: RuntimeWarning: Mean of empty slice\n",
      "  v = np.nanmean(v_2, axis=0, keepdims=True)\n"
     ]
    },
    {
     "name": "stdout",
     "output_type": "stream",
     "text": [
      "\t E:\\2-Data\\8-CCMP\\Y2017\\M03\\CCMP_RT_Wind_Analysis_20170307_V02.1_L3.0_RSS.nc\n"
     ]
    },
    {
     "name": "stderr",
     "output_type": "stream",
     "text": [
      "C:\\Users\\zl59\\AppData\\Local\\Temp\\ipykernel_15848\\6465438.py:100: RuntimeWarning: Mean of empty slice\n",
      "  wnd = np.nanmean(np.sqrt(u_2**2 + v_2**2), axis=0, keepdims=True)\n",
      "C:\\Users\\zl59\\AppData\\Local\\Temp\\ipykernel_15848\\6465438.py:101: RuntimeWarning: Mean of empty slice\n",
      "  u = np.nanmean(u_2, axis=0, keepdims=True)\n",
      "C:\\Users\\zl59\\AppData\\Local\\Temp\\ipykernel_15848\\6465438.py:102: RuntimeWarning: Mean of empty slice\n",
      "  v = np.nanmean(v_2, axis=0, keepdims=True)\n"
     ]
    },
    {
     "name": "stdout",
     "output_type": "stream",
     "text": [
      "\t E:\\2-Data\\8-CCMP\\Y2017\\M03\\CCMP_RT_Wind_Analysis_20170308_V02.1_L3.0_RSS.nc\n"
     ]
    },
    {
     "name": "stderr",
     "output_type": "stream",
     "text": [
      "C:\\Users\\zl59\\AppData\\Local\\Temp\\ipykernel_15848\\6465438.py:100: RuntimeWarning: Mean of empty slice\n",
      "  wnd = np.nanmean(np.sqrt(u_2**2 + v_2**2), axis=0, keepdims=True)\n",
      "C:\\Users\\zl59\\AppData\\Local\\Temp\\ipykernel_15848\\6465438.py:101: RuntimeWarning: Mean of empty slice\n",
      "  u = np.nanmean(u_2, axis=0, keepdims=True)\n",
      "C:\\Users\\zl59\\AppData\\Local\\Temp\\ipykernel_15848\\6465438.py:102: RuntimeWarning: Mean of empty slice\n",
      "  v = np.nanmean(v_2, axis=0, keepdims=True)\n"
     ]
    },
    {
     "name": "stdout",
     "output_type": "stream",
     "text": [
      "\t E:\\2-Data\\8-CCMP\\Y2017\\M03\\CCMP_RT_Wind_Analysis_20170309_V02.1_L3.0_RSS.nc\n"
     ]
    },
    {
     "name": "stderr",
     "output_type": "stream",
     "text": [
      "C:\\Users\\zl59\\AppData\\Local\\Temp\\ipykernel_15848\\6465438.py:100: RuntimeWarning: Mean of empty slice\n",
      "  wnd = np.nanmean(np.sqrt(u_2**2 + v_2**2), axis=0, keepdims=True)\n",
      "C:\\Users\\zl59\\AppData\\Local\\Temp\\ipykernel_15848\\6465438.py:101: RuntimeWarning: Mean of empty slice\n",
      "  u = np.nanmean(u_2, axis=0, keepdims=True)\n",
      "C:\\Users\\zl59\\AppData\\Local\\Temp\\ipykernel_15848\\6465438.py:102: RuntimeWarning: Mean of empty slice\n",
      "  v = np.nanmean(v_2, axis=0, keepdims=True)\n"
     ]
    },
    {
     "name": "stdout",
     "output_type": "stream",
     "text": [
      "\t E:\\2-Data\\8-CCMP\\Y2017\\M03\\CCMP_RT_Wind_Analysis_20170310_V02.1_L3.0_RSS.nc\n"
     ]
    },
    {
     "name": "stderr",
     "output_type": "stream",
     "text": [
      "C:\\Users\\zl59\\AppData\\Local\\Temp\\ipykernel_15848\\6465438.py:100: RuntimeWarning: Mean of empty slice\n",
      "  wnd = np.nanmean(np.sqrt(u_2**2 + v_2**2), axis=0, keepdims=True)\n",
      "C:\\Users\\zl59\\AppData\\Local\\Temp\\ipykernel_15848\\6465438.py:101: RuntimeWarning: Mean of empty slice\n",
      "  u = np.nanmean(u_2, axis=0, keepdims=True)\n",
      "C:\\Users\\zl59\\AppData\\Local\\Temp\\ipykernel_15848\\6465438.py:102: RuntimeWarning: Mean of empty slice\n",
      "  v = np.nanmean(v_2, axis=0, keepdims=True)\n"
     ]
    },
    {
     "name": "stdout",
     "output_type": "stream",
     "text": [
      "\t E:\\2-Data\\8-CCMP\\Y2017\\M03\\CCMP_RT_Wind_Analysis_20170313_V02.1_L3.0_RSS.nc\n"
     ]
    },
    {
     "name": "stderr",
     "output_type": "stream",
     "text": [
      "C:\\Users\\zl59\\AppData\\Local\\Temp\\ipykernel_15848\\6465438.py:100: RuntimeWarning: Mean of empty slice\n",
      "  wnd = np.nanmean(np.sqrt(u_2**2 + v_2**2), axis=0, keepdims=True)\n",
      "C:\\Users\\zl59\\AppData\\Local\\Temp\\ipykernel_15848\\6465438.py:101: RuntimeWarning: Mean of empty slice\n",
      "  u = np.nanmean(u_2, axis=0, keepdims=True)\n",
      "C:\\Users\\zl59\\AppData\\Local\\Temp\\ipykernel_15848\\6465438.py:102: RuntimeWarning: Mean of empty slice\n",
      "  v = np.nanmean(v_2, axis=0, keepdims=True)\n"
     ]
    },
    {
     "name": "stdout",
     "output_type": "stream",
     "text": [
      "\t E:\\2-Data\\8-CCMP\\Y2017\\M03\\CCMP_RT_Wind_Analysis_20170314_V02.1_L3.0_RSS.nc\n"
     ]
    },
    {
     "name": "stderr",
     "output_type": "stream",
     "text": [
      "C:\\Users\\zl59\\AppData\\Local\\Temp\\ipykernel_15848\\6465438.py:100: RuntimeWarning: Mean of empty slice\n",
      "  wnd = np.nanmean(np.sqrt(u_2**2 + v_2**2), axis=0, keepdims=True)\n",
      "C:\\Users\\zl59\\AppData\\Local\\Temp\\ipykernel_15848\\6465438.py:101: RuntimeWarning: Mean of empty slice\n",
      "  u = np.nanmean(u_2, axis=0, keepdims=True)\n",
      "C:\\Users\\zl59\\AppData\\Local\\Temp\\ipykernel_15848\\6465438.py:102: RuntimeWarning: Mean of empty slice\n",
      "  v = np.nanmean(v_2, axis=0, keepdims=True)\n"
     ]
    },
    {
     "name": "stdout",
     "output_type": "stream",
     "text": [
      "\t E:\\2-Data\\8-CCMP\\Y2017\\M03\\CCMP_RT_Wind_Analysis_20170315_V02.1_L3.0_RSS.nc\n"
     ]
    },
    {
     "name": "stderr",
     "output_type": "stream",
     "text": [
      "C:\\Users\\zl59\\AppData\\Local\\Temp\\ipykernel_15848\\6465438.py:100: RuntimeWarning: Mean of empty slice\n",
      "  wnd = np.nanmean(np.sqrt(u_2**2 + v_2**2), axis=0, keepdims=True)\n",
      "C:\\Users\\zl59\\AppData\\Local\\Temp\\ipykernel_15848\\6465438.py:101: RuntimeWarning: Mean of empty slice\n",
      "  u = np.nanmean(u_2, axis=0, keepdims=True)\n",
      "C:\\Users\\zl59\\AppData\\Local\\Temp\\ipykernel_15848\\6465438.py:102: RuntimeWarning: Mean of empty slice\n",
      "  v = np.nanmean(v_2, axis=0, keepdims=True)\n"
     ]
    },
    {
     "name": "stdout",
     "output_type": "stream",
     "text": [
      "\t E:\\2-Data\\8-CCMP\\Y2017\\M03\\CCMP_RT_Wind_Analysis_20170316_V02.1_L3.0_RSS.nc\n"
     ]
    },
    {
     "name": "stderr",
     "output_type": "stream",
     "text": [
      "C:\\Users\\zl59\\AppData\\Local\\Temp\\ipykernel_15848\\6465438.py:100: RuntimeWarning: Mean of empty slice\n",
      "  wnd = np.nanmean(np.sqrt(u_2**2 + v_2**2), axis=0, keepdims=True)\n",
      "C:\\Users\\zl59\\AppData\\Local\\Temp\\ipykernel_15848\\6465438.py:101: RuntimeWarning: Mean of empty slice\n",
      "  u = np.nanmean(u_2, axis=0, keepdims=True)\n",
      "C:\\Users\\zl59\\AppData\\Local\\Temp\\ipykernel_15848\\6465438.py:102: RuntimeWarning: Mean of empty slice\n",
      "  v = np.nanmean(v_2, axis=0, keepdims=True)\n"
     ]
    },
    {
     "name": "stdout",
     "output_type": "stream",
     "text": [
      "\t E:\\2-Data\\8-CCMP\\Y2017\\M03\\CCMP_RT_Wind_Analysis_20170317_V02.1_L3.0_RSS.nc\n"
     ]
    },
    {
     "name": "stderr",
     "output_type": "stream",
     "text": [
      "C:\\Users\\zl59\\AppData\\Local\\Temp\\ipykernel_15848\\6465438.py:100: RuntimeWarning: Mean of empty slice\n",
      "  wnd = np.nanmean(np.sqrt(u_2**2 + v_2**2), axis=0, keepdims=True)\n",
      "C:\\Users\\zl59\\AppData\\Local\\Temp\\ipykernel_15848\\6465438.py:101: RuntimeWarning: Mean of empty slice\n",
      "  u = np.nanmean(u_2, axis=0, keepdims=True)\n",
      "C:\\Users\\zl59\\AppData\\Local\\Temp\\ipykernel_15848\\6465438.py:102: RuntimeWarning: Mean of empty slice\n",
      "  v = np.nanmean(v_2, axis=0, keepdims=True)\n"
     ]
    },
    {
     "name": "stdout",
     "output_type": "stream",
     "text": [
      "\t E:\\2-Data\\8-CCMP\\Y2017\\M03\\CCMP_RT_Wind_Analysis_20170318_V02.1_L3.0_RSS.nc\n"
     ]
    },
    {
     "name": "stderr",
     "output_type": "stream",
     "text": [
      "C:\\Users\\zl59\\AppData\\Local\\Temp\\ipykernel_15848\\6465438.py:100: RuntimeWarning: Mean of empty slice\n",
      "  wnd = np.nanmean(np.sqrt(u_2**2 + v_2**2), axis=0, keepdims=True)\n",
      "C:\\Users\\zl59\\AppData\\Local\\Temp\\ipykernel_15848\\6465438.py:101: RuntimeWarning: Mean of empty slice\n",
      "  u = np.nanmean(u_2, axis=0, keepdims=True)\n",
      "C:\\Users\\zl59\\AppData\\Local\\Temp\\ipykernel_15848\\6465438.py:102: RuntimeWarning: Mean of empty slice\n",
      "  v = np.nanmean(v_2, axis=0, keepdims=True)\n"
     ]
    },
    {
     "name": "stdout",
     "output_type": "stream",
     "text": [
      "\t E:\\2-Data\\8-CCMP\\Y2017\\M03\\CCMP_RT_Wind_Analysis_20170319_V02.1_L3.0_RSS.nc\n"
     ]
    },
    {
     "name": "stderr",
     "output_type": "stream",
     "text": [
      "C:\\Users\\zl59\\AppData\\Local\\Temp\\ipykernel_15848\\6465438.py:100: RuntimeWarning: Mean of empty slice\n",
      "  wnd = np.nanmean(np.sqrt(u_2**2 + v_2**2), axis=0, keepdims=True)\n",
      "C:\\Users\\zl59\\AppData\\Local\\Temp\\ipykernel_15848\\6465438.py:101: RuntimeWarning: Mean of empty slice\n",
      "  u = np.nanmean(u_2, axis=0, keepdims=True)\n",
      "C:\\Users\\zl59\\AppData\\Local\\Temp\\ipykernel_15848\\6465438.py:102: RuntimeWarning: Mean of empty slice\n",
      "  v = np.nanmean(v_2, axis=0, keepdims=True)\n"
     ]
    },
    {
     "name": "stdout",
     "output_type": "stream",
     "text": [
      "\t E:\\2-Data\\8-CCMP\\Y2017\\M03\\CCMP_RT_Wind_Analysis_20170320_V02.1_L3.0_RSS.nc\n"
     ]
    },
    {
     "name": "stderr",
     "output_type": "stream",
     "text": [
      "C:\\Users\\zl59\\AppData\\Local\\Temp\\ipykernel_15848\\6465438.py:100: RuntimeWarning: Mean of empty slice\n",
      "  wnd = np.nanmean(np.sqrt(u_2**2 + v_2**2), axis=0, keepdims=True)\n",
      "C:\\Users\\zl59\\AppData\\Local\\Temp\\ipykernel_15848\\6465438.py:101: RuntimeWarning: Mean of empty slice\n",
      "  u = np.nanmean(u_2, axis=0, keepdims=True)\n",
      "C:\\Users\\zl59\\AppData\\Local\\Temp\\ipykernel_15848\\6465438.py:102: RuntimeWarning: Mean of empty slice\n",
      "  v = np.nanmean(v_2, axis=0, keepdims=True)\n"
     ]
    },
    {
     "name": "stdout",
     "output_type": "stream",
     "text": [
      "\t E:\\2-Data\\8-CCMP\\Y2017\\M03\\CCMP_RT_Wind_Analysis_20170321_V02.1_L3.0_RSS.nc\n"
     ]
    },
    {
     "name": "stderr",
     "output_type": "stream",
     "text": [
      "C:\\Users\\zl59\\AppData\\Local\\Temp\\ipykernel_15848\\6465438.py:100: RuntimeWarning: Mean of empty slice\n",
      "  wnd = np.nanmean(np.sqrt(u_2**2 + v_2**2), axis=0, keepdims=True)\n",
      "C:\\Users\\zl59\\AppData\\Local\\Temp\\ipykernel_15848\\6465438.py:101: RuntimeWarning: Mean of empty slice\n",
      "  u = np.nanmean(u_2, axis=0, keepdims=True)\n",
      "C:\\Users\\zl59\\AppData\\Local\\Temp\\ipykernel_15848\\6465438.py:102: RuntimeWarning: Mean of empty slice\n",
      "  v = np.nanmean(v_2, axis=0, keepdims=True)\n"
     ]
    },
    {
     "name": "stdout",
     "output_type": "stream",
     "text": [
      "Fail in calculation...\n",
      "2017 97\n",
      "\tYear 2017 ; Begin day 97 ; End day 104\n",
      "\tLoad chl...\n",
      "E:\\2-Data\\5-CHL\\chl.2017097.hdf.npy\n",
      "\t (2160, 4320)\n",
      "\tLoad chl...\n",
      "E:\\2-Data\\5-CHL\\chl.2017089.hdf.npy\n",
      "\t (2160, 4320)\n",
      "\tLoad chl...\n",
      "E:\\2-Data\\5-CHL\\chl.2017105.hdf.npy\n",
      "\t (2160, 4320)\n",
      "\tLoad par...\n",
      "E:\\2-Data\\7-PAR_8D\\par.2017097.hdf.npy\n",
      "\t (2160, 4320)\n",
      "\tLoad par...\n",
      "E:\\2-Data\\7-PAR_8D\\par.2017089.hdf.npy\n",
      "\t (2160, 4320)\n",
      "\tLoad par...\n",
      "E:\\2-Data\\7-PAR_8D\\par.2017105.hdf.npy\n",
      "\t (2160, 4320)\n",
      "\tLoad sst...\n",
      "E:\\2-Data\\13-SST_8D\\sst.2017097.hdf.npy\n",
      "\t (2160, 4320)\n",
      "\tLoad sst...\n",
      "E:\\2-Data\\13-SST_8D\\sst.2017089.hdf.npy\n",
      "\t (2160, 4320)\n",
      "\tLoad sst...\n",
      "E:\\2-Data\\13-SST_8D\\sst.2017105.hdf.npy\n",
      "\t (2160, 4320)\n",
      "\tLoad Wind data...\n",
      "\t E:\\2-Data\\8-CCMP\\Y2017\\M03\\CCMP_RT_Wind_Analysis_20170330_V02.1_L3.0_RSS.nc\n"
     ]
    },
    {
     "name": "stderr",
     "output_type": "stream",
     "text": [
      "C:\\Users\\zl59\\AppData\\Local\\Temp\\ipykernel_15848\\6465438.py:100: RuntimeWarning: Mean of empty slice\n",
      "  wnd = np.nanmean(np.sqrt(u_2**2 + v_2**2), axis=0, keepdims=True)\n",
      "C:\\Users\\zl59\\AppData\\Local\\Temp\\ipykernel_15848\\6465438.py:101: RuntimeWarning: Mean of empty slice\n",
      "  u = np.nanmean(u_2, axis=0, keepdims=True)\n",
      "C:\\Users\\zl59\\AppData\\Local\\Temp\\ipykernel_15848\\6465438.py:102: RuntimeWarning: Mean of empty slice\n",
      "  v = np.nanmean(v_2, axis=0, keepdims=True)\n"
     ]
    },
    {
     "name": "stdout",
     "output_type": "stream",
     "text": [
      "\t E:\\2-Data\\8-CCMP\\Y2017\\M03\\CCMP_RT_Wind_Analysis_20170331_V02.1_L3.0_RSS.nc\n"
     ]
    },
    {
     "name": "stderr",
     "output_type": "stream",
     "text": [
      "C:\\Users\\zl59\\AppData\\Local\\Temp\\ipykernel_15848\\6465438.py:100: RuntimeWarning: Mean of empty slice\n",
      "  wnd = np.nanmean(np.sqrt(u_2**2 + v_2**2), axis=0, keepdims=True)\n",
      "C:\\Users\\zl59\\AppData\\Local\\Temp\\ipykernel_15848\\6465438.py:101: RuntimeWarning: Mean of empty slice\n",
      "  u = np.nanmean(u_2, axis=0, keepdims=True)\n",
      "C:\\Users\\zl59\\AppData\\Local\\Temp\\ipykernel_15848\\6465438.py:102: RuntimeWarning: Mean of empty slice\n",
      "  v = np.nanmean(v_2, axis=0, keepdims=True)\n"
     ]
    },
    {
     "name": "stdout",
     "output_type": "stream",
     "text": [
      "\t E:\\2-Data\\8-CCMP\\Y2017\\M04\\CCMP_RT_Wind_Analysis_20170401_V02.1_L3.0_RSS.nc\n"
     ]
    },
    {
     "name": "stderr",
     "output_type": "stream",
     "text": [
      "C:\\Users\\zl59\\AppData\\Local\\Temp\\ipykernel_15848\\6465438.py:100: RuntimeWarning: Mean of empty slice\n",
      "  wnd = np.nanmean(np.sqrt(u_2**2 + v_2**2), axis=0, keepdims=True)\n",
      "C:\\Users\\zl59\\AppData\\Local\\Temp\\ipykernel_15848\\6465438.py:101: RuntimeWarning: Mean of empty slice\n",
      "  u = np.nanmean(u_2, axis=0, keepdims=True)\n",
      "C:\\Users\\zl59\\AppData\\Local\\Temp\\ipykernel_15848\\6465438.py:102: RuntimeWarning: Mean of empty slice\n",
      "  v = np.nanmean(v_2, axis=0, keepdims=True)\n"
     ]
    },
    {
     "name": "stdout",
     "output_type": "stream",
     "text": [
      "\t E:\\2-Data\\8-CCMP\\Y2017\\M04\\CCMP_RT_Wind_Analysis_20170402_V02.1_L3.0_RSS.nc\n"
     ]
    },
    {
     "name": "stderr",
     "output_type": "stream",
     "text": [
      "C:\\Users\\zl59\\AppData\\Local\\Temp\\ipykernel_15848\\6465438.py:100: RuntimeWarning: Mean of empty slice\n",
      "  wnd = np.nanmean(np.sqrt(u_2**2 + v_2**2), axis=0, keepdims=True)\n",
      "C:\\Users\\zl59\\AppData\\Local\\Temp\\ipykernel_15848\\6465438.py:101: RuntimeWarning: Mean of empty slice\n",
      "  u = np.nanmean(u_2, axis=0, keepdims=True)\n",
      "C:\\Users\\zl59\\AppData\\Local\\Temp\\ipykernel_15848\\6465438.py:102: RuntimeWarning: Mean of empty slice\n",
      "  v = np.nanmean(v_2, axis=0, keepdims=True)\n"
     ]
    },
    {
     "name": "stdout",
     "output_type": "stream",
     "text": [
      "\t E:\\2-Data\\8-CCMP\\Y2017\\M04\\CCMP_RT_Wind_Analysis_20170403_V02.1_L3.0_RSS.nc\n"
     ]
    },
    {
     "name": "stderr",
     "output_type": "stream",
     "text": [
      "C:\\Users\\zl59\\AppData\\Local\\Temp\\ipykernel_15848\\6465438.py:100: RuntimeWarning: Mean of empty slice\n",
      "  wnd = np.nanmean(np.sqrt(u_2**2 + v_2**2), axis=0, keepdims=True)\n",
      "C:\\Users\\zl59\\AppData\\Local\\Temp\\ipykernel_15848\\6465438.py:101: RuntimeWarning: Mean of empty slice\n",
      "  u = np.nanmean(u_2, axis=0, keepdims=True)\n",
      "C:\\Users\\zl59\\AppData\\Local\\Temp\\ipykernel_15848\\6465438.py:102: RuntimeWarning: Mean of empty slice\n",
      "  v = np.nanmean(v_2, axis=0, keepdims=True)\n"
     ]
    },
    {
     "name": "stdout",
     "output_type": "stream",
     "text": [
      "\t E:\\2-Data\\8-CCMP\\Y2017\\M04\\CCMP_RT_Wind_Analysis_20170404_V02.1_L3.0_RSS.nc\n"
     ]
    },
    {
     "name": "stderr",
     "output_type": "stream",
     "text": [
      "C:\\Users\\zl59\\AppData\\Local\\Temp\\ipykernel_15848\\6465438.py:100: RuntimeWarning: Mean of empty slice\n",
      "  wnd = np.nanmean(np.sqrt(u_2**2 + v_2**2), axis=0, keepdims=True)\n",
      "C:\\Users\\zl59\\AppData\\Local\\Temp\\ipykernel_15848\\6465438.py:101: RuntimeWarning: Mean of empty slice\n",
      "  u = np.nanmean(u_2, axis=0, keepdims=True)\n",
      "C:\\Users\\zl59\\AppData\\Local\\Temp\\ipykernel_15848\\6465438.py:102: RuntimeWarning: Mean of empty slice\n",
      "  v = np.nanmean(v_2, axis=0, keepdims=True)\n"
     ]
    },
    {
     "name": "stdout",
     "output_type": "stream",
     "text": [
      "\t E:\\2-Data\\8-CCMP\\Y2017\\M04\\CCMP_RT_Wind_Analysis_20170405_V02.1_L3.0_RSS.nc\n"
     ]
    },
    {
     "name": "stderr",
     "output_type": "stream",
     "text": [
      "C:\\Users\\zl59\\AppData\\Local\\Temp\\ipykernel_15848\\6465438.py:100: RuntimeWarning: Mean of empty slice\n",
      "  wnd = np.nanmean(np.sqrt(u_2**2 + v_2**2), axis=0, keepdims=True)\n",
      "C:\\Users\\zl59\\AppData\\Local\\Temp\\ipykernel_15848\\6465438.py:101: RuntimeWarning: Mean of empty slice\n",
      "  u = np.nanmean(u_2, axis=0, keepdims=True)\n",
      "C:\\Users\\zl59\\AppData\\Local\\Temp\\ipykernel_15848\\6465438.py:102: RuntimeWarning: Mean of empty slice\n",
      "  v = np.nanmean(v_2, axis=0, keepdims=True)\n"
     ]
    },
    {
     "name": "stdout",
     "output_type": "stream",
     "text": [
      "\t E:\\2-Data\\8-CCMP\\Y2017\\M04\\CCMP_RT_Wind_Analysis_20170406_V02.1_L3.0_RSS.nc\n"
     ]
    },
    {
     "name": "stderr",
     "output_type": "stream",
     "text": [
      "C:\\Users\\zl59\\AppData\\Local\\Temp\\ipykernel_15848\\6465438.py:100: RuntimeWarning: Mean of empty slice\n",
      "  wnd = np.nanmean(np.sqrt(u_2**2 + v_2**2), axis=0, keepdims=True)\n",
      "C:\\Users\\zl59\\AppData\\Local\\Temp\\ipykernel_15848\\6465438.py:101: RuntimeWarning: Mean of empty slice\n",
      "  u = np.nanmean(u_2, axis=0, keepdims=True)\n",
      "C:\\Users\\zl59\\AppData\\Local\\Temp\\ipykernel_15848\\6465438.py:102: RuntimeWarning: Mean of empty slice\n",
      "  v = np.nanmean(v_2, axis=0, keepdims=True)\n"
     ]
    },
    {
     "name": "stdout",
     "output_type": "stream",
     "text": [
      "\t E:\\2-Data\\8-CCMP\\Y2017\\M04\\CCMP_RT_Wind_Analysis_20170407_V02.1_L3.0_RSS.nc\n"
     ]
    },
    {
     "name": "stderr",
     "output_type": "stream",
     "text": [
      "C:\\Users\\zl59\\AppData\\Local\\Temp\\ipykernel_15848\\6465438.py:100: RuntimeWarning: Mean of empty slice\n",
      "  wnd = np.nanmean(np.sqrt(u_2**2 + v_2**2), axis=0, keepdims=True)\n",
      "C:\\Users\\zl59\\AppData\\Local\\Temp\\ipykernel_15848\\6465438.py:101: RuntimeWarning: Mean of empty slice\n",
      "  u = np.nanmean(u_2, axis=0, keepdims=True)\n",
      "C:\\Users\\zl59\\AppData\\Local\\Temp\\ipykernel_15848\\6465438.py:102: RuntimeWarning: Mean of empty slice\n",
      "  v = np.nanmean(v_2, axis=0, keepdims=True)\n"
     ]
    },
    {
     "name": "stdout",
     "output_type": "stream",
     "text": [
      "\t E:\\2-Data\\8-CCMP\\Y2017\\M04\\CCMP_RT_Wind_Analysis_20170408_V02.1_L3.0_RSS.nc\n"
     ]
    },
    {
     "name": "stderr",
     "output_type": "stream",
     "text": [
      "C:\\Users\\zl59\\AppData\\Local\\Temp\\ipykernel_15848\\6465438.py:100: RuntimeWarning: Mean of empty slice\n",
      "  wnd = np.nanmean(np.sqrt(u_2**2 + v_2**2), axis=0, keepdims=True)\n",
      "C:\\Users\\zl59\\AppData\\Local\\Temp\\ipykernel_15848\\6465438.py:101: RuntimeWarning: Mean of empty slice\n",
      "  u = np.nanmean(u_2, axis=0, keepdims=True)\n",
      "C:\\Users\\zl59\\AppData\\Local\\Temp\\ipykernel_15848\\6465438.py:102: RuntimeWarning: Mean of empty slice\n",
      "  v = np.nanmean(v_2, axis=0, keepdims=True)\n"
     ]
    },
    {
     "name": "stdout",
     "output_type": "stream",
     "text": [
      "\t E:\\2-Data\\8-CCMP\\Y2017\\M04\\CCMP_RT_Wind_Analysis_20170409_V02.1_L3.0_RSS.nc\n"
     ]
    },
    {
     "name": "stderr",
     "output_type": "stream",
     "text": [
      "C:\\Users\\zl59\\AppData\\Local\\Temp\\ipykernel_15848\\6465438.py:100: RuntimeWarning: Mean of empty slice\n",
      "  wnd = np.nanmean(np.sqrt(u_2**2 + v_2**2), axis=0, keepdims=True)\n",
      "C:\\Users\\zl59\\AppData\\Local\\Temp\\ipykernel_15848\\6465438.py:101: RuntimeWarning: Mean of empty slice\n",
      "  u = np.nanmean(u_2, axis=0, keepdims=True)\n",
      "C:\\Users\\zl59\\AppData\\Local\\Temp\\ipykernel_15848\\6465438.py:102: RuntimeWarning: Mean of empty slice\n",
      "  v = np.nanmean(v_2, axis=0, keepdims=True)\n"
     ]
    },
    {
     "name": "stdout",
     "output_type": "stream",
     "text": [
      "\t E:\\2-Data\\8-CCMP\\Y2017\\M04\\CCMP_RT_Wind_Analysis_20170411_V02.1_L3.0_RSS.nc\n"
     ]
    },
    {
     "name": "stderr",
     "output_type": "stream",
     "text": [
      "C:\\Users\\zl59\\AppData\\Local\\Temp\\ipykernel_15848\\6465438.py:100: RuntimeWarning: Mean of empty slice\n",
      "  wnd = np.nanmean(np.sqrt(u_2**2 + v_2**2), axis=0, keepdims=True)\n",
      "C:\\Users\\zl59\\AppData\\Local\\Temp\\ipykernel_15848\\6465438.py:101: RuntimeWarning: Mean of empty slice\n",
      "  u = np.nanmean(u_2, axis=0, keepdims=True)\n",
      "C:\\Users\\zl59\\AppData\\Local\\Temp\\ipykernel_15848\\6465438.py:102: RuntimeWarning: Mean of empty slice\n",
      "  v = np.nanmean(v_2, axis=0, keepdims=True)\n"
     ]
    },
    {
     "name": "stdout",
     "output_type": "stream",
     "text": [
      "\t E:\\2-Data\\8-CCMP\\Y2017\\M04\\CCMP_RT_Wind_Analysis_20170412_V02.1_L3.0_RSS.nc\n"
     ]
    },
    {
     "name": "stderr",
     "output_type": "stream",
     "text": [
      "C:\\Users\\zl59\\AppData\\Local\\Temp\\ipykernel_15848\\6465438.py:100: RuntimeWarning: Mean of empty slice\n",
      "  wnd = np.nanmean(np.sqrt(u_2**2 + v_2**2), axis=0, keepdims=True)\n",
      "C:\\Users\\zl59\\AppData\\Local\\Temp\\ipykernel_15848\\6465438.py:101: RuntimeWarning: Mean of empty slice\n",
      "  u = np.nanmean(u_2, axis=0, keepdims=True)\n",
      "C:\\Users\\zl59\\AppData\\Local\\Temp\\ipykernel_15848\\6465438.py:102: RuntimeWarning: Mean of empty slice\n",
      "  v = np.nanmean(v_2, axis=0, keepdims=True)\n"
     ]
    },
    {
     "name": "stdout",
     "output_type": "stream",
     "text": [
      "\t E:\\2-Data\\8-CCMP\\Y2017\\M04\\CCMP_RT_Wind_Analysis_20170413_V02.1_L3.0_RSS.nc\n"
     ]
    },
    {
     "name": "stderr",
     "output_type": "stream",
     "text": [
      "C:\\Users\\zl59\\AppData\\Local\\Temp\\ipykernel_15848\\6465438.py:100: RuntimeWarning: Mean of empty slice\n",
      "  wnd = np.nanmean(np.sqrt(u_2**2 + v_2**2), axis=0, keepdims=True)\n",
      "C:\\Users\\zl59\\AppData\\Local\\Temp\\ipykernel_15848\\6465438.py:101: RuntimeWarning: Mean of empty slice\n",
      "  u = np.nanmean(u_2, axis=0, keepdims=True)\n",
      "C:\\Users\\zl59\\AppData\\Local\\Temp\\ipykernel_15848\\6465438.py:102: RuntimeWarning: Mean of empty slice\n",
      "  v = np.nanmean(v_2, axis=0, keepdims=True)\n"
     ]
    },
    {
     "name": "stdout",
     "output_type": "stream",
     "text": [
      "\t E:\\2-Data\\8-CCMP\\Y2017\\M04\\CCMP_RT_Wind_Analysis_20170414_V02.1_L3.0_RSS.nc\n"
     ]
    },
    {
     "name": "stderr",
     "output_type": "stream",
     "text": [
      "C:\\Users\\zl59\\AppData\\Local\\Temp\\ipykernel_15848\\6465438.py:100: RuntimeWarning: Mean of empty slice\n",
      "  wnd = np.nanmean(np.sqrt(u_2**2 + v_2**2), axis=0, keepdims=True)\n",
      "C:\\Users\\zl59\\AppData\\Local\\Temp\\ipykernel_15848\\6465438.py:101: RuntimeWarning: Mean of empty slice\n",
      "  u = np.nanmean(u_2, axis=0, keepdims=True)\n",
      "C:\\Users\\zl59\\AppData\\Local\\Temp\\ipykernel_15848\\6465438.py:102: RuntimeWarning: Mean of empty slice\n",
      "  v = np.nanmean(v_2, axis=0, keepdims=True)\n"
     ]
    },
    {
     "name": "stdout",
     "output_type": "stream",
     "text": [
      "Fail in calculation...\n",
      "2017 105\n",
      "\tYear 2017 ; Begin day 105 ; End day 112\n",
      "\tLoad chl...\n",
      "E:\\2-Data\\5-CHL\\chl.2017105.hdf.npy\n",
      "\t (2160, 4320)\n",
      "\tLoad chl...\n",
      "E:\\2-Data\\5-CHL\\chl.2017097.hdf.npy\n",
      "\t (2160, 4320)\n",
      "\tLoad chl...\n",
      "E:\\2-Data\\5-CHL\\chl.2017113.hdf.npy\n",
      "\t (2160, 4320)\n",
      "\tLoad par...\n",
      "E:\\2-Data\\7-PAR_8D\\par.2017105.hdf.npy\n",
      "\t (2160, 4320)\n",
      "\tLoad par...\n",
      "E:\\2-Data\\7-PAR_8D\\par.2017097.hdf.npy\n",
      "\t (2160, 4320)\n",
      "\tLoad par...\n",
      "E:\\2-Data\\7-PAR_8D\\par.2017113.hdf.npy\n",
      "\t (2160, 4320)\n",
      "\tLoad sst...\n",
      "E:\\2-Data\\13-SST_8D\\sst.2017105.hdf.npy\n",
      "\t (2160, 4320)\n",
      "\tLoad sst...\n",
      "E:\\2-Data\\13-SST_8D\\sst.2017097.hdf.npy\n",
      "\t (2160, 4320)\n",
      "\tLoad sst...\n",
      "E:\\2-Data\\13-SST_8D\\sst.2017113.hdf.npy\n",
      "\t (2160, 4320)\n",
      "\tLoad Wind data...\n",
      "\t E:\\2-Data\\8-CCMP\\Y2017\\M04\\CCMP_RT_Wind_Analysis_20170407_V02.1_L3.0_RSS.nc\n"
     ]
    },
    {
     "name": "stderr",
     "output_type": "stream",
     "text": [
      "C:\\Users\\zl59\\AppData\\Local\\Temp\\ipykernel_15848\\6465438.py:100: RuntimeWarning: Mean of empty slice\n",
      "  wnd = np.nanmean(np.sqrt(u_2**2 + v_2**2), axis=0, keepdims=True)\n",
      "C:\\Users\\zl59\\AppData\\Local\\Temp\\ipykernel_15848\\6465438.py:101: RuntimeWarning: Mean of empty slice\n",
      "  u = np.nanmean(u_2, axis=0, keepdims=True)\n",
      "C:\\Users\\zl59\\AppData\\Local\\Temp\\ipykernel_15848\\6465438.py:102: RuntimeWarning: Mean of empty slice\n",
      "  v = np.nanmean(v_2, axis=0, keepdims=True)\n"
     ]
    },
    {
     "name": "stdout",
     "output_type": "stream",
     "text": [
      "\t E:\\2-Data\\8-CCMP\\Y2017\\M04\\CCMP_RT_Wind_Analysis_20170408_V02.1_L3.0_RSS.nc\n"
     ]
    },
    {
     "name": "stderr",
     "output_type": "stream",
     "text": [
      "C:\\Users\\zl59\\AppData\\Local\\Temp\\ipykernel_15848\\6465438.py:100: RuntimeWarning: Mean of empty slice\n",
      "  wnd = np.nanmean(np.sqrt(u_2**2 + v_2**2), axis=0, keepdims=True)\n",
      "C:\\Users\\zl59\\AppData\\Local\\Temp\\ipykernel_15848\\6465438.py:101: RuntimeWarning: Mean of empty slice\n",
      "  u = np.nanmean(u_2, axis=0, keepdims=True)\n",
      "C:\\Users\\zl59\\AppData\\Local\\Temp\\ipykernel_15848\\6465438.py:102: RuntimeWarning: Mean of empty slice\n",
      "  v = np.nanmean(v_2, axis=0, keepdims=True)\n"
     ]
    },
    {
     "name": "stdout",
     "output_type": "stream",
     "text": [
      "\t E:\\2-Data\\8-CCMP\\Y2017\\M04\\CCMP_RT_Wind_Analysis_20170409_V02.1_L3.0_RSS.nc\n"
     ]
    },
    {
     "name": "stderr",
     "output_type": "stream",
     "text": [
      "C:\\Users\\zl59\\AppData\\Local\\Temp\\ipykernel_15848\\6465438.py:100: RuntimeWarning: Mean of empty slice\n",
      "  wnd = np.nanmean(np.sqrt(u_2**2 + v_2**2), axis=0, keepdims=True)\n",
      "C:\\Users\\zl59\\AppData\\Local\\Temp\\ipykernel_15848\\6465438.py:101: RuntimeWarning: Mean of empty slice\n",
      "  u = np.nanmean(u_2, axis=0, keepdims=True)\n",
      "C:\\Users\\zl59\\AppData\\Local\\Temp\\ipykernel_15848\\6465438.py:102: RuntimeWarning: Mean of empty slice\n",
      "  v = np.nanmean(v_2, axis=0, keepdims=True)\n"
     ]
    },
    {
     "name": "stdout",
     "output_type": "stream",
     "text": [
      "\t E:\\2-Data\\8-CCMP\\Y2017\\M04\\CCMP_RT_Wind_Analysis_20170411_V02.1_L3.0_RSS.nc\n"
     ]
    },
    {
     "name": "stderr",
     "output_type": "stream",
     "text": [
      "C:\\Users\\zl59\\AppData\\Local\\Temp\\ipykernel_15848\\6465438.py:100: RuntimeWarning: Mean of empty slice\n",
      "  wnd = np.nanmean(np.sqrt(u_2**2 + v_2**2), axis=0, keepdims=True)\n",
      "C:\\Users\\zl59\\AppData\\Local\\Temp\\ipykernel_15848\\6465438.py:101: RuntimeWarning: Mean of empty slice\n",
      "  u = np.nanmean(u_2, axis=0, keepdims=True)\n",
      "C:\\Users\\zl59\\AppData\\Local\\Temp\\ipykernel_15848\\6465438.py:102: RuntimeWarning: Mean of empty slice\n",
      "  v = np.nanmean(v_2, axis=0, keepdims=True)\n"
     ]
    },
    {
     "name": "stdout",
     "output_type": "stream",
     "text": [
      "\t E:\\2-Data\\8-CCMP\\Y2017\\M04\\CCMP_RT_Wind_Analysis_20170412_V02.1_L3.0_RSS.nc\n"
     ]
    },
    {
     "name": "stderr",
     "output_type": "stream",
     "text": [
      "C:\\Users\\zl59\\AppData\\Local\\Temp\\ipykernel_15848\\6465438.py:100: RuntimeWarning: Mean of empty slice\n",
      "  wnd = np.nanmean(np.sqrt(u_2**2 + v_2**2), axis=0, keepdims=True)\n",
      "C:\\Users\\zl59\\AppData\\Local\\Temp\\ipykernel_15848\\6465438.py:101: RuntimeWarning: Mean of empty slice\n",
      "  u = np.nanmean(u_2, axis=0, keepdims=True)\n",
      "C:\\Users\\zl59\\AppData\\Local\\Temp\\ipykernel_15848\\6465438.py:102: RuntimeWarning: Mean of empty slice\n",
      "  v = np.nanmean(v_2, axis=0, keepdims=True)\n"
     ]
    },
    {
     "name": "stdout",
     "output_type": "stream",
     "text": [
      "\t E:\\2-Data\\8-CCMP\\Y2017\\M04\\CCMP_RT_Wind_Analysis_20170413_V02.1_L3.0_RSS.nc\n"
     ]
    },
    {
     "name": "stderr",
     "output_type": "stream",
     "text": [
      "C:\\Users\\zl59\\AppData\\Local\\Temp\\ipykernel_15848\\6465438.py:100: RuntimeWarning: Mean of empty slice\n",
      "  wnd = np.nanmean(np.sqrt(u_2**2 + v_2**2), axis=0, keepdims=True)\n",
      "C:\\Users\\zl59\\AppData\\Local\\Temp\\ipykernel_15848\\6465438.py:101: RuntimeWarning: Mean of empty slice\n",
      "  u = np.nanmean(u_2, axis=0, keepdims=True)\n",
      "C:\\Users\\zl59\\AppData\\Local\\Temp\\ipykernel_15848\\6465438.py:102: RuntimeWarning: Mean of empty slice\n",
      "  v = np.nanmean(v_2, axis=0, keepdims=True)\n"
     ]
    },
    {
     "name": "stdout",
     "output_type": "stream",
     "text": [
      "\t E:\\2-Data\\8-CCMP\\Y2017\\M04\\CCMP_RT_Wind_Analysis_20170414_V02.1_L3.0_RSS.nc\n"
     ]
    },
    {
     "name": "stderr",
     "output_type": "stream",
     "text": [
      "C:\\Users\\zl59\\AppData\\Local\\Temp\\ipykernel_15848\\6465438.py:100: RuntimeWarning: Mean of empty slice\n",
      "  wnd = np.nanmean(np.sqrt(u_2**2 + v_2**2), axis=0, keepdims=True)\n",
      "C:\\Users\\zl59\\AppData\\Local\\Temp\\ipykernel_15848\\6465438.py:101: RuntimeWarning: Mean of empty slice\n",
      "  u = np.nanmean(u_2, axis=0, keepdims=True)\n",
      "C:\\Users\\zl59\\AppData\\Local\\Temp\\ipykernel_15848\\6465438.py:102: RuntimeWarning: Mean of empty slice\n",
      "  v = np.nanmean(v_2, axis=0, keepdims=True)\n"
     ]
    },
    {
     "name": "stdout",
     "output_type": "stream",
     "text": [
      "\t E:\\2-Data\\8-CCMP\\Y2017\\M04\\CCMP_RT_Wind_Analysis_20170415_V02.1_L3.0_RSS.nc\n"
     ]
    },
    {
     "name": "stderr",
     "output_type": "stream",
     "text": [
      "C:\\Users\\zl59\\AppData\\Local\\Temp\\ipykernel_15848\\6465438.py:100: RuntimeWarning: Mean of empty slice\n",
      "  wnd = np.nanmean(np.sqrt(u_2**2 + v_2**2), axis=0, keepdims=True)\n",
      "C:\\Users\\zl59\\AppData\\Local\\Temp\\ipykernel_15848\\6465438.py:101: RuntimeWarning: Mean of empty slice\n",
      "  u = np.nanmean(u_2, axis=0, keepdims=True)\n",
      "C:\\Users\\zl59\\AppData\\Local\\Temp\\ipykernel_15848\\6465438.py:102: RuntimeWarning: Mean of empty slice\n",
      "  v = np.nanmean(v_2, axis=0, keepdims=True)\n"
     ]
    },
    {
     "name": "stdout",
     "output_type": "stream",
     "text": [
      "\t E:\\2-Data\\8-CCMP\\Y2017\\M04\\CCMP_RT_Wind_Analysis_20170416_V02.1_L3.0_RSS.nc\n"
     ]
    },
    {
     "name": "stderr",
     "output_type": "stream",
     "text": [
      "C:\\Users\\zl59\\AppData\\Local\\Temp\\ipykernel_15848\\6465438.py:100: RuntimeWarning: Mean of empty slice\n",
      "  wnd = np.nanmean(np.sqrt(u_2**2 + v_2**2), axis=0, keepdims=True)\n",
      "C:\\Users\\zl59\\AppData\\Local\\Temp\\ipykernel_15848\\6465438.py:101: RuntimeWarning: Mean of empty slice\n",
      "  u = np.nanmean(u_2, axis=0, keepdims=True)\n",
      "C:\\Users\\zl59\\AppData\\Local\\Temp\\ipykernel_15848\\6465438.py:102: RuntimeWarning: Mean of empty slice\n",
      "  v = np.nanmean(v_2, axis=0, keepdims=True)\n"
     ]
    },
    {
     "name": "stdout",
     "output_type": "stream",
     "text": [
      "\t E:\\2-Data\\8-CCMP\\Y2017\\M04\\CCMP_RT_Wind_Analysis_20170417_V02.1_L3.0_RSS.nc\n"
     ]
    },
    {
     "name": "stderr",
     "output_type": "stream",
     "text": [
      "C:\\Users\\zl59\\AppData\\Local\\Temp\\ipykernel_15848\\6465438.py:100: RuntimeWarning: Mean of empty slice\n",
      "  wnd = np.nanmean(np.sqrt(u_2**2 + v_2**2), axis=0, keepdims=True)\n",
      "C:\\Users\\zl59\\AppData\\Local\\Temp\\ipykernel_15848\\6465438.py:101: RuntimeWarning: Mean of empty slice\n",
      "  u = np.nanmean(u_2, axis=0, keepdims=True)\n",
      "C:\\Users\\zl59\\AppData\\Local\\Temp\\ipykernel_15848\\6465438.py:102: RuntimeWarning: Mean of empty slice\n",
      "  v = np.nanmean(v_2, axis=0, keepdims=True)\n"
     ]
    },
    {
     "name": "stdout",
     "output_type": "stream",
     "text": [
      "\t E:\\2-Data\\8-CCMP\\Y2017\\M04\\CCMP_RT_Wind_Analysis_20170418_V02.1_L3.0_RSS.nc\n"
     ]
    },
    {
     "name": "stderr",
     "output_type": "stream",
     "text": [
      "C:\\Users\\zl59\\AppData\\Local\\Temp\\ipykernel_15848\\6465438.py:100: RuntimeWarning: Mean of empty slice\n",
      "  wnd = np.nanmean(np.sqrt(u_2**2 + v_2**2), axis=0, keepdims=True)\n",
      "C:\\Users\\zl59\\AppData\\Local\\Temp\\ipykernel_15848\\6465438.py:101: RuntimeWarning: Mean of empty slice\n",
      "  u = np.nanmean(u_2, axis=0, keepdims=True)\n",
      "C:\\Users\\zl59\\AppData\\Local\\Temp\\ipykernel_15848\\6465438.py:102: RuntimeWarning: Mean of empty slice\n",
      "  v = np.nanmean(v_2, axis=0, keepdims=True)\n"
     ]
    },
    {
     "name": "stdout",
     "output_type": "stream",
     "text": [
      "\t E:\\2-Data\\8-CCMP\\Y2017\\M04\\CCMP_RT_Wind_Analysis_20170419_V02.1_L3.0_RSS.nc\n"
     ]
    },
    {
     "name": "stderr",
     "output_type": "stream",
     "text": [
      "C:\\Users\\zl59\\AppData\\Local\\Temp\\ipykernel_15848\\6465438.py:100: RuntimeWarning: Mean of empty slice\n",
      "  wnd = np.nanmean(np.sqrt(u_2**2 + v_2**2), axis=0, keepdims=True)\n",
      "C:\\Users\\zl59\\AppData\\Local\\Temp\\ipykernel_15848\\6465438.py:101: RuntimeWarning: Mean of empty slice\n",
      "  u = np.nanmean(u_2, axis=0, keepdims=True)\n",
      "C:\\Users\\zl59\\AppData\\Local\\Temp\\ipykernel_15848\\6465438.py:102: RuntimeWarning: Mean of empty slice\n",
      "  v = np.nanmean(v_2, axis=0, keepdims=True)\n"
     ]
    },
    {
     "name": "stdout",
     "output_type": "stream",
     "text": [
      "\t E:\\2-Data\\8-CCMP\\Y2017\\M04\\CCMP_RT_Wind_Analysis_20170420_V02.1_L3.0_RSS.nc\n"
     ]
    },
    {
     "name": "stderr",
     "output_type": "stream",
     "text": [
      "C:\\Users\\zl59\\AppData\\Local\\Temp\\ipykernel_15848\\6465438.py:100: RuntimeWarning: Mean of empty slice\n",
      "  wnd = np.nanmean(np.sqrt(u_2**2 + v_2**2), axis=0, keepdims=True)\n",
      "C:\\Users\\zl59\\AppData\\Local\\Temp\\ipykernel_15848\\6465438.py:101: RuntimeWarning: Mean of empty slice\n",
      "  u = np.nanmean(u_2, axis=0, keepdims=True)\n",
      "C:\\Users\\zl59\\AppData\\Local\\Temp\\ipykernel_15848\\6465438.py:102: RuntimeWarning: Mean of empty slice\n",
      "  v = np.nanmean(v_2, axis=0, keepdims=True)\n"
     ]
    },
    {
     "name": "stdout",
     "output_type": "stream",
     "text": [
      "\t E:\\2-Data\\8-CCMP\\Y2017\\M04\\CCMP_RT_Wind_Analysis_20170421_V02.1_L3.0_RSS.nc\n"
     ]
    },
    {
     "name": "stderr",
     "output_type": "stream",
     "text": [
      "C:\\Users\\zl59\\AppData\\Local\\Temp\\ipykernel_15848\\6465438.py:100: RuntimeWarning: Mean of empty slice\n",
      "  wnd = np.nanmean(np.sqrt(u_2**2 + v_2**2), axis=0, keepdims=True)\n",
      "C:\\Users\\zl59\\AppData\\Local\\Temp\\ipykernel_15848\\6465438.py:101: RuntimeWarning: Mean of empty slice\n",
      "  u = np.nanmean(u_2, axis=0, keepdims=True)\n",
      "C:\\Users\\zl59\\AppData\\Local\\Temp\\ipykernel_15848\\6465438.py:102: RuntimeWarning: Mean of empty slice\n",
      "  v = np.nanmean(v_2, axis=0, keepdims=True)\n"
     ]
    },
    {
     "name": "stdout",
     "output_type": "stream",
     "text": [
      "\t E:\\2-Data\\8-CCMP\\Y2017\\M04\\CCMP_RT_Wind_Analysis_20170422_V02.1_L3.0_RSS.nc\n"
     ]
    },
    {
     "name": "stderr",
     "output_type": "stream",
     "text": [
      "C:\\Users\\zl59\\AppData\\Local\\Temp\\ipykernel_15848\\6465438.py:100: RuntimeWarning: Mean of empty slice\n",
      "  wnd = np.nanmean(np.sqrt(u_2**2 + v_2**2), axis=0, keepdims=True)\n",
      "C:\\Users\\zl59\\AppData\\Local\\Temp\\ipykernel_15848\\6465438.py:101: RuntimeWarning: Mean of empty slice\n",
      "  u = np.nanmean(u_2, axis=0, keepdims=True)\n",
      "C:\\Users\\zl59\\AppData\\Local\\Temp\\ipykernel_15848\\6465438.py:102: RuntimeWarning: Mean of empty slice\n",
      "  v = np.nanmean(v_2, axis=0, keepdims=True)\n"
     ]
    },
    {
     "name": "stdout",
     "output_type": "stream",
     "text": [
      "Fail in calculation...\n",
      "2017 145\n",
      "\tYear 2017 ; Begin day 145 ; End day 152\n",
      "\tLoad chl...\n",
      "E:\\2-Data\\5-CHL\\chl.2017145.hdf.npy\n",
      "\t (2160, 4320)\n",
      "\tLoad chl...\n",
      "E:\\2-Data\\5-CHL\\chl.2017137.hdf.npy\n",
      "\t (2160, 4320)\n",
      "\tLoad chl...\n",
      "E:\\2-Data\\5-CHL\\chl.2017153.hdf.npy\n",
      "\t (2160, 4320)\n",
      "\tLoad par...\n",
      "E:\\2-Data\\7-PAR_8D\\par.2017145.hdf.npy\n",
      "\t (2160, 4320)\n",
      "\tLoad par...\n",
      "E:\\2-Data\\7-PAR_8D\\par.2017137.hdf.npy\n",
      "\t (2160, 4320)\n",
      "\tLoad par...\n",
      "E:\\2-Data\\7-PAR_8D\\par.2017153.hdf.npy\n",
      "\t (2160, 4320)\n",
      "\tLoad sst...\n",
      "E:\\2-Data\\13-SST_8D\\sst.2017145.hdf.npy\n",
      "\t (2160, 4320)\n",
      "\tLoad sst...\n",
      "E:\\2-Data\\13-SST_8D\\sst.2017137.hdf.npy\n",
      "\t (2160, 4320)\n",
      "\tLoad sst...\n",
      "E:\\2-Data\\13-SST_8D\\sst.2017153.hdf.npy\n",
      "\t (2160, 4320)\n",
      "\tLoad Wind data...\n",
      "\t E:\\2-Data\\8-CCMP\\Y2017\\M05\\CCMP_RT_Wind_Analysis_20170517_V02.1_L3.0_RSS.nc\n"
     ]
    },
    {
     "name": "stderr",
     "output_type": "stream",
     "text": [
      "C:\\Users\\zl59\\AppData\\Local\\Temp\\ipykernel_15848\\6465438.py:100: RuntimeWarning: Mean of empty slice\n",
      "  wnd = np.nanmean(np.sqrt(u_2**2 + v_2**2), axis=0, keepdims=True)\n",
      "C:\\Users\\zl59\\AppData\\Local\\Temp\\ipykernel_15848\\6465438.py:101: RuntimeWarning: Mean of empty slice\n",
      "  u = np.nanmean(u_2, axis=0, keepdims=True)\n",
      "C:\\Users\\zl59\\AppData\\Local\\Temp\\ipykernel_15848\\6465438.py:102: RuntimeWarning: Mean of empty slice\n",
      "  v = np.nanmean(v_2, axis=0, keepdims=True)\n"
     ]
    },
    {
     "name": "stdout",
     "output_type": "stream",
     "text": [
      "\t E:\\2-Data\\8-CCMP\\Y2017\\M05\\CCMP_RT_Wind_Analysis_20170518_V02.1_L3.0_RSS.nc\n"
     ]
    },
    {
     "name": "stderr",
     "output_type": "stream",
     "text": [
      "C:\\Users\\zl59\\AppData\\Local\\Temp\\ipykernel_15848\\6465438.py:100: RuntimeWarning: Mean of empty slice\n",
      "  wnd = np.nanmean(np.sqrt(u_2**2 + v_2**2), axis=0, keepdims=True)\n",
      "C:\\Users\\zl59\\AppData\\Local\\Temp\\ipykernel_15848\\6465438.py:101: RuntimeWarning: Mean of empty slice\n",
      "  u = np.nanmean(u_2, axis=0, keepdims=True)\n",
      "C:\\Users\\zl59\\AppData\\Local\\Temp\\ipykernel_15848\\6465438.py:102: RuntimeWarning: Mean of empty slice\n",
      "  v = np.nanmean(v_2, axis=0, keepdims=True)\n"
     ]
    },
    {
     "name": "stdout",
     "output_type": "stream",
     "text": [
      "\t E:\\2-Data\\8-CCMP\\Y2017\\M05\\CCMP_RT_Wind_Analysis_20170519_V02.1_L3.0_RSS.nc\n"
     ]
    },
    {
     "name": "stderr",
     "output_type": "stream",
     "text": [
      "C:\\Users\\zl59\\AppData\\Local\\Temp\\ipykernel_15848\\6465438.py:100: RuntimeWarning: Mean of empty slice\n",
      "  wnd = np.nanmean(np.sqrt(u_2**2 + v_2**2), axis=0, keepdims=True)\n",
      "C:\\Users\\zl59\\AppData\\Local\\Temp\\ipykernel_15848\\6465438.py:101: RuntimeWarning: Mean of empty slice\n",
      "  u = np.nanmean(u_2, axis=0, keepdims=True)\n",
      "C:\\Users\\zl59\\AppData\\Local\\Temp\\ipykernel_15848\\6465438.py:102: RuntimeWarning: Mean of empty slice\n",
      "  v = np.nanmean(v_2, axis=0, keepdims=True)\n"
     ]
    },
    {
     "name": "stdout",
     "output_type": "stream",
     "text": [
      "\t E:\\2-Data\\8-CCMP\\Y2017\\M05\\CCMP_RT_Wind_Analysis_20170520_V02.1_L3.0_RSS.nc\n"
     ]
    },
    {
     "name": "stderr",
     "output_type": "stream",
     "text": [
      "C:\\Users\\zl59\\AppData\\Local\\Temp\\ipykernel_15848\\6465438.py:100: RuntimeWarning: Mean of empty slice\n",
      "  wnd = np.nanmean(np.sqrt(u_2**2 + v_2**2), axis=0, keepdims=True)\n",
      "C:\\Users\\zl59\\AppData\\Local\\Temp\\ipykernel_15848\\6465438.py:101: RuntimeWarning: Mean of empty slice\n",
      "  u = np.nanmean(u_2, axis=0, keepdims=True)\n",
      "C:\\Users\\zl59\\AppData\\Local\\Temp\\ipykernel_15848\\6465438.py:102: RuntimeWarning: Mean of empty slice\n",
      "  v = np.nanmean(v_2, axis=0, keepdims=True)\n"
     ]
    },
    {
     "name": "stdout",
     "output_type": "stream",
     "text": [
      "\t E:\\2-Data\\8-CCMP\\Y2017\\M05\\CCMP_RT_Wind_Analysis_20170521_V02.1_L3.0_RSS.nc\n"
     ]
    },
    {
     "name": "stderr",
     "output_type": "stream",
     "text": [
      "C:\\Users\\zl59\\AppData\\Local\\Temp\\ipykernel_15848\\6465438.py:100: RuntimeWarning: Mean of empty slice\n",
      "  wnd = np.nanmean(np.sqrt(u_2**2 + v_2**2), axis=0, keepdims=True)\n",
      "C:\\Users\\zl59\\AppData\\Local\\Temp\\ipykernel_15848\\6465438.py:101: RuntimeWarning: Mean of empty slice\n",
      "  u = np.nanmean(u_2, axis=0, keepdims=True)\n",
      "C:\\Users\\zl59\\AppData\\Local\\Temp\\ipykernel_15848\\6465438.py:102: RuntimeWarning: Mean of empty slice\n",
      "  v = np.nanmean(v_2, axis=0, keepdims=True)\n"
     ]
    },
    {
     "name": "stdout",
     "output_type": "stream",
     "text": [
      "\t E:\\2-Data\\8-CCMP\\Y2017\\M05\\CCMP_RT_Wind_Analysis_20170522_V02.1_L3.0_RSS.nc\n"
     ]
    },
    {
     "name": "stderr",
     "output_type": "stream",
     "text": [
      "C:\\Users\\zl59\\AppData\\Local\\Temp\\ipykernel_15848\\6465438.py:100: RuntimeWarning: Mean of empty slice\n",
      "  wnd = np.nanmean(np.sqrt(u_2**2 + v_2**2), axis=0, keepdims=True)\n",
      "C:\\Users\\zl59\\AppData\\Local\\Temp\\ipykernel_15848\\6465438.py:101: RuntimeWarning: Mean of empty slice\n",
      "  u = np.nanmean(u_2, axis=0, keepdims=True)\n",
      "C:\\Users\\zl59\\AppData\\Local\\Temp\\ipykernel_15848\\6465438.py:102: RuntimeWarning: Mean of empty slice\n",
      "  v = np.nanmean(v_2, axis=0, keepdims=True)\n"
     ]
    },
    {
     "name": "stdout",
     "output_type": "stream",
     "text": [
      "\t E:\\2-Data\\8-CCMP\\Y2017\\M05\\CCMP_RT_Wind_Analysis_20170523_V02.1_L3.0_RSS.nc\n"
     ]
    },
    {
     "name": "stderr",
     "output_type": "stream",
     "text": [
      "C:\\Users\\zl59\\AppData\\Local\\Temp\\ipykernel_15848\\6465438.py:100: RuntimeWarning: Mean of empty slice\n",
      "  wnd = np.nanmean(np.sqrt(u_2**2 + v_2**2), axis=0, keepdims=True)\n",
      "C:\\Users\\zl59\\AppData\\Local\\Temp\\ipykernel_15848\\6465438.py:101: RuntimeWarning: Mean of empty slice\n",
      "  u = np.nanmean(u_2, axis=0, keepdims=True)\n",
      "C:\\Users\\zl59\\AppData\\Local\\Temp\\ipykernel_15848\\6465438.py:102: RuntimeWarning: Mean of empty slice\n",
      "  v = np.nanmean(v_2, axis=0, keepdims=True)\n"
     ]
    },
    {
     "name": "stdout",
     "output_type": "stream",
     "text": [
      "\t E:\\2-Data\\8-CCMP\\Y2017\\M05\\CCMP_RT_Wind_Analysis_20170524_V02.1_L3.0_RSS.nc\n"
     ]
    },
    {
     "name": "stderr",
     "output_type": "stream",
     "text": [
      "C:\\Users\\zl59\\AppData\\Local\\Temp\\ipykernel_15848\\6465438.py:100: RuntimeWarning: Mean of empty slice\n",
      "  wnd = np.nanmean(np.sqrt(u_2**2 + v_2**2), axis=0, keepdims=True)\n",
      "C:\\Users\\zl59\\AppData\\Local\\Temp\\ipykernel_15848\\6465438.py:101: RuntimeWarning: Mean of empty slice\n",
      "  u = np.nanmean(u_2, axis=0, keepdims=True)\n",
      "C:\\Users\\zl59\\AppData\\Local\\Temp\\ipykernel_15848\\6465438.py:102: RuntimeWarning: Mean of empty slice\n",
      "  v = np.nanmean(v_2, axis=0, keepdims=True)\n"
     ]
    },
    {
     "name": "stdout",
     "output_type": "stream",
     "text": [
      "\t E:\\2-Data\\8-CCMP\\Y2017\\M05\\CCMP_RT_Wind_Analysis_20170527_V02.1_L3.0_RSS.nc\n"
     ]
    },
    {
     "name": "stderr",
     "output_type": "stream",
     "text": [
      "C:\\Users\\zl59\\AppData\\Local\\Temp\\ipykernel_15848\\6465438.py:100: RuntimeWarning: Mean of empty slice\n",
      "  wnd = np.nanmean(np.sqrt(u_2**2 + v_2**2), axis=0, keepdims=True)\n",
      "C:\\Users\\zl59\\AppData\\Local\\Temp\\ipykernel_15848\\6465438.py:101: RuntimeWarning: Mean of empty slice\n",
      "  u = np.nanmean(u_2, axis=0, keepdims=True)\n",
      "C:\\Users\\zl59\\AppData\\Local\\Temp\\ipykernel_15848\\6465438.py:102: RuntimeWarning: Mean of empty slice\n",
      "  v = np.nanmean(v_2, axis=0, keepdims=True)\n"
     ]
    },
    {
     "name": "stdout",
     "output_type": "stream",
     "text": [
      "\t E:\\2-Data\\8-CCMP\\Y2017\\M05\\CCMP_RT_Wind_Analysis_20170528_V02.1_L3.0_RSS.nc\n"
     ]
    },
    {
     "name": "stderr",
     "output_type": "stream",
     "text": [
      "C:\\Users\\zl59\\AppData\\Local\\Temp\\ipykernel_15848\\6465438.py:100: RuntimeWarning: Mean of empty slice\n",
      "  wnd = np.nanmean(np.sqrt(u_2**2 + v_2**2), axis=0, keepdims=True)\n",
      "C:\\Users\\zl59\\AppData\\Local\\Temp\\ipykernel_15848\\6465438.py:101: RuntimeWarning: Mean of empty slice\n",
      "  u = np.nanmean(u_2, axis=0, keepdims=True)\n",
      "C:\\Users\\zl59\\AppData\\Local\\Temp\\ipykernel_15848\\6465438.py:102: RuntimeWarning: Mean of empty slice\n",
      "  v = np.nanmean(v_2, axis=0, keepdims=True)\n"
     ]
    },
    {
     "name": "stdout",
     "output_type": "stream",
     "text": [
      "\t E:\\2-Data\\8-CCMP\\Y2017\\M05\\CCMP_RT_Wind_Analysis_20170529_V02.1_L3.0_RSS.nc\n"
     ]
    },
    {
     "name": "stderr",
     "output_type": "stream",
     "text": [
      "C:\\Users\\zl59\\AppData\\Local\\Temp\\ipykernel_15848\\6465438.py:100: RuntimeWarning: Mean of empty slice\n",
      "  wnd = np.nanmean(np.sqrt(u_2**2 + v_2**2), axis=0, keepdims=True)\n",
      "C:\\Users\\zl59\\AppData\\Local\\Temp\\ipykernel_15848\\6465438.py:101: RuntimeWarning: Mean of empty slice\n",
      "  u = np.nanmean(u_2, axis=0, keepdims=True)\n",
      "C:\\Users\\zl59\\AppData\\Local\\Temp\\ipykernel_15848\\6465438.py:102: RuntimeWarning: Mean of empty slice\n",
      "  v = np.nanmean(v_2, axis=0, keepdims=True)\n"
     ]
    },
    {
     "name": "stdout",
     "output_type": "stream",
     "text": [
      "\t E:\\2-Data\\8-CCMP\\Y2017\\M05\\CCMP_RT_Wind_Analysis_20170530_V02.1_L3.0_RSS.nc\n"
     ]
    },
    {
     "name": "stderr",
     "output_type": "stream",
     "text": [
      "C:\\Users\\zl59\\AppData\\Local\\Temp\\ipykernel_15848\\6465438.py:100: RuntimeWarning: Mean of empty slice\n",
      "  wnd = np.nanmean(np.sqrt(u_2**2 + v_2**2), axis=0, keepdims=True)\n",
      "C:\\Users\\zl59\\AppData\\Local\\Temp\\ipykernel_15848\\6465438.py:101: RuntimeWarning: Mean of empty slice\n",
      "  u = np.nanmean(u_2, axis=0, keepdims=True)\n",
      "C:\\Users\\zl59\\AppData\\Local\\Temp\\ipykernel_15848\\6465438.py:102: RuntimeWarning: Mean of empty slice\n",
      "  v = np.nanmean(v_2, axis=0, keepdims=True)\n"
     ]
    },
    {
     "name": "stdout",
     "output_type": "stream",
     "text": [
      "\t E:\\2-Data\\8-CCMP\\Y2017\\M05\\CCMP_RT_Wind_Analysis_20170531_V02.1_L3.0_RSS.nc\n"
     ]
    },
    {
     "name": "stderr",
     "output_type": "stream",
     "text": [
      "C:\\Users\\zl59\\AppData\\Local\\Temp\\ipykernel_15848\\6465438.py:100: RuntimeWarning: Mean of empty slice\n",
      "  wnd = np.nanmean(np.sqrt(u_2**2 + v_2**2), axis=0, keepdims=True)\n",
      "C:\\Users\\zl59\\AppData\\Local\\Temp\\ipykernel_15848\\6465438.py:101: RuntimeWarning: Mean of empty slice\n",
      "  u = np.nanmean(u_2, axis=0, keepdims=True)\n",
      "C:\\Users\\zl59\\AppData\\Local\\Temp\\ipykernel_15848\\6465438.py:102: RuntimeWarning: Mean of empty slice\n",
      "  v = np.nanmean(v_2, axis=0, keepdims=True)\n"
     ]
    },
    {
     "name": "stdout",
     "output_type": "stream",
     "text": [
      "\t E:\\2-Data\\8-CCMP\\Y2017\\M06\\CCMP_RT_Wind_Analysis_20170601_V02.1_L3.0_RSS.nc\n"
     ]
    },
    {
     "name": "stderr",
     "output_type": "stream",
     "text": [
      "C:\\Users\\zl59\\AppData\\Local\\Temp\\ipykernel_15848\\6465438.py:100: RuntimeWarning: Mean of empty slice\n",
      "  wnd = np.nanmean(np.sqrt(u_2**2 + v_2**2), axis=0, keepdims=True)\n",
      "C:\\Users\\zl59\\AppData\\Local\\Temp\\ipykernel_15848\\6465438.py:101: RuntimeWarning: Mean of empty slice\n",
      "  u = np.nanmean(u_2, axis=0, keepdims=True)\n",
      "C:\\Users\\zl59\\AppData\\Local\\Temp\\ipykernel_15848\\6465438.py:102: RuntimeWarning: Mean of empty slice\n",
      "  v = np.nanmean(v_2, axis=0, keepdims=True)\n"
     ]
    },
    {
     "name": "stdout",
     "output_type": "stream",
     "text": [
      "Fail in calculation...\n",
      "2017 153\n",
      "\tYear 2017 ; Begin day 153 ; End day 160\n",
      "\tLoad chl...\n",
      "E:\\2-Data\\5-CHL\\chl.2017153.hdf.npy\n",
      "\t (2160, 4320)\n",
      "\tLoad chl...\n",
      "E:\\2-Data\\5-CHL\\chl.2017145.hdf.npy\n",
      "\t (2160, 4320)\n",
      "\tLoad chl...\n",
      "E:\\2-Data\\5-CHL\\chl.2017161.hdf.npy\n",
      "\t (2160, 4320)\n",
      "\tLoad par...\n",
      "E:\\2-Data\\7-PAR_8D\\par.2017153.hdf.npy\n",
      "\t (2160, 4320)\n",
      "\tLoad par...\n",
      "E:\\2-Data\\7-PAR_8D\\par.2017145.hdf.npy\n",
      "\t (2160, 4320)\n",
      "\tLoad par...\n",
      "E:\\2-Data\\7-PAR_8D\\par.2017161.hdf.npy\n",
      "\t (2160, 4320)\n",
      "\tLoad sst...\n",
      "E:\\2-Data\\13-SST_8D\\sst.2017153.hdf.npy\n",
      "\t (2160, 4320)\n",
      "\tLoad sst...\n",
      "E:\\2-Data\\13-SST_8D\\sst.2017145.hdf.npy\n",
      "\t (2160, 4320)\n",
      "\tLoad sst...\n",
      "E:\\2-Data\\13-SST_8D\\sst.2017161.hdf.npy\n",
      "\t (2160, 4320)\n",
      "\tLoad Wind data...\n",
      "\t E:\\2-Data\\8-CCMP\\Y2017\\M05\\CCMP_RT_Wind_Analysis_20170527_V02.1_L3.0_RSS.nc\n"
     ]
    },
    {
     "name": "stderr",
     "output_type": "stream",
     "text": [
      "C:\\Users\\zl59\\AppData\\Local\\Temp\\ipykernel_15848\\6465438.py:100: RuntimeWarning: Mean of empty slice\n",
      "  wnd = np.nanmean(np.sqrt(u_2**2 + v_2**2), axis=0, keepdims=True)\n",
      "C:\\Users\\zl59\\AppData\\Local\\Temp\\ipykernel_15848\\6465438.py:101: RuntimeWarning: Mean of empty slice\n",
      "  u = np.nanmean(u_2, axis=0, keepdims=True)\n",
      "C:\\Users\\zl59\\AppData\\Local\\Temp\\ipykernel_15848\\6465438.py:102: RuntimeWarning: Mean of empty slice\n",
      "  v = np.nanmean(v_2, axis=0, keepdims=True)\n"
     ]
    },
    {
     "name": "stdout",
     "output_type": "stream",
     "text": [
      "\t E:\\2-Data\\8-CCMP\\Y2017\\M05\\CCMP_RT_Wind_Analysis_20170528_V02.1_L3.0_RSS.nc\n"
     ]
    },
    {
     "name": "stderr",
     "output_type": "stream",
     "text": [
      "C:\\Users\\zl59\\AppData\\Local\\Temp\\ipykernel_15848\\6465438.py:100: RuntimeWarning: Mean of empty slice\n",
      "  wnd = np.nanmean(np.sqrt(u_2**2 + v_2**2), axis=0, keepdims=True)\n",
      "C:\\Users\\zl59\\AppData\\Local\\Temp\\ipykernel_15848\\6465438.py:101: RuntimeWarning: Mean of empty slice\n",
      "  u = np.nanmean(u_2, axis=0, keepdims=True)\n",
      "C:\\Users\\zl59\\AppData\\Local\\Temp\\ipykernel_15848\\6465438.py:102: RuntimeWarning: Mean of empty slice\n",
      "  v = np.nanmean(v_2, axis=0, keepdims=True)\n"
     ]
    },
    {
     "name": "stdout",
     "output_type": "stream",
     "text": [
      "\t E:\\2-Data\\8-CCMP\\Y2017\\M05\\CCMP_RT_Wind_Analysis_20170529_V02.1_L3.0_RSS.nc\n"
     ]
    },
    {
     "name": "stderr",
     "output_type": "stream",
     "text": [
      "C:\\Users\\zl59\\AppData\\Local\\Temp\\ipykernel_15848\\6465438.py:100: RuntimeWarning: Mean of empty slice\n",
      "  wnd = np.nanmean(np.sqrt(u_2**2 + v_2**2), axis=0, keepdims=True)\n",
      "C:\\Users\\zl59\\AppData\\Local\\Temp\\ipykernel_15848\\6465438.py:101: RuntimeWarning: Mean of empty slice\n",
      "  u = np.nanmean(u_2, axis=0, keepdims=True)\n",
      "C:\\Users\\zl59\\AppData\\Local\\Temp\\ipykernel_15848\\6465438.py:102: RuntimeWarning: Mean of empty slice\n",
      "  v = np.nanmean(v_2, axis=0, keepdims=True)\n"
     ]
    },
    {
     "name": "stdout",
     "output_type": "stream",
     "text": [
      "\t E:\\2-Data\\8-CCMP\\Y2017\\M05\\CCMP_RT_Wind_Analysis_20170530_V02.1_L3.0_RSS.nc\n"
     ]
    },
    {
     "name": "stderr",
     "output_type": "stream",
     "text": [
      "C:\\Users\\zl59\\AppData\\Local\\Temp\\ipykernel_15848\\6465438.py:100: RuntimeWarning: Mean of empty slice\n",
      "  wnd = np.nanmean(np.sqrt(u_2**2 + v_2**2), axis=0, keepdims=True)\n",
      "C:\\Users\\zl59\\AppData\\Local\\Temp\\ipykernel_15848\\6465438.py:101: RuntimeWarning: Mean of empty slice\n",
      "  u = np.nanmean(u_2, axis=0, keepdims=True)\n",
      "C:\\Users\\zl59\\AppData\\Local\\Temp\\ipykernel_15848\\6465438.py:102: RuntimeWarning: Mean of empty slice\n",
      "  v = np.nanmean(v_2, axis=0, keepdims=True)\n"
     ]
    },
    {
     "name": "stdout",
     "output_type": "stream",
     "text": [
      "\t E:\\2-Data\\8-CCMP\\Y2017\\M05\\CCMP_RT_Wind_Analysis_20170531_V02.1_L3.0_RSS.nc\n"
     ]
    },
    {
     "name": "stderr",
     "output_type": "stream",
     "text": [
      "C:\\Users\\zl59\\AppData\\Local\\Temp\\ipykernel_15848\\6465438.py:100: RuntimeWarning: Mean of empty slice\n",
      "  wnd = np.nanmean(np.sqrt(u_2**2 + v_2**2), axis=0, keepdims=True)\n",
      "C:\\Users\\zl59\\AppData\\Local\\Temp\\ipykernel_15848\\6465438.py:101: RuntimeWarning: Mean of empty slice\n",
      "  u = np.nanmean(u_2, axis=0, keepdims=True)\n",
      "C:\\Users\\zl59\\AppData\\Local\\Temp\\ipykernel_15848\\6465438.py:102: RuntimeWarning: Mean of empty slice\n",
      "  v = np.nanmean(v_2, axis=0, keepdims=True)\n"
     ]
    },
    {
     "name": "stdout",
     "output_type": "stream",
     "text": [
      "\t E:\\2-Data\\8-CCMP\\Y2017\\M06\\CCMP_RT_Wind_Analysis_20170601_V02.1_L3.0_RSS.nc\n"
     ]
    },
    {
     "name": "stderr",
     "output_type": "stream",
     "text": [
      "C:\\Users\\zl59\\AppData\\Local\\Temp\\ipykernel_15848\\6465438.py:100: RuntimeWarning: Mean of empty slice\n",
      "  wnd = np.nanmean(np.sqrt(u_2**2 + v_2**2), axis=0, keepdims=True)\n",
      "C:\\Users\\zl59\\AppData\\Local\\Temp\\ipykernel_15848\\6465438.py:101: RuntimeWarning: Mean of empty slice\n",
      "  u = np.nanmean(u_2, axis=0, keepdims=True)\n",
      "C:\\Users\\zl59\\AppData\\Local\\Temp\\ipykernel_15848\\6465438.py:102: RuntimeWarning: Mean of empty slice\n",
      "  v = np.nanmean(v_2, axis=0, keepdims=True)\n"
     ]
    },
    {
     "name": "stdout",
     "output_type": "stream",
     "text": [
      "\t E:\\2-Data\\8-CCMP\\Y2017\\M06\\CCMP_RT_Wind_Analysis_20170602_V02.1_L3.0_RSS.nc\n"
     ]
    },
    {
     "name": "stderr",
     "output_type": "stream",
     "text": [
      "C:\\Users\\zl59\\AppData\\Local\\Temp\\ipykernel_15848\\6465438.py:100: RuntimeWarning: Mean of empty slice\n",
      "  wnd = np.nanmean(np.sqrt(u_2**2 + v_2**2), axis=0, keepdims=True)\n",
      "C:\\Users\\zl59\\AppData\\Local\\Temp\\ipykernel_15848\\6465438.py:101: RuntimeWarning: Mean of empty slice\n",
      "  u = np.nanmean(u_2, axis=0, keepdims=True)\n",
      "C:\\Users\\zl59\\AppData\\Local\\Temp\\ipykernel_15848\\6465438.py:102: RuntimeWarning: Mean of empty slice\n",
      "  v = np.nanmean(v_2, axis=0, keepdims=True)\n"
     ]
    },
    {
     "name": "stdout",
     "output_type": "stream",
     "text": [
      "\t E:\\2-Data\\8-CCMP\\Y2017\\M06\\CCMP_RT_Wind_Analysis_20170603_V02.1_L3.0_RSS.nc\n"
     ]
    },
    {
     "name": "stderr",
     "output_type": "stream",
     "text": [
      "C:\\Users\\zl59\\AppData\\Local\\Temp\\ipykernel_15848\\6465438.py:100: RuntimeWarning: Mean of empty slice\n",
      "  wnd = np.nanmean(np.sqrt(u_2**2 + v_2**2), axis=0, keepdims=True)\n",
      "C:\\Users\\zl59\\AppData\\Local\\Temp\\ipykernel_15848\\6465438.py:101: RuntimeWarning: Mean of empty slice\n",
      "  u = np.nanmean(u_2, axis=0, keepdims=True)\n",
      "C:\\Users\\zl59\\AppData\\Local\\Temp\\ipykernel_15848\\6465438.py:102: RuntimeWarning: Mean of empty slice\n",
      "  v = np.nanmean(v_2, axis=0, keepdims=True)\n"
     ]
    },
    {
     "name": "stdout",
     "output_type": "stream",
     "text": [
      "\t E:\\2-Data\\8-CCMP\\Y2017\\M06\\CCMP_RT_Wind_Analysis_20170604_V02.1_L3.0_RSS.nc\n"
     ]
    },
    {
     "name": "stderr",
     "output_type": "stream",
     "text": [
      "C:\\Users\\zl59\\AppData\\Local\\Temp\\ipykernel_15848\\6465438.py:100: RuntimeWarning: Mean of empty slice\n",
      "  wnd = np.nanmean(np.sqrt(u_2**2 + v_2**2), axis=0, keepdims=True)\n",
      "C:\\Users\\zl59\\AppData\\Local\\Temp\\ipykernel_15848\\6465438.py:101: RuntimeWarning: Mean of empty slice\n",
      "  u = np.nanmean(u_2, axis=0, keepdims=True)\n",
      "C:\\Users\\zl59\\AppData\\Local\\Temp\\ipykernel_15848\\6465438.py:102: RuntimeWarning: Mean of empty slice\n",
      "  v = np.nanmean(v_2, axis=0, keepdims=True)\n"
     ]
    },
    {
     "name": "stdout",
     "output_type": "stream",
     "text": [
      "\t E:\\2-Data\\8-CCMP\\Y2017\\M06\\CCMP_RT_Wind_Analysis_20170605_V02.1_L3.0_RSS.nc\n"
     ]
    },
    {
     "name": "stderr",
     "output_type": "stream",
     "text": [
      "C:\\Users\\zl59\\AppData\\Local\\Temp\\ipykernel_15848\\6465438.py:100: RuntimeWarning: Mean of empty slice\n",
      "  wnd = np.nanmean(np.sqrt(u_2**2 + v_2**2), axis=0, keepdims=True)\n",
      "C:\\Users\\zl59\\AppData\\Local\\Temp\\ipykernel_15848\\6465438.py:101: RuntimeWarning: Mean of empty slice\n",
      "  u = np.nanmean(u_2, axis=0, keepdims=True)\n",
      "C:\\Users\\zl59\\AppData\\Local\\Temp\\ipykernel_15848\\6465438.py:102: RuntimeWarning: Mean of empty slice\n",
      "  v = np.nanmean(v_2, axis=0, keepdims=True)\n"
     ]
    },
    {
     "name": "stdout",
     "output_type": "stream",
     "text": [
      "\t E:\\2-Data\\8-CCMP\\Y2017\\M06\\CCMP_RT_Wind_Analysis_20170606_V02.1_L3.0_RSS.nc\n"
     ]
    },
    {
     "name": "stderr",
     "output_type": "stream",
     "text": [
      "C:\\Users\\zl59\\AppData\\Local\\Temp\\ipykernel_15848\\6465438.py:100: RuntimeWarning: Mean of empty slice\n",
      "  wnd = np.nanmean(np.sqrt(u_2**2 + v_2**2), axis=0, keepdims=True)\n",
      "C:\\Users\\zl59\\AppData\\Local\\Temp\\ipykernel_15848\\6465438.py:101: RuntimeWarning: Mean of empty slice\n",
      "  u = np.nanmean(u_2, axis=0, keepdims=True)\n",
      "C:\\Users\\zl59\\AppData\\Local\\Temp\\ipykernel_15848\\6465438.py:102: RuntimeWarning: Mean of empty slice\n",
      "  v = np.nanmean(v_2, axis=0, keepdims=True)\n"
     ]
    },
    {
     "name": "stdout",
     "output_type": "stream",
     "text": [
      "\t E:\\2-Data\\8-CCMP\\Y2017\\M06\\CCMP_RT_Wind_Analysis_20170607_V02.1_L3.0_RSS.nc\n"
     ]
    },
    {
     "name": "stderr",
     "output_type": "stream",
     "text": [
      "C:\\Users\\zl59\\AppData\\Local\\Temp\\ipykernel_15848\\6465438.py:100: RuntimeWarning: Mean of empty slice\n",
      "  wnd = np.nanmean(np.sqrt(u_2**2 + v_2**2), axis=0, keepdims=True)\n",
      "C:\\Users\\zl59\\AppData\\Local\\Temp\\ipykernel_15848\\6465438.py:101: RuntimeWarning: Mean of empty slice\n",
      "  u = np.nanmean(u_2, axis=0, keepdims=True)\n",
      "C:\\Users\\zl59\\AppData\\Local\\Temp\\ipykernel_15848\\6465438.py:102: RuntimeWarning: Mean of empty slice\n",
      "  v = np.nanmean(v_2, axis=0, keepdims=True)\n"
     ]
    },
    {
     "name": "stdout",
     "output_type": "stream",
     "text": [
      "\t E:\\2-Data\\8-CCMP\\Y2017\\M06\\CCMP_RT_Wind_Analysis_20170608_V02.1_L3.0_RSS.nc\n"
     ]
    },
    {
     "name": "stderr",
     "output_type": "stream",
     "text": [
      "C:\\Users\\zl59\\AppData\\Local\\Temp\\ipykernel_15848\\6465438.py:100: RuntimeWarning: Mean of empty slice\n",
      "  wnd = np.nanmean(np.sqrt(u_2**2 + v_2**2), axis=0, keepdims=True)\n",
      "C:\\Users\\zl59\\AppData\\Local\\Temp\\ipykernel_15848\\6465438.py:101: RuntimeWarning: Mean of empty slice\n",
      "  u = np.nanmean(u_2, axis=0, keepdims=True)\n",
      "C:\\Users\\zl59\\AppData\\Local\\Temp\\ipykernel_15848\\6465438.py:102: RuntimeWarning: Mean of empty slice\n",
      "  v = np.nanmean(v_2, axis=0, keepdims=True)\n"
     ]
    },
    {
     "name": "stdout",
     "output_type": "stream",
     "text": [
      "\t E:\\2-Data\\8-CCMP\\Y2017\\M06\\CCMP_RT_Wind_Analysis_20170609_V02.1_L3.0_RSS.nc\n"
     ]
    },
    {
     "name": "stderr",
     "output_type": "stream",
     "text": [
      "C:\\Users\\zl59\\AppData\\Local\\Temp\\ipykernel_15848\\6465438.py:100: RuntimeWarning: Mean of empty slice\n",
      "  wnd = np.nanmean(np.sqrt(u_2**2 + v_2**2), axis=0, keepdims=True)\n",
      "C:\\Users\\zl59\\AppData\\Local\\Temp\\ipykernel_15848\\6465438.py:101: RuntimeWarning: Mean of empty slice\n",
      "  u = np.nanmean(u_2, axis=0, keepdims=True)\n",
      "C:\\Users\\zl59\\AppData\\Local\\Temp\\ipykernel_15848\\6465438.py:102: RuntimeWarning: Mean of empty slice\n",
      "  v = np.nanmean(v_2, axis=0, keepdims=True)\n"
     ]
    },
    {
     "name": "stdout",
     "output_type": "stream",
     "text": [
      "Fail in calculation...\n",
      "2018 1\n",
      "\tYear 2018 ; Begin day 1 ; End day 8\n",
      "\tLoad chl...\n",
      "E:\\2-Data\\5-CHL\\chl.2018001.hdf.npy\n",
      "\t (2160, 4320)\n",
      "\tLoad chl...\n",
      "E:\\2-Data\\5-CHL\\chl.2017361.hdf.npy\n",
      "\t (2160, 4320)\n",
      "\tLoad chl...\n",
      "E:\\2-Data\\5-CHL\\chl.2018009.hdf.npy\n",
      "\t (2160, 4320)\n",
      "\tLoad par...\n",
      "E:\\2-Data\\7-PAR_8D\\par.2018001.hdf.npy\n",
      "\t (2160, 4320)\n",
      "\tLoad par...\n",
      "E:\\2-Data\\7-PAR_8D\\par.2017361.hdf.npy\n",
      "\t (2160, 4320)\n",
      "\tLoad par...\n",
      "E:\\2-Data\\7-PAR_8D\\par.2018009.hdf.npy\n",
      "\t (2160, 4320)\n",
      "\tLoad sst...\n",
      "E:\\2-Data\\13-SST_8D\\sst.2018001.hdf.npy\n",
      "\t (2160, 4320)\n",
      "\tLoad sst...\n",
      "E:\\2-Data\\13-SST_8D\\sst.2017361.hdf.npy\n",
      "\t (2160, 4320)\n",
      "\tLoad sst...\n",
      "E:\\2-Data\\13-SST_8D\\sst.2018009.hdf.npy\n",
      "\t (2160, 4320)\n",
      "\tLoad Wind data...\n",
      "\t E:\\2-Data\\8-CCMP\\Y2017\\M12\\CCMP_RT_Wind_Analysis_20171224_V02.1_L3.0_RSS.nc\n"
     ]
    },
    {
     "name": "stderr",
     "output_type": "stream",
     "text": [
      "C:\\Users\\zl59\\AppData\\Local\\Temp\\ipykernel_15848\\6465438.py:100: RuntimeWarning: Mean of empty slice\n",
      "  wnd = np.nanmean(np.sqrt(u_2**2 + v_2**2), axis=0, keepdims=True)\n",
      "C:\\Users\\zl59\\AppData\\Local\\Temp\\ipykernel_15848\\6465438.py:101: RuntimeWarning: Mean of empty slice\n",
      "  u = np.nanmean(u_2, axis=0, keepdims=True)\n",
      "C:\\Users\\zl59\\AppData\\Local\\Temp\\ipykernel_15848\\6465438.py:102: RuntimeWarning: Mean of empty slice\n",
      "  v = np.nanmean(v_2, axis=0, keepdims=True)\n"
     ]
    },
    {
     "name": "stdout",
     "output_type": "stream",
     "text": [
      "\t E:\\2-Data\\8-CCMP\\Y2017\\M12\\CCMP_RT_Wind_Analysis_20171225_V02.1_L3.0_RSS.nc\n"
     ]
    },
    {
     "name": "stderr",
     "output_type": "stream",
     "text": [
      "C:\\Users\\zl59\\AppData\\Local\\Temp\\ipykernel_15848\\6465438.py:100: RuntimeWarning: Mean of empty slice\n",
      "  wnd = np.nanmean(np.sqrt(u_2**2 + v_2**2), axis=0, keepdims=True)\n",
      "C:\\Users\\zl59\\AppData\\Local\\Temp\\ipykernel_15848\\6465438.py:101: RuntimeWarning: Mean of empty slice\n",
      "  u = np.nanmean(u_2, axis=0, keepdims=True)\n",
      "C:\\Users\\zl59\\AppData\\Local\\Temp\\ipykernel_15848\\6465438.py:102: RuntimeWarning: Mean of empty slice\n",
      "  v = np.nanmean(v_2, axis=0, keepdims=True)\n"
     ]
    },
    {
     "name": "stdout",
     "output_type": "stream",
     "text": [
      "\t E:\\2-Data\\8-CCMP\\Y2017\\M12\\CCMP_RT_Wind_Analysis_20171226_V02.1_L3.0_RSS.nc\n"
     ]
    },
    {
     "name": "stderr",
     "output_type": "stream",
     "text": [
      "C:\\Users\\zl59\\AppData\\Local\\Temp\\ipykernel_15848\\6465438.py:100: RuntimeWarning: Mean of empty slice\n",
      "  wnd = np.nanmean(np.sqrt(u_2**2 + v_2**2), axis=0, keepdims=True)\n",
      "C:\\Users\\zl59\\AppData\\Local\\Temp\\ipykernel_15848\\6465438.py:101: RuntimeWarning: Mean of empty slice\n",
      "  u = np.nanmean(u_2, axis=0, keepdims=True)\n",
      "C:\\Users\\zl59\\AppData\\Local\\Temp\\ipykernel_15848\\6465438.py:102: RuntimeWarning: Mean of empty slice\n",
      "  v = np.nanmean(v_2, axis=0, keepdims=True)\n"
     ]
    },
    {
     "name": "stdout",
     "output_type": "stream",
     "text": [
      "\t E:\\2-Data\\8-CCMP\\Y2017\\M12\\CCMP_RT_Wind_Analysis_20171227_V02.1_L3.0_RSS.nc\n"
     ]
    },
    {
     "name": "stderr",
     "output_type": "stream",
     "text": [
      "C:\\Users\\zl59\\AppData\\Local\\Temp\\ipykernel_15848\\6465438.py:100: RuntimeWarning: Mean of empty slice\n",
      "  wnd = np.nanmean(np.sqrt(u_2**2 + v_2**2), axis=0, keepdims=True)\n",
      "C:\\Users\\zl59\\AppData\\Local\\Temp\\ipykernel_15848\\6465438.py:101: RuntimeWarning: Mean of empty slice\n",
      "  u = np.nanmean(u_2, axis=0, keepdims=True)\n",
      "C:\\Users\\zl59\\AppData\\Local\\Temp\\ipykernel_15848\\6465438.py:102: RuntimeWarning: Mean of empty slice\n",
      "  v = np.nanmean(v_2, axis=0, keepdims=True)\n"
     ]
    },
    {
     "name": "stdout",
     "output_type": "stream",
     "text": [
      "\t E:\\2-Data\\8-CCMP\\Y2017\\M12\\CCMP_RT_Wind_Analysis_20171228_V02.1_L3.0_RSS.nc\n"
     ]
    },
    {
     "name": "stderr",
     "output_type": "stream",
     "text": [
      "C:\\Users\\zl59\\AppData\\Local\\Temp\\ipykernel_15848\\6465438.py:100: RuntimeWarning: Mean of empty slice\n",
      "  wnd = np.nanmean(np.sqrt(u_2**2 + v_2**2), axis=0, keepdims=True)\n",
      "C:\\Users\\zl59\\AppData\\Local\\Temp\\ipykernel_15848\\6465438.py:101: RuntimeWarning: Mean of empty slice\n",
      "  u = np.nanmean(u_2, axis=0, keepdims=True)\n",
      "C:\\Users\\zl59\\AppData\\Local\\Temp\\ipykernel_15848\\6465438.py:102: RuntimeWarning: Mean of empty slice\n",
      "  v = np.nanmean(v_2, axis=0, keepdims=True)\n"
     ]
    },
    {
     "name": "stdout",
     "output_type": "stream",
     "text": [
      "\t E:\\2-Data\\8-CCMP\\Y2017\\M12\\CCMP_RT_Wind_Analysis_20171229_V02.1_L3.0_RSS.nc\n"
     ]
    },
    {
     "name": "stderr",
     "output_type": "stream",
     "text": [
      "C:\\Users\\zl59\\AppData\\Local\\Temp\\ipykernel_15848\\6465438.py:100: RuntimeWarning: Mean of empty slice\n",
      "  wnd = np.nanmean(np.sqrt(u_2**2 + v_2**2), axis=0, keepdims=True)\n",
      "C:\\Users\\zl59\\AppData\\Local\\Temp\\ipykernel_15848\\6465438.py:101: RuntimeWarning: Mean of empty slice\n",
      "  u = np.nanmean(u_2, axis=0, keepdims=True)\n",
      "C:\\Users\\zl59\\AppData\\Local\\Temp\\ipykernel_15848\\6465438.py:102: RuntimeWarning: Mean of empty slice\n",
      "  v = np.nanmean(v_2, axis=0, keepdims=True)\n"
     ]
    },
    {
     "name": "stdout",
     "output_type": "stream",
     "text": [
      "\t E:\\2-Data\\8-CCMP\\Y2017\\M12\\CCMP_RT_Wind_Analysis_20171230_V02.1_L3.0_RSS.nc\n"
     ]
    },
    {
     "name": "stderr",
     "output_type": "stream",
     "text": [
      "C:\\Users\\zl59\\AppData\\Local\\Temp\\ipykernel_15848\\6465438.py:100: RuntimeWarning: Mean of empty slice\n",
      "  wnd = np.nanmean(np.sqrt(u_2**2 + v_2**2), axis=0, keepdims=True)\n",
      "C:\\Users\\zl59\\AppData\\Local\\Temp\\ipykernel_15848\\6465438.py:101: RuntimeWarning: Mean of empty slice\n",
      "  u = np.nanmean(u_2, axis=0, keepdims=True)\n",
      "C:\\Users\\zl59\\AppData\\Local\\Temp\\ipykernel_15848\\6465438.py:102: RuntimeWarning: Mean of empty slice\n",
      "  v = np.nanmean(v_2, axis=0, keepdims=True)\n"
     ]
    },
    {
     "name": "stdout",
     "output_type": "stream",
     "text": [
      "\t E:\\2-Data\\8-CCMP\\Y2017\\M12\\CCMP_RT_Wind_Analysis_20171231_V02.1_L3.0_RSS.nc\n"
     ]
    },
    {
     "name": "stderr",
     "output_type": "stream",
     "text": [
      "C:\\Users\\zl59\\AppData\\Local\\Temp\\ipykernel_15848\\6465438.py:100: RuntimeWarning: Mean of empty slice\n",
      "  wnd = np.nanmean(np.sqrt(u_2**2 + v_2**2), axis=0, keepdims=True)\n",
      "C:\\Users\\zl59\\AppData\\Local\\Temp\\ipykernel_15848\\6465438.py:101: RuntimeWarning: Mean of empty slice\n",
      "  u = np.nanmean(u_2, axis=0, keepdims=True)\n",
      "C:\\Users\\zl59\\AppData\\Local\\Temp\\ipykernel_15848\\6465438.py:102: RuntimeWarning: Mean of empty slice\n",
      "  v = np.nanmean(v_2, axis=0, keepdims=True)\n"
     ]
    },
    {
     "name": "stdout",
     "output_type": "stream",
     "text": [
      "\t E:\\2-Data\\8-CCMP\\Y2018\\M01\\CCMP_RT_Wind_Analysis_20180101_V02.1_L3.0_RSS.nc\n"
     ]
    },
    {
     "name": "stderr",
     "output_type": "stream",
     "text": [
      "C:\\Users\\zl59\\AppData\\Local\\Temp\\ipykernel_15848\\6465438.py:100: RuntimeWarning: Mean of empty slice\n",
      "  wnd = np.nanmean(np.sqrt(u_2**2 + v_2**2), axis=0, keepdims=True)\n",
      "C:\\Users\\zl59\\AppData\\Local\\Temp\\ipykernel_15848\\6465438.py:101: RuntimeWarning: Mean of empty slice\n",
      "  u = np.nanmean(u_2, axis=0, keepdims=True)\n",
      "C:\\Users\\zl59\\AppData\\Local\\Temp\\ipykernel_15848\\6465438.py:102: RuntimeWarning: Mean of empty slice\n",
      "  v = np.nanmean(v_2, axis=0, keepdims=True)\n"
     ]
    },
    {
     "name": "stdout",
     "output_type": "stream",
     "text": [
      "\t E:\\2-Data\\8-CCMP\\Y2018\\M01\\CCMP_RT_Wind_Analysis_20180102_V02.1_L3.0_RSS.nc\n"
     ]
    },
    {
     "name": "stderr",
     "output_type": "stream",
     "text": [
      "C:\\Users\\zl59\\AppData\\Local\\Temp\\ipykernel_15848\\6465438.py:100: RuntimeWarning: Mean of empty slice\n",
      "  wnd = np.nanmean(np.sqrt(u_2**2 + v_2**2), axis=0, keepdims=True)\n",
      "C:\\Users\\zl59\\AppData\\Local\\Temp\\ipykernel_15848\\6465438.py:101: RuntimeWarning: Mean of empty slice\n",
      "  u = np.nanmean(u_2, axis=0, keepdims=True)\n",
      "C:\\Users\\zl59\\AppData\\Local\\Temp\\ipykernel_15848\\6465438.py:102: RuntimeWarning: Mean of empty slice\n",
      "  v = np.nanmean(v_2, axis=0, keepdims=True)\n"
     ]
    },
    {
     "name": "stdout",
     "output_type": "stream",
     "text": [
      "\t E:\\2-Data\\8-CCMP\\Y2018\\M01\\CCMP_RT_Wind_Analysis_20180103_V02.1_L3.0_RSS.nc\n"
     ]
    },
    {
     "name": "stderr",
     "output_type": "stream",
     "text": [
      "C:\\Users\\zl59\\AppData\\Local\\Temp\\ipykernel_15848\\6465438.py:100: RuntimeWarning: Mean of empty slice\n",
      "  wnd = np.nanmean(np.sqrt(u_2**2 + v_2**2), axis=0, keepdims=True)\n",
      "C:\\Users\\zl59\\AppData\\Local\\Temp\\ipykernel_15848\\6465438.py:101: RuntimeWarning: Mean of empty slice\n",
      "  u = np.nanmean(u_2, axis=0, keepdims=True)\n",
      "C:\\Users\\zl59\\AppData\\Local\\Temp\\ipykernel_15848\\6465438.py:102: RuntimeWarning: Mean of empty slice\n",
      "  v = np.nanmean(v_2, axis=0, keepdims=True)\n"
     ]
    },
    {
     "name": "stdout",
     "output_type": "stream",
     "text": [
      "\t E:\\2-Data\\8-CCMP\\Y2018\\M01\\CCMP_RT_Wind_Analysis_20180105_V02.1_L3.0_RSS.nc\n"
     ]
    },
    {
     "name": "stderr",
     "output_type": "stream",
     "text": [
      "C:\\Users\\zl59\\AppData\\Local\\Temp\\ipykernel_15848\\6465438.py:100: RuntimeWarning: Mean of empty slice\n",
      "  wnd = np.nanmean(np.sqrt(u_2**2 + v_2**2), axis=0, keepdims=True)\n",
      "C:\\Users\\zl59\\AppData\\Local\\Temp\\ipykernel_15848\\6465438.py:101: RuntimeWarning: Mean of empty slice\n",
      "  u = np.nanmean(u_2, axis=0, keepdims=True)\n",
      "C:\\Users\\zl59\\AppData\\Local\\Temp\\ipykernel_15848\\6465438.py:102: RuntimeWarning: Mean of empty slice\n",
      "  v = np.nanmean(v_2, axis=0, keepdims=True)\n"
     ]
    },
    {
     "name": "stdout",
     "output_type": "stream",
     "text": [
      "\t E:\\2-Data\\8-CCMP\\Y2018\\M01\\CCMP_RT_Wind_Analysis_20180106_V02.1_L3.0_RSS.nc\n"
     ]
    },
    {
     "name": "stderr",
     "output_type": "stream",
     "text": [
      "C:\\Users\\zl59\\AppData\\Local\\Temp\\ipykernel_15848\\6465438.py:100: RuntimeWarning: Mean of empty slice\n",
      "  wnd = np.nanmean(np.sqrt(u_2**2 + v_2**2), axis=0, keepdims=True)\n",
      "C:\\Users\\zl59\\AppData\\Local\\Temp\\ipykernel_15848\\6465438.py:101: RuntimeWarning: Mean of empty slice\n",
      "  u = np.nanmean(u_2, axis=0, keepdims=True)\n",
      "C:\\Users\\zl59\\AppData\\Local\\Temp\\ipykernel_15848\\6465438.py:102: RuntimeWarning: Mean of empty slice\n",
      "  v = np.nanmean(v_2, axis=0, keepdims=True)\n"
     ]
    },
    {
     "name": "stdout",
     "output_type": "stream",
     "text": [
      "\t E:\\2-Data\\8-CCMP\\Y2018\\M01\\CCMP_RT_Wind_Analysis_20180107_V02.1_L3.0_RSS.nc\n"
     ]
    },
    {
     "name": "stderr",
     "output_type": "stream",
     "text": [
      "C:\\Users\\zl59\\AppData\\Local\\Temp\\ipykernel_15848\\6465438.py:100: RuntimeWarning: Mean of empty slice\n",
      "  wnd = np.nanmean(np.sqrt(u_2**2 + v_2**2), axis=0, keepdims=True)\n",
      "C:\\Users\\zl59\\AppData\\Local\\Temp\\ipykernel_15848\\6465438.py:101: RuntimeWarning: Mean of empty slice\n",
      "  u = np.nanmean(u_2, axis=0, keepdims=True)\n",
      "C:\\Users\\zl59\\AppData\\Local\\Temp\\ipykernel_15848\\6465438.py:102: RuntimeWarning: Mean of empty slice\n",
      "  v = np.nanmean(v_2, axis=0, keepdims=True)\n"
     ]
    },
    {
     "name": "stdout",
     "output_type": "stream",
     "text": [
      "\t E:\\2-Data\\8-CCMP\\Y2018\\M01\\CCMP_RT_Wind_Analysis_20180108_V02.1_L3.0_RSS.nc\n"
     ]
    },
    {
     "name": "stderr",
     "output_type": "stream",
     "text": [
      "C:\\Users\\zl59\\AppData\\Local\\Temp\\ipykernel_15848\\6465438.py:100: RuntimeWarning: Mean of empty slice\n",
      "  wnd = np.nanmean(np.sqrt(u_2**2 + v_2**2), axis=0, keepdims=True)\n",
      "C:\\Users\\zl59\\AppData\\Local\\Temp\\ipykernel_15848\\6465438.py:101: RuntimeWarning: Mean of empty slice\n",
      "  u = np.nanmean(u_2, axis=0, keepdims=True)\n",
      "C:\\Users\\zl59\\AppData\\Local\\Temp\\ipykernel_15848\\6465438.py:102: RuntimeWarning: Mean of empty slice\n",
      "  v = np.nanmean(v_2, axis=0, keepdims=True)\n"
     ]
    },
    {
     "name": "stdout",
     "output_type": "stream",
     "text": [
      "Fail in calculation...\n",
      "2018 9\n",
      "\tYear 2018 ; Begin day 9 ; End day 16\n",
      "\tLoad chl...\n",
      "E:\\2-Data\\5-CHL\\chl.2018009.hdf.npy\n",
      "\t (2160, 4320)\n",
      "\tLoad chl...\n",
      "E:\\2-Data\\5-CHL\\chl.2018001.hdf.npy\n",
      "\t (2160, 4320)\n",
      "\tLoad chl...\n",
      "E:\\2-Data\\5-CHL\\chl.2018017.hdf.npy\n",
      "\t (2160, 4320)\n",
      "\tLoad par...\n",
      "E:\\2-Data\\7-PAR_8D\\par.2018009.hdf.npy\n",
      "\t (2160, 4320)\n",
      "\tLoad par...\n",
      "E:\\2-Data\\7-PAR_8D\\par.2018001.hdf.npy\n",
      "\t (2160, 4320)\n",
      "\tLoad par...\n",
      "E:\\2-Data\\7-PAR_8D\\par.2018017.hdf.npy\n",
      "\t (2160, 4320)\n",
      "\tLoad sst...\n",
      "E:\\2-Data\\13-SST_8D\\sst.2018009.hdf.npy\n",
      "\t (2160, 4320)\n",
      "\tLoad sst...\n",
      "E:\\2-Data\\13-SST_8D\\sst.2018001.hdf.npy\n",
      "\t (2160, 4320)\n",
      "\tLoad sst...\n",
      "E:\\2-Data\\13-SST_8D\\sst.2018017.hdf.npy\n",
      "\t (2160, 4320)\n",
      "\tLoad Wind data...\n",
      "\t E:\\2-Data\\8-CCMP\\Y2018\\M01\\CCMP_RT_Wind_Analysis_20180101_V02.1_L3.0_RSS.nc\n"
     ]
    },
    {
     "name": "stderr",
     "output_type": "stream",
     "text": [
      "C:\\Users\\zl59\\AppData\\Local\\Temp\\ipykernel_15848\\6465438.py:100: RuntimeWarning: Mean of empty slice\n",
      "  wnd = np.nanmean(np.sqrt(u_2**2 + v_2**2), axis=0, keepdims=True)\n",
      "C:\\Users\\zl59\\AppData\\Local\\Temp\\ipykernel_15848\\6465438.py:101: RuntimeWarning: Mean of empty slice\n",
      "  u = np.nanmean(u_2, axis=0, keepdims=True)\n",
      "C:\\Users\\zl59\\AppData\\Local\\Temp\\ipykernel_15848\\6465438.py:102: RuntimeWarning: Mean of empty slice\n",
      "  v = np.nanmean(v_2, axis=0, keepdims=True)\n"
     ]
    },
    {
     "name": "stdout",
     "output_type": "stream",
     "text": [
      "\t E:\\2-Data\\8-CCMP\\Y2018\\M01\\CCMP_RT_Wind_Analysis_20180102_V02.1_L3.0_RSS.nc\n"
     ]
    },
    {
     "name": "stderr",
     "output_type": "stream",
     "text": [
      "C:\\Users\\zl59\\AppData\\Local\\Temp\\ipykernel_15848\\6465438.py:100: RuntimeWarning: Mean of empty slice\n",
      "  wnd = np.nanmean(np.sqrt(u_2**2 + v_2**2), axis=0, keepdims=True)\n",
      "C:\\Users\\zl59\\AppData\\Local\\Temp\\ipykernel_15848\\6465438.py:101: RuntimeWarning: Mean of empty slice\n",
      "  u = np.nanmean(u_2, axis=0, keepdims=True)\n",
      "C:\\Users\\zl59\\AppData\\Local\\Temp\\ipykernel_15848\\6465438.py:102: RuntimeWarning: Mean of empty slice\n",
      "  v = np.nanmean(v_2, axis=0, keepdims=True)\n"
     ]
    },
    {
     "name": "stdout",
     "output_type": "stream",
     "text": [
      "\t E:\\2-Data\\8-CCMP\\Y2018\\M01\\CCMP_RT_Wind_Analysis_20180103_V02.1_L3.0_RSS.nc\n"
     ]
    },
    {
     "name": "stderr",
     "output_type": "stream",
     "text": [
      "C:\\Users\\zl59\\AppData\\Local\\Temp\\ipykernel_15848\\6465438.py:100: RuntimeWarning: Mean of empty slice\n",
      "  wnd = np.nanmean(np.sqrt(u_2**2 + v_2**2), axis=0, keepdims=True)\n",
      "C:\\Users\\zl59\\AppData\\Local\\Temp\\ipykernel_15848\\6465438.py:101: RuntimeWarning: Mean of empty slice\n",
      "  u = np.nanmean(u_2, axis=0, keepdims=True)\n",
      "C:\\Users\\zl59\\AppData\\Local\\Temp\\ipykernel_15848\\6465438.py:102: RuntimeWarning: Mean of empty slice\n",
      "  v = np.nanmean(v_2, axis=0, keepdims=True)\n"
     ]
    },
    {
     "name": "stdout",
     "output_type": "stream",
     "text": [
      "\t E:\\2-Data\\8-CCMP\\Y2018\\M01\\CCMP_RT_Wind_Analysis_20180105_V02.1_L3.0_RSS.nc\n"
     ]
    },
    {
     "name": "stderr",
     "output_type": "stream",
     "text": [
      "C:\\Users\\zl59\\AppData\\Local\\Temp\\ipykernel_15848\\6465438.py:100: RuntimeWarning: Mean of empty slice\n",
      "  wnd = np.nanmean(np.sqrt(u_2**2 + v_2**2), axis=0, keepdims=True)\n",
      "C:\\Users\\zl59\\AppData\\Local\\Temp\\ipykernel_15848\\6465438.py:101: RuntimeWarning: Mean of empty slice\n",
      "  u = np.nanmean(u_2, axis=0, keepdims=True)\n",
      "C:\\Users\\zl59\\AppData\\Local\\Temp\\ipykernel_15848\\6465438.py:102: RuntimeWarning: Mean of empty slice\n",
      "  v = np.nanmean(v_2, axis=0, keepdims=True)\n"
     ]
    },
    {
     "name": "stdout",
     "output_type": "stream",
     "text": [
      "\t E:\\2-Data\\8-CCMP\\Y2018\\M01\\CCMP_RT_Wind_Analysis_20180106_V02.1_L3.0_RSS.nc\n"
     ]
    },
    {
     "name": "stderr",
     "output_type": "stream",
     "text": [
      "C:\\Users\\zl59\\AppData\\Local\\Temp\\ipykernel_15848\\6465438.py:100: RuntimeWarning: Mean of empty slice\n",
      "  wnd = np.nanmean(np.sqrt(u_2**2 + v_2**2), axis=0, keepdims=True)\n",
      "C:\\Users\\zl59\\AppData\\Local\\Temp\\ipykernel_15848\\6465438.py:101: RuntimeWarning: Mean of empty slice\n",
      "  u = np.nanmean(u_2, axis=0, keepdims=True)\n",
      "C:\\Users\\zl59\\AppData\\Local\\Temp\\ipykernel_15848\\6465438.py:102: RuntimeWarning: Mean of empty slice\n",
      "  v = np.nanmean(v_2, axis=0, keepdims=True)\n"
     ]
    },
    {
     "name": "stdout",
     "output_type": "stream",
     "text": [
      "\t E:\\2-Data\\8-CCMP\\Y2018\\M01\\CCMP_RT_Wind_Analysis_20180107_V02.1_L3.0_RSS.nc\n"
     ]
    },
    {
     "name": "stderr",
     "output_type": "stream",
     "text": [
      "C:\\Users\\zl59\\AppData\\Local\\Temp\\ipykernel_15848\\6465438.py:100: RuntimeWarning: Mean of empty slice\n",
      "  wnd = np.nanmean(np.sqrt(u_2**2 + v_2**2), axis=0, keepdims=True)\n",
      "C:\\Users\\zl59\\AppData\\Local\\Temp\\ipykernel_15848\\6465438.py:101: RuntimeWarning: Mean of empty slice\n",
      "  u = np.nanmean(u_2, axis=0, keepdims=True)\n",
      "C:\\Users\\zl59\\AppData\\Local\\Temp\\ipykernel_15848\\6465438.py:102: RuntimeWarning: Mean of empty slice\n",
      "  v = np.nanmean(v_2, axis=0, keepdims=True)\n"
     ]
    },
    {
     "name": "stdout",
     "output_type": "stream",
     "text": [
      "\t E:\\2-Data\\8-CCMP\\Y2018\\M01\\CCMP_RT_Wind_Analysis_20180108_V02.1_L3.0_RSS.nc\n"
     ]
    },
    {
     "name": "stderr",
     "output_type": "stream",
     "text": [
      "C:\\Users\\zl59\\AppData\\Local\\Temp\\ipykernel_15848\\6465438.py:100: RuntimeWarning: Mean of empty slice\n",
      "  wnd = np.nanmean(np.sqrt(u_2**2 + v_2**2), axis=0, keepdims=True)\n",
      "C:\\Users\\zl59\\AppData\\Local\\Temp\\ipykernel_15848\\6465438.py:101: RuntimeWarning: Mean of empty slice\n",
      "  u = np.nanmean(u_2, axis=0, keepdims=True)\n",
      "C:\\Users\\zl59\\AppData\\Local\\Temp\\ipykernel_15848\\6465438.py:102: RuntimeWarning: Mean of empty slice\n",
      "  v = np.nanmean(v_2, axis=0, keepdims=True)\n"
     ]
    },
    {
     "name": "stdout",
     "output_type": "stream",
     "text": [
      "\t E:\\2-Data\\8-CCMP\\Y2018\\M01\\CCMP_RT_Wind_Analysis_20180109_V02.1_L3.0_RSS.nc\n"
     ]
    },
    {
     "name": "stderr",
     "output_type": "stream",
     "text": [
      "C:\\Users\\zl59\\AppData\\Local\\Temp\\ipykernel_15848\\6465438.py:100: RuntimeWarning: Mean of empty slice\n",
      "  wnd = np.nanmean(np.sqrt(u_2**2 + v_2**2), axis=0, keepdims=True)\n",
      "C:\\Users\\zl59\\AppData\\Local\\Temp\\ipykernel_15848\\6465438.py:101: RuntimeWarning: Mean of empty slice\n",
      "  u = np.nanmean(u_2, axis=0, keepdims=True)\n",
      "C:\\Users\\zl59\\AppData\\Local\\Temp\\ipykernel_15848\\6465438.py:102: RuntimeWarning: Mean of empty slice\n",
      "  v = np.nanmean(v_2, axis=0, keepdims=True)\n"
     ]
    },
    {
     "name": "stdout",
     "output_type": "stream",
     "text": [
      "\t E:\\2-Data\\8-CCMP\\Y2018\\M01\\CCMP_RT_Wind_Analysis_20180110_V02.1_L3.0_RSS.nc\n"
     ]
    },
    {
     "name": "stderr",
     "output_type": "stream",
     "text": [
      "C:\\Users\\zl59\\AppData\\Local\\Temp\\ipykernel_15848\\6465438.py:100: RuntimeWarning: Mean of empty slice\n",
      "  wnd = np.nanmean(np.sqrt(u_2**2 + v_2**2), axis=0, keepdims=True)\n",
      "C:\\Users\\zl59\\AppData\\Local\\Temp\\ipykernel_15848\\6465438.py:101: RuntimeWarning: Mean of empty slice\n",
      "  u = np.nanmean(u_2, axis=0, keepdims=True)\n",
      "C:\\Users\\zl59\\AppData\\Local\\Temp\\ipykernel_15848\\6465438.py:102: RuntimeWarning: Mean of empty slice\n",
      "  v = np.nanmean(v_2, axis=0, keepdims=True)\n"
     ]
    },
    {
     "name": "stdout",
     "output_type": "stream",
     "text": [
      "\t E:\\2-Data\\8-CCMP\\Y2018\\M01\\CCMP_RT_Wind_Analysis_20180111_V02.1_L3.0_RSS.nc\n"
     ]
    },
    {
     "name": "stderr",
     "output_type": "stream",
     "text": [
      "C:\\Users\\zl59\\AppData\\Local\\Temp\\ipykernel_15848\\6465438.py:100: RuntimeWarning: Mean of empty slice\n",
      "  wnd = np.nanmean(np.sqrt(u_2**2 + v_2**2), axis=0, keepdims=True)\n",
      "C:\\Users\\zl59\\AppData\\Local\\Temp\\ipykernel_15848\\6465438.py:101: RuntimeWarning: Mean of empty slice\n",
      "  u = np.nanmean(u_2, axis=0, keepdims=True)\n",
      "C:\\Users\\zl59\\AppData\\Local\\Temp\\ipykernel_15848\\6465438.py:102: RuntimeWarning: Mean of empty slice\n",
      "  v = np.nanmean(v_2, axis=0, keepdims=True)\n"
     ]
    },
    {
     "name": "stdout",
     "output_type": "stream",
     "text": [
      "\t E:\\2-Data\\8-CCMP\\Y2018\\M01\\CCMP_RT_Wind_Analysis_20180112_V02.1_L3.0_RSS.nc\n"
     ]
    },
    {
     "name": "stderr",
     "output_type": "stream",
     "text": [
      "C:\\Users\\zl59\\AppData\\Local\\Temp\\ipykernel_15848\\6465438.py:100: RuntimeWarning: Mean of empty slice\n",
      "  wnd = np.nanmean(np.sqrt(u_2**2 + v_2**2), axis=0, keepdims=True)\n",
      "C:\\Users\\zl59\\AppData\\Local\\Temp\\ipykernel_15848\\6465438.py:101: RuntimeWarning: Mean of empty slice\n",
      "  u = np.nanmean(u_2, axis=0, keepdims=True)\n",
      "C:\\Users\\zl59\\AppData\\Local\\Temp\\ipykernel_15848\\6465438.py:102: RuntimeWarning: Mean of empty slice\n",
      "  v = np.nanmean(v_2, axis=0, keepdims=True)\n"
     ]
    },
    {
     "name": "stdout",
     "output_type": "stream",
     "text": [
      "\t E:\\2-Data\\8-CCMP\\Y2018\\M01\\CCMP_RT_Wind_Analysis_20180113_V02.1_L3.0_RSS.nc\n"
     ]
    },
    {
     "name": "stderr",
     "output_type": "stream",
     "text": [
      "C:\\Users\\zl59\\AppData\\Local\\Temp\\ipykernel_15848\\6465438.py:100: RuntimeWarning: Mean of empty slice\n",
      "  wnd = np.nanmean(np.sqrt(u_2**2 + v_2**2), axis=0, keepdims=True)\n",
      "C:\\Users\\zl59\\AppData\\Local\\Temp\\ipykernel_15848\\6465438.py:101: RuntimeWarning: Mean of empty slice\n",
      "  u = np.nanmean(u_2, axis=0, keepdims=True)\n",
      "C:\\Users\\zl59\\AppData\\Local\\Temp\\ipykernel_15848\\6465438.py:102: RuntimeWarning: Mean of empty slice\n",
      "  v = np.nanmean(v_2, axis=0, keepdims=True)\n"
     ]
    },
    {
     "name": "stdout",
     "output_type": "stream",
     "text": [
      "\t E:\\2-Data\\8-CCMP\\Y2018\\M01\\CCMP_RT_Wind_Analysis_20180114_V02.1_L3.0_RSS.nc\n"
     ]
    },
    {
     "name": "stderr",
     "output_type": "stream",
     "text": [
      "C:\\Users\\zl59\\AppData\\Local\\Temp\\ipykernel_15848\\6465438.py:100: RuntimeWarning: Mean of empty slice\n",
      "  wnd = np.nanmean(np.sqrt(u_2**2 + v_2**2), axis=0, keepdims=True)\n",
      "C:\\Users\\zl59\\AppData\\Local\\Temp\\ipykernel_15848\\6465438.py:101: RuntimeWarning: Mean of empty slice\n",
      "  u = np.nanmean(u_2, axis=0, keepdims=True)\n",
      "C:\\Users\\zl59\\AppData\\Local\\Temp\\ipykernel_15848\\6465438.py:102: RuntimeWarning: Mean of empty slice\n",
      "  v = np.nanmean(v_2, axis=0, keepdims=True)\n"
     ]
    },
    {
     "name": "stdout",
     "output_type": "stream",
     "text": [
      "\t E:\\2-Data\\8-CCMP\\Y2018\\M01\\CCMP_RT_Wind_Analysis_20180115_V02.1_L3.0_RSS.nc\n"
     ]
    },
    {
     "name": "stderr",
     "output_type": "stream",
     "text": [
      "C:\\Users\\zl59\\AppData\\Local\\Temp\\ipykernel_15848\\6465438.py:100: RuntimeWarning: Mean of empty slice\n",
      "  wnd = np.nanmean(np.sqrt(u_2**2 + v_2**2), axis=0, keepdims=True)\n",
      "C:\\Users\\zl59\\AppData\\Local\\Temp\\ipykernel_15848\\6465438.py:101: RuntimeWarning: Mean of empty slice\n",
      "  u = np.nanmean(u_2, axis=0, keepdims=True)\n",
      "C:\\Users\\zl59\\AppData\\Local\\Temp\\ipykernel_15848\\6465438.py:102: RuntimeWarning: Mean of empty slice\n",
      "  v = np.nanmean(v_2, axis=0, keepdims=True)\n"
     ]
    },
    {
     "name": "stdout",
     "output_type": "stream",
     "text": [
      "\t E:\\2-Data\\8-CCMP\\Y2018\\M01\\CCMP_RT_Wind_Analysis_20180116_V02.1_L3.0_RSS.nc\n"
     ]
    },
    {
     "name": "stderr",
     "output_type": "stream",
     "text": [
      "C:\\Users\\zl59\\AppData\\Local\\Temp\\ipykernel_15848\\6465438.py:100: RuntimeWarning: Mean of empty slice\n",
      "  wnd = np.nanmean(np.sqrt(u_2**2 + v_2**2), axis=0, keepdims=True)\n",
      "C:\\Users\\zl59\\AppData\\Local\\Temp\\ipykernel_15848\\6465438.py:101: RuntimeWarning: Mean of empty slice\n",
      "  u = np.nanmean(u_2, axis=0, keepdims=True)\n",
      "C:\\Users\\zl59\\AppData\\Local\\Temp\\ipykernel_15848\\6465438.py:102: RuntimeWarning: Mean of empty slice\n",
      "  v = np.nanmean(v_2, axis=0, keepdims=True)\n"
     ]
    },
    {
     "name": "stdout",
     "output_type": "stream",
     "text": [
      "Fail in calculation...\n",
      "2020 185\n",
      "\tYear 2020 ; Begin day 185 ; End day 192\n",
      "\tLoad chl...\n",
      "E:\\2-Data\\5-CHL\\chl.2020185.hdf.npy\n",
      "\t (2160, 4320)\n",
      "\tLoad chl...\n",
      "E:\\2-Data\\5-CHL\\chl.2020177.hdf.npy\n",
      "\t (2160, 4320)\n",
      "\tLoad chl...\n",
      "E:\\2-Data\\5-CHL\\chl.2020193.hdf.npy\n",
      "\t (2160, 4320)\n",
      "\tLoad par...\n",
      "E:\\2-Data\\7-PAR_8D\\par.2020185.hdf.npy\n",
      "\t (2160, 4320)\n",
      "\tLoad par...\n",
      "E:\\2-Data\\7-PAR_8D\\par.2020177.hdf.npy\n",
      "\t (2160, 4320)\n",
      "\tLoad par...\n",
      "E:\\2-Data\\7-PAR_8D\\par.2020193.hdf.npy\n",
      "\t (2160, 4320)\n",
      "\tLoad sst...\n",
      "E:\\2-Data\\13-SST_8D\\sst.2020185.hdf.npy\n",
      "\t (2160, 4320)\n",
      "\tLoad sst...\n",
      "E:\\2-Data\\13-SST_8D\\sst.2020177.hdf.npy\n",
      "\t (2160, 4320)\n",
      "\tLoad sst...\n",
      "E:\\2-Data\\13-SST_8D\\sst.2020193.hdf.npy\n",
      "\t (2160, 4320)\n",
      "\tLoad Wind data...\n",
      "\t E:\\2-Data\\8-CCMP\\Y2020\\M06\\CCMP_RT_Wind_Analysis_20200625_V02.1_L3.0_RSS.nc\n"
     ]
    },
    {
     "name": "stderr",
     "output_type": "stream",
     "text": [
      "C:\\Users\\zl59\\AppData\\Local\\Temp\\ipykernel_15848\\6465438.py:100: RuntimeWarning: Mean of empty slice\n",
      "  wnd = np.nanmean(np.sqrt(u_2**2 + v_2**2), axis=0, keepdims=True)\n",
      "C:\\Users\\zl59\\AppData\\Local\\Temp\\ipykernel_15848\\6465438.py:101: RuntimeWarning: Mean of empty slice\n",
      "  u = np.nanmean(u_2, axis=0, keepdims=True)\n",
      "C:\\Users\\zl59\\AppData\\Local\\Temp\\ipykernel_15848\\6465438.py:102: RuntimeWarning: Mean of empty slice\n",
      "  v = np.nanmean(v_2, axis=0, keepdims=True)\n"
     ]
    },
    {
     "name": "stdout",
     "output_type": "stream",
     "text": [
      "\t E:\\2-Data\\8-CCMP\\Y2020\\M06\\CCMP_RT_Wind_Analysis_20200626_V02.1_L3.0_RSS.nc\n"
     ]
    },
    {
     "name": "stderr",
     "output_type": "stream",
     "text": [
      "C:\\Users\\zl59\\AppData\\Local\\Temp\\ipykernel_15848\\6465438.py:100: RuntimeWarning: Mean of empty slice\n",
      "  wnd = np.nanmean(np.sqrt(u_2**2 + v_2**2), axis=0, keepdims=True)\n",
      "C:\\Users\\zl59\\AppData\\Local\\Temp\\ipykernel_15848\\6465438.py:101: RuntimeWarning: Mean of empty slice\n",
      "  u = np.nanmean(u_2, axis=0, keepdims=True)\n",
      "C:\\Users\\zl59\\AppData\\Local\\Temp\\ipykernel_15848\\6465438.py:102: RuntimeWarning: Mean of empty slice\n",
      "  v = np.nanmean(v_2, axis=0, keepdims=True)\n"
     ]
    },
    {
     "name": "stdout",
     "output_type": "stream",
     "text": [
      "\t E:\\2-Data\\8-CCMP\\Y2020\\M06\\CCMP_RT_Wind_Analysis_20200627_V02.1_L3.0_RSS.nc\n"
     ]
    },
    {
     "name": "stderr",
     "output_type": "stream",
     "text": [
      "C:\\Users\\zl59\\AppData\\Local\\Temp\\ipykernel_15848\\6465438.py:100: RuntimeWarning: Mean of empty slice\n",
      "  wnd = np.nanmean(np.sqrt(u_2**2 + v_2**2), axis=0, keepdims=True)\n",
      "C:\\Users\\zl59\\AppData\\Local\\Temp\\ipykernel_15848\\6465438.py:101: RuntimeWarning: Mean of empty slice\n",
      "  u = np.nanmean(u_2, axis=0, keepdims=True)\n",
      "C:\\Users\\zl59\\AppData\\Local\\Temp\\ipykernel_15848\\6465438.py:102: RuntimeWarning: Mean of empty slice\n",
      "  v = np.nanmean(v_2, axis=0, keepdims=True)\n"
     ]
    },
    {
     "name": "stdout",
     "output_type": "stream",
     "text": [
      "\t E:\\2-Data\\8-CCMP\\Y2020\\M06\\CCMP_RT_Wind_Analysis_20200628_V02.1_L3.0_RSS.nc\n"
     ]
    },
    {
     "name": "stderr",
     "output_type": "stream",
     "text": [
      "C:\\Users\\zl59\\AppData\\Local\\Temp\\ipykernel_15848\\6465438.py:100: RuntimeWarning: Mean of empty slice\n",
      "  wnd = np.nanmean(np.sqrt(u_2**2 + v_2**2), axis=0, keepdims=True)\n",
      "C:\\Users\\zl59\\AppData\\Local\\Temp\\ipykernel_15848\\6465438.py:101: RuntimeWarning: Mean of empty slice\n",
      "  u = np.nanmean(u_2, axis=0, keepdims=True)\n",
      "C:\\Users\\zl59\\AppData\\Local\\Temp\\ipykernel_15848\\6465438.py:102: RuntimeWarning: Mean of empty slice\n",
      "  v = np.nanmean(v_2, axis=0, keepdims=True)\n"
     ]
    },
    {
     "name": "stdout",
     "output_type": "stream",
     "text": [
      "\t E:\\2-Data\\8-CCMP\\Y2020\\M06\\CCMP_RT_Wind_Analysis_20200629_V02.1_L3.0_RSS.nc\n"
     ]
    },
    {
     "name": "stderr",
     "output_type": "stream",
     "text": [
      "C:\\Users\\zl59\\AppData\\Local\\Temp\\ipykernel_15848\\6465438.py:100: RuntimeWarning: Mean of empty slice\n",
      "  wnd = np.nanmean(np.sqrt(u_2**2 + v_2**2), axis=0, keepdims=True)\n",
      "C:\\Users\\zl59\\AppData\\Local\\Temp\\ipykernel_15848\\6465438.py:101: RuntimeWarning: Mean of empty slice\n",
      "  u = np.nanmean(u_2, axis=0, keepdims=True)\n",
      "C:\\Users\\zl59\\AppData\\Local\\Temp\\ipykernel_15848\\6465438.py:102: RuntimeWarning: Mean of empty slice\n",
      "  v = np.nanmean(v_2, axis=0, keepdims=True)\n"
     ]
    },
    {
     "name": "stdout",
     "output_type": "stream",
     "text": [
      "\t E:\\2-Data\\8-CCMP\\Y2020\\M06\\CCMP_RT_Wind_Analysis_20200630_V02.1_L3.0_RSS.nc\n"
     ]
    },
    {
     "name": "stderr",
     "output_type": "stream",
     "text": [
      "C:\\Users\\zl59\\AppData\\Local\\Temp\\ipykernel_15848\\6465438.py:100: RuntimeWarning: Mean of empty slice\n",
      "  wnd = np.nanmean(np.sqrt(u_2**2 + v_2**2), axis=0, keepdims=True)\n",
      "C:\\Users\\zl59\\AppData\\Local\\Temp\\ipykernel_15848\\6465438.py:101: RuntimeWarning: Mean of empty slice\n",
      "  u = np.nanmean(u_2, axis=0, keepdims=True)\n",
      "C:\\Users\\zl59\\AppData\\Local\\Temp\\ipykernel_15848\\6465438.py:102: RuntimeWarning: Mean of empty slice\n",
      "  v = np.nanmean(v_2, axis=0, keepdims=True)\n"
     ]
    },
    {
     "name": "stdout",
     "output_type": "stream",
     "text": [
      "\t E:\\2-Data\\8-CCMP\\Y2020\\M07\\CCMP_RT_Wind_Analysis_20200701_V02.1_L3.0_RSS.nc\n"
     ]
    },
    {
     "name": "stderr",
     "output_type": "stream",
     "text": [
      "C:\\Users\\zl59\\AppData\\Local\\Temp\\ipykernel_15848\\6465438.py:100: RuntimeWarning: Mean of empty slice\n",
      "  wnd = np.nanmean(np.sqrt(u_2**2 + v_2**2), axis=0, keepdims=True)\n",
      "C:\\Users\\zl59\\AppData\\Local\\Temp\\ipykernel_15848\\6465438.py:101: RuntimeWarning: Mean of empty slice\n",
      "  u = np.nanmean(u_2, axis=0, keepdims=True)\n",
      "C:\\Users\\zl59\\AppData\\Local\\Temp\\ipykernel_15848\\6465438.py:102: RuntimeWarning: Mean of empty slice\n",
      "  v = np.nanmean(v_2, axis=0, keepdims=True)\n"
     ]
    },
    {
     "name": "stdout",
     "output_type": "stream",
     "text": [
      "\t E:\\2-Data\\8-CCMP\\Y2020\\M07\\CCMP_RT_Wind_Analysis_20200702_V02.1_L3.0_RSS.nc\n"
     ]
    },
    {
     "name": "stderr",
     "output_type": "stream",
     "text": [
      "C:\\Users\\zl59\\AppData\\Local\\Temp\\ipykernel_15848\\6465438.py:100: RuntimeWarning: Mean of empty slice\n",
      "  wnd = np.nanmean(np.sqrt(u_2**2 + v_2**2), axis=0, keepdims=True)\n",
      "C:\\Users\\zl59\\AppData\\Local\\Temp\\ipykernel_15848\\6465438.py:101: RuntimeWarning: Mean of empty slice\n",
      "  u = np.nanmean(u_2, axis=0, keepdims=True)\n",
      "C:\\Users\\zl59\\AppData\\Local\\Temp\\ipykernel_15848\\6465438.py:102: RuntimeWarning: Mean of empty slice\n",
      "  v = np.nanmean(v_2, axis=0, keepdims=True)\n"
     ]
    },
    {
     "name": "stdout",
     "output_type": "stream",
     "text": [
      "\t E:\\2-Data\\8-CCMP\\Y2020\\M07\\CCMP_RT_Wind_Analysis_20200703_V02.1_L3.0_RSS.nc\n"
     ]
    },
    {
     "name": "stderr",
     "output_type": "stream",
     "text": [
      "C:\\Users\\zl59\\AppData\\Local\\Temp\\ipykernel_15848\\6465438.py:100: RuntimeWarning: Mean of empty slice\n",
      "  wnd = np.nanmean(np.sqrt(u_2**2 + v_2**2), axis=0, keepdims=True)\n",
      "C:\\Users\\zl59\\AppData\\Local\\Temp\\ipykernel_15848\\6465438.py:101: RuntimeWarning: Mean of empty slice\n",
      "  u = np.nanmean(u_2, axis=0, keepdims=True)\n",
      "C:\\Users\\zl59\\AppData\\Local\\Temp\\ipykernel_15848\\6465438.py:102: RuntimeWarning: Mean of empty slice\n",
      "  v = np.nanmean(v_2, axis=0, keepdims=True)\n"
     ]
    },
    {
     "name": "stdout",
     "output_type": "stream",
     "text": [
      "\t E:\\2-Data\\8-CCMP\\Y2020\\M07\\CCMP_RT_Wind_Analysis_20200704_V02.1_L3.0_RSS.nc\n"
     ]
    },
    {
     "name": "stderr",
     "output_type": "stream",
     "text": [
      "C:\\Users\\zl59\\AppData\\Local\\Temp\\ipykernel_15848\\6465438.py:100: RuntimeWarning: Mean of empty slice\n",
      "  wnd = np.nanmean(np.sqrt(u_2**2 + v_2**2), axis=0, keepdims=True)\n",
      "C:\\Users\\zl59\\AppData\\Local\\Temp\\ipykernel_15848\\6465438.py:101: RuntimeWarning: Mean of empty slice\n",
      "  u = np.nanmean(u_2, axis=0, keepdims=True)\n",
      "C:\\Users\\zl59\\AppData\\Local\\Temp\\ipykernel_15848\\6465438.py:102: RuntimeWarning: Mean of empty slice\n",
      "  v = np.nanmean(v_2, axis=0, keepdims=True)\n"
     ]
    },
    {
     "name": "stdout",
     "output_type": "stream",
     "text": [
      "\t E:\\2-Data\\8-CCMP\\Y2020\\M07\\CCMP_RT_Wind_Analysis_20200705_V02.1_L3.0_RSS.nc\n"
     ]
    },
    {
     "name": "stderr",
     "output_type": "stream",
     "text": [
      "C:\\Users\\zl59\\AppData\\Local\\Temp\\ipykernel_15848\\6465438.py:100: RuntimeWarning: Mean of empty slice\n",
      "  wnd = np.nanmean(np.sqrt(u_2**2 + v_2**2), axis=0, keepdims=True)\n",
      "C:\\Users\\zl59\\AppData\\Local\\Temp\\ipykernel_15848\\6465438.py:101: RuntimeWarning: Mean of empty slice\n",
      "  u = np.nanmean(u_2, axis=0, keepdims=True)\n",
      "C:\\Users\\zl59\\AppData\\Local\\Temp\\ipykernel_15848\\6465438.py:102: RuntimeWarning: Mean of empty slice\n",
      "  v = np.nanmean(v_2, axis=0, keepdims=True)\n"
     ]
    },
    {
     "name": "stdout",
     "output_type": "stream",
     "text": [
      "\t E:\\2-Data\\8-CCMP\\Y2020\\M07\\CCMP_RT_Wind_Analysis_20200706_V02.1_L3.0_RSS.nc\n"
     ]
    },
    {
     "name": "stderr",
     "output_type": "stream",
     "text": [
      "C:\\Users\\zl59\\AppData\\Local\\Temp\\ipykernel_15848\\6465438.py:100: RuntimeWarning: Mean of empty slice\n",
      "  wnd = np.nanmean(np.sqrt(u_2**2 + v_2**2), axis=0, keepdims=True)\n",
      "C:\\Users\\zl59\\AppData\\Local\\Temp\\ipykernel_15848\\6465438.py:101: RuntimeWarning: Mean of empty slice\n",
      "  u = np.nanmean(u_2, axis=0, keepdims=True)\n",
      "C:\\Users\\zl59\\AppData\\Local\\Temp\\ipykernel_15848\\6465438.py:102: RuntimeWarning: Mean of empty slice\n",
      "  v = np.nanmean(v_2, axis=0, keepdims=True)\n"
     ]
    },
    {
     "name": "stdout",
     "output_type": "stream",
     "text": [
      "\t E:\\2-Data\\8-CCMP\\Y2020\\M07\\CCMP_RT_Wind_Analysis_20200707_V02.1_L3.0_RSS.nc\n"
     ]
    },
    {
     "name": "stderr",
     "output_type": "stream",
     "text": [
      "C:\\Users\\zl59\\AppData\\Local\\Temp\\ipykernel_15848\\6465438.py:100: RuntimeWarning: Mean of empty slice\n",
      "  wnd = np.nanmean(np.sqrt(u_2**2 + v_2**2), axis=0, keepdims=True)\n",
      "C:\\Users\\zl59\\AppData\\Local\\Temp\\ipykernel_15848\\6465438.py:101: RuntimeWarning: Mean of empty slice\n",
      "  u = np.nanmean(u_2, axis=0, keepdims=True)\n",
      "C:\\Users\\zl59\\AppData\\Local\\Temp\\ipykernel_15848\\6465438.py:102: RuntimeWarning: Mean of empty slice\n",
      "  v = np.nanmean(v_2, axis=0, keepdims=True)\n"
     ]
    },
    {
     "name": "stdout",
     "output_type": "stream",
     "text": [
      "\t E:\\2-Data\\8-CCMP\\Y2020\\M07\\CCMP_RT_Wind_Analysis_20200708_V02.1_L3.0_RSS.nc\n"
     ]
    },
    {
     "name": "stderr",
     "output_type": "stream",
     "text": [
      "C:\\Users\\zl59\\AppData\\Local\\Temp\\ipykernel_15848\\6465438.py:100: RuntimeWarning: Mean of empty slice\n",
      "  wnd = np.nanmean(np.sqrt(u_2**2 + v_2**2), axis=0, keepdims=True)\n",
      "C:\\Users\\zl59\\AppData\\Local\\Temp\\ipykernel_15848\\6465438.py:101: RuntimeWarning: Mean of empty slice\n",
      "  u = np.nanmean(u_2, axis=0, keepdims=True)\n",
      "C:\\Users\\zl59\\AppData\\Local\\Temp\\ipykernel_15848\\6465438.py:102: RuntimeWarning: Mean of empty slice\n",
      "  v = np.nanmean(v_2, axis=0, keepdims=True)\n"
     ]
    },
    {
     "name": "stdout",
     "output_type": "stream",
     "text": [
      "\t E:\\2-Data\\8-CCMP\\Y2020\\M07\\CCMP_RT_Wind_Analysis_20200710_V02.1_L3.0_RSS.nc\n"
     ]
    },
    {
     "name": "stderr",
     "output_type": "stream",
     "text": [
      "C:\\Users\\zl59\\AppData\\Local\\Temp\\ipykernel_15848\\6465438.py:100: RuntimeWarning: Mean of empty slice\n",
      "  wnd = np.nanmean(np.sqrt(u_2**2 + v_2**2), axis=0, keepdims=True)\n",
      "C:\\Users\\zl59\\AppData\\Local\\Temp\\ipykernel_15848\\6465438.py:101: RuntimeWarning: Mean of empty slice\n",
      "  u = np.nanmean(u_2, axis=0, keepdims=True)\n",
      "C:\\Users\\zl59\\AppData\\Local\\Temp\\ipykernel_15848\\6465438.py:102: RuntimeWarning: Mean of empty slice\n",
      "  v = np.nanmean(v_2, axis=0, keepdims=True)\n"
     ]
    },
    {
     "name": "stdout",
     "output_type": "stream",
     "text": [
      "Fail in calculation...\n",
      "2020 193\n",
      "\tYear 2020 ; Begin day 193 ; End day 200\n",
      "\tLoad chl...\n",
      "E:\\2-Data\\5-CHL\\chl.2020193.hdf.npy\n",
      "\t (2160, 4320)\n",
      "\tLoad chl...\n",
      "E:\\2-Data\\5-CHL\\chl.2020185.hdf.npy\n",
      "\t (2160, 4320)\n",
      "\tLoad chl...\n",
      "E:\\2-Data\\5-CHL\\chl.2020201.hdf.npy\n",
      "\t (2160, 4320)\n",
      "\tLoad par...\n",
      "E:\\2-Data\\7-PAR_8D\\par.2020193.hdf.npy\n",
      "\t (2160, 4320)\n",
      "\tLoad par...\n",
      "E:\\2-Data\\7-PAR_8D\\par.2020185.hdf.npy\n",
      "\t (2160, 4320)\n",
      "\tLoad par...\n",
      "E:\\2-Data\\7-PAR_8D\\par.2020201.hdf.npy\n",
      "\t (2160, 4320)\n",
      "\tLoad sst...\n",
      "E:\\2-Data\\13-SST_8D\\sst.2020193.hdf.npy\n",
      "\t (2160, 4320)\n",
      "\tLoad sst...\n",
      "E:\\2-Data\\13-SST_8D\\sst.2020185.hdf.npy\n",
      "\t (2160, 4320)\n",
      "\tLoad sst...\n",
      "E:\\2-Data\\13-SST_8D\\sst.2020201.hdf.npy\n",
      "\t (2160, 4320)\n",
      "\tLoad Wind data...\n",
      "\t E:\\2-Data\\8-CCMP\\Y2020\\M07\\CCMP_RT_Wind_Analysis_20200703_V02.1_L3.0_RSS.nc\n"
     ]
    },
    {
     "name": "stderr",
     "output_type": "stream",
     "text": [
      "C:\\Users\\zl59\\AppData\\Local\\Temp\\ipykernel_15848\\6465438.py:100: RuntimeWarning: Mean of empty slice\n",
      "  wnd = np.nanmean(np.sqrt(u_2**2 + v_2**2), axis=0, keepdims=True)\n",
      "C:\\Users\\zl59\\AppData\\Local\\Temp\\ipykernel_15848\\6465438.py:101: RuntimeWarning: Mean of empty slice\n",
      "  u = np.nanmean(u_2, axis=0, keepdims=True)\n",
      "C:\\Users\\zl59\\AppData\\Local\\Temp\\ipykernel_15848\\6465438.py:102: RuntimeWarning: Mean of empty slice\n",
      "  v = np.nanmean(v_2, axis=0, keepdims=True)\n",
      "C:\\Users\\zl59\\AppData\\Local\\Temp\\ipykernel_15848\\6465438.py:100: RuntimeWarning: Mean of empty slice\n",
      "  wnd = np.nanmean(np.sqrt(u_2**2 + v_2**2), axis=0, keepdims=True)\n"
     ]
    },
    {
     "name": "stdout",
     "output_type": "stream",
     "text": [
      "\t E:\\2-Data\\8-CCMP\\Y2020\\M07\\CCMP_RT_Wind_Analysis_20200704_V02.1_L3.0_RSS.nc\n"
     ]
    },
    {
     "name": "stderr",
     "output_type": "stream",
     "text": [
      "C:\\Users\\zl59\\AppData\\Local\\Temp\\ipykernel_15848\\6465438.py:101: RuntimeWarning: Mean of empty slice\n",
      "  u = np.nanmean(u_2, axis=0, keepdims=True)\n",
      "C:\\Users\\zl59\\AppData\\Local\\Temp\\ipykernel_15848\\6465438.py:102: RuntimeWarning: Mean of empty slice\n",
      "  v = np.nanmean(v_2, axis=0, keepdims=True)\n",
      "C:\\Users\\zl59\\AppData\\Local\\Temp\\ipykernel_15848\\6465438.py:100: RuntimeWarning: Mean of empty slice\n",
      "  wnd = np.nanmean(np.sqrt(u_2**2 + v_2**2), axis=0, keepdims=True)\n"
     ]
    },
    {
     "name": "stdout",
     "output_type": "stream",
     "text": [
      "\t E:\\2-Data\\8-CCMP\\Y2020\\M07\\CCMP_RT_Wind_Analysis_20200705_V02.1_L3.0_RSS.nc\n"
     ]
    },
    {
     "name": "stderr",
     "output_type": "stream",
     "text": [
      "C:\\Users\\zl59\\AppData\\Local\\Temp\\ipykernel_15848\\6465438.py:101: RuntimeWarning: Mean of empty slice\n",
      "  u = np.nanmean(u_2, axis=0, keepdims=True)\n",
      "C:\\Users\\zl59\\AppData\\Local\\Temp\\ipykernel_15848\\6465438.py:102: RuntimeWarning: Mean of empty slice\n",
      "  v = np.nanmean(v_2, axis=0, keepdims=True)\n",
      "C:\\Users\\zl59\\AppData\\Local\\Temp\\ipykernel_15848\\6465438.py:100: RuntimeWarning: Mean of empty slice\n",
      "  wnd = np.nanmean(np.sqrt(u_2**2 + v_2**2), axis=0, keepdims=True)\n"
     ]
    },
    {
     "name": "stdout",
     "output_type": "stream",
     "text": [
      "\t E:\\2-Data\\8-CCMP\\Y2020\\M07\\CCMP_RT_Wind_Analysis_20200706_V02.1_L3.0_RSS.nc\n"
     ]
    },
    {
     "name": "stderr",
     "output_type": "stream",
     "text": [
      "C:\\Users\\zl59\\AppData\\Local\\Temp\\ipykernel_15848\\6465438.py:101: RuntimeWarning: Mean of empty slice\n",
      "  u = np.nanmean(u_2, axis=0, keepdims=True)\n",
      "C:\\Users\\zl59\\AppData\\Local\\Temp\\ipykernel_15848\\6465438.py:102: RuntimeWarning: Mean of empty slice\n",
      "  v = np.nanmean(v_2, axis=0, keepdims=True)\n",
      "C:\\Users\\zl59\\AppData\\Local\\Temp\\ipykernel_15848\\6465438.py:100: RuntimeWarning: Mean of empty slice\n",
      "  wnd = np.nanmean(np.sqrt(u_2**2 + v_2**2), axis=0, keepdims=True)\n"
     ]
    },
    {
     "name": "stdout",
     "output_type": "stream",
     "text": [
      "\t E:\\2-Data\\8-CCMP\\Y2020\\M07\\CCMP_RT_Wind_Analysis_20200707_V02.1_L3.0_RSS.nc\n"
     ]
    },
    {
     "name": "stderr",
     "output_type": "stream",
     "text": [
      "C:\\Users\\zl59\\AppData\\Local\\Temp\\ipykernel_15848\\6465438.py:101: RuntimeWarning: Mean of empty slice\n",
      "  u = np.nanmean(u_2, axis=0, keepdims=True)\n",
      "C:\\Users\\zl59\\AppData\\Local\\Temp\\ipykernel_15848\\6465438.py:102: RuntimeWarning: Mean of empty slice\n",
      "  v = np.nanmean(v_2, axis=0, keepdims=True)\n"
     ]
    },
    {
     "name": "stdout",
     "output_type": "stream",
     "text": [
      "\t E:\\2-Data\\8-CCMP\\Y2020\\M07\\CCMP_RT_Wind_Analysis_20200708_V02.1_L3.0_RSS.nc\n"
     ]
    },
    {
     "name": "stderr",
     "output_type": "stream",
     "text": [
      "C:\\Users\\zl59\\AppData\\Local\\Temp\\ipykernel_15848\\6465438.py:100: RuntimeWarning: Mean of empty slice\n",
      "  wnd = np.nanmean(np.sqrt(u_2**2 + v_2**2), axis=0, keepdims=True)\n",
      "C:\\Users\\zl59\\AppData\\Local\\Temp\\ipykernel_15848\\6465438.py:101: RuntimeWarning: Mean of empty slice\n",
      "  u = np.nanmean(u_2, axis=0, keepdims=True)\n",
      "C:\\Users\\zl59\\AppData\\Local\\Temp\\ipykernel_15848\\6465438.py:102: RuntimeWarning: Mean of empty slice\n",
      "  v = np.nanmean(v_2, axis=0, keepdims=True)\n"
     ]
    },
    {
     "name": "stdout",
     "output_type": "stream",
     "text": [
      "\t E:\\2-Data\\8-CCMP\\Y2020\\M07\\CCMP_RT_Wind_Analysis_20200710_V02.1_L3.0_RSS.nc\n"
     ]
    },
    {
     "name": "stderr",
     "output_type": "stream",
     "text": [
      "C:\\Users\\zl59\\AppData\\Local\\Temp\\ipykernel_15848\\6465438.py:100: RuntimeWarning: Mean of empty slice\n",
      "  wnd = np.nanmean(np.sqrt(u_2**2 + v_2**2), axis=0, keepdims=True)\n",
      "C:\\Users\\zl59\\AppData\\Local\\Temp\\ipykernel_15848\\6465438.py:101: RuntimeWarning: Mean of empty slice\n",
      "  u = np.nanmean(u_2, axis=0, keepdims=True)\n",
      "C:\\Users\\zl59\\AppData\\Local\\Temp\\ipykernel_15848\\6465438.py:102: RuntimeWarning: Mean of empty slice\n",
      "  v = np.nanmean(v_2, axis=0, keepdims=True)\n"
     ]
    },
    {
     "name": "stdout",
     "output_type": "stream",
     "text": [
      "\t E:\\2-Data\\8-CCMP\\Y2020\\M07\\CCMP_RT_Wind_Analysis_20200711_V02.1_L3.0_RSS.nc\n"
     ]
    },
    {
     "name": "stderr",
     "output_type": "stream",
     "text": [
      "C:\\Users\\zl59\\AppData\\Local\\Temp\\ipykernel_15848\\6465438.py:100: RuntimeWarning: Mean of empty slice\n",
      "  wnd = np.nanmean(np.sqrt(u_2**2 + v_2**2), axis=0, keepdims=True)\n",
      "C:\\Users\\zl59\\AppData\\Local\\Temp\\ipykernel_15848\\6465438.py:101: RuntimeWarning: Mean of empty slice\n",
      "  u = np.nanmean(u_2, axis=0, keepdims=True)\n",
      "C:\\Users\\zl59\\AppData\\Local\\Temp\\ipykernel_15848\\6465438.py:102: RuntimeWarning: Mean of empty slice\n",
      "  v = np.nanmean(v_2, axis=0, keepdims=True)\n"
     ]
    },
    {
     "name": "stdout",
     "output_type": "stream",
     "text": [
      "\t E:\\2-Data\\8-CCMP\\Y2020\\M07\\CCMP_RT_Wind_Analysis_20200712_V02.1_L3.0_RSS.nc\n"
     ]
    },
    {
     "name": "stderr",
     "output_type": "stream",
     "text": [
      "C:\\Users\\zl59\\AppData\\Local\\Temp\\ipykernel_15848\\6465438.py:100: RuntimeWarning: Mean of empty slice\n",
      "  wnd = np.nanmean(np.sqrt(u_2**2 + v_2**2), axis=0, keepdims=True)\n",
      "C:\\Users\\zl59\\AppData\\Local\\Temp\\ipykernel_15848\\6465438.py:101: RuntimeWarning: Mean of empty slice\n",
      "  u = np.nanmean(u_2, axis=0, keepdims=True)\n",
      "C:\\Users\\zl59\\AppData\\Local\\Temp\\ipykernel_15848\\6465438.py:102: RuntimeWarning: Mean of empty slice\n",
      "  v = np.nanmean(v_2, axis=0, keepdims=True)\n"
     ]
    },
    {
     "name": "stdout",
     "output_type": "stream",
     "text": [
      "\t E:\\2-Data\\8-CCMP\\Y2020\\M07\\CCMP_RT_Wind_Analysis_20200714_V02.1_L3.0_RSS.nc\n"
     ]
    },
    {
     "name": "stderr",
     "output_type": "stream",
     "text": [
      "C:\\Users\\zl59\\AppData\\Local\\Temp\\ipykernel_15848\\6465438.py:100: RuntimeWarning: Mean of empty slice\n",
      "  wnd = np.nanmean(np.sqrt(u_2**2 + v_2**2), axis=0, keepdims=True)\n",
      "C:\\Users\\zl59\\AppData\\Local\\Temp\\ipykernel_15848\\6465438.py:101: RuntimeWarning: Mean of empty slice\n",
      "  u = np.nanmean(u_2, axis=0, keepdims=True)\n",
      "C:\\Users\\zl59\\AppData\\Local\\Temp\\ipykernel_15848\\6465438.py:102: RuntimeWarning: Mean of empty slice\n",
      "  v = np.nanmean(v_2, axis=0, keepdims=True)\n"
     ]
    },
    {
     "name": "stdout",
     "output_type": "stream",
     "text": [
      "\t E:\\2-Data\\8-CCMP\\Y2020\\M07\\CCMP_RT_Wind_Analysis_20200716_V02.1_L3.0_RSS.nc\n"
     ]
    },
    {
     "name": "stderr",
     "output_type": "stream",
     "text": [
      "C:\\Users\\zl59\\AppData\\Local\\Temp\\ipykernel_15848\\6465438.py:100: RuntimeWarning: Mean of empty slice\n",
      "  wnd = np.nanmean(np.sqrt(u_2**2 + v_2**2), axis=0, keepdims=True)\n",
      "C:\\Users\\zl59\\AppData\\Local\\Temp\\ipykernel_15848\\6465438.py:101: RuntimeWarning: Mean of empty slice\n",
      "  u = np.nanmean(u_2, axis=0, keepdims=True)\n",
      "C:\\Users\\zl59\\AppData\\Local\\Temp\\ipykernel_15848\\6465438.py:102: RuntimeWarning: Mean of empty slice\n",
      "  v = np.nanmean(v_2, axis=0, keepdims=True)\n"
     ]
    },
    {
     "name": "stdout",
     "output_type": "stream",
     "text": [
      "\t E:\\2-Data\\8-CCMP\\Y2020\\M07\\CCMP_RT_Wind_Analysis_20200717_V02.1_L3.0_RSS.nc\n"
     ]
    },
    {
     "name": "stderr",
     "output_type": "stream",
     "text": [
      "C:\\Users\\zl59\\AppData\\Local\\Temp\\ipykernel_15848\\6465438.py:100: RuntimeWarning: Mean of empty slice\n",
      "  wnd = np.nanmean(np.sqrt(u_2**2 + v_2**2), axis=0, keepdims=True)\n",
      "C:\\Users\\zl59\\AppData\\Local\\Temp\\ipykernel_15848\\6465438.py:101: RuntimeWarning: Mean of empty slice\n",
      "  u = np.nanmean(u_2, axis=0, keepdims=True)\n",
      "C:\\Users\\zl59\\AppData\\Local\\Temp\\ipykernel_15848\\6465438.py:102: RuntimeWarning: Mean of empty slice\n",
      "  v = np.nanmean(v_2, axis=0, keepdims=True)\n"
     ]
    },
    {
     "name": "stdout",
     "output_type": "stream",
     "text": [
      "\t E:\\2-Data\\8-CCMP\\Y2020\\M07\\CCMP_RT_Wind_Analysis_20200718_V02.1_L3.0_RSS.nc\n"
     ]
    },
    {
     "name": "stderr",
     "output_type": "stream",
     "text": [
      "C:\\Users\\zl59\\AppData\\Local\\Temp\\ipykernel_15848\\6465438.py:100: RuntimeWarning: Mean of empty slice\n",
      "  wnd = np.nanmean(np.sqrt(u_2**2 + v_2**2), axis=0, keepdims=True)\n",
      "C:\\Users\\zl59\\AppData\\Local\\Temp\\ipykernel_15848\\6465438.py:101: RuntimeWarning: Mean of empty slice\n",
      "  u = np.nanmean(u_2, axis=0, keepdims=True)\n",
      "C:\\Users\\zl59\\AppData\\Local\\Temp\\ipykernel_15848\\6465438.py:102: RuntimeWarning: Mean of empty slice\n",
      "  v = np.nanmean(v_2, axis=0, keepdims=True)\n"
     ]
    },
    {
     "name": "stdout",
     "output_type": "stream",
     "text": [
      "Fail in calculation...\n",
      "2020 201\n",
      "\tYear 2020 ; Begin day 201 ; End day 208\n",
      "\tLoad chl...\n",
      "E:\\2-Data\\5-CHL\\chl.2020201.hdf.npy\n",
      "\t (2160, 4320)\n",
      "\tLoad chl...\n",
      "E:\\2-Data\\5-CHL\\chl.2020193.hdf.npy\n",
      "\t (2160, 4320)\n",
      "\tLoad chl...\n",
      "E:\\2-Data\\5-CHL\\chl.2020209.hdf.npy\n",
      "\t (2160, 4320)\n",
      "\tLoad par...\n",
      "E:\\2-Data\\7-PAR_8D\\par.2020201.hdf.npy\n",
      "\t (2160, 4320)\n",
      "\tLoad par...\n",
      "E:\\2-Data\\7-PAR_8D\\par.2020193.hdf.npy\n",
      "\t (2160, 4320)\n",
      "\tLoad par...\n",
      "E:\\2-Data\\7-PAR_8D\\par.2020209.hdf.npy\n",
      "\t (2160, 4320)\n",
      "\tLoad sst...\n",
      "E:\\2-Data\\13-SST_8D\\sst.2020201.hdf.npy\n",
      "\t (2160, 4320)\n",
      "\tLoad sst...\n",
      "E:\\2-Data\\13-SST_8D\\sst.2020193.hdf.npy\n",
      "\t (2160, 4320)\n",
      "\tLoad sst...\n",
      "E:\\2-Data\\13-SST_8D\\sst.2020209.hdf.npy\n",
      "\t (2160, 4320)\n",
      "\tLoad Wind data...\n",
      "\t E:\\2-Data\\8-CCMP\\Y2020\\M07\\CCMP_RT_Wind_Analysis_20200711_V02.1_L3.0_RSS.nc\n"
     ]
    },
    {
     "name": "stderr",
     "output_type": "stream",
     "text": [
      "C:\\Users\\zl59\\AppData\\Local\\Temp\\ipykernel_15848\\6465438.py:100: RuntimeWarning: Mean of empty slice\n",
      "  wnd = np.nanmean(np.sqrt(u_2**2 + v_2**2), axis=0, keepdims=True)\n",
      "C:\\Users\\zl59\\AppData\\Local\\Temp\\ipykernel_15848\\6465438.py:101: RuntimeWarning: Mean of empty slice\n",
      "  u = np.nanmean(u_2, axis=0, keepdims=True)\n",
      "C:\\Users\\zl59\\AppData\\Local\\Temp\\ipykernel_15848\\6465438.py:102: RuntimeWarning: Mean of empty slice\n",
      "  v = np.nanmean(v_2, axis=0, keepdims=True)\n"
     ]
    },
    {
     "name": "stdout",
     "output_type": "stream",
     "text": [
      "\t E:\\2-Data\\8-CCMP\\Y2020\\M07\\CCMP_RT_Wind_Analysis_20200712_V02.1_L3.0_RSS.nc\n"
     ]
    },
    {
     "name": "stderr",
     "output_type": "stream",
     "text": [
      "C:\\Users\\zl59\\AppData\\Local\\Temp\\ipykernel_15848\\6465438.py:100: RuntimeWarning: Mean of empty slice\n",
      "  wnd = np.nanmean(np.sqrt(u_2**2 + v_2**2), axis=0, keepdims=True)\n",
      "C:\\Users\\zl59\\AppData\\Local\\Temp\\ipykernel_15848\\6465438.py:101: RuntimeWarning: Mean of empty slice\n",
      "  u = np.nanmean(u_2, axis=0, keepdims=True)\n",
      "C:\\Users\\zl59\\AppData\\Local\\Temp\\ipykernel_15848\\6465438.py:102: RuntimeWarning: Mean of empty slice\n",
      "  v = np.nanmean(v_2, axis=0, keepdims=True)\n"
     ]
    },
    {
     "name": "stdout",
     "output_type": "stream",
     "text": [
      "\t E:\\2-Data\\8-CCMP\\Y2020\\M07\\CCMP_RT_Wind_Analysis_20200714_V02.1_L3.0_RSS.nc\n"
     ]
    },
    {
     "name": "stderr",
     "output_type": "stream",
     "text": [
      "C:\\Users\\zl59\\AppData\\Local\\Temp\\ipykernel_15848\\6465438.py:100: RuntimeWarning: Mean of empty slice\n",
      "  wnd = np.nanmean(np.sqrt(u_2**2 + v_2**2), axis=0, keepdims=True)\n",
      "C:\\Users\\zl59\\AppData\\Local\\Temp\\ipykernel_15848\\6465438.py:101: RuntimeWarning: Mean of empty slice\n",
      "  u = np.nanmean(u_2, axis=0, keepdims=True)\n",
      "C:\\Users\\zl59\\AppData\\Local\\Temp\\ipykernel_15848\\6465438.py:102: RuntimeWarning: Mean of empty slice\n",
      "  v = np.nanmean(v_2, axis=0, keepdims=True)\n"
     ]
    },
    {
     "name": "stdout",
     "output_type": "stream",
     "text": [
      "\t E:\\2-Data\\8-CCMP\\Y2020\\M07\\CCMP_RT_Wind_Analysis_20200716_V02.1_L3.0_RSS.nc\n"
     ]
    },
    {
     "name": "stderr",
     "output_type": "stream",
     "text": [
      "C:\\Users\\zl59\\AppData\\Local\\Temp\\ipykernel_15848\\6465438.py:100: RuntimeWarning: Mean of empty slice\n",
      "  wnd = np.nanmean(np.sqrt(u_2**2 + v_2**2), axis=0, keepdims=True)\n",
      "C:\\Users\\zl59\\AppData\\Local\\Temp\\ipykernel_15848\\6465438.py:101: RuntimeWarning: Mean of empty slice\n",
      "  u = np.nanmean(u_2, axis=0, keepdims=True)\n",
      "C:\\Users\\zl59\\AppData\\Local\\Temp\\ipykernel_15848\\6465438.py:102: RuntimeWarning: Mean of empty slice\n",
      "  v = np.nanmean(v_2, axis=0, keepdims=True)\n"
     ]
    },
    {
     "name": "stdout",
     "output_type": "stream",
     "text": [
      "\t E:\\2-Data\\8-CCMP\\Y2020\\M07\\CCMP_RT_Wind_Analysis_20200717_V02.1_L3.0_RSS.nc\n"
     ]
    },
    {
     "name": "stderr",
     "output_type": "stream",
     "text": [
      "C:\\Users\\zl59\\AppData\\Local\\Temp\\ipykernel_15848\\6465438.py:100: RuntimeWarning: Mean of empty slice\n",
      "  wnd = np.nanmean(np.sqrt(u_2**2 + v_2**2), axis=0, keepdims=True)\n",
      "C:\\Users\\zl59\\AppData\\Local\\Temp\\ipykernel_15848\\6465438.py:101: RuntimeWarning: Mean of empty slice\n",
      "  u = np.nanmean(u_2, axis=0, keepdims=True)\n",
      "C:\\Users\\zl59\\AppData\\Local\\Temp\\ipykernel_15848\\6465438.py:102: RuntimeWarning: Mean of empty slice\n",
      "  v = np.nanmean(v_2, axis=0, keepdims=True)\n"
     ]
    },
    {
     "name": "stdout",
     "output_type": "stream",
     "text": [
      "\t E:\\2-Data\\8-CCMP\\Y2020\\M07\\CCMP_RT_Wind_Analysis_20200718_V02.1_L3.0_RSS.nc\n"
     ]
    },
    {
     "name": "stderr",
     "output_type": "stream",
     "text": [
      "C:\\Users\\zl59\\AppData\\Local\\Temp\\ipykernel_15848\\6465438.py:100: RuntimeWarning: Mean of empty slice\n",
      "  wnd = np.nanmean(np.sqrt(u_2**2 + v_2**2), axis=0, keepdims=True)\n",
      "C:\\Users\\zl59\\AppData\\Local\\Temp\\ipykernel_15848\\6465438.py:101: RuntimeWarning: Mean of empty slice\n",
      "  u = np.nanmean(u_2, axis=0, keepdims=True)\n",
      "C:\\Users\\zl59\\AppData\\Local\\Temp\\ipykernel_15848\\6465438.py:102: RuntimeWarning: Mean of empty slice\n",
      "  v = np.nanmean(v_2, axis=0, keepdims=True)\n"
     ]
    },
    {
     "name": "stdout",
     "output_type": "stream",
     "text": [
      "\t E:\\2-Data\\8-CCMP\\Y2020\\M07\\CCMP_RT_Wind_Analysis_20200719_V02.1_L3.0_RSS.nc\n"
     ]
    },
    {
     "name": "stderr",
     "output_type": "stream",
     "text": [
      "C:\\Users\\zl59\\AppData\\Local\\Temp\\ipykernel_15848\\6465438.py:100: RuntimeWarning: Mean of empty slice\n",
      "  wnd = np.nanmean(np.sqrt(u_2**2 + v_2**2), axis=0, keepdims=True)\n",
      "C:\\Users\\zl59\\AppData\\Local\\Temp\\ipykernel_15848\\6465438.py:101: RuntimeWarning: Mean of empty slice\n",
      "  u = np.nanmean(u_2, axis=0, keepdims=True)\n",
      "C:\\Users\\zl59\\AppData\\Local\\Temp\\ipykernel_15848\\6465438.py:102: RuntimeWarning: Mean of empty slice\n",
      "  v = np.nanmean(v_2, axis=0, keepdims=True)\n"
     ]
    },
    {
     "name": "stdout",
     "output_type": "stream",
     "text": [
      "\t E:\\2-Data\\8-CCMP\\Y2020\\M07\\CCMP_RT_Wind_Analysis_20200720_V02.1_L3.0_RSS.nc\n"
     ]
    },
    {
     "name": "stderr",
     "output_type": "stream",
     "text": [
      "C:\\Users\\zl59\\AppData\\Local\\Temp\\ipykernel_15848\\6465438.py:100: RuntimeWarning: Mean of empty slice\n",
      "  wnd = np.nanmean(np.sqrt(u_2**2 + v_2**2), axis=0, keepdims=True)\n",
      "C:\\Users\\zl59\\AppData\\Local\\Temp\\ipykernel_15848\\6465438.py:101: RuntimeWarning: Mean of empty slice\n",
      "  u = np.nanmean(u_2, axis=0, keepdims=True)\n",
      "C:\\Users\\zl59\\AppData\\Local\\Temp\\ipykernel_15848\\6465438.py:102: RuntimeWarning: Mean of empty slice\n",
      "  v = np.nanmean(v_2, axis=0, keepdims=True)\n"
     ]
    },
    {
     "name": "stdout",
     "output_type": "stream",
     "text": [
      "\t E:\\2-Data\\8-CCMP\\Y2020\\M07\\CCMP_RT_Wind_Analysis_20200721_V02.1_L3.0_RSS.nc\n"
     ]
    },
    {
     "name": "stderr",
     "output_type": "stream",
     "text": [
      "C:\\Users\\zl59\\AppData\\Local\\Temp\\ipykernel_15848\\6465438.py:100: RuntimeWarning: Mean of empty slice\n",
      "  wnd = np.nanmean(np.sqrt(u_2**2 + v_2**2), axis=0, keepdims=True)\n",
      "C:\\Users\\zl59\\AppData\\Local\\Temp\\ipykernel_15848\\6465438.py:101: RuntimeWarning: Mean of empty slice\n",
      "  u = np.nanmean(u_2, axis=0, keepdims=True)\n",
      "C:\\Users\\zl59\\AppData\\Local\\Temp\\ipykernel_15848\\6465438.py:102: RuntimeWarning: Mean of empty slice\n",
      "  v = np.nanmean(v_2, axis=0, keepdims=True)\n"
     ]
    },
    {
     "name": "stdout",
     "output_type": "stream",
     "text": [
      "\t E:\\2-Data\\8-CCMP\\Y2020\\M07\\CCMP_RT_Wind_Analysis_20200722_V02.1_L3.0_RSS.nc\n"
     ]
    },
    {
     "name": "stderr",
     "output_type": "stream",
     "text": [
      "C:\\Users\\zl59\\AppData\\Local\\Temp\\ipykernel_15848\\6465438.py:100: RuntimeWarning: Mean of empty slice\n",
      "  wnd = np.nanmean(np.sqrt(u_2**2 + v_2**2), axis=0, keepdims=True)\n",
      "C:\\Users\\zl59\\AppData\\Local\\Temp\\ipykernel_15848\\6465438.py:101: RuntimeWarning: Mean of empty slice\n",
      "  u = np.nanmean(u_2, axis=0, keepdims=True)\n",
      "C:\\Users\\zl59\\AppData\\Local\\Temp\\ipykernel_15848\\6465438.py:102: RuntimeWarning: Mean of empty slice\n",
      "  v = np.nanmean(v_2, axis=0, keepdims=True)\n"
     ]
    },
    {
     "name": "stdout",
     "output_type": "stream",
     "text": [
      "\t E:\\2-Data\\8-CCMP\\Y2020\\M07\\CCMP_RT_Wind_Analysis_20200723_V02.1_L3.0_RSS.nc\n"
     ]
    },
    {
     "name": "stderr",
     "output_type": "stream",
     "text": [
      "C:\\Users\\zl59\\AppData\\Local\\Temp\\ipykernel_15848\\6465438.py:100: RuntimeWarning: Mean of empty slice\n",
      "  wnd = np.nanmean(np.sqrt(u_2**2 + v_2**2), axis=0, keepdims=True)\n",
      "C:\\Users\\zl59\\AppData\\Local\\Temp\\ipykernel_15848\\6465438.py:101: RuntimeWarning: Mean of empty slice\n",
      "  u = np.nanmean(u_2, axis=0, keepdims=True)\n",
      "C:\\Users\\zl59\\AppData\\Local\\Temp\\ipykernel_15848\\6465438.py:102: RuntimeWarning: Mean of empty slice\n",
      "  v = np.nanmean(v_2, axis=0, keepdims=True)\n"
     ]
    },
    {
     "name": "stdout",
     "output_type": "stream",
     "text": [
      "\t E:\\2-Data\\8-CCMP\\Y2020\\M07\\CCMP_RT_Wind_Analysis_20200724_V02.1_L3.0_RSS.nc\n"
     ]
    },
    {
     "name": "stderr",
     "output_type": "stream",
     "text": [
      "C:\\Users\\zl59\\AppData\\Local\\Temp\\ipykernel_15848\\6465438.py:100: RuntimeWarning: Mean of empty slice\n",
      "  wnd = np.nanmean(np.sqrt(u_2**2 + v_2**2), axis=0, keepdims=True)\n",
      "C:\\Users\\zl59\\AppData\\Local\\Temp\\ipykernel_15848\\6465438.py:101: RuntimeWarning: Mean of empty slice\n",
      "  u = np.nanmean(u_2, axis=0, keepdims=True)\n",
      "C:\\Users\\zl59\\AppData\\Local\\Temp\\ipykernel_15848\\6465438.py:102: RuntimeWarning: Mean of empty slice\n",
      "  v = np.nanmean(v_2, axis=0, keepdims=True)\n"
     ]
    },
    {
     "name": "stdout",
     "output_type": "stream",
     "text": [
      "\t E:\\2-Data\\8-CCMP\\Y2020\\M07\\CCMP_RT_Wind_Analysis_20200725_V02.1_L3.0_RSS.nc\n"
     ]
    },
    {
     "name": "stderr",
     "output_type": "stream",
     "text": [
      "C:\\Users\\zl59\\AppData\\Local\\Temp\\ipykernel_15848\\6465438.py:100: RuntimeWarning: Mean of empty slice\n",
      "  wnd = np.nanmean(np.sqrt(u_2**2 + v_2**2), axis=0, keepdims=True)\n",
      "C:\\Users\\zl59\\AppData\\Local\\Temp\\ipykernel_15848\\6465438.py:101: RuntimeWarning: Mean of empty slice\n",
      "  u = np.nanmean(u_2, axis=0, keepdims=True)\n",
      "C:\\Users\\zl59\\AppData\\Local\\Temp\\ipykernel_15848\\6465438.py:102: RuntimeWarning: Mean of empty slice\n",
      "  v = np.nanmean(v_2, axis=0, keepdims=True)\n"
     ]
    },
    {
     "name": "stdout",
     "output_type": "stream",
     "text": [
      "\t E:\\2-Data\\8-CCMP\\Y2020\\M07\\CCMP_RT_Wind_Analysis_20200726_V02.1_L3.0_RSS.nc\n"
     ]
    },
    {
     "name": "stderr",
     "output_type": "stream",
     "text": [
      "C:\\Users\\zl59\\AppData\\Local\\Temp\\ipykernel_15848\\6465438.py:100: RuntimeWarning: Mean of empty slice\n",
      "  wnd = np.nanmean(np.sqrt(u_2**2 + v_2**2), axis=0, keepdims=True)\n",
      "C:\\Users\\zl59\\AppData\\Local\\Temp\\ipykernel_15848\\6465438.py:101: RuntimeWarning: Mean of empty slice\n",
      "  u = np.nanmean(u_2, axis=0, keepdims=True)\n",
      "C:\\Users\\zl59\\AppData\\Local\\Temp\\ipykernel_15848\\6465438.py:102: RuntimeWarning: Mean of empty slice\n",
      "  v = np.nanmean(v_2, axis=0, keepdims=True)\n"
     ]
    },
    {
     "name": "stdout",
     "output_type": "stream",
     "text": [
      "Fail in calculation...\n",
      "2020 217\n",
      "\tYear 2020 ; Begin day 217 ; End day 224\n",
      "\tLoad chl...\n",
      "E:\\2-Data\\5-CHL\\chl.2020217.hdf.npy\n",
      "\t (2160, 4320)\n",
      "\tLoad chl...\n",
      "E:\\2-Data\\5-CHL\\chl.2020209.hdf.npy\n",
      "\t (2160, 4320)\n",
      "\tLoad chl...\n",
      "E:\\2-Data\\5-CHL\\chl.2020225.hdf.npy\n",
      "\t (2160, 4320)\n",
      "\tLoad par...\n",
      "E:\\2-Data\\7-PAR_8D\\par.2020217.hdf.npy\n",
      "\t (2160, 4320)\n",
      "\tLoad par...\n",
      "E:\\2-Data\\7-PAR_8D\\par.2020209.hdf.npy\n",
      "\t (2160, 4320)\n",
      "\tLoad par...\n",
      "E:\\2-Data\\7-PAR_8D\\par.2020225.hdf.npy\n",
      "\t (2160, 4320)\n",
      "\tLoad sst...\n",
      "E:\\2-Data\\13-SST_8D\\sst.2020217.hdf.npy\n",
      "\t (2160, 4320)\n",
      "\tLoad sst...\n",
      "E:\\2-Data\\13-SST_8D\\sst.2020209.hdf.npy\n",
      "\t (2160, 4320)\n",
      "\tLoad sst...\n",
      "E:\\2-Data\\13-SST_8D\\sst.2020225.hdf.npy\n",
      "\t (2160, 4320)\n",
      "\tLoad Wind data...\n",
      "\t E:\\2-Data\\8-CCMP\\Y2020\\M07\\CCMP_RT_Wind_Analysis_20200727_V02.1_L3.0_RSS.nc\n"
     ]
    },
    {
     "name": "stderr",
     "output_type": "stream",
     "text": [
      "C:\\Users\\zl59\\AppData\\Local\\Temp\\ipykernel_15848\\6465438.py:100: RuntimeWarning: Mean of empty slice\n",
      "  wnd = np.nanmean(np.sqrt(u_2**2 + v_2**2), axis=0, keepdims=True)\n",
      "C:\\Users\\zl59\\AppData\\Local\\Temp\\ipykernel_15848\\6465438.py:101: RuntimeWarning: Mean of empty slice\n",
      "  u = np.nanmean(u_2, axis=0, keepdims=True)\n",
      "C:\\Users\\zl59\\AppData\\Local\\Temp\\ipykernel_15848\\6465438.py:102: RuntimeWarning: Mean of empty slice\n",
      "  v = np.nanmean(v_2, axis=0, keepdims=True)\n"
     ]
    },
    {
     "name": "stdout",
     "output_type": "stream",
     "text": [
      "\t E:\\2-Data\\8-CCMP\\Y2020\\M07\\CCMP_RT_Wind_Analysis_20200728_V02.1_L3.0_RSS.nc\n"
     ]
    },
    {
     "name": "stderr",
     "output_type": "stream",
     "text": [
      "C:\\Users\\zl59\\AppData\\Local\\Temp\\ipykernel_15848\\6465438.py:100: RuntimeWarning: Mean of empty slice\n",
      "  wnd = np.nanmean(np.sqrt(u_2**2 + v_2**2), axis=0, keepdims=True)\n",
      "C:\\Users\\zl59\\AppData\\Local\\Temp\\ipykernel_15848\\6465438.py:101: RuntimeWarning: Mean of empty slice\n",
      "  u = np.nanmean(u_2, axis=0, keepdims=True)\n",
      "C:\\Users\\zl59\\AppData\\Local\\Temp\\ipykernel_15848\\6465438.py:102: RuntimeWarning: Mean of empty slice\n",
      "  v = np.nanmean(v_2, axis=0, keepdims=True)\n"
     ]
    },
    {
     "name": "stdout",
     "output_type": "stream",
     "text": [
      "\t E:\\2-Data\\8-CCMP\\Y2020\\M07\\CCMP_RT_Wind_Analysis_20200729_V02.1_L3.0_RSS.nc\n"
     ]
    },
    {
     "name": "stderr",
     "output_type": "stream",
     "text": [
      "C:\\Users\\zl59\\AppData\\Local\\Temp\\ipykernel_15848\\6465438.py:100: RuntimeWarning: Mean of empty slice\n",
      "  wnd = np.nanmean(np.sqrt(u_2**2 + v_2**2), axis=0, keepdims=True)\n",
      "C:\\Users\\zl59\\AppData\\Local\\Temp\\ipykernel_15848\\6465438.py:101: RuntimeWarning: Mean of empty slice\n",
      "  u = np.nanmean(u_2, axis=0, keepdims=True)\n",
      "C:\\Users\\zl59\\AppData\\Local\\Temp\\ipykernel_15848\\6465438.py:102: RuntimeWarning: Mean of empty slice\n",
      "  v = np.nanmean(v_2, axis=0, keepdims=True)\n"
     ]
    },
    {
     "name": "stdout",
     "output_type": "stream",
     "text": [
      "\t E:\\2-Data\\8-CCMP\\Y2020\\M07\\CCMP_RT_Wind_Analysis_20200730_V02.1_L3.0_RSS.nc\n"
     ]
    },
    {
     "name": "stderr",
     "output_type": "stream",
     "text": [
      "C:\\Users\\zl59\\AppData\\Local\\Temp\\ipykernel_15848\\6465438.py:100: RuntimeWarning: Mean of empty slice\n",
      "  wnd = np.nanmean(np.sqrt(u_2**2 + v_2**2), axis=0, keepdims=True)\n",
      "C:\\Users\\zl59\\AppData\\Local\\Temp\\ipykernel_15848\\6465438.py:101: RuntimeWarning: Mean of empty slice\n",
      "  u = np.nanmean(u_2, axis=0, keepdims=True)\n",
      "C:\\Users\\zl59\\AppData\\Local\\Temp\\ipykernel_15848\\6465438.py:102: RuntimeWarning: Mean of empty slice\n",
      "  v = np.nanmean(v_2, axis=0, keepdims=True)\n"
     ]
    },
    {
     "name": "stdout",
     "output_type": "stream",
     "text": [
      "\t E:\\2-Data\\8-CCMP\\Y2020\\M07\\CCMP_RT_Wind_Analysis_20200731_V02.1_L3.0_RSS.nc\n"
     ]
    },
    {
     "name": "stderr",
     "output_type": "stream",
     "text": [
      "C:\\Users\\zl59\\AppData\\Local\\Temp\\ipykernel_15848\\6465438.py:100: RuntimeWarning: Mean of empty slice\n",
      "  wnd = np.nanmean(np.sqrt(u_2**2 + v_2**2), axis=0, keepdims=True)\n",
      "C:\\Users\\zl59\\AppData\\Local\\Temp\\ipykernel_15848\\6465438.py:101: RuntimeWarning: Mean of empty slice\n",
      "  u = np.nanmean(u_2, axis=0, keepdims=True)\n",
      "C:\\Users\\zl59\\AppData\\Local\\Temp\\ipykernel_15848\\6465438.py:102: RuntimeWarning: Mean of empty slice\n",
      "  v = np.nanmean(v_2, axis=0, keepdims=True)\n"
     ]
    },
    {
     "name": "stdout",
     "output_type": "stream",
     "text": [
      "\t E:\\2-Data\\8-CCMP\\Y2020\\M08\\CCMP_RT_Wind_Analysis_20200801_V02.1_L3.0_RSS.nc\n"
     ]
    },
    {
     "name": "stderr",
     "output_type": "stream",
     "text": [
      "C:\\Users\\zl59\\AppData\\Local\\Temp\\ipykernel_15848\\6465438.py:100: RuntimeWarning: Mean of empty slice\n",
      "  wnd = np.nanmean(np.sqrt(u_2**2 + v_2**2), axis=0, keepdims=True)\n",
      "C:\\Users\\zl59\\AppData\\Local\\Temp\\ipykernel_15848\\6465438.py:101: RuntimeWarning: Mean of empty slice\n",
      "  u = np.nanmean(u_2, axis=0, keepdims=True)\n",
      "C:\\Users\\zl59\\AppData\\Local\\Temp\\ipykernel_15848\\6465438.py:102: RuntimeWarning: Mean of empty slice\n",
      "  v = np.nanmean(v_2, axis=0, keepdims=True)\n"
     ]
    },
    {
     "name": "stdout",
     "output_type": "stream",
     "text": [
      "\t E:\\2-Data\\8-CCMP\\Y2020\\M08\\CCMP_RT_Wind_Analysis_20200802_V02.1_L3.0_RSS.nc\n"
     ]
    },
    {
     "name": "stderr",
     "output_type": "stream",
     "text": [
      "C:\\Users\\zl59\\AppData\\Local\\Temp\\ipykernel_15848\\6465438.py:100: RuntimeWarning: Mean of empty slice\n",
      "  wnd = np.nanmean(np.sqrt(u_2**2 + v_2**2), axis=0, keepdims=True)\n",
      "C:\\Users\\zl59\\AppData\\Local\\Temp\\ipykernel_15848\\6465438.py:101: RuntimeWarning: Mean of empty slice\n",
      "  u = np.nanmean(u_2, axis=0, keepdims=True)\n",
      "C:\\Users\\zl59\\AppData\\Local\\Temp\\ipykernel_15848\\6465438.py:102: RuntimeWarning: Mean of empty slice\n",
      "  v = np.nanmean(v_2, axis=0, keepdims=True)\n"
     ]
    },
    {
     "name": "stdout",
     "output_type": "stream",
     "text": [
      "\t E:\\2-Data\\8-CCMP\\Y2020\\M08\\CCMP_RT_Wind_Analysis_20200803_V02.1_L3.0_RSS.nc\n"
     ]
    },
    {
     "name": "stderr",
     "output_type": "stream",
     "text": [
      "C:\\Users\\zl59\\AppData\\Local\\Temp\\ipykernel_15848\\6465438.py:100: RuntimeWarning: Mean of empty slice\n",
      "  wnd = np.nanmean(np.sqrt(u_2**2 + v_2**2), axis=0, keepdims=True)\n",
      "C:\\Users\\zl59\\AppData\\Local\\Temp\\ipykernel_15848\\6465438.py:101: RuntimeWarning: Mean of empty slice\n",
      "  u = np.nanmean(u_2, axis=0, keepdims=True)\n",
      "C:\\Users\\zl59\\AppData\\Local\\Temp\\ipykernel_15848\\6465438.py:102: RuntimeWarning: Mean of empty slice\n",
      "  v = np.nanmean(v_2, axis=0, keepdims=True)\n"
     ]
    },
    {
     "name": "stdout",
     "output_type": "stream",
     "text": [
      "\t E:\\2-Data\\8-CCMP\\Y2020\\M08\\CCMP_RT_Wind_Analysis_20200805_V02.1_L3.0_RSS.nc\n"
     ]
    },
    {
     "name": "stderr",
     "output_type": "stream",
     "text": [
      "C:\\Users\\zl59\\AppData\\Local\\Temp\\ipykernel_15848\\6465438.py:100: RuntimeWarning: Mean of empty slice\n",
      "  wnd = np.nanmean(np.sqrt(u_2**2 + v_2**2), axis=0, keepdims=True)\n",
      "C:\\Users\\zl59\\AppData\\Local\\Temp\\ipykernel_15848\\6465438.py:101: RuntimeWarning: Mean of empty slice\n",
      "  u = np.nanmean(u_2, axis=0, keepdims=True)\n",
      "C:\\Users\\zl59\\AppData\\Local\\Temp\\ipykernel_15848\\6465438.py:102: RuntimeWarning: Mean of empty slice\n",
      "  v = np.nanmean(v_2, axis=0, keepdims=True)\n"
     ]
    },
    {
     "name": "stdout",
     "output_type": "stream",
     "text": [
      "\t E:\\2-Data\\8-CCMP\\Y2020\\M08\\CCMP_RT_Wind_Analysis_20200806_V02.1_L3.0_RSS.nc\n"
     ]
    },
    {
     "name": "stderr",
     "output_type": "stream",
     "text": [
      "C:\\Users\\zl59\\AppData\\Local\\Temp\\ipykernel_15848\\6465438.py:100: RuntimeWarning: Mean of empty slice\n",
      "  wnd = np.nanmean(np.sqrt(u_2**2 + v_2**2), axis=0, keepdims=True)\n",
      "C:\\Users\\zl59\\AppData\\Local\\Temp\\ipykernel_15848\\6465438.py:101: RuntimeWarning: Mean of empty slice\n",
      "  u = np.nanmean(u_2, axis=0, keepdims=True)\n",
      "C:\\Users\\zl59\\AppData\\Local\\Temp\\ipykernel_15848\\6465438.py:102: RuntimeWarning: Mean of empty slice\n",
      "  v = np.nanmean(v_2, axis=0, keepdims=True)\n"
     ]
    },
    {
     "name": "stdout",
     "output_type": "stream",
     "text": [
      "\t E:\\2-Data\\8-CCMP\\Y2020\\M08\\CCMP_RT_Wind_Analysis_20200807_V02.1_L3.0_RSS.nc\n"
     ]
    },
    {
     "name": "stderr",
     "output_type": "stream",
     "text": [
      "C:\\Users\\zl59\\AppData\\Local\\Temp\\ipykernel_15848\\6465438.py:100: RuntimeWarning: Mean of empty slice\n",
      "  wnd = np.nanmean(np.sqrt(u_2**2 + v_2**2), axis=0, keepdims=True)\n",
      "C:\\Users\\zl59\\AppData\\Local\\Temp\\ipykernel_15848\\6465438.py:101: RuntimeWarning: Mean of empty slice\n",
      "  u = np.nanmean(u_2, axis=0, keepdims=True)\n",
      "C:\\Users\\zl59\\AppData\\Local\\Temp\\ipykernel_15848\\6465438.py:102: RuntimeWarning: Mean of empty slice\n",
      "  v = np.nanmean(v_2, axis=0, keepdims=True)\n"
     ]
    },
    {
     "name": "stdout",
     "output_type": "stream",
     "text": [
      "\t E:\\2-Data\\8-CCMP\\Y2020\\M08\\CCMP_RT_Wind_Analysis_20200808_V02.1_L3.0_RSS.nc\n"
     ]
    },
    {
     "name": "stderr",
     "output_type": "stream",
     "text": [
      "C:\\Users\\zl59\\AppData\\Local\\Temp\\ipykernel_15848\\6465438.py:100: RuntimeWarning: Mean of empty slice\n",
      "  wnd = np.nanmean(np.sqrt(u_2**2 + v_2**2), axis=0, keepdims=True)\n",
      "C:\\Users\\zl59\\AppData\\Local\\Temp\\ipykernel_15848\\6465438.py:101: RuntimeWarning: Mean of empty slice\n",
      "  u = np.nanmean(u_2, axis=0, keepdims=True)\n",
      "C:\\Users\\zl59\\AppData\\Local\\Temp\\ipykernel_15848\\6465438.py:102: RuntimeWarning: Mean of empty slice\n",
      "  v = np.nanmean(v_2, axis=0, keepdims=True)\n"
     ]
    },
    {
     "name": "stdout",
     "output_type": "stream",
     "text": [
      "\t E:\\2-Data\\8-CCMP\\Y2020\\M08\\CCMP_RT_Wind_Analysis_20200810_V02.1_L3.0_RSS.nc\n"
     ]
    },
    {
     "name": "stderr",
     "output_type": "stream",
     "text": [
      "C:\\Users\\zl59\\AppData\\Local\\Temp\\ipykernel_15848\\6465438.py:100: RuntimeWarning: Mean of empty slice\n",
      "  wnd = np.nanmean(np.sqrt(u_2**2 + v_2**2), axis=0, keepdims=True)\n",
      "C:\\Users\\zl59\\AppData\\Local\\Temp\\ipykernel_15848\\6465438.py:101: RuntimeWarning: Mean of empty slice\n",
      "  u = np.nanmean(u_2, axis=0, keepdims=True)\n",
      "C:\\Users\\zl59\\AppData\\Local\\Temp\\ipykernel_15848\\6465438.py:102: RuntimeWarning: Mean of empty slice\n",
      "  v = np.nanmean(v_2, axis=0, keepdims=True)\n"
     ]
    },
    {
     "name": "stdout",
     "output_type": "stream",
     "text": [
      "Fail in calculation...\n",
      "2020 225\n",
      "\tYear 2020 ; Begin day 225 ; End day 232\n",
      "\tLoad chl...\n",
      "E:\\2-Data\\5-CHL\\chl.2020225.hdf.npy\n",
      "\t (2160, 4320)\n",
      "\tLoad chl...\n",
      "E:\\2-Data\\5-CHL\\chl.2020217.hdf.npy\n",
      "\t (2160, 4320)\n",
      "\tLoad chl...\n",
      "E:\\2-Data\\5-CHL\\chl.2020233.hdf.npy\n",
      "\t (2160, 4320)\n",
      "\tLoad par...\n",
      "E:\\2-Data\\7-PAR_8D\\par.2020225.hdf.npy\n",
      "\t (2160, 4320)\n",
      "\tLoad par...\n",
      "E:\\2-Data\\7-PAR_8D\\par.2020217.hdf.npy\n",
      "\t (2160, 4320)\n",
      "\tLoad par...\n",
      "E:\\2-Data\\7-PAR_8D\\par.2020233.hdf.npy\n",
      "\t (2160, 4320)\n",
      "\tLoad sst...\n",
      "E:\\2-Data\\13-SST_8D\\sst.2020225.hdf.npy\n",
      "\t (2160, 4320)\n",
      "\tLoad sst...\n",
      "E:\\2-Data\\13-SST_8D\\sst.2020217.hdf.npy\n",
      "\t (2160, 4320)\n",
      "\tLoad sst...\n",
      "E:\\2-Data\\13-SST_8D\\sst.2020233.hdf.npy\n",
      "\t (2160, 4320)\n",
      "\tLoad Wind data...\n",
      "\t E:\\2-Data\\8-CCMP\\Y2020\\M08\\CCMP_RT_Wind_Analysis_20200805_V02.1_L3.0_RSS.nc\n",
      "\t E:\\2-Data\\8-CCMP\\Y2020\\M08\\CCMP_RT_Wind_Analysis_20200806_V02.1_L3.0_RSS.nc\n"
     ]
    },
    {
     "name": "stderr",
     "output_type": "stream",
     "text": [
      "C:\\Users\\zl59\\AppData\\Local\\Temp\\ipykernel_15848\\6465438.py:100: RuntimeWarning: Mean of empty slice\n",
      "  wnd = np.nanmean(np.sqrt(u_2**2 + v_2**2), axis=0, keepdims=True)\n",
      "C:\\Users\\zl59\\AppData\\Local\\Temp\\ipykernel_15848\\6465438.py:101: RuntimeWarning: Mean of empty slice\n",
      "  u = np.nanmean(u_2, axis=0, keepdims=True)\n",
      "C:\\Users\\zl59\\AppData\\Local\\Temp\\ipykernel_15848\\6465438.py:102: RuntimeWarning: Mean of empty slice\n",
      "  v = np.nanmean(v_2, axis=0, keepdims=True)\n",
      "C:\\Users\\zl59\\AppData\\Local\\Temp\\ipykernel_15848\\6465438.py:100: RuntimeWarning: Mean of empty slice\n",
      "  wnd = np.nanmean(np.sqrt(u_2**2 + v_2**2), axis=0, keepdims=True)\n",
      "C:\\Users\\zl59\\AppData\\Local\\Temp\\ipykernel_15848\\6465438.py:101: RuntimeWarning: Mean of empty slice\n",
      "  u = np.nanmean(u_2, axis=0, keepdims=True)\n",
      "C:\\Users\\zl59\\AppData\\Local\\Temp\\ipykernel_15848\\6465438.py:102: RuntimeWarning: Mean of empty slice\n",
      "  v = np.nanmean(v_2, axis=0, keepdims=True)\n",
      "C:\\Users\\zl59\\AppData\\Local\\Temp\\ipykernel_15848\\6465438.py:100: RuntimeWarning: Mean of empty slice\n",
      "  wnd = np.nanmean(np.sqrt(u_2**2 + v_2**2), axis=0, keepdims=True)\n",
      "C:\\Users\\zl59\\AppData\\Local\\Temp\\ipykernel_15848\\6465438.py:101: RuntimeWarning: Mean of empty slice\n",
      "  u = np.nanmean(u_2, axis=0, keepdims=True)\n"
     ]
    },
    {
     "name": "stdout",
     "output_type": "stream",
     "text": [
      "\t E:\\2-Data\\8-CCMP\\Y2020\\M08\\CCMP_RT_Wind_Analysis_20200807_V02.1_L3.0_RSS.nc\n"
     ]
    },
    {
     "name": "stderr",
     "output_type": "stream",
     "text": [
      "C:\\Users\\zl59\\AppData\\Local\\Temp\\ipykernel_15848\\6465438.py:102: RuntimeWarning: Mean of empty slice\n",
      "  v = np.nanmean(v_2, axis=0, keepdims=True)\n",
      "C:\\Users\\zl59\\AppData\\Local\\Temp\\ipykernel_15848\\6465438.py:100: RuntimeWarning: Mean of empty slice\n",
      "  wnd = np.nanmean(np.sqrt(u_2**2 + v_2**2), axis=0, keepdims=True)\n",
      "C:\\Users\\zl59\\AppData\\Local\\Temp\\ipykernel_15848\\6465438.py:101: RuntimeWarning: Mean of empty slice\n",
      "  u = np.nanmean(u_2, axis=0, keepdims=True)\n",
      "C:\\Users\\zl59\\AppData\\Local\\Temp\\ipykernel_15848\\6465438.py:102: RuntimeWarning: Mean of empty slice\n",
      "  v = np.nanmean(v_2, axis=0, keepdims=True)\n"
     ]
    },
    {
     "name": "stdout",
     "output_type": "stream",
     "text": [
      "\t E:\\2-Data\\8-CCMP\\Y2020\\M08\\CCMP_RT_Wind_Analysis_20200808_V02.1_L3.0_RSS.nc\n",
      "\t E:\\2-Data\\8-CCMP\\Y2020\\M08\\CCMP_RT_Wind_Analysis_20200810_V02.1_L3.0_RSS.nc\n"
     ]
    },
    {
     "name": "stderr",
     "output_type": "stream",
     "text": [
      "C:\\Users\\zl59\\AppData\\Local\\Temp\\ipykernel_15848\\6465438.py:100: RuntimeWarning: Mean of empty slice\n",
      "  wnd = np.nanmean(np.sqrt(u_2**2 + v_2**2), axis=0, keepdims=True)\n",
      "C:\\Users\\zl59\\AppData\\Local\\Temp\\ipykernel_15848\\6465438.py:101: RuntimeWarning: Mean of empty slice\n",
      "  u = np.nanmean(u_2, axis=0, keepdims=True)\n",
      "C:\\Users\\zl59\\AppData\\Local\\Temp\\ipykernel_15848\\6465438.py:102: RuntimeWarning: Mean of empty slice\n",
      "  v = np.nanmean(v_2, axis=0, keepdims=True)\n"
     ]
    },
    {
     "name": "stdout",
     "output_type": "stream",
     "text": [
      "\t E:\\2-Data\\8-CCMP\\Y2020\\M08\\CCMP_RT_Wind_Analysis_20200812_V02.1_L3.0_RSS.nc\n"
     ]
    },
    {
     "name": "stderr",
     "output_type": "stream",
     "text": [
      "C:\\Users\\zl59\\AppData\\Local\\Temp\\ipykernel_15848\\6465438.py:100: RuntimeWarning: Mean of empty slice\n",
      "  wnd = np.nanmean(np.sqrt(u_2**2 + v_2**2), axis=0, keepdims=True)\n",
      "C:\\Users\\zl59\\AppData\\Local\\Temp\\ipykernel_15848\\6465438.py:101: RuntimeWarning: Mean of empty slice\n",
      "  u = np.nanmean(u_2, axis=0, keepdims=True)\n",
      "C:\\Users\\zl59\\AppData\\Local\\Temp\\ipykernel_15848\\6465438.py:102: RuntimeWarning: Mean of empty slice\n",
      "  v = np.nanmean(v_2, axis=0, keepdims=True)\n"
     ]
    },
    {
     "name": "stdout",
     "output_type": "stream",
     "text": [
      "\t E:\\2-Data\\8-CCMP\\Y2020\\M08\\CCMP_RT_Wind_Analysis_20200813_V02.1_L3.0_RSS.nc\n"
     ]
    },
    {
     "name": "stderr",
     "output_type": "stream",
     "text": [
      "C:\\Users\\zl59\\AppData\\Local\\Temp\\ipykernel_15848\\6465438.py:100: RuntimeWarning: Mean of empty slice\n",
      "  wnd = np.nanmean(np.sqrt(u_2**2 + v_2**2), axis=0, keepdims=True)\n",
      "C:\\Users\\zl59\\AppData\\Local\\Temp\\ipykernel_15848\\6465438.py:101: RuntimeWarning: Mean of empty slice\n",
      "  u = np.nanmean(u_2, axis=0, keepdims=True)\n",
      "C:\\Users\\zl59\\AppData\\Local\\Temp\\ipykernel_15848\\6465438.py:102: RuntimeWarning: Mean of empty slice\n",
      "  v = np.nanmean(v_2, axis=0, keepdims=True)\n"
     ]
    },
    {
     "name": "stdout",
     "output_type": "stream",
     "text": [
      "\t E:\\2-Data\\8-CCMP\\Y2020\\M08\\CCMP_RT_Wind_Analysis_20200814_V02.1_L3.0_RSS.nc\n"
     ]
    },
    {
     "name": "stderr",
     "output_type": "stream",
     "text": [
      "C:\\Users\\zl59\\AppData\\Local\\Temp\\ipykernel_15848\\6465438.py:100: RuntimeWarning: Mean of empty slice\n",
      "  wnd = np.nanmean(np.sqrt(u_2**2 + v_2**2), axis=0, keepdims=True)\n",
      "C:\\Users\\zl59\\AppData\\Local\\Temp\\ipykernel_15848\\6465438.py:101: RuntimeWarning: Mean of empty slice\n",
      "  u = np.nanmean(u_2, axis=0, keepdims=True)\n",
      "C:\\Users\\zl59\\AppData\\Local\\Temp\\ipykernel_15848\\6465438.py:102: RuntimeWarning: Mean of empty slice\n",
      "  v = np.nanmean(v_2, axis=0, keepdims=True)\n"
     ]
    },
    {
     "name": "stdout",
     "output_type": "stream",
     "text": [
      "\t E:\\2-Data\\8-CCMP\\Y2020\\M08\\CCMP_RT_Wind_Analysis_20200815_V02.1_L3.0_RSS.nc\n"
     ]
    },
    {
     "name": "stderr",
     "output_type": "stream",
     "text": [
      "C:\\Users\\zl59\\AppData\\Local\\Temp\\ipykernel_15848\\6465438.py:100: RuntimeWarning: Mean of empty slice\n",
      "  wnd = np.nanmean(np.sqrt(u_2**2 + v_2**2), axis=0, keepdims=True)\n",
      "C:\\Users\\zl59\\AppData\\Local\\Temp\\ipykernel_15848\\6465438.py:101: RuntimeWarning: Mean of empty slice\n",
      "  u = np.nanmean(u_2, axis=0, keepdims=True)\n",
      "C:\\Users\\zl59\\AppData\\Local\\Temp\\ipykernel_15848\\6465438.py:102: RuntimeWarning: Mean of empty slice\n",
      "  v = np.nanmean(v_2, axis=0, keepdims=True)\n"
     ]
    },
    {
     "name": "stdout",
     "output_type": "stream",
     "text": [
      "\t E:\\2-Data\\8-CCMP\\Y2020\\M08\\CCMP_RT_Wind_Analysis_20200816_V02.1_L3.0_RSS.nc\n"
     ]
    },
    {
     "name": "stderr",
     "output_type": "stream",
     "text": [
      "C:\\Users\\zl59\\AppData\\Local\\Temp\\ipykernel_15848\\6465438.py:100: RuntimeWarning: Mean of empty slice\n",
      "  wnd = np.nanmean(np.sqrt(u_2**2 + v_2**2), axis=0, keepdims=True)\n",
      "C:\\Users\\zl59\\AppData\\Local\\Temp\\ipykernel_15848\\6465438.py:101: RuntimeWarning: Mean of empty slice\n",
      "  u = np.nanmean(u_2, axis=0, keepdims=True)\n",
      "C:\\Users\\zl59\\AppData\\Local\\Temp\\ipykernel_15848\\6465438.py:102: RuntimeWarning: Mean of empty slice\n",
      "  v = np.nanmean(v_2, axis=0, keepdims=True)\n"
     ]
    },
    {
     "name": "stdout",
     "output_type": "stream",
     "text": [
      "\t E:\\2-Data\\8-CCMP\\Y2020\\M08\\CCMP_RT_Wind_Analysis_20200817_V02.1_L3.0_RSS.nc\n"
     ]
    },
    {
     "name": "stderr",
     "output_type": "stream",
     "text": [
      "C:\\Users\\zl59\\AppData\\Local\\Temp\\ipykernel_15848\\6465438.py:100: RuntimeWarning: Mean of empty slice\n",
      "  wnd = np.nanmean(np.sqrt(u_2**2 + v_2**2), axis=0, keepdims=True)\n",
      "C:\\Users\\zl59\\AppData\\Local\\Temp\\ipykernel_15848\\6465438.py:101: RuntimeWarning: Mean of empty slice\n",
      "  u = np.nanmean(u_2, axis=0, keepdims=True)\n",
      "C:\\Users\\zl59\\AppData\\Local\\Temp\\ipykernel_15848\\6465438.py:102: RuntimeWarning: Mean of empty slice\n",
      "  v = np.nanmean(v_2, axis=0, keepdims=True)\n"
     ]
    },
    {
     "name": "stdout",
     "output_type": "stream",
     "text": [
      "\t E:\\2-Data\\8-CCMP\\Y2020\\M08\\CCMP_RT_Wind_Analysis_20200818_V02.1_L3.0_RSS.nc\n"
     ]
    },
    {
     "name": "stderr",
     "output_type": "stream",
     "text": [
      "C:\\Users\\zl59\\AppData\\Local\\Temp\\ipykernel_15848\\6465438.py:100: RuntimeWarning: Mean of empty slice\n",
      "  wnd = np.nanmean(np.sqrt(u_2**2 + v_2**2), axis=0, keepdims=True)\n",
      "C:\\Users\\zl59\\AppData\\Local\\Temp\\ipykernel_15848\\6465438.py:101: RuntimeWarning: Mean of empty slice\n",
      "  u = np.nanmean(u_2, axis=0, keepdims=True)\n",
      "C:\\Users\\zl59\\AppData\\Local\\Temp\\ipykernel_15848\\6465438.py:102: RuntimeWarning: Mean of empty slice\n",
      "  v = np.nanmean(v_2, axis=0, keepdims=True)\n"
     ]
    },
    {
     "name": "stdout",
     "output_type": "stream",
     "text": [
      "\t E:\\2-Data\\8-CCMP\\Y2020\\M08\\CCMP_RT_Wind_Analysis_20200819_V02.1_L3.0_RSS.nc\n"
     ]
    },
    {
     "name": "stderr",
     "output_type": "stream",
     "text": [
      "C:\\Users\\zl59\\AppData\\Local\\Temp\\ipykernel_15848\\6465438.py:100: RuntimeWarning: Mean of empty slice\n",
      "  wnd = np.nanmean(np.sqrt(u_2**2 + v_2**2), axis=0, keepdims=True)\n",
      "C:\\Users\\zl59\\AppData\\Local\\Temp\\ipykernel_15848\\6465438.py:101: RuntimeWarning: Mean of empty slice\n",
      "  u = np.nanmean(u_2, axis=0, keepdims=True)\n",
      "C:\\Users\\zl59\\AppData\\Local\\Temp\\ipykernel_15848\\6465438.py:102: RuntimeWarning: Mean of empty slice\n",
      "  v = np.nanmean(v_2, axis=0, keepdims=True)\n"
     ]
    },
    {
     "name": "stdout",
     "output_type": "stream",
     "text": [
      "Fail in calculation...\n",
      "2020 289\n",
      "\tYear 2020 ; Begin day 289 ; End day 296\n",
      "\tLoad chl...\n",
      "E:\\2-Data\\5-CHL\\chl.2020289.hdf.npy\n",
      "\t (2160, 4320)\n",
      "\tLoad chl...\n",
      "E:\\2-Data\\5-CHL\\chl.2020281.hdf.npy\n",
      "\t (2160, 4320)\n",
      "\tLoad chl...\n",
      "E:\\2-Data\\5-CHL\\chl.2020297.hdf.npy\n",
      "\t (2160, 4320)\n",
      "\tLoad par...\n",
      "E:\\2-Data\\7-PAR_8D\\par.2020289.hdf.npy\n",
      "\t (2160, 4320)\n",
      "\tLoad par...\n",
      "E:\\2-Data\\7-PAR_8D\\par.2020281.hdf.npy\n",
      "\t (2160, 4320)\n",
      "\tLoad par...\n",
      "E:\\2-Data\\7-PAR_8D\\par.2020297.hdf.npy\n",
      "\t (2160, 4320)\n",
      "\tLoad sst...\n",
      "E:\\2-Data\\13-SST_8D\\sst.2020289.hdf.npy\n",
      "\t (2160, 4320)\n",
      "\tLoad sst...\n",
      "E:\\2-Data\\13-SST_8D\\sst.2020281.hdf.npy\n",
      "\t (2160, 4320)\n",
      "\tLoad sst...\n",
      "E:\\2-Data\\13-SST_8D\\sst.2020297.hdf.npy\n",
      "\t (2160, 4320)\n",
      "\tLoad Wind data...\n",
      "\t E:\\2-Data\\8-CCMP\\Y2020\\M10\\CCMP_RT_Wind_Analysis_20201007_V02.1_L3.0_RSS.nc\n"
     ]
    },
    {
     "name": "stderr",
     "output_type": "stream",
     "text": [
      "C:\\Users\\zl59\\AppData\\Local\\Temp\\ipykernel_15848\\6465438.py:100: RuntimeWarning: Mean of empty slice\n",
      "  wnd = np.nanmean(np.sqrt(u_2**2 + v_2**2), axis=0, keepdims=True)\n",
      "C:\\Users\\zl59\\AppData\\Local\\Temp\\ipykernel_15848\\6465438.py:101: RuntimeWarning: Mean of empty slice\n",
      "  u = np.nanmean(u_2, axis=0, keepdims=True)\n",
      "C:\\Users\\zl59\\AppData\\Local\\Temp\\ipykernel_15848\\6465438.py:102: RuntimeWarning: Mean of empty slice\n",
      "  v = np.nanmean(v_2, axis=0, keepdims=True)\n"
     ]
    },
    {
     "name": "stdout",
     "output_type": "stream",
     "text": [
      "\t E:\\2-Data\\8-CCMP\\Y2020\\M10\\CCMP_RT_Wind_Analysis_20201008_V02.1_L3.0_RSS.nc\n"
     ]
    },
    {
     "name": "stderr",
     "output_type": "stream",
     "text": [
      "C:\\Users\\zl59\\AppData\\Local\\Temp\\ipykernel_15848\\6465438.py:100: RuntimeWarning: Mean of empty slice\n",
      "  wnd = np.nanmean(np.sqrt(u_2**2 + v_2**2), axis=0, keepdims=True)\n",
      "C:\\Users\\zl59\\AppData\\Local\\Temp\\ipykernel_15848\\6465438.py:101: RuntimeWarning: Mean of empty slice\n",
      "  u = np.nanmean(u_2, axis=0, keepdims=True)\n",
      "C:\\Users\\zl59\\AppData\\Local\\Temp\\ipykernel_15848\\6465438.py:102: RuntimeWarning: Mean of empty slice\n",
      "  v = np.nanmean(v_2, axis=0, keepdims=True)\n"
     ]
    },
    {
     "name": "stdout",
     "output_type": "stream",
     "text": [
      "\t E:\\2-Data\\8-CCMP\\Y2020\\M10\\CCMP_RT_Wind_Analysis_20201009_V02.1_L3.0_RSS.nc\n"
     ]
    },
    {
     "name": "stderr",
     "output_type": "stream",
     "text": [
      "C:\\Users\\zl59\\AppData\\Local\\Temp\\ipykernel_15848\\6465438.py:100: RuntimeWarning: Mean of empty slice\n",
      "  wnd = np.nanmean(np.sqrt(u_2**2 + v_2**2), axis=0, keepdims=True)\n",
      "C:\\Users\\zl59\\AppData\\Local\\Temp\\ipykernel_15848\\6465438.py:101: RuntimeWarning: Mean of empty slice\n",
      "  u = np.nanmean(u_2, axis=0, keepdims=True)\n",
      "C:\\Users\\zl59\\AppData\\Local\\Temp\\ipykernel_15848\\6465438.py:102: RuntimeWarning: Mean of empty slice\n",
      "  v = np.nanmean(v_2, axis=0, keepdims=True)\n"
     ]
    },
    {
     "name": "stdout",
     "output_type": "stream",
     "text": [
      "\t E:\\2-Data\\8-CCMP\\Y2020\\M10\\CCMP_RT_Wind_Analysis_20201010_V02.1_L3.0_RSS.nc\n"
     ]
    },
    {
     "name": "stderr",
     "output_type": "stream",
     "text": [
      "C:\\Users\\zl59\\AppData\\Local\\Temp\\ipykernel_15848\\6465438.py:100: RuntimeWarning: Mean of empty slice\n",
      "  wnd = np.nanmean(np.sqrt(u_2**2 + v_2**2), axis=0, keepdims=True)\n",
      "C:\\Users\\zl59\\AppData\\Local\\Temp\\ipykernel_15848\\6465438.py:101: RuntimeWarning: Mean of empty slice\n",
      "  u = np.nanmean(u_2, axis=0, keepdims=True)\n",
      "C:\\Users\\zl59\\AppData\\Local\\Temp\\ipykernel_15848\\6465438.py:102: RuntimeWarning: Mean of empty slice\n",
      "  v = np.nanmean(v_2, axis=0, keepdims=True)\n"
     ]
    },
    {
     "name": "stdout",
     "output_type": "stream",
     "text": [
      "\t E:\\2-Data\\8-CCMP\\Y2020\\M10\\CCMP_RT_Wind_Analysis_20201011_V02.1_L3.0_RSS.nc\n"
     ]
    },
    {
     "name": "stderr",
     "output_type": "stream",
     "text": [
      "C:\\Users\\zl59\\AppData\\Local\\Temp\\ipykernel_15848\\6465438.py:100: RuntimeWarning: Mean of empty slice\n",
      "  wnd = np.nanmean(np.sqrt(u_2**2 + v_2**2), axis=0, keepdims=True)\n",
      "C:\\Users\\zl59\\AppData\\Local\\Temp\\ipykernel_15848\\6465438.py:101: RuntimeWarning: Mean of empty slice\n",
      "  u = np.nanmean(u_2, axis=0, keepdims=True)\n",
      "C:\\Users\\zl59\\AppData\\Local\\Temp\\ipykernel_15848\\6465438.py:102: RuntimeWarning: Mean of empty slice\n",
      "  v = np.nanmean(v_2, axis=0, keepdims=True)\n"
     ]
    },
    {
     "name": "stdout",
     "output_type": "stream",
     "text": [
      "\t E:\\2-Data\\8-CCMP\\Y2020\\M10\\CCMP_RT_Wind_Analysis_20201012_V02.1_L3.0_RSS.nc\n"
     ]
    },
    {
     "name": "stderr",
     "output_type": "stream",
     "text": [
      "C:\\Users\\zl59\\AppData\\Local\\Temp\\ipykernel_15848\\6465438.py:100: RuntimeWarning: Mean of empty slice\n",
      "  wnd = np.nanmean(np.sqrt(u_2**2 + v_2**2), axis=0, keepdims=True)\n",
      "C:\\Users\\zl59\\AppData\\Local\\Temp\\ipykernel_15848\\6465438.py:101: RuntimeWarning: Mean of empty slice\n",
      "  u = np.nanmean(u_2, axis=0, keepdims=True)\n",
      "C:\\Users\\zl59\\AppData\\Local\\Temp\\ipykernel_15848\\6465438.py:102: RuntimeWarning: Mean of empty slice\n",
      "  v = np.nanmean(v_2, axis=0, keepdims=True)\n"
     ]
    },
    {
     "name": "stdout",
     "output_type": "stream",
     "text": [
      "\t E:\\2-Data\\8-CCMP\\Y2020\\M10\\CCMP_RT_Wind_Analysis_20201013_V02.1_L3.0_RSS.nc\n"
     ]
    },
    {
     "name": "stderr",
     "output_type": "stream",
     "text": [
      "C:\\Users\\zl59\\AppData\\Local\\Temp\\ipykernel_15848\\6465438.py:100: RuntimeWarning: Mean of empty slice\n",
      "  wnd = np.nanmean(np.sqrt(u_2**2 + v_2**2), axis=0, keepdims=True)\n",
      "C:\\Users\\zl59\\AppData\\Local\\Temp\\ipykernel_15848\\6465438.py:101: RuntimeWarning: Mean of empty slice\n",
      "  u = np.nanmean(u_2, axis=0, keepdims=True)\n",
      "C:\\Users\\zl59\\AppData\\Local\\Temp\\ipykernel_15848\\6465438.py:102: RuntimeWarning: Mean of empty slice\n",
      "  v = np.nanmean(v_2, axis=0, keepdims=True)\n"
     ]
    },
    {
     "name": "stdout",
     "output_type": "stream",
     "text": [
      "\t E:\\2-Data\\8-CCMP\\Y2020\\M10\\CCMP_RT_Wind_Analysis_20201014_V02.1_L3.0_RSS.nc\n"
     ]
    },
    {
     "name": "stderr",
     "output_type": "stream",
     "text": [
      "C:\\Users\\zl59\\AppData\\Local\\Temp\\ipykernel_15848\\6465438.py:100: RuntimeWarning: Mean of empty slice\n",
      "  wnd = np.nanmean(np.sqrt(u_2**2 + v_2**2), axis=0, keepdims=True)\n",
      "C:\\Users\\zl59\\AppData\\Local\\Temp\\ipykernel_15848\\6465438.py:101: RuntimeWarning: Mean of empty slice\n",
      "  u = np.nanmean(u_2, axis=0, keepdims=True)\n",
      "C:\\Users\\zl59\\AppData\\Local\\Temp\\ipykernel_15848\\6465438.py:102: RuntimeWarning: Mean of empty slice\n",
      "  v = np.nanmean(v_2, axis=0, keepdims=True)\n"
     ]
    },
    {
     "name": "stdout",
     "output_type": "stream",
     "text": [
      "\t E:\\2-Data\\8-CCMP\\Y2020\\M10\\CCMP_RT_Wind_Analysis_20201015_V02.1_L3.0_RSS.nc\n"
     ]
    },
    {
     "name": "stderr",
     "output_type": "stream",
     "text": [
      "C:\\Users\\zl59\\AppData\\Local\\Temp\\ipykernel_15848\\6465438.py:100: RuntimeWarning: Mean of empty slice\n",
      "  wnd = np.nanmean(np.sqrt(u_2**2 + v_2**2), axis=0, keepdims=True)\n",
      "C:\\Users\\zl59\\AppData\\Local\\Temp\\ipykernel_15848\\6465438.py:101: RuntimeWarning: Mean of empty slice\n",
      "  u = np.nanmean(u_2, axis=0, keepdims=True)\n",
      "C:\\Users\\zl59\\AppData\\Local\\Temp\\ipykernel_15848\\6465438.py:102: RuntimeWarning: Mean of empty slice\n",
      "  v = np.nanmean(v_2, axis=0, keepdims=True)\n"
     ]
    },
    {
     "name": "stdout",
     "output_type": "stream",
     "text": [
      "\t E:\\2-Data\\8-CCMP\\Y2020\\M10\\CCMP_RT_Wind_Analysis_20201016_V02.1_L3.0_RSS.nc\n"
     ]
    },
    {
     "name": "stderr",
     "output_type": "stream",
     "text": [
      "C:\\Users\\zl59\\AppData\\Local\\Temp\\ipykernel_15848\\6465438.py:100: RuntimeWarning: Mean of empty slice\n",
      "  wnd = np.nanmean(np.sqrt(u_2**2 + v_2**2), axis=0, keepdims=True)\n",
      "C:\\Users\\zl59\\AppData\\Local\\Temp\\ipykernel_15848\\6465438.py:101: RuntimeWarning: Mean of empty slice\n",
      "  u = np.nanmean(u_2, axis=0, keepdims=True)\n",
      "C:\\Users\\zl59\\AppData\\Local\\Temp\\ipykernel_15848\\6465438.py:102: RuntimeWarning: Mean of empty slice\n",
      "  v = np.nanmean(v_2, axis=0, keepdims=True)\n"
     ]
    },
    {
     "name": "stdout",
     "output_type": "stream",
     "text": [
      "\t E:\\2-Data\\8-CCMP\\Y2020\\M10\\CCMP_RT_Wind_Analysis_20201017_V02.1_L3.0_RSS.nc\n"
     ]
    },
    {
     "name": "stderr",
     "output_type": "stream",
     "text": [
      "C:\\Users\\zl59\\AppData\\Local\\Temp\\ipykernel_15848\\6465438.py:100: RuntimeWarning: Mean of empty slice\n",
      "  wnd = np.nanmean(np.sqrt(u_2**2 + v_2**2), axis=0, keepdims=True)\n",
      "C:\\Users\\zl59\\AppData\\Local\\Temp\\ipykernel_15848\\6465438.py:101: RuntimeWarning: Mean of empty slice\n",
      "  u = np.nanmean(u_2, axis=0, keepdims=True)\n",
      "C:\\Users\\zl59\\AppData\\Local\\Temp\\ipykernel_15848\\6465438.py:102: RuntimeWarning: Mean of empty slice\n",
      "  v = np.nanmean(v_2, axis=0, keepdims=True)\n"
     ]
    },
    {
     "name": "stdout",
     "output_type": "stream",
     "text": [
      "\t E:\\2-Data\\8-CCMP\\Y2020\\M10\\CCMP_RT_Wind_Analysis_20201018_V02.1_L3.0_RSS.nc\n"
     ]
    },
    {
     "name": "stderr",
     "output_type": "stream",
     "text": [
      "C:\\Users\\zl59\\AppData\\Local\\Temp\\ipykernel_15848\\6465438.py:100: RuntimeWarning: Mean of empty slice\n",
      "  wnd = np.nanmean(np.sqrt(u_2**2 + v_2**2), axis=0, keepdims=True)\n",
      "C:\\Users\\zl59\\AppData\\Local\\Temp\\ipykernel_15848\\6465438.py:101: RuntimeWarning: Mean of empty slice\n",
      "  u = np.nanmean(u_2, axis=0, keepdims=True)\n",
      "C:\\Users\\zl59\\AppData\\Local\\Temp\\ipykernel_15848\\6465438.py:102: RuntimeWarning: Mean of empty slice\n",
      "  v = np.nanmean(v_2, axis=0, keepdims=True)\n"
     ]
    },
    {
     "name": "stdout",
     "output_type": "stream",
     "text": [
      "\t E:\\2-Data\\8-CCMP\\Y2020\\M10\\CCMP_RT_Wind_Analysis_20201019_V02.1_L3.0_RSS.nc\n"
     ]
    },
    {
     "name": "stderr",
     "output_type": "stream",
     "text": [
      "C:\\Users\\zl59\\AppData\\Local\\Temp\\ipykernel_15848\\6465438.py:100: RuntimeWarning: Mean of empty slice\n",
      "  wnd = np.nanmean(np.sqrt(u_2**2 + v_2**2), axis=0, keepdims=True)\n",
      "C:\\Users\\zl59\\AppData\\Local\\Temp\\ipykernel_15848\\6465438.py:101: RuntimeWarning: Mean of empty slice\n",
      "  u = np.nanmean(u_2, axis=0, keepdims=True)\n",
      "C:\\Users\\zl59\\AppData\\Local\\Temp\\ipykernel_15848\\6465438.py:102: RuntimeWarning: Mean of empty slice\n",
      "  v = np.nanmean(v_2, axis=0, keepdims=True)\n"
     ]
    },
    {
     "name": "stdout",
     "output_type": "stream",
     "text": [
      "\t E:\\2-Data\\8-CCMP\\Y2020\\M10\\CCMP_RT_Wind_Analysis_20201020_V02.1_L3.0_RSS.nc\n"
     ]
    },
    {
     "name": "stderr",
     "output_type": "stream",
     "text": [
      "C:\\Users\\zl59\\AppData\\Local\\Temp\\ipykernel_15848\\6465438.py:100: RuntimeWarning: Mean of empty slice\n",
      "  wnd = np.nanmean(np.sqrt(u_2**2 + v_2**2), axis=0, keepdims=True)\n",
      "C:\\Users\\zl59\\AppData\\Local\\Temp\\ipykernel_15848\\6465438.py:101: RuntimeWarning: Mean of empty slice\n",
      "  u = np.nanmean(u_2, axis=0, keepdims=True)\n",
      "C:\\Users\\zl59\\AppData\\Local\\Temp\\ipykernel_15848\\6465438.py:102: RuntimeWarning: Mean of empty slice\n",
      "  v = np.nanmean(v_2, axis=0, keepdims=True)\n"
     ]
    },
    {
     "name": "stdout",
     "output_type": "stream",
     "text": [
      "\t E:\\2-Data\\8-CCMP\\Y2020\\M10\\CCMP_RT_Wind_Analysis_20201021_V02.1_L3.0_RSS.nc\n"
     ]
    },
    {
     "name": "stderr",
     "output_type": "stream",
     "text": [
      "C:\\Users\\zl59\\AppData\\Local\\Temp\\ipykernel_15848\\6465438.py:100: RuntimeWarning: Mean of empty slice\n",
      "  wnd = np.nanmean(np.sqrt(u_2**2 + v_2**2), axis=0, keepdims=True)\n",
      "C:\\Users\\zl59\\AppData\\Local\\Temp\\ipykernel_15848\\6465438.py:101: RuntimeWarning: Mean of empty slice\n",
      "  u = np.nanmean(u_2, axis=0, keepdims=True)\n",
      "C:\\Users\\zl59\\AppData\\Local\\Temp\\ipykernel_15848\\6465438.py:102: RuntimeWarning: Mean of empty slice\n",
      "  v = np.nanmean(v_2, axis=0, keepdims=True)\n"
     ]
    },
    {
     "name": "stdout",
     "output_type": "stream",
     "text": [
      "Fail in calculation...\n",
      "2020 297\n",
      "\tYear 2020 ; Begin day 297 ; End day 304\n",
      "\tLoad chl...\n",
      "E:\\2-Data\\5-CHL\\chl.2020297.hdf.npy\n",
      "\t (2160, 4320)\n",
      "\tLoad chl...\n",
      "E:\\2-Data\\5-CHL\\chl.2020289.hdf.npy\n",
      "\t (2160, 4320)\n",
      "\tLoad chl...\n",
      "E:\\2-Data\\5-CHL\\chl.2020305.hdf.npy\n",
      "\t (2160, 4320)\n",
      "\tLoad par...\n",
      "E:\\2-Data\\7-PAR_8D\\par.2020297.hdf.npy\n",
      "\t (2160, 4320)\n",
      "\tLoad par...\n",
      "E:\\2-Data\\7-PAR_8D\\par.2020289.hdf.npy\n",
      "\t (2160, 4320)\n",
      "\tLoad par...\n",
      "E:\\2-Data\\7-PAR_8D\\par.2020305.hdf.npy\n",
      "\t (2160, 4320)\n",
      "\tLoad sst...\n",
      "E:\\2-Data\\13-SST_8D\\sst.2020297.hdf.npy\n",
      "\t (2160, 4320)\n",
      "\tLoad sst...\n",
      "E:\\2-Data\\13-SST_8D\\sst.2020289.hdf.npy\n",
      "\t (2160, 4320)\n",
      "\tLoad sst...\n",
      "E:\\2-Data\\13-SST_8D\\sst.2020305.hdf.npy\n",
      "\t (2160, 4320)\n",
      "\tLoad Wind data...\n",
      "\t E:\\2-Data\\8-CCMP\\Y2020\\M10\\CCMP_RT_Wind_Analysis_20201015_V02.1_L3.0_RSS.nc\n"
     ]
    },
    {
     "name": "stderr",
     "output_type": "stream",
     "text": [
      "C:\\Users\\zl59\\AppData\\Local\\Temp\\ipykernel_15848\\6465438.py:100: RuntimeWarning: Mean of empty slice\n",
      "  wnd = np.nanmean(np.sqrt(u_2**2 + v_2**2), axis=0, keepdims=True)\n",
      "C:\\Users\\zl59\\AppData\\Local\\Temp\\ipykernel_15848\\6465438.py:101: RuntimeWarning: Mean of empty slice\n",
      "  u = np.nanmean(u_2, axis=0, keepdims=True)\n",
      "C:\\Users\\zl59\\AppData\\Local\\Temp\\ipykernel_15848\\6465438.py:102: RuntimeWarning: Mean of empty slice\n",
      "  v = np.nanmean(v_2, axis=0, keepdims=True)\n",
      "C:\\Users\\zl59\\AppData\\Local\\Temp\\ipykernel_15848\\6465438.py:100: RuntimeWarning: Mean of empty slice\n",
      "  wnd = np.nanmean(np.sqrt(u_2**2 + v_2**2), axis=0, keepdims=True)\n"
     ]
    },
    {
     "name": "stdout",
     "output_type": "stream",
     "text": [
      "\t E:\\2-Data\\8-CCMP\\Y2020\\M10\\CCMP_RT_Wind_Analysis_20201016_V02.1_L3.0_RSS.nc\n",
      "\t E:\\2-Data\\8-CCMP\\Y2020\\M10\\CCMP_RT_Wind_Analysis_20201017_V02.1_L3.0_RSS.nc\n"
     ]
    },
    {
     "name": "stderr",
     "output_type": "stream",
     "text": [
      "C:\\Users\\zl59\\AppData\\Local\\Temp\\ipykernel_15848\\6465438.py:101: RuntimeWarning: Mean of empty slice\n",
      "  u = np.nanmean(u_2, axis=0, keepdims=True)\n",
      "C:\\Users\\zl59\\AppData\\Local\\Temp\\ipykernel_15848\\6465438.py:102: RuntimeWarning: Mean of empty slice\n",
      "  v = np.nanmean(v_2, axis=0, keepdims=True)\n",
      "C:\\Users\\zl59\\AppData\\Local\\Temp\\ipykernel_15848\\6465438.py:100: RuntimeWarning: Mean of empty slice\n",
      "  wnd = np.nanmean(np.sqrt(u_2**2 + v_2**2), axis=0, keepdims=True)\n",
      "C:\\Users\\zl59\\AppData\\Local\\Temp\\ipykernel_15848\\6465438.py:101: RuntimeWarning: Mean of empty slice\n",
      "  u = np.nanmean(u_2, axis=0, keepdims=True)\n",
      "C:\\Users\\zl59\\AppData\\Local\\Temp\\ipykernel_15848\\6465438.py:102: RuntimeWarning: Mean of empty slice\n",
      "  v = np.nanmean(v_2, axis=0, keepdims=True)\n",
      "C:\\Users\\zl59\\AppData\\Local\\Temp\\ipykernel_15848\\6465438.py:100: RuntimeWarning: Mean of empty slice\n",
      "  wnd = np.nanmean(np.sqrt(u_2**2 + v_2**2), axis=0, keepdims=True)\n",
      "C:\\Users\\zl59\\AppData\\Local\\Temp\\ipykernel_15848\\6465438.py:101: RuntimeWarning: Mean of empty slice\n",
      "  u = np.nanmean(u_2, axis=0, keepdims=True)\n",
      "C:\\Users\\zl59\\AppData\\Local\\Temp\\ipykernel_15848\\6465438.py:102: RuntimeWarning: Mean of empty slice\n",
      "  v = np.nanmean(v_2, axis=0, keepdims=True)\n"
     ]
    },
    {
     "name": "stdout",
     "output_type": "stream",
     "text": [
      "\t E:\\2-Data\\8-CCMP\\Y2020\\M10\\CCMP_RT_Wind_Analysis_20201018_V02.1_L3.0_RSS.nc\n",
      "\t E:\\2-Data\\8-CCMP\\Y2020\\M10\\CCMP_RT_Wind_Analysis_20201019_V02.1_L3.0_RSS.nc\n"
     ]
    },
    {
     "name": "stderr",
     "output_type": "stream",
     "text": [
      "C:\\Users\\zl59\\AppData\\Local\\Temp\\ipykernel_15848\\6465438.py:100: RuntimeWarning: Mean of empty slice\n",
      "  wnd = np.nanmean(np.sqrt(u_2**2 + v_2**2), axis=0, keepdims=True)\n",
      "C:\\Users\\zl59\\AppData\\Local\\Temp\\ipykernel_15848\\6465438.py:101: RuntimeWarning: Mean of empty slice\n",
      "  u = np.nanmean(u_2, axis=0, keepdims=True)\n",
      "C:\\Users\\zl59\\AppData\\Local\\Temp\\ipykernel_15848\\6465438.py:102: RuntimeWarning: Mean of empty slice\n",
      "  v = np.nanmean(v_2, axis=0, keepdims=True)\n",
      "C:\\Users\\zl59\\AppData\\Local\\Temp\\ipykernel_15848\\6465438.py:100: RuntimeWarning: Mean of empty slice\n",
      "  wnd = np.nanmean(np.sqrt(u_2**2 + v_2**2), axis=0, keepdims=True)\n"
     ]
    },
    {
     "name": "stdout",
     "output_type": "stream",
     "text": [
      "\t E:\\2-Data\\8-CCMP\\Y2020\\M10\\CCMP_RT_Wind_Analysis_20201020_V02.1_L3.0_RSS.nc\n"
     ]
    },
    {
     "name": "stderr",
     "output_type": "stream",
     "text": [
      "C:\\Users\\zl59\\AppData\\Local\\Temp\\ipykernel_15848\\6465438.py:101: RuntimeWarning: Mean of empty slice\n",
      "  u = np.nanmean(u_2, axis=0, keepdims=True)\n",
      "C:\\Users\\zl59\\AppData\\Local\\Temp\\ipykernel_15848\\6465438.py:102: RuntimeWarning: Mean of empty slice\n",
      "  v = np.nanmean(v_2, axis=0, keepdims=True)\n",
      "C:\\Users\\zl59\\AppData\\Local\\Temp\\ipykernel_15848\\6465438.py:100: RuntimeWarning: Mean of empty slice\n",
      "  wnd = np.nanmean(np.sqrt(u_2**2 + v_2**2), axis=0, keepdims=True)\n"
     ]
    },
    {
     "name": "stdout",
     "output_type": "stream",
     "text": [
      "\t E:\\2-Data\\8-CCMP\\Y2020\\M10\\CCMP_RT_Wind_Analysis_20201021_V02.1_L3.0_RSS.nc\n"
     ]
    },
    {
     "name": "stderr",
     "output_type": "stream",
     "text": [
      "C:\\Users\\zl59\\AppData\\Local\\Temp\\ipykernel_15848\\6465438.py:101: RuntimeWarning: Mean of empty slice\n",
      "  u = np.nanmean(u_2, axis=0, keepdims=True)\n",
      "C:\\Users\\zl59\\AppData\\Local\\Temp\\ipykernel_15848\\6465438.py:102: RuntimeWarning: Mean of empty slice\n",
      "  v = np.nanmean(v_2, axis=0, keepdims=True)\n"
     ]
    },
    {
     "name": "stdout",
     "output_type": "stream",
     "text": [
      "\t E:\\2-Data\\8-CCMP\\Y2020\\M10\\CCMP_RT_Wind_Analysis_20201024_V02.1_L3.0_RSS.nc\n"
     ]
    },
    {
     "name": "stderr",
     "output_type": "stream",
     "text": [
      "C:\\Users\\zl59\\AppData\\Local\\Temp\\ipykernel_15848\\6465438.py:100: RuntimeWarning: Mean of empty slice\n",
      "  wnd = np.nanmean(np.sqrt(u_2**2 + v_2**2), axis=0, keepdims=True)\n",
      "C:\\Users\\zl59\\AppData\\Local\\Temp\\ipykernel_15848\\6465438.py:101: RuntimeWarning: Mean of empty slice\n",
      "  u = np.nanmean(u_2, axis=0, keepdims=True)\n",
      "C:\\Users\\zl59\\AppData\\Local\\Temp\\ipykernel_15848\\6465438.py:102: RuntimeWarning: Mean of empty slice\n",
      "  v = np.nanmean(v_2, axis=0, keepdims=True)\n"
     ]
    },
    {
     "name": "stdout",
     "output_type": "stream",
     "text": [
      "\t E:\\2-Data\\8-CCMP\\Y2020\\M10\\CCMP_RT_Wind_Analysis_20201025_V02.1_L3.0_RSS.nc\n"
     ]
    },
    {
     "name": "stderr",
     "output_type": "stream",
     "text": [
      "C:\\Users\\zl59\\AppData\\Local\\Temp\\ipykernel_15848\\6465438.py:100: RuntimeWarning: Mean of empty slice\n",
      "  wnd = np.nanmean(np.sqrt(u_2**2 + v_2**2), axis=0, keepdims=True)\n",
      "C:\\Users\\zl59\\AppData\\Local\\Temp\\ipykernel_15848\\6465438.py:101: RuntimeWarning: Mean of empty slice\n",
      "  u = np.nanmean(u_2, axis=0, keepdims=True)\n",
      "C:\\Users\\zl59\\AppData\\Local\\Temp\\ipykernel_15848\\6465438.py:102: RuntimeWarning: Mean of empty slice\n",
      "  v = np.nanmean(v_2, axis=0, keepdims=True)\n"
     ]
    },
    {
     "name": "stdout",
     "output_type": "stream",
     "text": [
      "\t E:\\2-Data\\8-CCMP\\Y2020\\M10\\CCMP_RT_Wind_Analysis_20201026_V02.1_L3.0_RSS.nc\n"
     ]
    },
    {
     "name": "stderr",
     "output_type": "stream",
     "text": [
      "C:\\Users\\zl59\\AppData\\Local\\Temp\\ipykernel_15848\\6465438.py:100: RuntimeWarning: Mean of empty slice\n",
      "  wnd = np.nanmean(np.sqrt(u_2**2 + v_2**2), axis=0, keepdims=True)\n",
      "C:\\Users\\zl59\\AppData\\Local\\Temp\\ipykernel_15848\\6465438.py:101: RuntimeWarning: Mean of empty slice\n",
      "  u = np.nanmean(u_2, axis=0, keepdims=True)\n",
      "C:\\Users\\zl59\\AppData\\Local\\Temp\\ipykernel_15848\\6465438.py:102: RuntimeWarning: Mean of empty slice\n",
      "  v = np.nanmean(v_2, axis=0, keepdims=True)\n"
     ]
    },
    {
     "name": "stdout",
     "output_type": "stream",
     "text": [
      "\t E:\\2-Data\\8-CCMP\\Y2020\\M10\\CCMP_RT_Wind_Analysis_20201027_V02.1_L3.0_RSS.nc\n"
     ]
    },
    {
     "name": "stderr",
     "output_type": "stream",
     "text": [
      "C:\\Users\\zl59\\AppData\\Local\\Temp\\ipykernel_15848\\6465438.py:100: RuntimeWarning: Mean of empty slice\n",
      "  wnd = np.nanmean(np.sqrt(u_2**2 + v_2**2), axis=0, keepdims=True)\n",
      "C:\\Users\\zl59\\AppData\\Local\\Temp\\ipykernel_15848\\6465438.py:101: RuntimeWarning: Mean of empty slice\n",
      "  u = np.nanmean(u_2, axis=0, keepdims=True)\n",
      "C:\\Users\\zl59\\AppData\\Local\\Temp\\ipykernel_15848\\6465438.py:102: RuntimeWarning: Mean of empty slice\n",
      "  v = np.nanmean(v_2, axis=0, keepdims=True)\n"
     ]
    },
    {
     "name": "stdout",
     "output_type": "stream",
     "text": [
      "\t E:\\2-Data\\8-CCMP\\Y2020\\M10\\CCMP_RT_Wind_Analysis_20201028_V02.1_L3.0_RSS.nc\n"
     ]
    },
    {
     "name": "stderr",
     "output_type": "stream",
     "text": [
      "C:\\Users\\zl59\\AppData\\Local\\Temp\\ipykernel_15848\\6465438.py:100: RuntimeWarning: Mean of empty slice\n",
      "  wnd = np.nanmean(np.sqrt(u_2**2 + v_2**2), axis=0, keepdims=True)\n",
      "C:\\Users\\zl59\\AppData\\Local\\Temp\\ipykernel_15848\\6465438.py:101: RuntimeWarning: Mean of empty slice\n",
      "  u = np.nanmean(u_2, axis=0, keepdims=True)\n",
      "C:\\Users\\zl59\\AppData\\Local\\Temp\\ipykernel_15848\\6465438.py:102: RuntimeWarning: Mean of empty slice\n",
      "  v = np.nanmean(v_2, axis=0, keepdims=True)\n"
     ]
    },
    {
     "name": "stdout",
     "output_type": "stream",
     "text": [
      "\t E:\\2-Data\\8-CCMP\\Y2020\\M10\\CCMP_RT_Wind_Analysis_20201029_V02.1_L3.0_RSS.nc\n"
     ]
    },
    {
     "name": "stderr",
     "output_type": "stream",
     "text": [
      "C:\\Users\\zl59\\AppData\\Local\\Temp\\ipykernel_15848\\6465438.py:100: RuntimeWarning: Mean of empty slice\n",
      "  wnd = np.nanmean(np.sqrt(u_2**2 + v_2**2), axis=0, keepdims=True)\n",
      "C:\\Users\\zl59\\AppData\\Local\\Temp\\ipykernel_15848\\6465438.py:101: RuntimeWarning: Mean of empty slice\n",
      "  u = np.nanmean(u_2, axis=0, keepdims=True)\n",
      "C:\\Users\\zl59\\AppData\\Local\\Temp\\ipykernel_15848\\6465438.py:102: RuntimeWarning: Mean of empty slice\n",
      "  v = np.nanmean(v_2, axis=0, keepdims=True)\n"
     ]
    },
    {
     "name": "stdout",
     "output_type": "stream",
     "text": [
      "\t E:\\2-Data\\8-CCMP\\Y2020\\M10\\CCMP_RT_Wind_Analysis_20201030_V02.1_L3.0_RSS.nc\n"
     ]
    },
    {
     "name": "stderr",
     "output_type": "stream",
     "text": [
      "C:\\Users\\zl59\\AppData\\Local\\Temp\\ipykernel_15848\\6465438.py:100: RuntimeWarning: Mean of empty slice\n",
      "  wnd = np.nanmean(np.sqrt(u_2**2 + v_2**2), axis=0, keepdims=True)\n",
      "C:\\Users\\zl59\\AppData\\Local\\Temp\\ipykernel_15848\\6465438.py:101: RuntimeWarning: Mean of empty slice\n",
      "  u = np.nanmean(u_2, axis=0, keepdims=True)\n",
      "C:\\Users\\zl59\\AppData\\Local\\Temp\\ipykernel_15848\\6465438.py:102: RuntimeWarning: Mean of empty slice\n",
      "  v = np.nanmean(v_2, axis=0, keepdims=True)\n"
     ]
    },
    {
     "name": "stdout",
     "output_type": "stream",
     "text": [
      "Fail in calculation...\n",
      "2020 305\n",
      "\tYear 2020 ; Begin day 305 ; End day 312\n",
      "\tLoad chl...\n",
      "E:\\2-Data\\5-CHL\\chl.2020305.hdf.npy\n",
      "\t (2160, 4320)\n",
      "\tLoad chl...\n",
      "E:\\2-Data\\5-CHL\\chl.2020297.hdf.npy\n",
      "\t (2160, 4320)\n",
      "\tLoad chl...\n",
      "E:\\2-Data\\5-CHL\\chl.2020313.hdf.npy\n",
      "\t (2160, 4320)\n",
      "\tLoad par...\n",
      "E:\\2-Data\\7-PAR_8D\\par.2020305.hdf.npy\n",
      "\t (2160, 4320)\n",
      "\tLoad par...\n",
      "E:\\2-Data\\7-PAR_8D\\par.2020297.hdf.npy\n",
      "\t (2160, 4320)\n",
      "\tLoad par...\n",
      "E:\\2-Data\\7-PAR_8D\\par.2020313.hdf.npy\n",
      "\t (2160, 4320)\n",
      "\tLoad sst...\n",
      "E:\\2-Data\\13-SST_8D\\sst.2020305.hdf.npy\n",
      "\t (2160, 4320)\n",
      "\tLoad sst...\n",
      "E:\\2-Data\\13-SST_8D\\sst.2020297.hdf.npy\n",
      "\t (2160, 4320)\n",
      "\tLoad sst...\n",
      "E:\\2-Data\\13-SST_8D\\sst.2020313.hdf.npy\n",
      "\t (2160, 4320)\n",
      "\tLoad Wind data...\n",
      "\t E:\\2-Data\\8-CCMP\\Y2020\\M10\\CCMP_RT_Wind_Analysis_20201024_V02.1_L3.0_RSS.nc\n"
     ]
    },
    {
     "name": "stderr",
     "output_type": "stream",
     "text": [
      "C:\\Users\\zl59\\AppData\\Local\\Temp\\ipykernel_15848\\6465438.py:100: RuntimeWarning: Mean of empty slice\n",
      "  wnd = np.nanmean(np.sqrt(u_2**2 + v_2**2), axis=0, keepdims=True)\n",
      "C:\\Users\\zl59\\AppData\\Local\\Temp\\ipykernel_15848\\6465438.py:101: RuntimeWarning: Mean of empty slice\n",
      "  u = np.nanmean(u_2, axis=0, keepdims=True)\n",
      "C:\\Users\\zl59\\AppData\\Local\\Temp\\ipykernel_15848\\6465438.py:102: RuntimeWarning: Mean of empty slice\n",
      "  v = np.nanmean(v_2, axis=0, keepdims=True)\n",
      "C:\\Users\\zl59\\AppData\\Local\\Temp\\ipykernel_15848\\6465438.py:100: RuntimeWarning: Mean of empty slice\n",
      "  wnd = np.nanmean(np.sqrt(u_2**2 + v_2**2), axis=0, keepdims=True)\n"
     ]
    },
    {
     "name": "stdout",
     "output_type": "stream",
     "text": [
      "\t E:\\2-Data\\8-CCMP\\Y2020\\M10\\CCMP_RT_Wind_Analysis_20201025_V02.1_L3.0_RSS.nc\n"
     ]
    },
    {
     "name": "stderr",
     "output_type": "stream",
     "text": [
      "C:\\Users\\zl59\\AppData\\Local\\Temp\\ipykernel_15848\\6465438.py:101: RuntimeWarning: Mean of empty slice\n",
      "  u = np.nanmean(u_2, axis=0, keepdims=True)\n",
      "C:\\Users\\zl59\\AppData\\Local\\Temp\\ipykernel_15848\\6465438.py:102: RuntimeWarning: Mean of empty slice\n",
      "  v = np.nanmean(v_2, axis=0, keepdims=True)\n",
      "C:\\Users\\zl59\\AppData\\Local\\Temp\\ipykernel_15848\\6465438.py:100: RuntimeWarning: Mean of empty slice\n",
      "  wnd = np.nanmean(np.sqrt(u_2**2 + v_2**2), axis=0, keepdims=True)\n",
      "C:\\Users\\zl59\\AppData\\Local\\Temp\\ipykernel_15848\\6465438.py:101: RuntimeWarning: Mean of empty slice\n",
      "  u = np.nanmean(u_2, axis=0, keepdims=True)\n"
     ]
    },
    {
     "name": "stdout",
     "output_type": "stream",
     "text": [
      "\t E:\\2-Data\\8-CCMP\\Y2020\\M10\\CCMP_RT_Wind_Analysis_20201026_V02.1_L3.0_RSS.nc\n"
     ]
    },
    {
     "name": "stderr",
     "output_type": "stream",
     "text": [
      "C:\\Users\\zl59\\AppData\\Local\\Temp\\ipykernel_15848\\6465438.py:102: RuntimeWarning: Mean of empty slice\n",
      "  v = np.nanmean(v_2, axis=0, keepdims=True)\n",
      "C:\\Users\\zl59\\AppData\\Local\\Temp\\ipykernel_15848\\6465438.py:100: RuntimeWarning: Mean of empty slice\n",
      "  wnd = np.nanmean(np.sqrt(u_2**2 + v_2**2), axis=0, keepdims=True)\n",
      "C:\\Users\\zl59\\AppData\\Local\\Temp\\ipykernel_15848\\6465438.py:101: RuntimeWarning: Mean of empty slice\n",
      "  u = np.nanmean(u_2, axis=0, keepdims=True)\n",
      "C:\\Users\\zl59\\AppData\\Local\\Temp\\ipykernel_15848\\6465438.py:102: RuntimeWarning: Mean of empty slice\n",
      "  v = np.nanmean(v_2, axis=0, keepdims=True)\n"
     ]
    },
    {
     "name": "stdout",
     "output_type": "stream",
     "text": [
      "\t E:\\2-Data\\8-CCMP\\Y2020\\M10\\CCMP_RT_Wind_Analysis_20201027_V02.1_L3.0_RSS.nc\n",
      "\t E:\\2-Data\\8-CCMP\\Y2020\\M10\\CCMP_RT_Wind_Analysis_20201028_V02.1_L3.0_RSS.nc\n"
     ]
    },
    {
     "name": "stderr",
     "output_type": "stream",
     "text": [
      "C:\\Users\\zl59\\AppData\\Local\\Temp\\ipykernel_15848\\6465438.py:100: RuntimeWarning: Mean of empty slice\n",
      "  wnd = np.nanmean(np.sqrt(u_2**2 + v_2**2), axis=0, keepdims=True)\n",
      "C:\\Users\\zl59\\AppData\\Local\\Temp\\ipykernel_15848\\6465438.py:101: RuntimeWarning: Mean of empty slice\n",
      "  u = np.nanmean(u_2, axis=0, keepdims=True)\n",
      "C:\\Users\\zl59\\AppData\\Local\\Temp\\ipykernel_15848\\6465438.py:102: RuntimeWarning: Mean of empty slice\n",
      "  v = np.nanmean(v_2, axis=0, keepdims=True)\n"
     ]
    },
    {
     "name": "stdout",
     "output_type": "stream",
     "text": [
      "\t E:\\2-Data\\8-CCMP\\Y2020\\M10\\CCMP_RT_Wind_Analysis_20201029_V02.1_L3.0_RSS.nc\n"
     ]
    },
    {
     "name": "stderr",
     "output_type": "stream",
     "text": [
      "C:\\Users\\zl59\\AppData\\Local\\Temp\\ipykernel_15848\\6465438.py:100: RuntimeWarning: Mean of empty slice\n",
      "  wnd = np.nanmean(np.sqrt(u_2**2 + v_2**2), axis=0, keepdims=True)\n",
      "C:\\Users\\zl59\\AppData\\Local\\Temp\\ipykernel_15848\\6465438.py:101: RuntimeWarning: Mean of empty slice\n",
      "  u = np.nanmean(u_2, axis=0, keepdims=True)\n",
      "C:\\Users\\zl59\\AppData\\Local\\Temp\\ipykernel_15848\\6465438.py:102: RuntimeWarning: Mean of empty slice\n",
      "  v = np.nanmean(v_2, axis=0, keepdims=True)\n"
     ]
    },
    {
     "name": "stdout",
     "output_type": "stream",
     "text": [
      "\t E:\\2-Data\\8-CCMP\\Y2020\\M10\\CCMP_RT_Wind_Analysis_20201030_V02.1_L3.0_RSS.nc\n"
     ]
    },
    {
     "name": "stderr",
     "output_type": "stream",
     "text": [
      "C:\\Users\\zl59\\AppData\\Local\\Temp\\ipykernel_15848\\6465438.py:100: RuntimeWarning: Mean of empty slice\n",
      "  wnd = np.nanmean(np.sqrt(u_2**2 + v_2**2), axis=0, keepdims=True)\n",
      "C:\\Users\\zl59\\AppData\\Local\\Temp\\ipykernel_15848\\6465438.py:101: RuntimeWarning: Mean of empty slice\n",
      "  u = np.nanmean(u_2, axis=0, keepdims=True)\n",
      "C:\\Users\\zl59\\AppData\\Local\\Temp\\ipykernel_15848\\6465438.py:102: RuntimeWarning: Mean of empty slice\n",
      "  v = np.nanmean(v_2, axis=0, keepdims=True)\n"
     ]
    },
    {
     "name": "stdout",
     "output_type": "stream",
     "text": [
      "\t E:\\2-Data\\8-CCMP\\Y2020\\M10\\CCMP_RT_Wind_Analysis_20201031_V02.1_L3.0_RSS.nc\n"
     ]
    },
    {
     "name": "stderr",
     "output_type": "stream",
     "text": [
      "C:\\Users\\zl59\\AppData\\Local\\Temp\\ipykernel_15848\\6465438.py:100: RuntimeWarning: Mean of empty slice\n",
      "  wnd = np.nanmean(np.sqrt(u_2**2 + v_2**2), axis=0, keepdims=True)\n",
      "C:\\Users\\zl59\\AppData\\Local\\Temp\\ipykernel_15848\\6465438.py:101: RuntimeWarning: Mean of empty slice\n",
      "  u = np.nanmean(u_2, axis=0, keepdims=True)\n",
      "C:\\Users\\zl59\\AppData\\Local\\Temp\\ipykernel_15848\\6465438.py:102: RuntimeWarning: Mean of empty slice\n",
      "  v = np.nanmean(v_2, axis=0, keepdims=True)\n"
     ]
    },
    {
     "name": "stdout",
     "output_type": "stream",
     "text": [
      "\t E:\\2-Data\\8-CCMP\\Y2020\\M11\\CCMP_RT_Wind_Analysis_20201101_V02.1_L3.0_RSS.nc\n"
     ]
    },
    {
     "name": "stderr",
     "output_type": "stream",
     "text": [
      "C:\\Users\\zl59\\AppData\\Local\\Temp\\ipykernel_15848\\6465438.py:100: RuntimeWarning: Mean of empty slice\n",
      "  wnd = np.nanmean(np.sqrt(u_2**2 + v_2**2), axis=0, keepdims=True)\n",
      "C:\\Users\\zl59\\AppData\\Local\\Temp\\ipykernel_15848\\6465438.py:101: RuntimeWarning: Mean of empty slice\n",
      "  u = np.nanmean(u_2, axis=0, keepdims=True)\n",
      "C:\\Users\\zl59\\AppData\\Local\\Temp\\ipykernel_15848\\6465438.py:102: RuntimeWarning: Mean of empty slice\n",
      "  v = np.nanmean(v_2, axis=0, keepdims=True)\n"
     ]
    },
    {
     "name": "stdout",
     "output_type": "stream",
     "text": [
      "\t E:\\2-Data\\8-CCMP\\Y2020\\M11\\CCMP_RT_Wind_Analysis_20201102_V02.1_L3.0_RSS.nc\n"
     ]
    },
    {
     "name": "stderr",
     "output_type": "stream",
     "text": [
      "C:\\Users\\zl59\\AppData\\Local\\Temp\\ipykernel_15848\\6465438.py:100: RuntimeWarning: Mean of empty slice\n",
      "  wnd = np.nanmean(np.sqrt(u_2**2 + v_2**2), axis=0, keepdims=True)\n",
      "C:\\Users\\zl59\\AppData\\Local\\Temp\\ipykernel_15848\\6465438.py:101: RuntimeWarning: Mean of empty slice\n",
      "  u = np.nanmean(u_2, axis=0, keepdims=True)\n",
      "C:\\Users\\zl59\\AppData\\Local\\Temp\\ipykernel_15848\\6465438.py:102: RuntimeWarning: Mean of empty slice\n",
      "  v = np.nanmean(v_2, axis=0, keepdims=True)\n"
     ]
    },
    {
     "name": "stdout",
     "output_type": "stream",
     "text": [
      "\t E:\\2-Data\\8-CCMP\\Y2020\\M11\\CCMP_RT_Wind_Analysis_20201103_V02.1_L3.0_RSS.nc\n"
     ]
    },
    {
     "name": "stderr",
     "output_type": "stream",
     "text": [
      "C:\\Users\\zl59\\AppData\\Local\\Temp\\ipykernel_15848\\6465438.py:100: RuntimeWarning: Mean of empty slice\n",
      "  wnd = np.nanmean(np.sqrt(u_2**2 + v_2**2), axis=0, keepdims=True)\n",
      "C:\\Users\\zl59\\AppData\\Local\\Temp\\ipykernel_15848\\6465438.py:101: RuntimeWarning: Mean of empty slice\n",
      "  u = np.nanmean(u_2, axis=0, keepdims=True)\n",
      "C:\\Users\\zl59\\AppData\\Local\\Temp\\ipykernel_15848\\6465438.py:102: RuntimeWarning: Mean of empty slice\n",
      "  v = np.nanmean(v_2, axis=0, keepdims=True)\n"
     ]
    },
    {
     "name": "stdout",
     "output_type": "stream",
     "text": [
      "\t E:\\2-Data\\8-CCMP\\Y2020\\M11\\CCMP_RT_Wind_Analysis_20201104_V02.1_L3.0_RSS.nc\n"
     ]
    },
    {
     "name": "stderr",
     "output_type": "stream",
     "text": [
      "C:\\Users\\zl59\\AppData\\Local\\Temp\\ipykernel_15848\\6465438.py:100: RuntimeWarning: Mean of empty slice\n",
      "  wnd = np.nanmean(np.sqrt(u_2**2 + v_2**2), axis=0, keepdims=True)\n",
      "C:\\Users\\zl59\\AppData\\Local\\Temp\\ipykernel_15848\\6465438.py:101: RuntimeWarning: Mean of empty slice\n",
      "  u = np.nanmean(u_2, axis=0, keepdims=True)\n",
      "C:\\Users\\zl59\\AppData\\Local\\Temp\\ipykernel_15848\\6465438.py:102: RuntimeWarning: Mean of empty slice\n",
      "  v = np.nanmean(v_2, axis=0, keepdims=True)\n"
     ]
    },
    {
     "name": "stdout",
     "output_type": "stream",
     "text": [
      "\t E:\\2-Data\\8-CCMP\\Y2020\\M11\\CCMP_RT_Wind_Analysis_20201105_V02.1_L3.0_RSS.nc\n"
     ]
    },
    {
     "name": "stderr",
     "output_type": "stream",
     "text": [
      "C:\\Users\\zl59\\AppData\\Local\\Temp\\ipykernel_15848\\6465438.py:100: RuntimeWarning: Mean of empty slice\n",
      "  wnd = np.nanmean(np.sqrt(u_2**2 + v_2**2), axis=0, keepdims=True)\n",
      "C:\\Users\\zl59\\AppData\\Local\\Temp\\ipykernel_15848\\6465438.py:101: RuntimeWarning: Mean of empty slice\n",
      "  u = np.nanmean(u_2, axis=0, keepdims=True)\n",
      "C:\\Users\\zl59\\AppData\\Local\\Temp\\ipykernel_15848\\6465438.py:102: RuntimeWarning: Mean of empty slice\n",
      "  v = np.nanmean(v_2, axis=0, keepdims=True)\n"
     ]
    },
    {
     "name": "stdout",
     "output_type": "stream",
     "text": [
      "\t E:\\2-Data\\8-CCMP\\Y2020\\M11\\CCMP_RT_Wind_Analysis_20201106_V02.1_L3.0_RSS.nc\n"
     ]
    },
    {
     "name": "stderr",
     "output_type": "stream",
     "text": [
      "C:\\Users\\zl59\\AppData\\Local\\Temp\\ipykernel_15848\\6465438.py:100: RuntimeWarning: Mean of empty slice\n",
      "  wnd = np.nanmean(np.sqrt(u_2**2 + v_2**2), axis=0, keepdims=True)\n",
      "C:\\Users\\zl59\\AppData\\Local\\Temp\\ipykernel_15848\\6465438.py:101: RuntimeWarning: Mean of empty slice\n",
      "  u = np.nanmean(u_2, axis=0, keepdims=True)\n",
      "C:\\Users\\zl59\\AppData\\Local\\Temp\\ipykernel_15848\\6465438.py:102: RuntimeWarning: Mean of empty slice\n",
      "  v = np.nanmean(v_2, axis=0, keepdims=True)\n"
     ]
    },
    {
     "name": "stdout",
     "output_type": "stream",
     "text": [
      "\t E:\\2-Data\\8-CCMP\\Y2020\\M11\\CCMP_RT_Wind_Analysis_20201107_V02.1_L3.0_RSS.nc\n"
     ]
    },
    {
     "name": "stderr",
     "output_type": "stream",
     "text": [
      "C:\\Users\\zl59\\AppData\\Local\\Temp\\ipykernel_15848\\6465438.py:100: RuntimeWarning: Mean of empty slice\n",
      "  wnd = np.nanmean(np.sqrt(u_2**2 + v_2**2), axis=0, keepdims=True)\n",
      "C:\\Users\\zl59\\AppData\\Local\\Temp\\ipykernel_15848\\6465438.py:101: RuntimeWarning: Mean of empty slice\n",
      "  u = np.nanmean(u_2, axis=0, keepdims=True)\n",
      "C:\\Users\\zl59\\AppData\\Local\\Temp\\ipykernel_15848\\6465438.py:102: RuntimeWarning: Mean of empty slice\n",
      "  v = np.nanmean(v_2, axis=0, keepdims=True)\n"
     ]
    },
    {
     "name": "stdout",
     "output_type": "stream",
     "text": [
      "Fail in calculation...\n",
      "2021 241\n",
      "\tYear 2021 ; Begin day 241 ; End day 248\n",
      "\tLoad chl...\n",
      "E:\\2-Data\\5-CHL\\chl.2021241.hdf.npy\n",
      "\t (2160, 4320)\n",
      "\tLoad chl...\n",
      "E:\\2-Data\\5-CHL\\chl.2021233.hdf.npy\n",
      "\t (2160, 4320)\n",
      "\tLoad chl...\n",
      "E:\\2-Data\\5-CHL\\chl.2021249.hdf.npy\n",
      "\t (2160, 4320)\n",
      "\tLoad par...\n",
      "E:\\2-Data\\7-PAR_8D\\par.2021241.hdf.npy\n",
      "\t (2160, 4320)\n",
      "\tLoad par...\n",
      "E:\\2-Data\\7-PAR_8D\\par.2021233.hdf.npy\n",
      "\t (2160, 4320)\n",
      "\tLoad par...\n",
      "E:\\2-Data\\7-PAR_8D\\par.2021249.hdf.npy\n",
      "\t (2160, 4320)\n",
      "\tLoad sst...\n",
      "E:\\2-Data\\13-SST_8D\\sst.2021241.hdf.npy\n",
      "\t (2160, 4320)\n",
      "\tLoad sst...\n",
      "E:\\2-Data\\13-SST_8D\\sst.2021233.hdf.npy\n",
      "\t (2160, 4320)\n",
      "\tLoad sst...\n",
      "Fail in calculation...\n",
      "2021 249\n",
      "\tYear 2021 ; Begin day 249 ; End day 256\n",
      "\tLoad chl...\n",
      "E:\\2-Data\\5-CHL\\chl.2021249.hdf.npy\n",
      "\t (2160, 4320)\n",
      "\tLoad chl...\n",
      "E:\\2-Data\\5-CHL\\chl.2021241.hdf.npy\n",
      "\t (2160, 4320)\n",
      "\tLoad chl...\n",
      "E:\\2-Data\\5-CHL\\chl.2021257.hdf.npy\n",
      "\t (2160, 4320)\n",
      "\tLoad par...\n",
      "E:\\2-Data\\7-PAR_8D\\par.2021249.hdf.npy\n",
      "\t (2160, 4320)\n",
      "\tLoad par...\n",
      "E:\\2-Data\\7-PAR_8D\\par.2021241.hdf.npy\n",
      "\t (2160, 4320)\n",
      "\tLoad par...\n",
      "E:\\2-Data\\7-PAR_8D\\par.2021257.hdf.npy\n",
      "\t (2160, 4320)\n",
      "\tLoad sst...\n",
      "Fail in calculation...\n",
      "2021 257\n",
      "\tYear 2021 ; Begin day 257 ; End day 264\n",
      "\tLoad chl...\n",
      "E:\\2-Data\\5-CHL\\chl.2021257.hdf.npy\n",
      "\t (2160, 4320)\n",
      "\tLoad chl...\n",
      "E:\\2-Data\\5-CHL\\chl.2021249.hdf.npy\n",
      "\t (2160, 4320)\n",
      "\tLoad chl...\n",
      "E:\\2-Data\\5-CHL\\chl.2021265.hdf.npy\n",
      "\t (2160, 4320)\n",
      "\tLoad par...\n",
      "E:\\2-Data\\7-PAR_8D\\par.2021257.hdf.npy\n",
      "\t (2160, 4320)\n",
      "\tLoad par...\n",
      "E:\\2-Data\\7-PAR_8D\\par.2021249.hdf.npy\n",
      "\t (2160, 4320)\n",
      "\tLoad par...\n",
      "E:\\2-Data\\7-PAR_8D\\par.2021265.hdf.npy\n",
      "\t (2160, 4320)\n",
      "\tLoad sst...\n",
      "E:\\2-Data\\13-SST_8D\\sst.2021257.hdf.npy\n",
      "\t (2160, 4320)\n",
      "\tLoad sst...\n",
      "Fail in calculation...\n"
     ]
    }
   ],
   "source": [
    "import re\n",
    "import os\n",
    "import pickle\n",
    "\n",
    "rs_path = r\"C:\\Projects\\1-Projects\\1-Oxygen\\1-Program\\pretraining_data\"\n",
    "cols = ['SST', 'CHL', 'PAR', \n",
    "        'MLD_CLM', 'SAL_CLM', 'SST_CLM']\n",
    "\n",
    "\n",
    "# loop the year\n",
    "num = 0\n",
    "for yr in range(2003, 2022):\n",
    "    yrdys = 366 if calendar.isleap(yr) else 365\n",
    "    for dy in range(1, yrdys, 8):\n",
    "        print(yr, dy)\n",
    "        try:\n",
    "            # load data\n",
    "            dt = load_data_4o2flux_pred(yr, dy, min(dy+7,yrdys))\n",
    "            \n",
    "            # sample data\n",
    "            dt_sub = sample_data(dt, cols, rng=1, missing_count_thres=5, size=0.1)\n",
    "            \n",
    "            # resample U and V\n",
    "            dt_sub = resample_time(dt_sub, ['U', 'V'])\n",
    "            \n",
    "            # save\n",
    "            fname = rs_path + \"\\\\{}.{}.pickle\".format(yr, str(dy).rjust(3,'0'))\n",
    "            with open(fname, 'wb') as fid:\n",
    "                pickle.dump(dt_sub, fid)\n",
    "        except:\n",
    "            print('Fail in calculation...')\n",
    "    "
   ]
  },
  {
   "cell_type": "code",
   "execution_count": null,
   "id": "c82cde29",
   "metadata": {},
   "outputs": [],
   "source": []
  },
  {
   "cell_type": "code",
   "execution_count": null,
   "id": "c26f8818",
   "metadata": {},
   "outputs": [],
   "source": []
  },
  {
   "cell_type": "markdown",
   "id": "269b00e4",
   "metadata": {},
   "source": [
    "# Sand box"
   ]
  },
  {
   "cell_type": "code",
   "execution_count": null,
   "id": "68ee7a75",
   "metadata": {},
   "outputs": [],
   "source": [
    "# load sea level pressure data\n",
    "def load_slp_data(yr, path):\n",
    "    # Load two year data\n",
    "    slps = None\n",
    "    slp_dates = None\n",
    "    slp_fnames = ['slp.' + str(yr-1) + '.nc', \n",
    "                  'slp.' + str(yr) + '.nc', \n",
    "                  'slp.' + str(yr+1) + '.nc']\n",
    "    \n",
    "    for fn in slp_fnames:\n",
    "        dt = xr.open_dataset(path + \"\\\\\" + fn)\n",
    "        print(slp_path + \"\\\\\" + fn)\n",
    "        slp = dt['slp'][:].to_numpy()\n",
    "        slp = (slp[0::4,:,:] + slp[1::4,:,:] + slp[2::4,:,:] + slp[3::4,:,:]) / 4\n",
    "        slps = slp if slps is None else np.concatenate((slps, slp), axis=0)\n",
    "        \n",
    "        date = dt['time'][::4].to_numpy()\n",
    "        slp_dates = date if slp_dates is None else np.concatenate((slp_dates, date), axis=0)\n",
    "        \n",
    "    # Since longitude is from 0 to 360, should be changed to [-180, 180]\n",
    "    slp_cols_half = int(slps.shape[2] / 2)\n",
    "    slps = np.concatenate((slps[:,:,slp_cols_half:], slps[:,:,0:slp_cols_half]), axis=2)\n",
    "    return slps, slp_dates\n",
    "\n",
    "\n",
    "# --------------------- #\n",
    "# 2.5. Load SLP\n",
    "# --------------------- #\n",
    "    \"\"\"\n",
    "    print('\\tLoad SLP...')\n",
    "    if not (yr == pre_yr):\n",
    "        global slps, slp_dates\n",
    "        slps, slp_dates = load_slp_data(yr, slp_path)\n",
    "        \n",
    "    # Time horizon\n",
    "    yr_dy_bg_2 = np.datetime64(str(yr) + \"-01-01\") + np.timedelta64(yr_dy_bg - 9, 'D')\n",
    "    yr_dy_ed_2 = np.datetime64(str(yr) + \"-01-01\") + np.timedelta64(yr_dy_bg + 7 - 1, 'D')\n",
    "    slp_date_idx = (yr_dy_bg_2 <= slp_dates) & (slp_dates <= yr_dy_ed_2)\n",
    "    \n",
    "    # Resize\n",
    "    slps_sub = my_img_re_3d(slps[slp_date_idx,:,:], date_first=True)\n",
    "    #visualize_img(slps_sub[:,:,0], 'slp')\n",
    "    \"\"\"\n",
    "    \n",
    "# --------------------- #\n",
    "    # 2.7. Heat flux\n",
    "    # --------------------- #\n",
    "    \"\"\"\n",
    "    dys = pd.to_datetime(str(yr) + \"-01-01 00:00:00.0\") - pd.to_datetime(\"1900-01-01 00:00:00.0\")\n",
    "    dys = (dys + pd.Timedelta(yr_dy_bg, 'd')).days\n",
    "    idx = np.argmin(np.abs(hf_mns - dys))\n",
    "    lhf = my_img_re_2d(slhf[idx,:,:])\n",
    "    shf = my_img_re_2d(sshf[idx,:,:])\n",
    "    #visualize_img(lhf, 'LHF')\n",
    "    #visualize_img(shf, 'SHF')\n",
    "    \"\"\""
   ]
  }
 ],
 "metadata": {
  "kernelspec": {
   "display_name": "Python 3 (ipykernel)",
   "language": "python",
   "name": "python3"
  },
  "language_info": {
   "codemirror_mode": {
    "name": "ipython",
    "version": 3
   },
   "file_extension": ".py",
   "mimetype": "text/x-python",
   "name": "python",
   "nbconvert_exporter": "python",
   "pygments_lexer": "ipython3",
   "version": "3.9.13"
  }
 },
 "nbformat": 4,
 "nbformat_minor": 5
}
