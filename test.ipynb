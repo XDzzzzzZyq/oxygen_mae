{
 "cells": [
  {
   "cell_type": "code",
   "execution_count": 1,
   "id": "initial_id",
   "metadata": {
    "collapsed": true,
    "ExecuteTime": {
     "end_time": "2024-10-25T22:54:41.321339200Z",
     "start_time": "2024-10-25T22:54:40.199435300Z"
    }
   },
   "outputs": [
    {
     "data": {
      "text/plain": "tensor([0, 2])"
     },
     "execution_count": 1,
     "metadata": {},
     "output_type": "execute_result"
    }
   ],
   "source": [
    "import torch\n",
    "\n",
    "a = torch.tensor([True, False, True], dtype=torch.bool)\n",
    "torch.where(a)[0]"
   ]
  },
  {
   "cell_type": "code",
   "execution_count": 1,
   "outputs": [
    {
     "name": "stdout",
     "output_type": "stream",
     "text": [
      "0\n",
      "0\n",
      "0\n",
      "101\n",
      "101\n",
      "101\n",
      "202\n",
      "202\n",
      "202\n",
      "303\n",
      "303\n",
      "303\n",
      "303\n",
      "404\n",
      "404\n",
      "404\n",
      "404\n",
      "505\n",
      "606\n",
      "707\n"
     ]
    }
   ],
   "source": [
    "from oxygen_mae_constants import get_column33344111_min_idx\n",
    "for i in range(20):\n",
    "    print(get_column33344111_min_idx(i))"
   ],
   "metadata": {
    "collapsed": false,
    "ExecuteTime": {
     "end_time": "2024-10-25T23:43:56.059577600Z",
     "start_time": "2024-10-25T23:43:56.014989Z"
    }
   },
   "id": "a8db96b52f287c71"
  },
  {
   "cell_type": "code",
   "execution_count": 25,
   "outputs": [
    {
     "ename": "IndexError",
     "evalue": "index 0 is out of bounds for axis 0 with size 0",
     "output_type": "error",
     "traceback": [
      "\u001B[0;31m---------------------------------------------------------------------------\u001B[0m",
      "\u001B[0;31mIndexError\u001B[0m                                Traceback (most recent call last)",
      "Cell \u001B[0;32mIn[25], line 4\u001B[0m\n\u001B[1;32m      2\u001B[0m idx \u001B[38;5;241m=\u001B[39m \u001B[38;5;241m21\u001B[39m\n\u001B[1;32m      3\u001B[0m indices \u001B[38;5;241m=\u001B[39m np\u001B[38;5;241m.\u001B[39marray([\u001B[38;5;241m3\u001B[39m, \u001B[38;5;241m3\u001B[39m, \u001B[38;5;241m3\u001B[39m, \u001B[38;5;241m4\u001B[39m, \u001B[38;5;241m4\u001B[39m, \u001B[38;5;241m1\u001B[39m, \u001B[38;5;241m1\u001B[39m, \u001B[38;5;241m1\u001B[39m])\n\u001B[0;32m----> 4\u001B[0m tmp \u001B[38;5;241m=\u001B[39m \u001B[43mnp\u001B[49m\u001B[38;5;241;43m.\u001B[39;49m\u001B[43mwhere\u001B[49m\u001B[43m(\u001B[49m\u001B[43midx\u001B[49m\u001B[43m \u001B[49m\u001B[38;5;241;43m<\u001B[39;49m\u001B[38;5;241;43m=\u001B[39;49m\u001B[43m \u001B[49m\u001B[43mnp\u001B[49m\u001B[38;5;241;43m.\u001B[39;49m\u001B[43mcumsum\u001B[49m\u001B[43m(\u001B[49m\u001B[43mindices\u001B[49m\u001B[43m)\u001B[49m\u001B[38;5;241;43m-\u001B[39;49m\u001B[38;5;241;43m1\u001B[39;49m\u001B[43m)\u001B[49m\u001B[43m[\u001B[49m\u001B[38;5;241;43m0\u001B[39;49m\u001B[43m]\u001B[49m\u001B[43m[\u001B[49m\u001B[38;5;241;43m0\u001B[39;49m\u001B[43m]\u001B[49m\n\u001B[1;32m      5\u001B[0m \u001B[38;5;28mprint\u001B[39m(tmp)\n",
      "\u001B[0;31mIndexError\u001B[0m: index 0 is out of bounds for axis 0 with size 0"
     ]
    }
   ],
   "source": [
    "import numpy as np\n",
    "def get_column33344111_min_idx(idx):\n",
    "    indices = np.array([3, 3, 3, 4, 4, 1, 1, 1])\n",
    "    tmp = np.where(idx <= np.cumsum(indices)-1)[0]\n",
    "    idx = indices.sum() if len(tmp) == 0 else tmp[0]\n",
    "    return get_column_min_par(cat_cols[idx])"
   ],
   "metadata": {
    "collapsed": false,
    "ExecuteTime": {
     "end_time": "2024-10-25T23:40:12.498975600Z",
     "start_time": "2024-10-25T23:40:12.457521600Z"
    }
   },
   "id": "3c44450cd2084d8e"
  },
  {
   "cell_type": "code",
   "execution_count": 27,
   "outputs": [],
   "source": [
    "idx = 21\n",
    "indices = np.array([3, 3, 3, 4, 4, 1, 1, 1])\n",
    "tmp = np.where(idx <= np.cumsum(indices)-1)"
   ],
   "metadata": {
    "collapsed": false,
    "ExecuteTime": {
     "end_time": "2024-10-25T23:40:49.234881800Z",
     "start_time": "2024-10-25T23:40:49.192714600Z"
    }
   },
   "id": "ef1d4a068f4b8ce4"
  },
  {
   "cell_type": "code",
   "execution_count": 30,
   "outputs": [
    {
     "data": {
      "text/plain": "0"
     },
     "execution_count": 30,
     "metadata": {},
     "output_type": "execute_result"
    }
   ],
   "source": [
    "len(tmp[0])"
   ],
   "metadata": {
    "collapsed": false,
    "ExecuteTime": {
     "end_time": "2024-10-25T23:41:07.799246900Z",
     "start_time": "2024-10-25T23:41:07.793257500Z"
    }
   },
   "id": "e58cd7761653de44"
  },
  {
   "cell_type": "code",
   "execution_count": 1,
   "outputs": [],
   "source": [
    "import math\n",
    "\n",
    "def adjust_learning_rate(optimizer, epoch, args):\n",
    "    \"\"\"Decay the learning rate with half-cycle cosine after warmup\"\"\"\n",
    "    if epoch < args.warmup_epochs:\n",
    "        lr = args.lr * epoch / args.warmup_epochs \n",
    "    else:\n",
    "        lr = args.min_lr + (args.lr - args.min_lr) * 0.5 * \\\n",
    "            (1. + math.cos(math.pi * (epoch - args.warmup_epochs) / (args.epochs - args.warmup_epochs)))\n",
    "    for param_group in optimizer.param_groups:\n",
    "        if \"lr_scale\" in param_group:\n",
    "            param_group[\"lr\"] = lr * param_group[\"lr_scale\"]\n",
    "        else:\n",
    "            param_group[\"lr\"] = lr\n",
    "    return lr"
   ],
   "metadata": {
    "collapsed": false,
    "ExecuteTime": {
     "end_time": "2024-11-10T20:47:12.733695100Z",
     "start_time": "2024-11-10T20:47:12.669945900Z"
    }
   },
   "id": "9b8afc265fb248a5"
  },
  {
   "cell_type": "code",
   "execution_count": 12,
   "outputs": [
    {
     "name": "stdout",
     "output_type": "stream",
     "text": [
      "0 0.0\n",
      "1 1e-05\n",
      "2 2e-05\n",
      "3 3.0000000000000004e-05\n",
      "4 4e-05\n",
      "5 5e-05\n",
      "6 6.000000000000001e-05\n",
      "7 7e-05\n",
      "8 8e-05\n",
      "9 9e-05\n",
      "10 0.0001\n",
      "11 9.99695413509548e-05\n",
      "12 9.987820251299122e-05\n",
      "13 9.972609476841367e-05\n",
      "14 9.951340343707852e-05\n",
      "15 9.924038765061042e-05\n",
      "16 9.890738003669029e-05\n",
      "17 9.851478631379982e-05\n",
      "18 9.806308479691595e-05\n",
      "19 9.755282581475769e-05\n",
      "20 9.698463103929542e-05\n",
      "21 9.635919272833938e-05\n",
      "22 9.567727288213005e-05\n",
      "23 9.493970231495835e-05\n",
      "24 9.414737964294636e-05\n",
      "25 9.330127018922194e-05\n",
      "26 9.24024048078213e-05\n",
      "27 9.145187862775209e-05\n",
      "28 9.045084971874738e-05\n",
      "29 8.94005376803361e-05\n",
      "30 8.83022221559489e-05\n",
      "31 8.715724127386972e-05\n",
      "32 8.596699001693255e-05\n",
      "33 8.473291852294987e-05\n",
      "34 8.345653031794292e-05\n",
      "35 8.213938048432697e-05\n",
      "36 8.07830737662829e-05\n",
      "37 7.938926261462366e-05\n",
      "38 7.795964517353735e-05\n",
      "39 7.649596321166024e-05\n",
      "40 7.500000000000001e-05\n",
      "41 7.347357813929454e-05\n",
      "42 7.191855733945387e-05\n",
      "43 7.033683215379001e-05\n",
      "44 6.87303296707956e-05\n",
      "45 6.710100716628344e-05\n",
      "46 6.545084971874738e-05\n",
      "47 6.378186779084995e-05\n",
      "48 6.209609477998339e-05\n",
      "49 6.039558454088797e-05\n",
      "50 5.868240888334653e-05\n",
      "51 5.6958655048003286e-05\n",
      "52 5.522642316338268e-05\n",
      "53 5.3487823687206276e-05\n",
      "54 5.174497483512506e-05\n",
      "55 5e-05\n",
      "56 4.825502516487497e-05\n",
      "57 4.6512176312793736e-05\n",
      "58 4.477357683661734e-05\n",
      "59 4.304134495199673e-05\n",
      "60 4.131759111665349e-05\n",
      "61 3.960441545911204e-05\n",
      "62 3.790390522001661e-05\n",
      "63 3.6218132209150045e-05\n",
      "64 3.4549150281252636e-05\n",
      "65 3.289899283371657e-05\n",
      "66 3.12696703292044e-05\n",
      "67 2.9663167846209998e-05\n",
      "68 2.8081442660546125e-05\n",
      "69 2.6526421860705473e-05\n",
      "70 2.500000000000001e-05\n",
      "71 2.350403678833976e-05\n",
      "72 2.2040354826462668e-05\n",
      "73 2.061073738537635e-05\n",
      "74 1.9216926233717085e-05\n",
      "75 1.7860619515673033e-05\n",
      "76 1.654346968205709e-05\n",
      "77 1.5267081477050148e-05\n",
      "78 1.403300998306744e-05\n",
      "79 1.2842758726130299e-05\n",
      "80 1.1697777844051105e-05\n",
      "81 1.0599462319663905e-05\n",
      "82 9.549150281252633e-06\n",
      "83 8.548121372247918e-06\n",
      "84 7.597595192178702e-06\n",
      "85 6.698729810778065e-06\n",
      "86 5.852620357053662e-06\n",
      "87 5.060297685041648e-06\n",
      "88 4.322727117869962e-06\n",
      "89 3.6408072716606346e-06\n",
      "90 3.0153689607045845e-06\n",
      "91 2.4471741852423237e-06\n",
      "92 1.9369152030840666e-06\n",
      "93 1.4852136862001764e-06\n",
      "94 1.0926199633097157e-06\n",
      "95 7.596123493895991e-07\n",
      "96 4.865965629214875e-07\n",
      "97 2.7390523158633554e-07\n",
      "98 1.2179748700879012e-07\n",
      "99 3.04586490452119e-08\n"
     ]
    }
   ],
   "source": [
    "class Args:\n",
    "    def __init__(self):\n",
    "        self.warmup_epochs = 10\n",
    "        self.lr = 1e-4\n",
    "        self.min_lr = 0\n",
    "        self.epochs = 100\n",
    "        \n",
    "class Optimizer:\n",
    "    def __init__(self):\n",
    "        self.param_groups = [{'lr': 0.001}]\n",
    "\n",
    "args = Args()\n",
    "optimizer = Optimizer()\n",
    "for i in range(100):\n",
    "    lr = adjust_learning_rate(optimizer, i, args)\n",
    "    print(i, lr)"
   ],
   "metadata": {
    "collapsed": false,
    "ExecuteTime": {
     "end_time": "2024-11-10T21:45:05.232437100Z",
     "start_time": "2024-11-10T21:45:05.185961300Z"
    }
   },
   "id": "f47234503e2a7765"
  },
  {
   "cell_type": "code",
   "execution_count": 11,
   "outputs": [
    {
     "data": {
      "text/plain": "1.1428571428571429e-05"
     },
     "execution_count": 11,
     "metadata": {},
     "output_type": "execute_result"
    }
   ],
   "source": [
    "(1+1/7)/10 * 1e-4"
   ],
   "metadata": {
    "collapsed": false,
    "ExecuteTime": {
     "end_time": "2024-11-10T21:19:43.515939900Z",
     "start_time": "2024-11-10T21:19:43.480835700Z"
    }
   },
   "id": "5dac4e6a8cfde999"
  },
  {
   "cell_type": "code",
   "execution_count": null,
   "outputs": [],
   "source": [],
   "metadata": {
    "collapsed": false
   },
   "id": "a992561f8725339e"
  }
 ],
 "metadata": {
  "kernelspec": {
   "display_name": "Python 3",
   "language": "python",
   "name": "python3"
  },
  "language_info": {
   "codemirror_mode": {
    "name": "ipython",
    "version": 2
   },
   "file_extension": ".py",
   "mimetype": "text/x-python",
   "name": "python",
   "nbconvert_exporter": "python",
   "pygments_lexer": "ipython2",
   "version": "2.7.6"
  }
 },
 "nbformat": 4,
 "nbformat_minor": 5
}
