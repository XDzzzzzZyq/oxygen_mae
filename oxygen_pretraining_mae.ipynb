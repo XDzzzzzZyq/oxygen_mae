{
 "cells": [
  {
   "cell_type": "markdown",
   "source": [
    "This file is used to do pretraining for a dataset with temporal variability of image data from the global ocean. \n",
    "Authors: Zuchuan Li\n",
    "Date: 09/27/2024"
   ],
   "metadata": {
    "collapsed": false
   },
   "id": "99a2759ba70a0b0f"
  },
  {
   "cell_type": "markdown",
   "source": [
    "# 1. Meta data"
   ],
   "metadata": {
    "collapsed": false
   },
   "id": "4cad3e85d002073d"
  },
  {
   "cell_type": "code",
   "execution_count": 1,
   "outputs": [],
   "source": [
    "import pickle\n",
    "import os\n",
    "import numpy as np\n",
    "from importlib import reload \n",
    "import utils\n",
    "utils = reload(utils)\n",
    "\n",
    "cat_cols = ['SST', 'CHL', 'PAR', \n",
    "            'U', 'V', \n",
    "            'MLD_CLM', 'SAL_CLM', 'SST_CLM',\n",
    "            ]\n",
    "date_loc_cols = ['YR', 'DY', 'X', 'Y']\n",
    "\n",
    "dt_path = \"/data1/zuchuan/data/Oxygen_Ocean/pretraining_data_2024-09-27\"\n",
    "\n",
    "# Meta data\n",
    "f_name = dt_path + '/pretraining_metadata_2024-10-09.pickle'\n",
    "with open(f_name, 'rb') as fid:\n",
    "    dt_meta = pickle.load(fid)\n",
    "\n",
    "# ------------------- #\n",
    "# Load data for given year and day\n",
    "# ------------------- #\n",
    "def load_data_yr_dy(yr, dy):\n",
    "    name = \"/{}.{}.bin_encode.pickle\".format(yr, str(dy).rjust(3,\"0\"))\n",
    "    assert os.path.exists(dt_path + name)\n",
    "    with open(dt_path + name, 'rb') as f:\n",
    "        dt = pickle.load(f)\n",
    "        dt['YR'] = np.ones(dt['CHL'].shape[-1]) * yr\n",
    "        dt['DY'] = np.ones(dt['CHL'].shape[-1]) * dy\n",
    "        dt['Y'], dt['X'] = np.where(dt['MASK'])\n",
    "        del dt['MASK']\n",
    "        return dt\n",
    "\n",
    "\n",
    "# ------------------- #\n",
    "# Combine data\n",
    "# ------------------- #\n",
    "def combine_cat_cols(in_dt):\n",
    "    return np.concatenate([in_dt[ii] for ii in cat_cols], axis=2)\n",
    "\n",
    "def combine_date_loc_cols(in_dt):\n",
    "    return np.concatenate([in_dt[ii][:,None] for ii in date_loc_cols], axis=1)\n",
    "\n",
    "\n",
    "# ------------------- #\n",
    "# Combine data\n",
    "# ------------------- #\n",
    "def load_dataset_yrs(in_yrs, in_dys, loc_date=False):\n",
    "    rs = []\n",
    "    locs = []\n",
    "    for ii in in_yrs:\n",
    "        for jj in in_dys:\n",
    "            in_dt = load_data_yr_dy(ii, jj)\n",
    "            rs.append(combine_cat_cols(in_dt))\n",
    "            if loc_date:\n",
    "                locs.append(combine_date_loc_cols(in_dt))\n",
    "    rs = np.concatenate(rs, axis=-1)\n",
    "    if loc_date:\n",
    "        locs = np.concatenate(locs, axis=0)\n",
    "    return rs, locs\n"
   ],
   "metadata": {
    "collapsed": false,
    "ExecuteTime": {
     "end_time": "2024-10-11T02:43:34.351138700Z",
     "start_time": "2024-10-11T02:43:32.256839900Z"
    }
   },
   "id": "41c8746cd242045"
  },
  {
   "cell_type": "markdown",
   "source": [
    "# 2. Prepare training data"
   ],
   "metadata": {
    "collapsed": false
   },
   "id": "56083c42ee986d48"
  },
  {
   "cell_type": "code",
   "execution_count": 2,
   "outputs": [],
   "source": [
    "with open(dt_path + '/test.data.pickle', 'rb') as fid:\n",
    "    dt = pickle.load(fid)\n"
   ],
   "metadata": {
    "collapsed": false,
    "ExecuteTime": {
     "end_time": "2024-10-11T02:43:34.990625900Z",
     "start_time": "2024-10-11T02:43:34.990625900Z"
    }
   },
   "id": "b4bc5c5793132509"
  },
  {
   "cell_type": "markdown",
   "source": [
    "# 3. Training"
   ],
   "metadata": {
    "collapsed": false
   },
   "id": "ec2355539b57342"
  },
  {
   "cell_type": "code",
   "execution_count": 3,
   "outputs": [],
   "source": [
    "from dataclasses import dataclass\n",
    "import datetime\n",
    "import time\n",
    "\n",
    "import torch\n",
    "import torch.nn as nn\n",
    "import torch.backends.cudnn as cudnn\n",
    "from functools import partial\n",
    "\n",
    "import oxygen_pretraining\n",
    "oxygen_pretraining = reload(oxygen_pretraining)\n",
    "from oxygen_pretraining import MaskedAutoencoderViT\n",
    "\n",
    "# ------------------------ #\n",
    "# Train the model\n",
    "# ------------------------ #\n",
    "def main(args, dataset_train):\n",
    "    # fix the seed for reproducibility\n",
    "    torch.manual_seed(args.seed)\n",
    "    np.random.seed(args.seed)\n",
    "    cudnn.benchmark = True\n",
    "    \n",
    "    # load data\n",
    "    sampler_train = torch.utils.data.RandomSampler(dataset_train)\n",
    "    data_loader_train = torch.utils.data.DataLoader(\n",
    "        dataset_train, \n",
    "        sampler=sampler_train,\n",
    "        batch_size=args.batch_size,\n",
    "        drop_last=True,\n",
    "    )\n",
    "    \n",
    "    # the model\n",
    "    model = args.model.to(args.device)\n",
    "    \n",
    "    # optimizer\n",
    "    optimizer = torch.optim.AdamW(model.parameters(), lr=args.lr)\n",
    "    print(optimizer)\n",
    "    \n",
    "    start_time = time.time()\n",
    "    for epoch in range(0, args.epochs):\n",
    "        loss = simple_train_one_epoch(model, data_loader_train, \n",
    "                                      optimizer, args)\n",
    "        print(epoch, loss)\n",
    "        \n",
    "    print('Training time {}'.format(time.time() - start_time))\n",
    "\n",
    "# ------------------- #\n",
    "# Training for one epoch\n",
    "# ------------------- #\n",
    "def simple_train_one_epoch(model, data_loader, optimizer, arg):\n",
    "    model.train()\n",
    "    loss_avg = 0\n",
    "    for ep, xx in enumerate(data_loader):\n",
    "        xx = torch.tensor(xx, dtype=torch.int, \n",
    "                          device=arg.device, requires_grad=False)\n",
    "        loss, _, _ = model(xx, arg.mask_ratio)\n",
    "        optimizer.zero_grad()\n",
    "        loss.backward()\n",
    "        optimizer.step()\n",
    "        loss_avg += loss.detach().cpu().numpy()\n",
    "    return loss_avg\n",
    "        "
   ],
   "metadata": {
    "collapsed": false,
    "ExecuteTime": {
     "end_time": "2024-10-11T02:43:36.654863400Z",
     "start_time": "2024-10-11T02:43:36.242996400Z"
    }
   },
   "id": "877c99c6c0c0c75e"
  },
  {
   "cell_type": "code",
   "execution_count": 4,
   "outputs": [],
   "source": [
    "@dataclass\n",
    "class Parameters:\n",
    "    batch_size = 64\n",
    "    epochs = 100\n",
    "    accum_iter = 1\n",
    "\n",
    "    # Model parameters\n",
    "    mask_ratio =0.75\n",
    "\n",
    "    # Optimizer parameters\n",
    "    weight_decay = 0.05\n",
    "    lr = 1e-3\n",
    "    blr = 1e-3\n",
    "    min_lr = 1e-7\n",
    "    warmup_epochs = 5\n",
    "\n",
    "    # Dataset parameters\n",
    "    data_path = '/data1/zuchuan/data/Oxygen_Ocean/pretraining_data_2024-09-27/'\n",
    "    output_dir = '/data1/zuchuan/data/Oxygen_Ocean/mae_output'\n",
    "    log_dir = '/data1/zuchuan/data/Oxygen_Ocean/mae_output'\n",
    "    device = torch.device(\"cuda:0\" if torch.cuda.is_available() else \"cpu\")\n",
    "    seed = 0\n",
    "    \n",
    "    def __init__(self, dt_meta=None):\n",
    "        # Configurate model\n",
    "        emb_num = 808\n",
    "        if dt_meta is not None:\n",
    "            emb_num = 0\n",
    "            for ii in ['SST', 'CHL', 'PAR', 'U', 'V', 'MLD_CLM', 'SAL_CLM', 'SST_CLM']:\n",
    "                emb_num += dt_meta['LEVEL_NUM'][ii]\n",
    "                \n",
    "        # only SST and CHL\n",
    "        # NOTE: they are placed at the beginning columns\n",
    "        mask_chn_idx = torch.zeros((20,), dtype=torch.bool)\n",
    "        mask_chn_idx[:6] = True\n",
    "        \n",
    "        self.model = MaskedAutoencoderViT(img_size=3, in_chans=20, patch_size=1, \n",
    "                                          embed_dim=512, depth=6, num_heads=8, \n",
    "                                          decoder_embed_dim=256, decoder_depth=2, decoder_num_heads=8, \n",
    "                                          mlp_ratio=4, num_embeddings=emb_num,\n",
    "                                          mask_chn_idx=mask_chn_idx, \n",
    "                                          mean=dt_meta['MEAN'], std=dt_meta['STD'],\n",
    "                                          norm_layer=partial(nn.LayerNorm, eps=1e-6))\n",
    "        \n",
    "args = Parameters(dt_meta)\n"
   ],
   "metadata": {
    "collapsed": false,
    "ExecuteTime": {
     "end_time": "2024-10-11T02:43:41.697386400Z",
     "start_time": "2024-10-11T02:43:41.307087Z"
    }
   },
   "id": "8348d7bdccf3ca43"
  },
  {
   "cell_type": "code",
   "execution_count": 6,
   "outputs": [
    {
     "name": "stdout",
     "output_type": "stream",
     "text": [
      "AdamW (\n",
      "Parameter Group 0\n",
      "    amsgrad: False\n",
      "    betas: (0.9, 0.999)\n",
      "    capturable: False\n",
      "    differentiable: False\n",
      "    eps: 1e-08\n",
      "    foreach: None\n",
      "    fused: None\n",
      "    lr: 0.001\n",
      "    maximize: False\n",
      "    weight_decay: 0.01\n",
      ")\n"
     ]
    },
    {
     "name": "stderr",
     "output_type": "stream",
     "text": [
      "/tmp/ipykernel_3709450/3028538024.py:54: UserWarning: To copy construct from a tensor, it is recommended to use sourceTensor.clone().detach() or sourceTensor.clone().detach().requires_grad_(True), rather than torch.tensor(sourceTensor).\n",
      "  xx = torch.tensor(xx, dtype=torch.int,\n"
     ]
    },
    {
     "name": "stdout",
     "output_type": "stream",
     "text": [
      "0 261.1647734137101\n",
      "1 26.030115758942298\n",
      "2 23.061196158581513\n",
      "3 17.58628619799727\n",
      "4 12.822234465323035\n",
      "5 11.947737373937269\n",
      "6 11.786150262828194\n",
      "7 11.448473888011113\n",
      "8 11.781023103006437\n",
      "9 11.251271553497588\n",
      "10 11.08070163442602\n",
      "11 10.98065305602715\n",
      "12 10.905316096278263\n",
      "13 10.8471296662917\n",
      "14 10.618238786394796\n",
      "15 10.62891915941448\n",
      "16 10.625722298382389\n",
      "17 10.80060153540156\n",
      "18 10.440718603863726\n",
      "19 10.448699724329279\n",
      "20 10.445506787850496\n",
      "21 10.427569509248366\n",
      "22 10.6425760075915\n",
      "23 10.396765563949879\n",
      "24 10.197957396665466\n",
      "25 10.281220195479909\n",
      "26 10.26829925968168\n",
      "27 10.428822387204963\n",
      "28 10.24322594958143\n",
      "29 10.397941488707213\n",
      "30 10.330613991519074\n",
      "31 10.165562910522766\n",
      "32 10.281298672833218\n",
      "33 10.119751423282812\n",
      "34 10.098191053078718\n",
      "35 10.19321313412734\n",
      "36 10.073639542279635\n",
      "37 10.238856883620732\n",
      "38 10.27610493315246\n",
      "39 10.30834558209197\n",
      "40 10.099747227785649\n",
      "41 10.233325354062345\n",
      "42 10.248079160422373\n",
      "43 10.107344543488866\n",
      "44 10.24648565603638\n",
      "45 10.199357105726497\n",
      "46 10.134322574909072\n",
      "47 10.321422218921002\n",
      "48 10.122086198620332\n",
      "49 10.156533241656426\n",
      "50 10.457776234155576\n",
      "51 10.314297666148017\n",
      "52 10.107970966692172\n",
      "53 10.14826505216125\n",
      "54 10.196017455769457\n",
      "55 10.283130379140172\n",
      "56 10.063302740132443\n",
      "57 10.142569524524824\n",
      "58 10.122792156772006\n",
      "59 10.162670593337554\n",
      "60 10.180931009297996\n",
      "61 10.054482066890989\n",
      "62 10.077724057511857\n",
      "63 10.184979289352858\n",
      "64 10.008793707485857\n",
      "65 10.07873621683423\n",
      "66 10.123649299389342\n",
      "67 10.375536639181252\n",
      "68 10.14804157936212\n",
      "69 10.08609374371235\n",
      "70 10.021438586941397\n",
      "71 10.258269036687715\n",
      "72 10.116824386393423\n",
      "73 10.371424434381504\n",
      "74 10.363118151293103\n",
      "75 10.187618138497447\n",
      "76 10.088118245134474\n",
      "77 10.131888425749956\n",
      "78 9.991487821850452\n",
      "79 10.184481577291484\n",
      "80 10.202544961304826\n",
      "81 9.977654074912552\n",
      "82 10.001689213080821\n",
      "83 10.02876712478595\n",
      "84 9.95881083450595\n",
      "85 9.974134130945401\n",
      "86 10.014926409912574\n",
      "87 10.031772881564551\n",
      "88 9.997016067552261\n",
      "89 9.920388060664518\n",
      "90 9.912570520310483\n",
      "91 9.77248941614216\n",
      "92 9.578425072235284\n",
      "93 9.686516652222002\n",
      "94 9.129883114451044\n",
      "95 8.61327267639726\n",
      "96 8.31323114254955\n",
      "97 8.079436702134263\n",
      "98 7.702435192951605\n",
      "99 7.590130781338245\n",
      "Training time 75.50704669952393\n"
     ]
    }
   ],
   "source": [
    "main(args, dt)\n"
   ],
   "metadata": {
    "collapsed": false,
    "ExecuteTime": {
     "end_time": "2024-10-10T07:12:33.284119Z",
     "start_time": "2024-10-10T07:11:17.491916Z"
    }
   },
   "id": "a32b63f6f5670df2"
  },
  {
   "cell_type": "code",
   "execution_count": 8,
   "outputs": [
    {
     "ename": "FileNotFoundError",
     "evalue": "Couldn't find any class folder in /data1/zuchuan/data/Oxygen_Ocean/pretraining_data_2024-09-27/.",
     "output_type": "error",
     "traceback": [
      "\u001B[0;31m---------------------------------------------------------------------------\u001B[0m",
      "\u001B[0;31mFileNotFoundError\u001B[0m                         Traceback (most recent call last)",
      "Cell \u001B[0;32mIn[8], line 2\u001B[0m\n\u001B[1;32m      1\u001B[0m \u001B[38;5;28;01mimport\u001B[39;00m \u001B[38;5;21;01mtorchvision\u001B[39;00m\u001B[38;5;21;01m.\u001B[39;00m\u001B[38;5;21;01mdatasets\u001B[39;00m \u001B[38;5;28;01mas\u001B[39;00m \u001B[38;5;21;01mdatasets\u001B[39;00m\n\u001B[0;32m----> 2\u001B[0m dataset_train \u001B[38;5;241m=\u001B[39m \u001B[43mdatasets\u001B[49m\u001B[38;5;241;43m.\u001B[39;49m\u001B[43mImageFolder\u001B[49m\u001B[43m(\u001B[49m\u001B[38;5;124;43m'\u001B[39;49m\u001B[38;5;124;43m/data1/zuchuan/data/Oxygen_Ocean/pretraining_data_2024-09-27/\u001B[39;49m\u001B[38;5;124;43m'\u001B[39;49m\u001B[43m)\u001B[49m\n",
      "File \u001B[0;32m/data1/zuchuan/.conda/envs/env_mae_oxygen/lib/python3.11/site-packages/torchvision/datasets/folder.py:328\u001B[0m, in \u001B[0;36mImageFolder.__init__\u001B[0;34m(self, root, transform, target_transform, loader, is_valid_file, allow_empty)\u001B[0m\n\u001B[1;32m    319\u001B[0m \u001B[38;5;28;01mdef\u001B[39;00m \u001B[38;5;21m__init__\u001B[39m(\n\u001B[1;32m    320\u001B[0m     \u001B[38;5;28mself\u001B[39m,\n\u001B[1;32m    321\u001B[0m     root: \u001B[38;5;28mstr\u001B[39m,\n\u001B[0;32m   (...)\u001B[0m\n\u001B[1;32m    326\u001B[0m     allow_empty: \u001B[38;5;28mbool\u001B[39m \u001B[38;5;241m=\u001B[39m \u001B[38;5;28;01mFalse\u001B[39;00m,\n\u001B[1;32m    327\u001B[0m ):\n\u001B[0;32m--> 328\u001B[0m     \u001B[38;5;28;43msuper\u001B[39;49m\u001B[43m(\u001B[49m\u001B[43m)\u001B[49m\u001B[38;5;241;43m.\u001B[39;49m\u001B[38;5;21;43m__init__\u001B[39;49m\u001B[43m(\u001B[49m\n\u001B[1;32m    329\u001B[0m \u001B[43m        \u001B[49m\u001B[43mroot\u001B[49m\u001B[43m,\u001B[49m\n\u001B[1;32m    330\u001B[0m \u001B[43m        \u001B[49m\u001B[43mloader\u001B[49m\u001B[43m,\u001B[49m\n\u001B[1;32m    331\u001B[0m \u001B[43m        \u001B[49m\u001B[43mIMG_EXTENSIONS\u001B[49m\u001B[43m \u001B[49m\u001B[38;5;28;43;01mif\u001B[39;49;00m\u001B[43m \u001B[49m\u001B[43mis_valid_file\u001B[49m\u001B[43m \u001B[49m\u001B[38;5;129;43;01mis\u001B[39;49;00m\u001B[43m \u001B[49m\u001B[38;5;28;43;01mNone\u001B[39;49;00m\u001B[43m \u001B[49m\u001B[38;5;28;43;01melse\u001B[39;49;00m\u001B[43m \u001B[49m\u001B[38;5;28;43;01mNone\u001B[39;49;00m\u001B[43m,\u001B[49m\n\u001B[1;32m    332\u001B[0m \u001B[43m        \u001B[49m\u001B[43mtransform\u001B[49m\u001B[38;5;241;43m=\u001B[39;49m\u001B[43mtransform\u001B[49m\u001B[43m,\u001B[49m\n\u001B[1;32m    333\u001B[0m \u001B[43m        \u001B[49m\u001B[43mtarget_transform\u001B[49m\u001B[38;5;241;43m=\u001B[39;49m\u001B[43mtarget_transform\u001B[49m\u001B[43m,\u001B[49m\n\u001B[1;32m    334\u001B[0m \u001B[43m        \u001B[49m\u001B[43mis_valid_file\u001B[49m\u001B[38;5;241;43m=\u001B[39;49m\u001B[43mis_valid_file\u001B[49m\u001B[43m,\u001B[49m\n\u001B[1;32m    335\u001B[0m \u001B[43m        \u001B[49m\u001B[43mallow_empty\u001B[49m\u001B[38;5;241;43m=\u001B[39;49m\u001B[43mallow_empty\u001B[49m\u001B[43m,\u001B[49m\n\u001B[1;32m    336\u001B[0m \u001B[43m    \u001B[49m\u001B[43m)\u001B[49m\n\u001B[1;32m    337\u001B[0m     \u001B[38;5;28mself\u001B[39m\u001B[38;5;241m.\u001B[39mimgs \u001B[38;5;241m=\u001B[39m \u001B[38;5;28mself\u001B[39m\u001B[38;5;241m.\u001B[39msamples\n",
      "File \u001B[0;32m/data1/zuchuan/.conda/envs/env_mae_oxygen/lib/python3.11/site-packages/torchvision/datasets/folder.py:149\u001B[0m, in \u001B[0;36mDatasetFolder.__init__\u001B[0;34m(self, root, loader, extensions, transform, target_transform, is_valid_file, allow_empty)\u001B[0m\n\u001B[1;32m    138\u001B[0m \u001B[38;5;28;01mdef\u001B[39;00m \u001B[38;5;21m__init__\u001B[39m(\n\u001B[1;32m    139\u001B[0m     \u001B[38;5;28mself\u001B[39m,\n\u001B[1;32m    140\u001B[0m     root: Union[\u001B[38;5;28mstr\u001B[39m, Path],\n\u001B[0;32m   (...)\u001B[0m\n\u001B[1;32m    146\u001B[0m     allow_empty: \u001B[38;5;28mbool\u001B[39m \u001B[38;5;241m=\u001B[39m \u001B[38;5;28;01mFalse\u001B[39;00m,\n\u001B[1;32m    147\u001B[0m ) \u001B[38;5;241m-\u001B[39m\u001B[38;5;241m>\u001B[39m \u001B[38;5;28;01mNone\u001B[39;00m:\n\u001B[1;32m    148\u001B[0m     \u001B[38;5;28msuper\u001B[39m()\u001B[38;5;241m.\u001B[39m\u001B[38;5;21m__init__\u001B[39m(root, transform\u001B[38;5;241m=\u001B[39mtransform, target_transform\u001B[38;5;241m=\u001B[39mtarget_transform)\n\u001B[0;32m--> 149\u001B[0m     classes, class_to_idx \u001B[38;5;241m=\u001B[39m \u001B[38;5;28;43mself\u001B[39;49m\u001B[38;5;241;43m.\u001B[39;49m\u001B[43mfind_classes\u001B[49m\u001B[43m(\u001B[49m\u001B[38;5;28;43mself\u001B[39;49m\u001B[38;5;241;43m.\u001B[39;49m\u001B[43mroot\u001B[49m\u001B[43m)\u001B[49m\n\u001B[1;32m    150\u001B[0m     samples \u001B[38;5;241m=\u001B[39m \u001B[38;5;28mself\u001B[39m\u001B[38;5;241m.\u001B[39mmake_dataset(\n\u001B[1;32m    151\u001B[0m         \u001B[38;5;28mself\u001B[39m\u001B[38;5;241m.\u001B[39mroot,\n\u001B[1;32m    152\u001B[0m         class_to_idx\u001B[38;5;241m=\u001B[39mclass_to_idx,\n\u001B[0;32m   (...)\u001B[0m\n\u001B[1;32m    155\u001B[0m         allow_empty\u001B[38;5;241m=\u001B[39mallow_empty,\n\u001B[1;32m    156\u001B[0m     )\n\u001B[1;32m    158\u001B[0m     \u001B[38;5;28mself\u001B[39m\u001B[38;5;241m.\u001B[39mloader \u001B[38;5;241m=\u001B[39m loader\n",
      "File \u001B[0;32m/data1/zuchuan/.conda/envs/env_mae_oxygen/lib/python3.11/site-packages/torchvision/datasets/folder.py:234\u001B[0m, in \u001B[0;36mDatasetFolder.find_classes\u001B[0;34m(self, directory)\u001B[0m\n\u001B[1;32m    207\u001B[0m \u001B[38;5;28;01mdef\u001B[39;00m \u001B[38;5;21mfind_classes\u001B[39m(\u001B[38;5;28mself\u001B[39m, directory: Union[\u001B[38;5;28mstr\u001B[39m, Path]) \u001B[38;5;241m-\u001B[39m\u001B[38;5;241m>\u001B[39m Tuple[List[\u001B[38;5;28mstr\u001B[39m], Dict[\u001B[38;5;28mstr\u001B[39m, \u001B[38;5;28mint\u001B[39m]]:\n\u001B[1;32m    208\u001B[0m \u001B[38;5;250m    \u001B[39m\u001B[38;5;124;03m\"\"\"Find the class folders in a dataset structured as follows::\u001B[39;00m\n\u001B[1;32m    209\u001B[0m \n\u001B[1;32m    210\u001B[0m \u001B[38;5;124;03m        directory/\u001B[39;00m\n\u001B[0;32m   (...)\u001B[0m\n\u001B[1;32m    232\u001B[0m \u001B[38;5;124;03m        (Tuple[List[str], Dict[str, int]]): List of all classes and dictionary mapping each class to an index.\u001B[39;00m\n\u001B[1;32m    233\u001B[0m \u001B[38;5;124;03m    \"\"\"\u001B[39;00m\n\u001B[0;32m--> 234\u001B[0m     \u001B[38;5;28;01mreturn\u001B[39;00m \u001B[43mfind_classes\u001B[49m\u001B[43m(\u001B[49m\u001B[43mdirectory\u001B[49m\u001B[43m)\u001B[49m\n",
      "File \u001B[0;32m/data1/zuchuan/.conda/envs/env_mae_oxygen/lib/python3.11/site-packages/torchvision/datasets/folder.py:43\u001B[0m, in \u001B[0;36mfind_classes\u001B[0;34m(directory)\u001B[0m\n\u001B[1;32m     41\u001B[0m classes \u001B[38;5;241m=\u001B[39m \u001B[38;5;28msorted\u001B[39m(entry\u001B[38;5;241m.\u001B[39mname \u001B[38;5;28;01mfor\u001B[39;00m entry \u001B[38;5;129;01min\u001B[39;00m os\u001B[38;5;241m.\u001B[39mscandir(directory) \u001B[38;5;28;01mif\u001B[39;00m entry\u001B[38;5;241m.\u001B[39mis_dir())\n\u001B[1;32m     42\u001B[0m \u001B[38;5;28;01mif\u001B[39;00m \u001B[38;5;129;01mnot\u001B[39;00m classes:\n\u001B[0;32m---> 43\u001B[0m     \u001B[38;5;28;01mraise\u001B[39;00m \u001B[38;5;167;01mFileNotFoundError\u001B[39;00m(\u001B[38;5;124mf\u001B[39m\u001B[38;5;124m\"\u001B[39m\u001B[38;5;124mCouldn\u001B[39m\u001B[38;5;124m'\u001B[39m\u001B[38;5;124mt find any class folder in \u001B[39m\u001B[38;5;132;01m{\u001B[39;00mdirectory\u001B[38;5;132;01m}\u001B[39;00m\u001B[38;5;124m.\u001B[39m\u001B[38;5;124m\"\u001B[39m)\n\u001B[1;32m     45\u001B[0m class_to_idx \u001B[38;5;241m=\u001B[39m {cls_name: i \u001B[38;5;28;01mfor\u001B[39;00m i, cls_name \u001B[38;5;129;01min\u001B[39;00m \u001B[38;5;28menumerate\u001B[39m(classes)}\n\u001B[1;32m     46\u001B[0m \u001B[38;5;28;01mreturn\u001B[39;00m classes, class_to_idx\n",
      "\u001B[0;31mFileNotFoundError\u001B[0m: Couldn't find any class folder in /data1/zuchuan/data/Oxygen_Ocean/pretraining_data_2024-09-27/."
     ]
    }
   ],
   "source": [
    "import torchvision.datasets as datasets\n",
    "dataset_train = datasets.ImageFolder('/data1/zuchuan/data/Oxygen_Ocean/pretraining_data_2024-09-27/')"
   ],
   "metadata": {
    "collapsed": false,
    "ExecuteTime": {
     "end_time": "2024-10-10T09:25:38.373463300Z",
     "start_time": "2024-10-10T09:25:38.340816500Z"
    }
   },
   "id": "b83ef046b3fc2784"
  },
  {
   "cell_type": "code",
   "execution_count": 11,
   "outputs": [
    {
     "ename": "FileNotFoundError",
     "evalue": "Couldn't find any class folder in /data1/zuchuan/data/Oxygen_Ocean/pretraining_data_2024-09-27.",
     "output_type": "error",
     "traceback": [
      "\u001B[0;31m---------------------------------------------------------------------------\u001B[0m",
      "\u001B[0;31mFileNotFoundError\u001B[0m                         Traceback (most recent call last)",
      "Cell \u001B[0;32mIn[11], line 7\u001B[0m\n\u001B[1;32m      5\u001B[0m     \u001B[38;5;28;01mreturn\u001B[39;00m ii\n\u001B[1;32m      6\u001B[0m tmp \u001B[38;5;241m=\u001B[39m os\u001B[38;5;241m.\u001B[39mpath\u001B[38;5;241m.\u001B[39mjoin(\u001B[38;5;124m'\u001B[39m\u001B[38;5;124m/data1/zuchuan/data/Oxygen_Ocean\u001B[39m\u001B[38;5;124m'\u001B[39m, \u001B[38;5;124m'\u001B[39m\u001B[38;5;124mpretraining_data_2024-09-27\u001B[39m\u001B[38;5;124m'\u001B[39m)\n\u001B[0;32m----> 7\u001B[0m \u001B[43mdatasets\u001B[49m\u001B[38;5;241;43m.\u001B[39;49m\u001B[43mDatasetFolder\u001B[49m\u001B[43m(\u001B[49m\u001B[43mtmp\u001B[49m\u001B[43m,\u001B[49m\u001B[43m \u001B[49m\u001B[43mload_dt\u001B[49m\u001B[43m,\u001B[49m\u001B[43m \u001B[49m\u001B[43mextensions\u001B[49m\u001B[38;5;241;43m=\u001B[39;49m\u001B[43m(\u001B[49m\u001B[38;5;124;43m'\u001B[39;49m\u001B[38;5;124;43mbin_encode.pickle\u001B[39;49m\u001B[38;5;124;43m'\u001B[39;49m\u001B[43m,\u001B[49m\u001B[43m)\u001B[49m\u001B[43m,\u001B[49m\u001B[43m \u001B[49m\u001B[43m)\u001B[49m\n",
      "File \u001B[0;32m/data1/zuchuan/.conda/envs/env_mae_oxygen/lib/python3.11/site-packages/torchvision/datasets/folder.py:149\u001B[0m, in \u001B[0;36mDatasetFolder.__init__\u001B[0;34m(self, root, loader, extensions, transform, target_transform, is_valid_file, allow_empty)\u001B[0m\n\u001B[1;32m    138\u001B[0m \u001B[38;5;28;01mdef\u001B[39;00m \u001B[38;5;21m__init__\u001B[39m(\n\u001B[1;32m    139\u001B[0m     \u001B[38;5;28mself\u001B[39m,\n\u001B[1;32m    140\u001B[0m     root: Union[\u001B[38;5;28mstr\u001B[39m, Path],\n\u001B[0;32m   (...)\u001B[0m\n\u001B[1;32m    146\u001B[0m     allow_empty: \u001B[38;5;28mbool\u001B[39m \u001B[38;5;241m=\u001B[39m \u001B[38;5;28;01mFalse\u001B[39;00m,\n\u001B[1;32m    147\u001B[0m ) \u001B[38;5;241m-\u001B[39m\u001B[38;5;241m>\u001B[39m \u001B[38;5;28;01mNone\u001B[39;00m:\n\u001B[1;32m    148\u001B[0m     \u001B[38;5;28msuper\u001B[39m()\u001B[38;5;241m.\u001B[39m\u001B[38;5;21m__init__\u001B[39m(root, transform\u001B[38;5;241m=\u001B[39mtransform, target_transform\u001B[38;5;241m=\u001B[39mtarget_transform)\n\u001B[0;32m--> 149\u001B[0m     classes, class_to_idx \u001B[38;5;241m=\u001B[39m \u001B[38;5;28;43mself\u001B[39;49m\u001B[38;5;241;43m.\u001B[39;49m\u001B[43mfind_classes\u001B[49m\u001B[43m(\u001B[49m\u001B[38;5;28;43mself\u001B[39;49m\u001B[38;5;241;43m.\u001B[39;49m\u001B[43mroot\u001B[49m\u001B[43m)\u001B[49m\n\u001B[1;32m    150\u001B[0m     samples \u001B[38;5;241m=\u001B[39m \u001B[38;5;28mself\u001B[39m\u001B[38;5;241m.\u001B[39mmake_dataset(\n\u001B[1;32m    151\u001B[0m         \u001B[38;5;28mself\u001B[39m\u001B[38;5;241m.\u001B[39mroot,\n\u001B[1;32m    152\u001B[0m         class_to_idx\u001B[38;5;241m=\u001B[39mclass_to_idx,\n\u001B[0;32m   (...)\u001B[0m\n\u001B[1;32m    155\u001B[0m         allow_empty\u001B[38;5;241m=\u001B[39mallow_empty,\n\u001B[1;32m    156\u001B[0m     )\n\u001B[1;32m    158\u001B[0m     \u001B[38;5;28mself\u001B[39m\u001B[38;5;241m.\u001B[39mloader \u001B[38;5;241m=\u001B[39m loader\n",
      "File \u001B[0;32m/data1/zuchuan/.conda/envs/env_mae_oxygen/lib/python3.11/site-packages/torchvision/datasets/folder.py:234\u001B[0m, in \u001B[0;36mDatasetFolder.find_classes\u001B[0;34m(self, directory)\u001B[0m\n\u001B[1;32m    207\u001B[0m \u001B[38;5;28;01mdef\u001B[39;00m \u001B[38;5;21mfind_classes\u001B[39m(\u001B[38;5;28mself\u001B[39m, directory: Union[\u001B[38;5;28mstr\u001B[39m, Path]) \u001B[38;5;241m-\u001B[39m\u001B[38;5;241m>\u001B[39m Tuple[List[\u001B[38;5;28mstr\u001B[39m], Dict[\u001B[38;5;28mstr\u001B[39m, \u001B[38;5;28mint\u001B[39m]]:\n\u001B[1;32m    208\u001B[0m \u001B[38;5;250m    \u001B[39m\u001B[38;5;124;03m\"\"\"Find the class folders in a dataset structured as follows::\u001B[39;00m\n\u001B[1;32m    209\u001B[0m \n\u001B[1;32m    210\u001B[0m \u001B[38;5;124;03m        directory/\u001B[39;00m\n\u001B[0;32m   (...)\u001B[0m\n\u001B[1;32m    232\u001B[0m \u001B[38;5;124;03m        (Tuple[List[str], Dict[str, int]]): List of all classes and dictionary mapping each class to an index.\u001B[39;00m\n\u001B[1;32m    233\u001B[0m \u001B[38;5;124;03m    \"\"\"\u001B[39;00m\n\u001B[0;32m--> 234\u001B[0m     \u001B[38;5;28;01mreturn\u001B[39;00m \u001B[43mfind_classes\u001B[49m\u001B[43m(\u001B[49m\u001B[43mdirectory\u001B[49m\u001B[43m)\u001B[49m\n",
      "File \u001B[0;32m/data1/zuchuan/.conda/envs/env_mae_oxygen/lib/python3.11/site-packages/torchvision/datasets/folder.py:43\u001B[0m, in \u001B[0;36mfind_classes\u001B[0;34m(directory)\u001B[0m\n\u001B[1;32m     41\u001B[0m classes \u001B[38;5;241m=\u001B[39m \u001B[38;5;28msorted\u001B[39m(entry\u001B[38;5;241m.\u001B[39mname \u001B[38;5;28;01mfor\u001B[39;00m entry \u001B[38;5;129;01min\u001B[39;00m os\u001B[38;5;241m.\u001B[39mscandir(directory) \u001B[38;5;28;01mif\u001B[39;00m entry\u001B[38;5;241m.\u001B[39mis_dir())\n\u001B[1;32m     42\u001B[0m \u001B[38;5;28;01mif\u001B[39;00m \u001B[38;5;129;01mnot\u001B[39;00m classes:\n\u001B[0;32m---> 43\u001B[0m     \u001B[38;5;28;01mraise\u001B[39;00m \u001B[38;5;167;01mFileNotFoundError\u001B[39;00m(\u001B[38;5;124mf\u001B[39m\u001B[38;5;124m\"\u001B[39m\u001B[38;5;124mCouldn\u001B[39m\u001B[38;5;124m'\u001B[39m\u001B[38;5;124mt find any class folder in \u001B[39m\u001B[38;5;132;01m{\u001B[39;00mdirectory\u001B[38;5;132;01m}\u001B[39;00m\u001B[38;5;124m.\u001B[39m\u001B[38;5;124m\"\u001B[39m)\n\u001B[1;32m     45\u001B[0m class_to_idx \u001B[38;5;241m=\u001B[39m {cls_name: i \u001B[38;5;28;01mfor\u001B[39;00m i, cls_name \u001B[38;5;129;01min\u001B[39;00m \u001B[38;5;28menumerate\u001B[39m(classes)}\n\u001B[1;32m     46\u001B[0m \u001B[38;5;28;01mreturn\u001B[39;00m classes, class_to_idx\n",
      "\u001B[0;31mFileNotFoundError\u001B[0m: Couldn't find any class folder in /data1/zuchuan/data/Oxygen_Ocean/pretraining_data_2024-09-27."
     ]
    }
   ],
   "source": [
    "def load_dt(in_name):\n",
    "    import pickle\n",
    "    with open(in_name, 'rb') as ff:\n",
    "        ii = pickle.load(ff)\n",
    "    return ii\n",
    "tmp = os.path.join('/data1/zuchuan/data/Oxygen_Ocean', 'pretraining_data_2024-09-27')\n",
    "datasets.DatasetFolder(tmp, load_dt, extensions=('bin_encode.pickle',), )"
   ],
   "metadata": {
    "collapsed": false,
    "ExecuteTime": {
     "end_time": "2024-10-10T09:34:55.048590500Z",
     "start_time": "2024-10-10T09:34:55.004235100Z"
    }
   },
   "id": "234d7e9f1a0344ea"
  },
  {
   "cell_type": "code",
   "execution_count": 30,
   "outputs": [],
   "source": [
    "utils = reload(utils)\n",
    "from utils import SatDataFolder, sat_loader_pickle\n",
    "import os\n",
    "\n",
    "tmp = SatDataFolder('/data1/zuchuan/data/Oxygen_Ocean/processed_data/', sat_loader_pickle,\n",
    "                    extensions=('.pickle',))"
   ],
   "metadata": {
    "collapsed": false,
    "ExecuteTime": {
     "end_time": "2024-10-11T05:48:22.577517600Z",
     "start_time": "2024-10-11T05:48:22.530190800Z"
    }
   },
   "id": "3716fc8f79423338"
  },
  {
   "cell_type": "code",
   "execution_count": 31,
   "outputs": [
    {
     "name": "stdout",
     "output_type": "stream",
     "text": [
      "[[[[100 100 100]\n",
      "   [100 100 100]\n",
      "   [100 100 100]]\n",
      "\n",
      "  [[100 100 100]\n",
      "   [ 15  15  15]\n",
      "   [ 14  14  15]]\n",
      "\n",
      "  [[ 14  14  13]\n",
      "   [ 14  14  14]\n",
      "   [ 15  15  15]]\n",
      "\n",
      "  ...\n",
      "\n",
      "  [[591 591 591]\n",
      "   [591 591 591]\n",
      "   [592 592 592]]\n",
      "\n",
      "  [[670 670 670]\n",
      "   [670 670 670]\n",
      "   [670 670 670]]\n",
      "\n",
      "  [[726 727 727]\n",
      "   [726 726 727]\n",
      "   [727 726 726]]]\n",
      "\n",
      "\n",
      " [[[100 100 100]\n",
      "   [100 100 100]\n",
      "   [100 100 100]]\n",
      "\n",
      "  [[ 15  15  15]\n",
      "   [ 14  14  15]\n",
      "   [100 100 100]]\n",
      "\n",
      "  [[ 14  14  14]\n",
      "   [ 15  15  15]\n",
      "   [ 15  15  15]]\n",
      "\n",
      "  ...\n",
      "\n",
      "  [[591 591 591]\n",
      "   [592 592 592]\n",
      "   [592 592 592]]\n",
      "\n",
      "  [[670 670 670]\n",
      "   [670 670 670]\n",
      "   [670 670 670]]\n",
      "\n",
      "  [[726 726 727]\n",
      "   [727 726 726]\n",
      "   [727 727 726]]]\n",
      "\n",
      "\n",
      " [[[100 100 100]\n",
      "   [100 100 100]\n",
      "   [100 100 100]]\n",
      "\n",
      "  [[ 15  15  15]\n",
      "   [ 15  15  15]\n",
      "   [ 15  15  15]]\n",
      "\n",
      "  [[ 14  14  14]\n",
      "   [ 15  15  15]\n",
      "   [ 15  15  15]]\n",
      "\n",
      "  ...\n",
      "\n",
      "  [[591 591 591]\n",
      "   [592 592 592]\n",
      "   [592 592 592]]\n",
      "\n",
      "  [[670 670 670]\n",
      "   [670 670 670]\n",
      "   [670 670 670]]\n",
      "\n",
      "  [[727 727 727]\n",
      "   [726 727 726]\n",
      "   [725 725 725]]]\n",
      "\n",
      "\n",
      " ...\n",
      "\n",
      "\n",
      " [[[100 100 100]\n",
      "   [  2   2 100]\n",
      "   [100 100 100]]\n",
      "\n",
      "  [[100 100 100]\n",
      "   [  2   2 100]\n",
      "   [100 100 100]]\n",
      "\n",
      "  [[100 100 100]\n",
      "   [  0   0 100]\n",
      "   [  1 100 100]]\n",
      "\n",
      "  ...\n",
      "\n",
      "  [[506 506 506]\n",
      "   [506 506 506]\n",
      "   [506 506 506]]\n",
      "\n",
      "  [[639 638 638]\n",
      "   [639 638 638]\n",
      "   [639 638 637]]\n",
      "\n",
      "  [[807 807 807]\n",
      "   [807 807 807]\n",
      "   [807 807 807]]]\n",
      "\n",
      "\n",
      " [[[  0   0   0]\n",
      "   [  0   0   0]\n",
      "   [100 100 100]]\n",
      "\n",
      "  [[  0   0   0]\n",
      "   [  0   0   0]\n",
      "   [100 100 100]]\n",
      "\n",
      "  [[  0   0   0]\n",
      "   [  0   0   0]\n",
      "   [100 100 100]]\n",
      "\n",
      "  ...\n",
      "\n",
      "  [[507 507 507]\n",
      "   [507 507 507]\n",
      "   [507 507 507]]\n",
      "\n",
      "  [[642 642 642]\n",
      "   [642 642 642]\n",
      "   [642 642 642]]\n",
      "\n",
      "  [[708 708 708]\n",
      "   [708 708 708]\n",
      "   [708 708 708]]]\n",
      "\n",
      "\n",
      " [[[  0   0   0]\n",
      "   [  0   0   0]\n",
      "   [100 100 100]]\n",
      "\n",
      "  [[  0   0   0]\n",
      "   [  0   0   0]\n",
      "   [100 100 100]]\n",
      "\n",
      "  [[  0   0   0]\n",
      "   [  0   0   0]\n",
      "   [100 100 100]]\n",
      "\n",
      "  ...\n",
      "\n",
      "  [[507 507 507]\n",
      "   [507 507 507]\n",
      "   [507 507 507]]\n",
      "\n",
      "  [[642 642 642]\n",
      "   [642 642 642]\n",
      "   [642 642 642]]\n",
      "\n",
      "  [[708 708 708]\n",
      "   [708 708 708]\n",
      "   [708 708 708]]]]\n"
     ]
    }
   ],
   "source": [
    "for i, (xx,id) in enumerate(tmp):\n",
    "    print(xx)\n",
    "    if i == 0:\n",
    "        break"
   ],
   "metadata": {
    "collapsed": false,
    "ExecuteTime": {
     "end_time": "2024-10-11T05:48:27.349583800Z",
     "start_time": "2024-10-11T05:48:23.442298600Z"
    }
   },
   "id": "84cb8a945cbab39b"
  },
  {
   "cell_type": "code",
   "execution_count": 33,
   "outputs": [
    {
     "data": {
      "text/plain": "(495396, 20, 3, 3)"
     },
     "execution_count": 33,
     "metadata": {},
     "output_type": "execute_result"
    }
   ],
   "source": [
    "xx.shape"
   ],
   "metadata": {
    "collapsed": false,
    "ExecuteTime": {
     "end_time": "2024-10-12T05:54:52.260535600Z",
     "start_time": "2024-10-12T05:54:52.211240100Z"
    }
   },
   "id": "4aa74579f9cd38c"
  },
  {
   "cell_type": "code",
   "execution_count": 34,
   "outputs": [
    {
     "data": {
      "text/plain": "tensor([[[1, 2],\n         [3, 4]],\n\n        [[5, 6],\n         [7, 8]]])"
     },
     "execution_count": 34,
     "metadata": {},
     "output_type": "execute_result"
    }
   ],
   "source": [
    "t = torch.tensor([[[1, 2],\n",
    "                   [3, 4]],\n",
    "                  [[5, 6],\n",
    "                    [7, 8]]])\n",
    "t"
   ],
   "metadata": {
    "collapsed": false,
    "ExecuteTime": {
     "end_time": "2024-10-12T05:55:11.782271800Z",
     "start_time": "2024-10-12T05:55:11.703609500Z"
    }
   },
   "id": "73288a9960a9bfe0"
  },
  {
   "cell_type": "code",
   "execution_count": 38,
   "outputs": [
    {
     "data": {
      "text/plain": "tensor([[1, 2, 3, 4],\n        [5, 6, 7, 8]])"
     },
     "execution_count": 38,
     "metadata": {},
     "output_type": "execute_result"
    }
   ],
   "source": [
    "torch.flatten(t, start_dim=1, end_dim=2)"
   ],
   "metadata": {
    "collapsed": false,
    "ExecuteTime": {
     "end_time": "2024-10-12T05:56:36.912244600Z",
     "start_time": "2024-10-12T05:56:36.870860900Z"
    }
   },
   "id": "a610bc92a843a52e"
  },
  {
   "cell_type": "code",
   "execution_count": 43,
   "outputs": [
    {
     "ename": "PermissionError",
     "evalue": "[Errno 13] Permission denied: '/data0/Zuchuan'",
     "output_type": "error",
     "traceback": [
      "\u001B[0;31m---------------------------------------------------------------------------\u001B[0m",
      "\u001B[0;31mPermissionError\u001B[0m                           Traceback (most recent call last)",
      "Cell \u001B[0;32mIn[43], line 2\u001B[0m\n\u001B[1;32m      1\u001B[0m \u001B[38;5;28;01mimport\u001B[39;00m \u001B[38;5;21;01mos\u001B[39;00m\n\u001B[0;32m----> 2\u001B[0m \u001B[43mos\u001B[49m\u001B[38;5;241;43m.\u001B[39;49m\u001B[43mmkdir\u001B[49m\u001B[43m(\u001B[49m\u001B[38;5;124;43m'\u001B[39;49m\u001B[38;5;124;43m/data0/Zuchuan\u001B[39;49m\u001B[38;5;124;43m'\u001B[39;49m\u001B[43m)\u001B[49m\n",
      "\u001B[0;31mPermissionError\u001B[0m: [Errno 13] Permission denied: '/data0/Zuchuan'"
     ]
    }
   ],
   "source": [
    "import os\n",
    "os.mkdir('/data0/Zuchuan')"
   ],
   "metadata": {
    "collapsed": false,
    "ExecuteTime": {
     "end_time": "2024-10-12T07:21:46.003367800Z",
     "start_time": "2024-10-12T07:21:45.987359600Z"
    }
   },
   "id": "759697f93f2a31f0"
  },
  {
   "cell_type": "code",
   "execution_count": 17,
   "outputs": [
    {
     "data": {
      "text/plain": "array([[ 0.00000000e+00,  0.00000000e+00,  0.00000000e+00,\n         0.00000000e+00,  0.00000000e+00,  0.00000000e+00,\n         0.00000000e+00,  0.00000000e+00,  0.00000000e+00,\n         0.00000000e+00,  0.00000000e+00,  0.00000000e+00,\n         0.00000000e+00,  0.00000000e+00,  0.00000000e+00,\n         0.00000000e+00],\n       [ 0.00000000e+00,  0.00000000e+00,  0.00000000e+00,\n         0.00000000e+00,  1.00000000e+00,  1.00000000e+00,\n         1.00000000e+00,  1.00000000e+00,  0.00000000e+00,\n         0.00000000e+00,  0.00000000e+00,  0.00000000e+00,\n         1.00000000e+00,  1.00000000e+00,  1.00000000e+00,\n         1.00000000e+00],\n       [ 8.41471016e-01,  9.98334214e-02,  9.99983307e-03,\n         9.99999931e-04,  5.40302277e-01,  9.95004177e-01,\n         9.99949992e-01,  9.99999523e-01,  0.00000000e+00,\n         0.00000000e+00,  0.00000000e+00,  0.00000000e+00,\n         1.00000000e+00,  1.00000000e+00,  1.00000000e+00,\n         1.00000000e+00],\n       [ 9.09297407e-01,  1.98669329e-01,  1.99986659e-02,\n         1.99999870e-03, -4.16146815e-01,  9.80066597e-01,\n         9.99800026e-01,  9.99997973e-01,  0.00000000e+00,\n         0.00000000e+00,  0.00000000e+00,  0.00000000e+00,\n         1.00000000e+00,  1.00000000e+00,  1.00000000e+00,\n         1.00000000e+00],\n       [ 0.00000000e+00,  0.00000000e+00,  0.00000000e+00,\n         0.00000000e+00,  1.00000000e+00,  1.00000000e+00,\n         1.00000000e+00,  1.00000000e+00,  8.41471016e-01,\n         9.98334214e-02,  9.99983307e-03,  9.99999931e-04,\n         5.40302277e-01,  9.95004177e-01,  9.99949992e-01,\n         9.99999523e-01],\n       [ 8.41471016e-01,  9.98334214e-02,  9.99983307e-03,\n         9.99999931e-04,  5.40302277e-01,  9.95004177e-01,\n         9.99949992e-01,  9.99999523e-01,  8.41471016e-01,\n         9.98334214e-02,  9.99983307e-03,  9.99999931e-04,\n         5.40302277e-01,  9.95004177e-01,  9.99949992e-01,\n         9.99999523e-01],\n       [ 9.09297407e-01,  1.98669329e-01,  1.99986659e-02,\n         1.99999870e-03, -4.16146815e-01,  9.80066597e-01,\n         9.99800026e-01,  9.99997973e-01,  8.41471016e-01,\n         9.98334214e-02,  9.99983307e-03,  9.99999931e-04,\n         5.40302277e-01,  9.95004177e-01,  9.99949992e-01,\n         9.99999523e-01],\n       [ 0.00000000e+00,  0.00000000e+00,  0.00000000e+00,\n         0.00000000e+00,  1.00000000e+00,  1.00000000e+00,\n         1.00000000e+00,  1.00000000e+00,  9.09297407e-01,\n         1.98669329e-01,  1.99986659e-02,  1.99999870e-03,\n        -4.16146815e-01,  9.80066597e-01,  9.99800026e-01,\n         9.99997973e-01],\n       [ 8.41471016e-01,  9.98334214e-02,  9.99983307e-03,\n         9.99999931e-04,  5.40302277e-01,  9.95004177e-01,\n         9.99949992e-01,  9.99999523e-01,  9.09297407e-01,\n         1.98669329e-01,  1.99986659e-02,  1.99999870e-03,\n        -4.16146815e-01,  9.80066597e-01,  9.99800026e-01,\n         9.99997973e-01],\n       [ 9.09297407e-01,  1.98669329e-01,  1.99986659e-02,\n         1.99999870e-03, -4.16146815e-01,  9.80066597e-01,\n         9.99800026e-01,  9.99997973e-01,  9.09297407e-01,\n         1.98669329e-01,  1.99986659e-02,  1.99999870e-03,\n        -4.16146815e-01,  9.80066597e-01,  9.99800026e-01,\n         9.99997973e-01]])"
     },
     "execution_count": 17,
     "metadata": {},
     "output_type": "execute_result"
    }
   ],
   "source": [
    "from mae_main.util.pos_embed import get_2d_sincos_pos_embed, get_1d_sincos_pos_embed_from_grid\n",
    "from utils import _encode_spacetime2, encode_pos2d_chn1d\n",
    "\n",
    "get_2d_sincos_pos_embed(16, 3, cls_token=True)"
   ],
   "metadata": {
    "collapsed": false,
    "ExecuteTime": {
     "end_time": "2024-10-08T06:44:42.312760Z",
     "start_time": "2024-10-08T06:44:42.266505200Z"
    }
   },
   "id": "109852f02042ba"
  },
  {
   "cell_type": "code",
   "execution_count": 15,
   "outputs": [
    {
     "data": {
      "text/plain": "array([[ 0.        ,  0.        ,  1.        ,  1.        ],\n       [ 0.84147098,  0.00999983,  0.54030231,  0.99995   ],\n       [ 0.90929743,  0.01999867, -0.41614684,  0.99980001],\n       [ 0.14112001,  0.0299955 , -0.9899925 ,  0.99955003]])"
     },
     "execution_count": 15,
     "metadata": {},
     "output_type": "execute_result"
    }
   ],
   "source": [
    "get_1d_sincos_pos_embed_from_grid(4, np.arange(4))"
   ],
   "metadata": {
    "collapsed": false,
    "ExecuteTime": {
     "end_time": "2024-10-08T06:40:17.654065200Z",
     "start_time": "2024-10-08T06:40:17.648308800Z"
    }
   },
   "id": "27d8a7599c0e232b"
  },
  {
   "cell_type": "code",
   "execution_count": 16,
   "outputs": [
    {
     "data": {
      "text/plain": "array([[ 0.        ,  1.        ,  0.        ,  1.        ],\n       [ 0.84147098,  0.54030231,  0.00999983,  0.99995   ],\n       [ 0.90929743, -0.41614684,  0.01999867,  0.99980001],\n       [ 0.14112001, -0.9899925 ,  0.0299955 ,  0.99955003]])"
     },
     "execution_count": 16,
     "metadata": {},
     "output_type": "execute_result"
    }
   ],
   "source": [
    "_encode_spacetime2(4,4)"
   ],
   "metadata": {
    "collapsed": false,
    "ExecuteTime": {
     "end_time": "2024-10-08T06:40:27.468442200Z",
     "start_time": "2024-10-08T06:40:27.427639100Z"
    }
   },
   "id": "f89336040f506c2d"
  },
  {
   "cell_type": "code",
   "execution_count": 32,
   "outputs": [
    {
     "data": {
      "text/plain": "tensor([[[0.0000, 1.0000, 0.0000, 1.0000, 0.0000, 0.0000, 1.0000, 1.0000],\n         [0.0000, 1.0000, 0.0000, 1.0000, 0.8415, 0.0100, 0.5403, 0.9999],\n         [0.8415, 0.5403, 0.0000, 1.0000, 0.0000, 0.0000, 1.0000, 1.0000],\n         [0.8415, 0.5403, 0.0000, 1.0000, 0.8415, 0.0100, 0.5403, 0.9999],\n         [0.0000, 1.0000, 0.8415, 0.5403, 0.0000, 0.0000, 1.0000, 1.0000],\n         [0.0000, 1.0000, 0.8415, 0.5403, 0.8415, 0.0100, 0.5403, 0.9999],\n         [0.8415, 0.5403, 0.8415, 0.5403, 0.0000, 0.0000, 1.0000, 1.0000],\n         [0.8415, 0.5403, 0.8415, 0.5403, 0.8415, 0.0100, 0.5403, 0.9999]]])"
     },
     "execution_count": 32,
     "metadata": {},
     "output_type": "execute_result"
    }
   ],
   "source": [
    "encode_pos2d_chn1d(8, 2, 2, cls_token=False)"
   ],
   "metadata": {
    "collapsed": false,
    "ExecuteTime": {
     "end_time": "2024-10-08T06:52:12.339634400Z",
     "start_time": "2024-10-08T06:52:12.325906900Z"
    }
   },
   "id": "ed62775125d29228"
  },
  {
   "cell_type": "code",
   "execution_count": 29,
   "outputs": [],
   "source": [
    "from importlib import reload \n",
    "utils = reload(utils)\n",
    "from utils import encode_pos2d_chn1d"
   ],
   "metadata": {
    "collapsed": false,
    "ExecuteTime": {
     "end_time": "2024-10-08T00:18:31.090125800Z",
     "start_time": "2024-10-08T00:18:31.044314900Z"
    }
   },
   "id": "931aefd2ab5a133e"
  },
  {
   "cell_type": "code",
   "execution_count": 30,
   "outputs": [],
   "source": [
    "tmp = encode_pos2d_chn1d(1024, 3, 20, cls_token=True)"
   ],
   "metadata": {
    "collapsed": false,
    "ExecuteTime": {
     "end_time": "2024-10-08T00:18:31.792309400Z",
     "start_time": "2024-10-08T00:18:31.770272900Z"
    }
   },
   "id": "a12a6ee2a88d6f7"
  },
  {
   "cell_type": "code",
   "execution_count": 31,
   "outputs": [
    {
     "data": {
      "text/plain": "tensor([[0.0000, 0.0000, 0.0000,  ..., 0.0000, 0.0000, 0.0000],\n        [0.0000, 0.0000, 0.0000,  ..., 1.0000, 1.0000, 1.0000],\n        [0.0000, 0.0000, 0.0000,  ..., 1.0000, 1.0000, 1.0000],\n        ...,\n        [0.9093, 0.9581, 0.9870,  ..., 1.0000, 1.0000, 1.0000],\n        [0.9093, 0.9581, 0.9870,  ..., 1.0000, 1.0000, 1.0000],\n        [0.9093, 0.9581, 0.9870,  ..., 1.0000, 1.0000, 1.0000]])"
     },
     "execution_count": 31,
     "metadata": {},
     "output_type": "execute_result"
    }
   ],
   "source": [
    "tmp[0]"
   ],
   "metadata": {
    "collapsed": false,
    "ExecuteTime": {
     "end_time": "2024-10-08T00:18:32.540805900Z",
     "start_time": "2024-10-08T00:18:32.526803500Z"
    }
   },
   "id": "1d03de26d977da7c"
  },
  {
   "cell_type": "code",
   "execution_count": 58,
   "outputs": [],
   "source": [
    "for i in range(tmp.shape[1]):\n",
    "    for j in range(i+1, tmp.shape[1]):\n",
    "        count = (np.abs(tmp[0,i,:] - tmp[0,j,:]) > 0.1).sum()\n",
    "        if count < 20:\n",
    "            print(i,j)"
   ],
   "metadata": {
    "collapsed": false,
    "ExecuteTime": {
     "end_time": "2024-10-08T00:34:58.409997900Z",
     "start_time": "2024-10-08T00:34:57.777471900Z"
    }
   },
   "id": "5448a02cceb1ca63"
  },
  {
   "cell_type": "code",
   "execution_count": null,
   "outputs": [],
   "source": [],
   "metadata": {
    "collapsed": false
   },
   "id": "cfd1d833a49aa87d"
  }
 ],
 "metadata": {
  "kernelspec": {
   "display_name": "Python 3",
   "language": "python",
   "name": "python3"
  },
  "language_info": {
   "codemirror_mode": {
    "name": "ipython",
    "version": 2
   },
   "file_extension": ".py",
   "mimetype": "text/x-python",
   "name": "python",
   "nbconvert_exporter": "python",
   "pygments_lexer": "ipython2",
   "version": "2.7.6"
  }
 },
 "nbformat": 4,
 "nbformat_minor": 5
}
